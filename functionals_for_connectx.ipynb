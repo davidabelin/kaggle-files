{
  "nbformat": 4,
  "nbformat_minor": 0,
  "metadata": {
    "kernelspec": {
      "language": "python",
      "display_name": "Python 3",
      "name": "python3"
    },
    "language_info": {
      "pygments_lexer": "ipython3",
      "nbconvert_exporter": "python",
      "version": "3.6.4",
      "file_extension": ".py",
      "codemirror_mode": {
        "name": "ipython",
        "version": 3
      },
      "name": "python",
      "mimetype": "text/x-python"
    },
    "colab": {
      "name": "functionals_for_connectx.ipynb",
      "provenance": [],
      "collapsed_sections": [],
      "machine_shape": "hm",
      "include_colab_link": true
    }
  },
  "cells": [
    {
      "cell_type": "markdown",
      "metadata": {
        "id": "view-in-github",
        "colab_type": "text"
      },
      "source": [
        "<a href=\"https://colab.research.google.com/github/davidabelin/kaggle-files/blob/main/functionals_for_connectx.ipynb\" target=\"_parent\"><img src=\"https://colab.research.google.com/assets/colab-badge.svg\" alt=\"Open In Colab\"/></a>"
      ]
    },
    {
      "cell_type": "markdown",
      "metadata": {
        "id": "rA6lXk_-ZD2R"
      },
      "source": [
        "# Create ConnectX Environment"
      ]
    },
    {
      "cell_type": "code",
      "metadata": {
        "_uuid": "d629ff2d2480ee46fbb7e2d37f6b5fab8052498a",
        "_cell_guid": "79c7e3d0-c299-4dcb-8224-4455121ee9b0",
        "trusted": true,
        "id": "qy9Y3xghZD2T"
      },
      "source": [
        "import random as rd\n",
        "import pandas as pd\n",
        "import numpy as np\n",
        "import json, time, os\n",
        "import zipfile as zf\n",
        "import matplotlib.pyplot as plt\n",
        "\n",
        "#### 1.15.0 for stable_baselines only #####\n",
        "#!pip install 'tensorflow==1.15.0' \n",
        "\n",
        "import tensorflow as tf\n",
        "from tensorflow import keras\n",
        "from tensorflow.keras import layers\n"
      ],
      "execution_count": 4,
      "outputs": []
    },
    {
      "cell_type": "code",
      "metadata": {
        "id": "aerdyYldw-Rq",
        "cellView": "form"
      },
      "source": [
        "#@title Kaggle Only\n",
        "##### FOR KAGGLE ENVS ONLY\n",
        "\n",
        "!pip install 'kaggle-environments>=0.1.6'\n",
        "from kaggle_environments import evaluate, make, utils\n",
        "# Since utils.get_last_callable moved to agent.get_last_callable\n",
        "# See https://github.com/Kaggle/kaggle-environments/blob/e4a5651a3a0775b823fc27fe2c24b55cbd340420/kaggle_environments/agent.py#L37\n",
        "from kaggle_environments import agent as kaggle_env_agent\n",
        "\n",
        "env = make(\"connectx\", debug=True)\n",
        "\n",
        "if False:\n",
        "    # Check version of tensorflow\n",
        "    !pip install 'tensorflow==1.15.0'\n",
        "    import tensorflow as tf\n",
        "    #tf.__version__\n",
        "\n",
        "    !pip install 'kaggle-environments>=0.1.6'\n",
        "    from kaggle_environments import evaluate, make, utils\n",
        "    # Since utils.get_last_callable moved to agent.get_last_callable\n",
        "    # See https://github.com/Kaggle/kaggle-environments/blob/e4a5651a3a0775b823fc27fe2c24b55cbd340420/kaggle_environments/agent.py#L37\n",
        "    from kaggle_environments import agent as kaggle_env_agent\n",
        "\n",
        "    env = make(\"connectx\", debug=True)\n",
        "\n",
        "    !apt-get update\n",
        "    !apt-get install -y cmake libopenmpi-dev python3-dev zlib1g-dev\n",
        "    !pip install \"stable-baselines[mpi]==2.9.0\"\n",
        "    from gym import spaces\n",
        "    #For Trained Agent:\n",
        "    from stable_baselines import PPO1 \n",
        "    from stable_baselines.common.policies import CnnPolicy\n",
        "\n",
        "    def kaggle_agent(obs, config, model=None, debug=False):\n",
        "        start = time.time()\n",
        "        #Import saved model trained on Agent Heuristic\n",
        "        if model is None:\n",
        "            trained_model = stable_baselines.PPO1.load('/content/trained.zip', env=None, verbose=0)\n",
        "        else:\n",
        "            trained_model = model\n",
        "        \n",
        "        # Use the trained model to select a column\n",
        "        col, _ = trained_model.predict(np.array(obs['board']).reshape(6,7,1))\n",
        "        # Check if selected column is valid\n",
        "        is_valid = (obs['board'][int(col)] == 0)\n",
        "        \n",
        "        if debug:\n",
        "            print(\"\\nTrained model predicted column:\", col)\n",
        "            print(\"Time taken =\", time.time() - start)\n",
        "        \n",
        "        # If not valid, select random move. \n",
        "        if is_valid:\n",
        "            return int(col)\n",
        "        else:\n",
        "            return random.choice([col for col in range(config.columns) if obs.board[int(col)] == 0])"
      ],
      "execution_count": null,
      "outputs": []
    },
    {
      "cell_type": "markdown",
      "metadata": {
        "id": "Zbl8DSDEZD2n"
      },
      "source": [
        "# Collect new data"
      ]
    },
    {
      "cell_type": "code",
      "metadata": {
        "id": "Qysq-BZnk4cJ"
      },
      "source": [
        "from quick_pick_submit import my_agent as qps"
      ],
      "execution_count": null,
      "outputs": []
    },
    {
      "cell_type": "code",
      "metadata": {
        "trusted": true,
        "id": "6Nag2SyZWPcY",
        "cellView": "form"
      },
      "source": [
        "#@title stable baselines Agent\n",
        "def stable_agent(obs, config, model=None, debug=False):\n",
        "    start = time.time()\n",
        "    #Import saved model trained on Agent Heuristic\n",
        "    if model is None:\n",
        "        trained_model = stable_baselines.PPO1.load('/content/trained.zip', env=None, verbose=0)\n",
        "    else:\n",
        "        trained_model = model\n",
        "    \n",
        "    # Use the trained model to select a column\n",
        "    col, _ = trained_model.predict(np.array(obs['board']).reshape(6,7,1))\n",
        "    # Check if selected column is valid\n",
        "    is_valid = (obs['board'][int(col)] == 0)\n",
        "    \n",
        "    if debug:\n",
        "        print(\"\\nTrained model predicted column:\", col)\n",
        "        print(\"Time taken =\", time.time() - start)\n",
        "    \n",
        "    # If not valid, select random move. \n",
        "    if is_valid:\n",
        "        return int(col)\n",
        "    else:\n",
        "        return random.choice([col for col in range(config.columns) if obs.board[int(col)] == 0])"
      ],
      "execution_count": null,
      "outputs": []
    },
    {
      "cell_type": "code",
      "metadata": {
        "id": "3PsFqJ0y9AhZ",
        "cellView": "form"
      },
      "source": [
        "#@title data_collector\r\n",
        "def data_collector(obs, config, N_STEPS=2, debug=False):\r\n",
        "    '''from Agent Quick_Pick_Submit'''\r\n",
        "    import numpy as np\r\n",
        "    import random\r\n",
        "    import time\r\n",
        "\r\n",
        "    ##############From Quick_Pick ################\r\n",
        "    global game_df\r\n",
        "    # constants (given by game)\r\n",
        "    ROWS = config.rows\r\n",
        "    COLUMNS = config.columns\r\n",
        "    CNCTX = config.inarow\r\n",
        "    ## coefficients\r\n",
        "    A = 2     #my twos\r\n",
        "    B = 20    #my threes\r\n",
        "    C = 200   #my fours\r\n",
        "    D = -1    #opp-twos\r\n",
        "    E = -10    #opp-threes\r\n",
        "    F = -100   #opp-fours\r\n",
        "    \r\n",
        "    # vary lookahead depth according to state of play:\r\n",
        "    if obs.board.count(0) <= ROWS*COLUMNS//5:  # < 1/5 board empty\r\n",
        "        N_STEPS =      rd.choice([4,5,6])\r\n",
        "    elif obs.board.count(0) <= 3*ROWS*COLUMNS//5:  # < 3/5 board empty\r\n",
        "        N_STEPS =      rd.choice([3,4])\r\n",
        "    elif obs.board.count(0) <= 4*ROWS*COLUMNS//5:  # < 4/5 board empty                                          # > 3/5 board empty\r\n",
        "        N_STEPS =      rd.choice([2,3])    \r\n",
        "    else:                                          # > 4/5 board empty\r\n",
        "        N_STEPS =      2  #rd.choice([1,2])\r\n",
        "\r\n",
        "    if debug:\r\n",
        "        print(f'\\n##Data_Collector as Player {obs.mark}: Piece {1+obs.board.count(int(obs.mark))} ##') \r\n",
        "        print(f'Search depth: {N_STEPS} steps')\r\n",
        "        print(f'Board:\\n{np.reshape(obs.board, (6,7))}')\r\n",
        "        \r\n",
        "    # Gets board at next step if agent drops piece in selected column\r\n",
        "    def drop_piece(grid, col, mark):\r\n",
        "        next_grid = grid.copy()\r\n",
        "        for row in range(ROWS-1, -1, -1):\r\n",
        "            if next_grid[row][col] == 0:\r\n",
        "                break\r\n",
        "        next_grid[row][col] = mark\r\n",
        "        return next_grid\r\n",
        "\r\n",
        "    # Helper function for get_score: checks if window satisfies heuristic conditions\r\n",
        "    def check_window(window, num_discs, piece):\r\n",
        "        return (window.count(piece) == num_discs and window.count(0) == CNCTX-num_discs)\r\n",
        "\r\n",
        "    # Helper function for get_score: counts number of windows satisfying specified heuristic conditions\r\n",
        "    def count_windows(grid, num_discs, piece):\r\n",
        "        num_windows = 0\r\n",
        "        # horizontal\r\n",
        "        for row in range(ROWS):\r\n",
        "            for col in range(COLUMNS-(CNCTX-1)):\r\n",
        "                window = list(grid[row, col:col+CNCTX])\r\n",
        "                if check_window(window, num_discs, piece):\r\n",
        "                    num_windows += 1\r\n",
        "        # vertical\r\n",
        "        for row in range(ROWS-(CNCTX-1)):\r\n",
        "            for col in range(COLUMNS):\r\n",
        "                window = list(grid[row:row+CNCTX, col])\r\n",
        "                if check_window(window, num_discs, piece):\r\n",
        "                    num_windows += 1\r\n",
        "        # positive diagonal\r\n",
        "        for row in range(ROWS-(CNCTX-1)):\r\n",
        "            for col in range(COLUMNS-(CNCTX-1)):\r\n",
        "                window = list(grid[range(row, row+CNCTX), range(col, col+CNCTX)])\r\n",
        "                if check_window(window, num_discs, piece):\r\n",
        "                    num_windows += 1\r\n",
        "        # negative diagonal\r\n",
        "        for row in range(CNCTX-1, ROWS):\r\n",
        "            for col in range(COLUMNS-(CNCTX-1)):\r\n",
        "                window = list(grid[range(row, row-CNCTX, -1), range(col, col+CNCTX)])\r\n",
        "                if check_window(window, num_discs, piece):\r\n",
        "                    num_windows += 1\r\n",
        "        return num_windows\r\n",
        "\r\n",
        "    # Helper function for alphabeta: calculates value of heuristic for grid\r\n",
        "    def get_score(grid, mark):\r\n",
        "        num_fours = count_windows(grid, 4, mark)   #C\r\n",
        "        num_fours_opp = count_windows(grid, 4, mark%2+1)  #F\r\n",
        "        is_terminal = (num_fours != 0) or (num_fours_opp != 0) or (list(grid[0, :]).count(0) == 0)\r\n",
        "        #if debug:\r\n",
        "        #    print (list(grid[0, :]).count(0))\r\n",
        "        if is_terminal:\r\n",
        "            return C*num_fours + F*num_fours_opp, is_terminal\r\n",
        "        num_twos = count_windows(grid, 2, mark) #A\r\n",
        "        num_threes = count_windows(grid, 3, mark)  #B\r\n",
        "        num_twos_opp = count_windows(grid, 2, mark%2+1) #D\r\n",
        "        num_threes_opp = count_windows(grid, 3, mark%2+1) #E\r\n",
        "        score = A*num_twos + B*num_threes + C*num_fours + D*num_twos_opp + E*num_threes_opp + F*num_fours_opp\r\n",
        "        return score, is_terminal\r\n",
        "\r\n",
        "    # Minimax with alphabeta pruning implementation:\r\n",
        "    def alphabeta(node, depth, alpha, beta, maximizingPlayer, mark):\r\n",
        "        node_score, is_terminal = get_score(node, mark)\r\n",
        "        if depth == 0 or is_terminal:\r\n",
        "             return node_score\r\n",
        "\r\n",
        "        valid_moves = [c for c in range(COLUMNS) if node[0][c] == 0]\r\n",
        "        if maximizingPlayer:\r\n",
        "            value = -np.Inf\r\n",
        "            for col in valid_moves:\r\n",
        "                child = drop_piece(node, col, mark)\r\n",
        "                value = max(value, alphabeta(child, depth-1, alpha, beta, False, mark))\r\n",
        "                alpha = max(alpha, value)\r\n",
        "                if alpha >= beta:\r\n",
        "                    break\r\n",
        "            return value\r\n",
        "\r\n",
        "        else: #minimizing player\r\n",
        "            value = np.Inf\r\n",
        "            for col in valid_moves:\r\n",
        "                child = drop_piece(node, col, mark%2+1)\r\n",
        "                value = min(value, alphabeta(child, depth-1, alpha, beta, True, mark))\r\n",
        "                beta = min(beta, value)\r\n",
        "                if alpha >= beta:\r\n",
        "                    break\r\n",
        "            return value\r\n",
        "\r\n",
        "    def score_move(grid, col, mark, depth):\r\n",
        "        go = time.time()\r\n",
        "        next_grid = drop_piece(grid, col, mark)\r\n",
        "        score = alphabeta(next_grid, depth-1, -np.Inf, np.Inf, False, mark)\r\n",
        "        if debug:\r\n",
        "            summary_stats = {\r\n",
        "                'column': col,\r\n",
        "                'score': score,\r\n",
        "                'column time': round(time.time() - go, 5),\r\n",
        "                'time_left': round(2.0 - (time.time() - choice_time), 5)           \r\n",
        "            }\r\n",
        "            print(f'\"summary_stats\":{summary_stats}')\r\n",
        "        return score\r\n",
        "     \r\n",
        "    def first_pass(grid, col, mark):\r\n",
        "        score, self_is_terminal = get_score(drop_piece(grid, col, mark), mark)\r\n",
        "        score, opp_is_terminal = get_score(drop_piece(grid, col, mark%2+1), mark%2+1)\r\n",
        "        return self_is_terminal or opp_is_terminal\r\n",
        "\r\n",
        "    #########################\r\n",
        "    # Agent makes selection #\r\n",
        "    #########################\r\n",
        "\r\n",
        "    # Get list of valid moves\r\n",
        "    valid_moves = [c for c in range(COLUMNS) if obs.board[c] == 0]\r\n",
        "\r\n",
        "    # Convert the board to a 2D grid\r\n",
        "    grid = np.asarray(obs.board).reshape(ROWS, COLUMNS)\r\n",
        "\r\n",
        "    # Do a quick pass to see if there is a terminal node on the surface \r\n",
        "    choice_time = time.time()\r\n",
        "    scores = {}   \r\n",
        "    quick_pick = False\r\n",
        "    for col in valid_moves:\r\n",
        "        quick_pick = first_pass(grid, col, obs.mark)\r\n",
        "        if quick_pick:\r\n",
        "            choice = col   \r\n",
        "            for c in range(COLUMNS):\r\n",
        "                if c == choice:\r\n",
        "                    scores[c] = C # my_fours, starting 200\r\n",
        "                else:\r\n",
        "                    if c in valid_moves:\r\n",
        "                        scores[c] = F # opp_fours, starting -100\r\n",
        "                    else:\r\n",
        "                        scores[c] = -np.inf       \r\n",
        "            if debug:\r\n",
        "                print(\"Column {} is terminal.\".format(choice))\r\n",
        "            break\r\n",
        "    \r\n",
        "    if not quick_pick:   \r\n",
        "        # Use the heuristic to assign a score to each possible board in the next step\r\n",
        "        for col in range(COLUMNS):\r\n",
        "            if col in valid_moves:\r\n",
        "                scores[col] = score_move(grid, col, obs.mark, N_STEPS) \r\n",
        "            else:\r\n",
        "                scores[col] = -np.inf\r\n",
        "\r\n",
        "        # Get a list of columns (moves) that maximize the heuristic\r\n",
        "        if max(scores.values()) > 0:\r\n",
        "            max_cols = [key for key in scores.keys() if scores[key] >= 0.667*max(scores.values())]\r\n",
        "        else:\r\n",
        "            max_cols = [key for key in scores.keys() if scores[key] == max(scores.values())]\r\n",
        "        if debug and len(max_cols) > 1:\r\n",
        "            print(\"Max columns:\", max_cols)\r\n",
        "        #select column in order of preference\r\n",
        "        for pref in [3,4,2,5,1,6,0]: \r\n",
        "            if pref in max_cols:\r\n",
        "                choice = pref\r\n",
        "                break\r\n",
        "            else:\r\n",
        "                choice = 3 #random.choice(max_cols)\r\n",
        "    if debug:\r\n",
        "        print(\"Chosen column:\", choice)\r\n",
        "        print(\"Choice took:\", round(time.time()-choice_time,5))\r\n",
        "\r\n",
        "    new_row = pd.Series([choice]+[obs.mark]+[0]+[float(s) for s in scores.values()]+[x for x in obs.board],\r\n",
        "                        index=game_df.columns)\r\n",
        "    \r\n",
        "    game_df = game_df.append(new_row.T, ignore_index=True)\r\n",
        "\r\n",
        "    return choice\r\n"
      ],
      "execution_count": null,
      "outputs": []
    },
    {
      "cell_type": "markdown",
      "metadata": {
        "id": "j4ctsjX9Usct"
      },
      "source": [
        "#Load data"
      ]
    },
    {
      "cell_type": "code",
      "metadata": {
        "id": "0xj--nqKPu3T"
      },
      "source": [
        "board_cols = ['b' + str(x) for x in range(42)]\r\n",
        "\r\n",
        "def shuffle_index(df):\r\n",
        "    new_index = []\r\n",
        "    idx = pd.Series(df.index)\r\n",
        "    while not idx.empty:\r\n",
        "        new_index.append(idx.pop(rd.choice(idx.index)))\r\n",
        "    return new_index"
      ],
      "execution_count": 6,
      "outputs": []
    },
    {
      "cell_type": "code",
      "metadata": {
        "id": "Uv9-tcjnSt9E"
      },
      "source": [
        "#### Load Player 1 data\r\n",
        "\r\n",
        "p1_winsA = pd.read_csv(\"p1wins_A\", index_col=0)\r\n",
        "p1_winsB = pd.read_csv(\"p1wins_B\", index_col=0)\r\n",
        "p1_winsC = pd.read_csv(\"p1wins_C\", index_col=0)\r\n",
        "p1_winsD = pd.read_csv(\"p1wins_D\", index_col=0)\r\n",
        "p1_winsE = pd.read_csv(\"p1wins_E\", index_col=0)\r\n",
        "p1_winsF = pd.read_csv(\"p1wins_F\", index_col=0)\r\n",
        "p1_winsG = pd.read_csv(\"p1wins_G\", index_col=0)\r\n",
        "p1_winsH = pd.read_csv(\"p1wins_H\", index_col=0)\r\n",
        "p1_winsI = pd.read_csv(\"p1wins_I\", index_col=0)\r\n",
        "\r\n",
        "p1_wins = p1_winsA.append(p1_winsB, ignore_index=True) \\\r\n",
        "                .append(p1_winsC, ignore_index=True) \\\r\n",
        "                .append(p1_winsD, ignore_index=True) \\\r\n",
        "                .append(p1_winsE, ignore_index=True) \\\r\n",
        "                .append(p1_winsF, ignore_index=True) \\\r\n",
        "                .append(p1_winsG, ignore_index=True) \\\r\n",
        "                .append(p1_winsH, ignore_index=True) \\\r\n",
        "                .append(p1_winsI, ignore_index=True) \\\r\n",
        "\r\n",
        "p1_wins = p1_wins.reindex(shuffle_index(p1_wins))\r\n",
        "\r\n",
        "train_boards_p1_df = p1_wins[:int(p1_wins.shape[0]*0.9)][board_cols]\r\n",
        "train_labels_p1_df = p1_wins[:int(p1_wins.shape[0]*0.9)][\"choice\"]\r\n",
        "train_boards_p1 = np.array(train_boards_p1_df)\r\n",
        "train_labels_p1 = np.array(train_labels_p1_df)\r\n",
        "\r\n",
        "test_boards_p1_df = p1_wins[int(p1_wins.shape[0]*0.9):][board_cols]\r\n",
        "test_labels_p1_df = p1_wins[int(p1_wins.shape[0]*0.9):][\"choice\"]\r\n",
        "test_boards_p1 = np.array(test_boards_p1_df)\r\n",
        "test_labels_p1 = np.array(test_labels_p1_df)\r\n"
      ],
      "execution_count": 25,
      "outputs": []
    },
    {
      "cell_type": "code",
      "metadata": {
        "id": "bsIm3zcZbfJ4"
      },
      "source": [
        "select = [name for name in p1_wins.columns[:4]]\r\n",
        "p1_wins.loc[lambda df: df[\"piece\"]==1][select].describe()"
      ],
      "execution_count": null,
      "outputs": []
    },
    {
      "cell_type": "code",
      "metadata": {
        "id": "wOu4n3rSe5pA"
      },
      "source": [
        "\r\n",
        "#heatmap = sbs.heatmap(p1_winsA[cols+[\"choice\"]].corr())\r\n",
        "#sbs.heatmap(p1_winsA[cols+[\"choice\"]].corr())\r\n",
        "#fig.add_subplot(111,)\r\n",
        "#sbs.heatmap(p1_winsB[cols+[\"choice\"]].corr())\r\n",
        "#fig.add_subplot(122)\r\n",
        "sbs.heatmap(p1_winsF[cols+[\"choice\"]].corr())\r\n",
        "#fig.add_subplot(1,2,1)\r\n",
        "#plt.subplot()\r\n",
        "plt.show()"
      ],
      "execution_count": null,
      "outputs": []
    },
    {
      "cell_type": "code",
      "metadata": {
        "id": "hdynwwxxrzYr"
      },
      "source": [
        "#heatmap = sbs.heatmap(p1_wins[[\"choice\"]+board_cols[-7:]].loc[lambda df:df[\"choice\"]==5])#.corr())\r\n",
        "#plt.bar(p1_winsG, height=3) #,p1_winsG[cols])\r\n",
        "#heatmap2 = sbs.heatmap(p1_winsG[cols+[\"choice\"]].corr())\r\n",
        "p1_winsG.hist()\r\n",
        "fig.show()"
      ],
      "execution_count": null,
      "outputs": []
    },
    {
      "cell_type": "code",
      "metadata": {
        "id": "l-GihHxQuKO_",
        "cellView": "form"
      },
      "source": [
        "#@title Load Player 2 data\r\n",
        "\r\n",
        "board_cols = ['b' + str(x) for x in range(42)]\r\n",
        "\r\n",
        "p2_winsA = pd.read_csv(\"p2wins/p2wins_A\", index_col=0)\r\n",
        "p2_winsB = pd.read_csv(\"p2wins/p2wins_B\", index_col=0)\r\n",
        "p2_winsC = pd.read_csv(\"p2wins/p2wins_C\", index_col=0)\r\n",
        "p2_winsD = pd.read_csv(\"p2wins/p2wins_D\", index_col=0)\r\n",
        "p2_winsE = pd.read_csv(\"p2wins/p2wins_E\", index_col=0)\r\n",
        "p2_winsF = pd.read_csv(\"p2wins/p2wins_F\", index_col=0)\r\n",
        "p2_winsG = pd.read_csv(\"p2wins/p2wins_G\", index_col=0)\r\n",
        "p2_winsH = pd.read_csv(\"p2wins/p2wins_H\", index_col=0)\r\n",
        "p2_winsI = pd.read_csv(\"p2wins/p2wins_I\", index_col=0)\r\n",
        "\r\n",
        "p2_wins_AI = p2_winsA.append(p2_winsB, ignore_index=True) \\\r\n",
        "                  .append(p2_winsC, ignore_index=True) \\\r\n",
        "                  .append(p2_winsD, ignore_index=True) \\\r\n",
        "                  .append(p2_winsE, ignore_index=True) \\\r\n",
        "                  .append(p2_winsF, ignore_index=True) \\\r\n",
        "                  .append(p2_winsG, ignore_index=True) \\\r\n",
        "                  .append(p2_winsH, ignore_index=True) \\\r\n",
        "                  .append(p2_winsI, ignore_index=True) \\\r\n",
        "\r\n",
        "p2_wins_AI = p2_wins_AI.reindex(shuffle_index(p2_wins))\r\n",
        "\r\n",
        "#board_cols = ['b' + str(x) for x in range(42)]\r\n",
        "train_boards_p2_df = p2_wins[:int(p2_wins.shape[0]*0.9)][board_cols]\r\n",
        "train_labels_p2_df = p2_wins[:int(p2_wins.shape[0]*0.9)][\"choice\"]\r\n",
        "train_boards_AI = np.array(train_boards_p2_df)\r\n",
        "train_labels_AI = np.array(train_labels_p2_df)\r\n",
        "\r\n",
        "test_boards_p2_df = p2_wins[int(p2_wins.shape[0]*0.9):][board_cols]\r\n",
        "test_labels_p2_df = p2_wins[int(p2_wins.shape[0]*0.9):][\"choice\"]\r\n",
        "test_boards_AI = np.array(test_boards_p2_df)\r\n",
        "test_labels_AI = np.array(test_labels_p2_df)\r\n"
      ],
      "execution_count": 377,
      "outputs": []
    },
    {
      "cell_type": "code",
      "metadata": {
        "id": "_g9-4fimxUhV",
        "cellView": "form"
      },
      "source": [
        "#@title def znorm()\r\n",
        "\r\n",
        "def znorm(data):\r\n",
        "    ''' Returns a normalized set of data\r\n",
        "        data: list-like\r\n",
        "    '''\r\n",
        "\r\n",
        "    min = np.min([d for d in data if d > -np.inf])\r\n",
        "    max = np.max(data)\r\n",
        "    if max == min:\r\n",
        "        norm = [0 for _ in data]\r\n",
        "    else:    \r\n",
        "        norm = [(z - min)/(max-min) if z > -np.inf else float(-1) for z in data]\r\n",
        "    return norm\r\n",
        "\r\n",
        "znorm([23,23,-np.inf,23,23,23,0])"
      ],
      "execution_count": null,
      "outputs": []
    },
    {
      "cell_type": "markdown",
      "metadata": {
        "id": "iNRi7r05ZD22"
      },
      "source": [
        "# Evaluation"
      ]
    },
    {
      "cell_type": "code",
      "metadata": {
        "id": "T9Bqvith-orL"
      },
      "source": [
        "#Replay\r\n",
        "#env.render(mode=\"ipython\", width=488, height=500)"
      ],
      "execution_count": null,
      "outputs": []
    },
    {
      "cell_type": "code",
      "metadata": {
        "trusted": true,
        "id": "euh9BcdrezJi"
      },
      "source": [
        "#@ title Trained Agent\n",
        "def model_agent(obs, config, model_p1=None, model_p2=None, player=\"\", debug=False):\n",
        "    global game_df\n",
        "    valid_moves = [c for c in range(7) if obs.board[c] == 0]\n",
        "    board = np.array(obs.board).reshape(1,6,7,1)\n",
        "        \n",
        "    if obs.mark == 1:\n",
        "        scores = model_p1(board).numpy()\n",
        "    else:\n",
        "        scores = model_p2(board).numpy()\n",
        "    \n",
        "    scores = [int(s*100) if s > 0.001 else -1*int(s*100000) for s in scores[0]]\n",
        "    choice = int(np.argmax(scores))\n",
        "    if not choice in valid_moves:\n",
        "        return rd.choice(valid_moves)\n",
        "\n",
        "    new_row = pd.Series([choice]+[obs.mark]+[1+obs.board.count(int(obs.mark))]+ \\\n",
        "                        [0]+[s for s in scores]+ \\\n",
        "                        [x for x in obs.board],\n",
        "                        index=game_df.columns)      \n",
        "    game_df = game_df.append(new_row.T, ignore_index=True)  \n",
        "    if debug:\n",
        "            print (f\"\\nModel {player} as player {obs.mark} predicts: {choice}\")\n",
        "    return choice \n",
        "\n",
        "twoD_p1_agent = lambda x,y: trained_agent(x,y,model=twoD_p1_AG, \n",
        "                                        player = \"twoD_p1\",\n",
        "                                        debug=False)\n",
        "twoD_p2_agent = lambda x,y: trained_agent(x,y,model=twoD_p2_AG,  \n",
        "                                        player = \"twoD_p2\",\n",
        "                                        debug=False)"
      ],
      "execution_count": 9,
      "outputs": []
    },
    {
      "cell_type": "code",
      "metadata": {
        "id": "qsTCdMtixp5U"
      },
      "source": [
        "agent3 = lambda x,y: model_agent(x,y, modela= twoD_p1_AG, modelb = twoD_p2_AG, debug=True)"
      ],
      "execution_count": null,
      "outputs": []
    },
    {
      "cell_type": "code",
      "metadata": {
        "id": "JSbzI5MMoXfK"
      },
      "source": [
        "def get_win_percentages(agent1, agent2, n_rounds=10):\n",
        "    # Use default Connect Four setup\n",
        "    #import numpy as np\n",
        "    config = {'rows': 6, 'columns': 7, 'inarow': 4}\n",
        "    # Agent 1 goes first (roughly) half the time  \n",
        "\n",
        "    outcomes = evaluate(\"connectx\", [agent1, agent2], config, [], n_rounds//2)\n",
        "    # Agent 2 goes first (roughly) half the time      \n",
        "    outcomes += [[b,a] for [a,b] in evaluate(\"connectx\", [agent2, agent1], config, [], n_rounds-n_rounds//2)]\n",
        "    print(\"Agent 1 Win Percentage:\", np.round(outcomes.count([1,-1])/len(outcomes), 3))\n",
        "    print(\"Agent 2 Win Percentage:\", np.round(outcomes.count([-1,1])/len(outcomes), 3))\n",
        "    print(\"Number of Invalid Plays by Agent 1:\", outcomes.count([None, 0]))\n",
        "    print(\"Number of Invalid Plays by Agent 2:\", outcomes.count([0, None]))\n",
        "    return outcomes"
      ],
      "execution_count": null,
      "outputs": []
    },
    {
      "cell_type": "code",
      "metadata": {
        "id": "XIXHm6EntS3L"
      },
      "source": [
        "evaluate(\"connectx\", [agent1, agent3], config, [], n_rounds)"
      ],
      "execution_count": null,
      "outputs": []
    },
    {
      "cell_type": "code",
      "metadata": {
        "id": "ewM_2ZWM6sbF"
      },
      "source": [
        "env.run([agent1, agent3])"
      ],
      "execution_count": null,
      "outputs": []
    },
    {
      "cell_type": "code",
      "metadata": {
        "id": "ULzc_JWNuO5y"
      },
      "source": [
        "plt.imshow(train_boards_p1[idx].reshape(6,7))\r\n",
        "#twoD_p1_AG(train_boards_p1[1].reshape(1,6,7,1))"
      ],
      "execution_count": null,
      "outputs": []
    },
    {
      "cell_type": "code",
      "metadata": {
        "id": "js8BALG80CbM"
      },
      "source": [
        "idx = rd.randint(0,train_boards_p1.shape[0]-1)\r\n",
        "print(\"Answer:\",train_labels_p1[idx])\r\n",
        "guesses = twoD_p1_AG(train_boards_p1[idx].reshape(1,6,7,1)).numpy()\r\n",
        "print(\"Guesses:\", [round(g*100,4) for g in guesses[0]])\r\n",
        "print(\"Prediction:\", np.argmax(guesses),\"\\nFor board:\")\r\n",
        "\r\n",
        "plt.imshow(train_boards_p1[idx].reshape(6,7))\r\n"
      ],
      "execution_count": null,
      "outputs": []
    },
    {
      "cell_type": "code",
      "metadata": {
        "id": "3DdlZTzaojey"
      },
      "source": [
        "agent1 = \"negamax\"\n",
        "agent2a = twoD_p1_agent\n",
        "agent2b = twoD_p2_agent\n",
        "#agent3\n",
        "num_episodes = 2\n",
        "start = time.time()\n",
        "outcomes = get_win_percentages(agent1, agent3, num_episodes)\n",
        "end = time.time()\n",
        "print (\"Total time:\",round(end-start,3),\"\\tAvg game time:\",round((end-start)/num_episodes,3))"
      ],
      "execution_count": null,
      "outputs": []
    },
    {
      "cell_type": "code",
      "metadata": {
        "id": "ENaI4UNqng8O"
      },
      "source": [
        "num_episodes = 111\n",
        "start = time.time()\n",
        "outcomes = get_win_percentages(test_agent, test_agent_v4, num_episodes)\n",
        "end = time.time()\n",
        "print (\"Total time:\",round(end-start,3),\"\\tAvg game time:\",round((end-start)/num_episodes,3))"
      ],
      "execution_count": null,
      "outputs": []
    },
    {
      "cell_type": "markdown",
      "metadata": {
        "id": "GPLx0YNvRBml"
      },
      "source": [
        "\n",
        "\n",
        "*   Agent 1 Win Percentage: 0.48\n",
        "*   Agent 2 Win Percentage: 0.52\n",
        "*   Number of Invalid Plays by Agent 1: 0\n",
        "*   Number of Invalid Plays by Agent 2: 0\n",
        "*   Total time: 224.808 \tAvg game time: 6.812\n",
        "\n"
      ]
    },
    {
      "cell_type": "code",
      "metadata": {
        "trusted": true,
        "id": "KNU9JfGXZD23"
      },
      "source": [
        "def mean_reward(rewards):\n",
        "    return sum(r[0] for r in rewards) / float(len(rewards))\n",
        "\n",
        "# Run multiple episodes to estimate its performance.\n",
        "num_episodes = 33\n",
        "agent1 = test_agent\n",
        "agent2 = test_agent_v4   #  \"negamax\"\n",
        "if debug:\n",
        "    print(\"Debug Agent goes first:\", mean_reward(evaluate(\"connectx\", [agent1, agent2], num_episodes)))\n",
        "    print(\"Opp Agent goes first:\", mean_reward(evaluate(\"connectx\", [agent2, agent1], num_episodes)))"
      ],
      "execution_count": null,
      "outputs": []
    },
    {
      "cell_type": "code",
      "metadata": {
        "trusted": true,
        "id": "FI-OlTJCZD2v"
      },
      "source": [
        "# Play as first position against random agent.\n",
        "trainer = env.train([None, \"negamax\"])\n",
        "\n",
        "observation = trainer.reset()\n",
        "\n",
        "while not env.done:\n",
        "    my_action = agent1(observation, env.configuration)\n",
        "    print(\"My Action\", my_action)\n",
        "    observation, reward, done, info = trainer.step(my_action)\n",
        "    env.render(mode=\"ipython\", width=100, height=90, header=False, controls=False)\n",
        "#env.render()"
      ],
      "execution_count": null,
      "outputs": []
    },
    {
      "cell_type": "markdown",
      "metadata": {
        "id": "jFc_U-1WPH9a"
      },
      "source": [
        "#Functional Models"
      ]
    },
    {
      "cell_type": "markdown",
      "metadata": {
        "id": "xBODTpuPPTio"
      },
      "source": [
        "##Build Player1"
      ]
    },
    {
      "cell_type": "code",
      "metadata": {
        "id": "ymd5Os3KPa1e"
      },
      "source": [
        "# convolution model \r\n",
        "input = keras.Input(shape=(6,7,1), name=\"input\")\r\n",
        "x = layers.Conv2D(77,2,padding='same', activation='relu', input_shape=(6,7,1))(input)\r\n",
        "x = layers.AveragePooling2D(2)(x)\r\n",
        "x = layers.Flatten()(x)\r\n",
        "\r\n",
        "y = layers.Conv2D(77,2,padding='same', activation='relu', input_shape=(6,7,1))(input)\r\n",
        "y = layers.MaxPooling2D(2)(y)\r\n",
        "y = layers.Flatten()(y)\r\n",
        "\r\n",
        "xx = layers.Conv2D(111,2,padding='same', activation='relu', input_shape=(6,7,1))(input)\r\n",
        "xx = layers.Conv2D(77,3,activation='relu')(xx)\r\n",
        "xx = layers.Flatten()(xx)\r\n",
        "\r\n",
        "z = layers.Concatenate()([x, y, xx])\r\n",
        "z = layers.Dropout(0.3)(z)\r\n",
        "z = layers.Dense(777,activation='relu')(z)\r\n",
        "z = layers.Dropout(0.2)(z)\r\n",
        "\r\n",
        "output = layers.Dense(7,activation=\"softmax\")(z)\r\n",
        "\r\n",
        "twoD = keras.Model(input,output,name=\"twoD\")\r\n",
        "\r\n",
        "twoD.summary()"
      ],
      "execution_count": null,
      "outputs": []
    },
    {
      "cell_type": "code",
      "metadata": {
        "id": "NNG9h2zKgGmc",
        "colab": {
          "base_uri": "https://localhost:8080/"
        },
        "outputId": "f9e271a7-ba0e-44df-f233-07618ad5b237"
      },
      "source": [
        "#@ title flat model \r\n",
        "input = keras.Input(shape=(42))\r\n",
        "x = layers.Dense(840,activation='relu')(input)\r\n",
        "x = layers.Dropout(0.2)(x)\r\n",
        "#x = layers.Dense(42,activation='relu')(x)\r\n",
        "#x = layers.Dropout(0.1)(x)\r\n",
        "x = layers.Dense(210,activation='relu')(x)\r\n",
        "x = layers.Dropout(0.1)(x)\r\n",
        "\r\n",
        "y = layers.Dense(168,activation='relu')(input)\r\n",
        "y = layers.Dropout(0.333)(y)\r\n",
        "#y = layers.Dense(63,activation='relu')(y)\r\n",
        "#y = layers.Dropout(0.1)(y)\r\n",
        "y = layers.Dense(210,activation='relu')(y)\r\n",
        "y = layers.Dropout(0.1)(y)\r\n",
        "\r\n",
        "o = layers.Concatenate()([x,y])\r\n",
        "#o = layers.Dense(84,activation='relu')(o)\r\n",
        "#o = layers.Dropout(0.2)(o)\r\n",
        "o = layers.Dense(210,activation='relu')(o)\r\n",
        "o = layers.Dropout(0.1)(o)\r\n",
        "\r\n",
        "output = layers.Dense(7,activation=\"softmax\")(o)\r\n",
        "#output = layers.Dense(1,activation=\"sigmoid\")(x)  #<< for each column?\r\n",
        "\r\n",
        "flat = keras.Model(input,output,name=\"flat\")\r\n",
        "flat.summary()"
      ],
      "execution_count": 448,
      "outputs": [
        {
          "output_type": "stream",
          "text": [
            "Model: \"flat\"\n",
            "__________________________________________________________________________________________________\n",
            "Layer (type)                    Output Shape         Param #     Connected to                     \n",
            "==================================================================================================\n",
            "input_4 (InputLayer)            [(None, 42)]         0                                            \n",
            "__________________________________________________________________________________________________\n",
            "dense_43 (Dense)                (None, 840)          36120       input_4[0][0]                    \n",
            "__________________________________________________________________________________________________\n",
            "dense_45 (Dense)                (None, 168)          7224        input_4[0][0]                    \n",
            "__________________________________________________________________________________________________\n",
            "dropout_38 (Dropout)            (None, 840)          0           dense_43[0][0]                   \n",
            "__________________________________________________________________________________________________\n",
            "dropout_40 (Dropout)            (None, 168)          0           dense_45[0][0]                   \n",
            "__________________________________________________________________________________________________\n",
            "dense_44 (Dense)                (None, 210)          176610      dropout_38[0][0]                 \n",
            "__________________________________________________________________________________________________\n",
            "dense_46 (Dense)                (None, 210)          35490       dropout_40[0][0]                 \n",
            "__________________________________________________________________________________________________\n",
            "dropout_39 (Dropout)            (None, 210)          0           dense_44[0][0]                   \n",
            "__________________________________________________________________________________________________\n",
            "dropout_41 (Dropout)            (None, 210)          0           dense_46[0][0]                   \n",
            "__________________________________________________________________________________________________\n",
            "concatenate_11 (Concatenate)    (None, 420)          0           dropout_39[0][0]                 \n",
            "                                                                 dropout_41[0][0]                 \n",
            "__________________________________________________________________________________________________\n",
            "dense_47 (Dense)                (None, 210)          88410       concatenate_11[0][0]             \n",
            "__________________________________________________________________________________________________\n",
            "dropout_42 (Dropout)            (None, 210)          0           dense_47[0][0]                   \n",
            "__________________________________________________________________________________________________\n",
            "dense_48 (Dense)                (None, 7)            1477        dropout_42[0][0]                 \n",
            "==================================================================================================\n",
            "Total params: 345,331\n",
            "Trainable params: 345,331\n",
            "Non-trainable params: 0\n",
            "__________________________________________________________________________________________________\n"
          ],
          "name": "stdout"
        }
      ]
    },
    {
      "cell_type": "markdown",
      "metadata": {
        "id": "YhK8gc6xPXeU"
      },
      "source": [
        "###Train Player1"
      ]
    },
    {
      "cell_type": "code",
      "metadata": {
        "id": "yGsG2Dx1DZP4"
      },
      "source": [
        "learning_rate = 0.005\r\n",
        "batch_size = 82\r\n",
        "validation_split = 0.075\r\n",
        "training_epochs = 25"
      ],
      "execution_count": 449,
      "outputs": []
    },
    {
      "cell_type": "code",
      "metadata": {
        "id": "jCe-XM5oEh42"
      },
      "source": [
        "epoch_count = pd.DataFrame()\r\n",
        "train_hist = pd.DataFrame(columns=[\"loss\",\"accuracy\",\"val_loss\",\"val_accuracy\"])\r\n",
        "\r\n",
        "#checkpoint_path = \"twoD/cp.ckpt\"\r\n",
        "#checkpoint_dir = os.path.dirname(checkpoint_path)\r\n",
        "\r\n",
        "# Create a callback that saves the model's weights\r\n",
        "#cp_callback = tf.keras.callbacks.ModelCheckpoint(filepath=checkpoint_path,\r\n",
        "#                                                 save_weights_only=True,\r\n",
        "#                                                 verbose=1)"
      ],
      "execution_count": 450,
      "outputs": []
    },
    {
      "cell_type": "code",
      "metadata": {
        "id": "BFFVliHLYYnZ"
      },
      "source": [
        "def train_model(model, train_features, train_labels, epochs=training_epochs,\r\n",
        "                batch_size=None, validation_split=validation_split,\r\n",
        "                callbacks=None):\r\n",
        "\r\n",
        "    history = model.fit(x=train_features, y=train_labels, \r\n",
        "                        batch_size=batch_size,\r\n",
        "                        epochs=epochs, shuffle=True, \r\n",
        "                        validation_split=validation_split,\r\n",
        "                        verbose = 1,\r\n",
        "                        callbacks=callbacks)\r\n",
        "\r\n",
        "    epoch_count = history.epoch\r\n",
        "    hist = pd.DataFrame(history.history)\r\n",
        "    return epoch_count, hist"
      ],
      "execution_count": 405,
      "outputs": []
    },
    {
      "cell_type": "code",
      "metadata": {
        "id": "HUGenDDapkcL"
      },
      "source": [
        "twoD.compile(optimizer=tf.keras.optimizers.Adam(lr=learning_rate),\r\n",
        "                loss=\"sparse_categorical_crossentropy\",\r\n",
        "                metrics=['accuracy']) \r\n",
        "\r\n",
        "flat.compile(optimizer=tf.keras.optimizers.Adam(lr=learning_rate),\r\n",
        "                loss=\"sparse_categorical_crossentropy\",\r\n",
        "                metrics=['accuracy']) "
      ],
      "execution_count": 451,
      "outputs": []
    },
    {
      "cell_type": "code",
      "metadata": {
        "id": "OKhI6LkFqFNf"
      },
      "source": [
        "train_boards_AG = train_boards_AG.reshape(13290,42)\r\n",
        "train_boards_p1 = train_boards_p1.reshape(18873,42)\r\n",
        "train_boards_AD = train_boards_AD.reshape(9540,42)\r\n",
        "train_boards_EI = train_boards_EI.reshape(9332,42)"
      ],
      "execution_count": 428,
      "outputs": []
    },
    {
      "cell_type": "code",
      "metadata": {
        "colab": {
          "base_uri": "https://localhost:8080/"
        },
        "id": "fJzIF0W-mD6D",
        "outputId": "fcecc460-6f3a-403e-edf2-6f54d5307689"
      },
      "source": [
        "hi_boards = [np.sum(board) for board in train_boards_HI]\r\n",
        "ad_boards = [np.sum(board) for board in train_boards_AD]\r\n",
        "#np.mean(hi_boards)\r\n",
        "plt.scatter(range(len(ad_boards)),ad_boards)"
      ],
      "execution_count": 436,
      "outputs": [
        {
          "output_type": "execute_result",
          "data": {
            "text/plain": [
              "21.076415094339623"
            ]
          },
          "metadata": {
            "tags": []
          },
          "execution_count": 436
        }
      ]
    },
    {
      "cell_type": "code",
      "metadata": {
        "id": "6daAsEPtPZmx"
      },
      "source": [
        "ec, th = train_model(flat, \r\n",
        "                    train_boards_p1, \r\n",
        "                    train_labels_p1,\r\n",
        "                    epochs=training_epochs,\r\n",
        "                    batch_size=batch_size,\r\n",
        "                    validation_split=validation_split,\r\n",
        "                    callbacks=None)#[cp_callback])\r\n",
        "\r\n",
        "epoch_count = epoch_count.append([val + len(epoch_count) + 1 for val in ec], ignore_index=True)\r\n",
        "train_hist = train_hist.append(th, ignore_index=True)"
      ],
      "execution_count": null,
      "outputs": []
    },
    {
      "cell_type": "code",
      "metadata": {
        "colab": {
          "base_uri": "https://localhost:8080/",
          "height": 282
        },
        "id": "2HDrmlIWWTig",
        "outputId": "cac0108f-a81f-4885-e280-6dd1fedb81a2"
      },
      "source": [
        "plt.plot(list(train_hist.index), train_hist[\"accuracy\"] )\r\n",
        "plt.plot(list(train_hist.index), train_hist[\"val_accuracy\"])"
      ],
      "execution_count": 453,
      "outputs": [
        {
          "output_type": "execute_result",
          "data": {
            "text/plain": [
              "[<matplotlib.lines.Line2D at 0x7efb825cd8d0>]"
            ]
          },
          "metadata": {
            "tags": []
          },
          "execution_count": 453
        },
        {
          "output_type": "display_data",
          "data": {
            "image/png": "[encoded data removed]",
            "text/plain": [
              "<Figure size 432x288 with 1 Axes>"
            ]
          },
          "metadata": {
            "tags": [],
            "needs_background": "light"
          }
        }
      ]
    },
    {
      "cell_type": "code",
      "metadata": {
        "id": "j1ltSMjlO3QO"
      },
      "source": [
        "plt.plot(list(train_hist.index), train_hist[\"loss\"] )\r\n",
        "plt.plot(list(train_hist.index), train_hist[\"val_loss\"])"
      ],
      "execution_count": null,
      "outputs": []
    },
    {
      "cell_type": "code",
      "metadata": {
        "id": "47iFAA0dFiKC",
        "colab": {
          "base_uri": "https://localhost:8080/"
        },
        "outputId": "54f61f3c-293e-4541-b55b-17972868c84b"
      },
      "source": [
        "test_boards_AG = test_boards_AG.reshape(1477,42)\r\n",
        "test_boards_p1 = test_boards_p1.reshape(2097,42)\r\n",
        "test_boards_AD = test_boards_AD.reshape(1061,42)\r\n",
        "\r\n",
        "flat.evaluate(x=test_boards_AD, y=test_labels_AD, batch_size=batch_size)\r\n",
        "\r\n",
        "# model twoD reults:\r\n",
        "#test_boards_AI accuracy: 0.6285 AI \\\\ 0.6385 AG\r\n",
        "#test_boards_AD accuracy: 0.7154 AD \\\\ 0.7700 AG \\\\ 0.8341 AI \\\\ 0.6268 HI\r\n",
        "#test_boards_EG accuracy: 0.5372 EG \\\\ 0.6787 AG \\\\ 0.8058 AI \r\n",
        "#test_boards_HI accuracy: 0.3478 HI \\\\ 0.3366 AG \\\\ 0.7230 AI \r\n",
        "#test_boards_EI accuracy: 0.4716 EI \\\\ 0.4744 AG \\\\ 0.7599 AI \r\n",
        "#test_boards_AG accuracy: 0.6412 AG              \\\\ 0.8267 AI"
      ],
      "execution_count": 433,
      "outputs": [
        {
          "output_type": "stream",
          "text": [
            "13/13 [==============================] - 0s 2ms/step - loss: 0.8285 - accuracy: 0.7088\n"
          ],
          "name": "stdout"
        },
        {
          "output_type": "execute_result",
          "data": {
            "text/plain": [
              "[0.8284518718719482, 0.7087653279304504]"
            ]
          },
          "metadata": {
            "tags": []
          },
          "execution_count": 433
        }
      ]
    },
    {
      "cell_type": "code",
      "metadata": {
        "colab": {
          "base_uri": "https://localhost:8080/"
        },
        "id": "6Td1z3euWIuB",
        "outputId": "cfd865cc-1d36-4789-dccc-b5d489c39ef1"
      },
      "source": [
        "test_boards_EI = test_boards_EI.reshape(1037,6,7,1)\r\n",
        "twoD_p1_og.evaluate(x=test_boards_EI, y=test_labels_EI, batch_size=batch_size)\r\n",
        "#test_boards_AI accuracy: 0.6061\r\n",
        "#test_boards_AD accuracy: 0.8238\r\n",
        "#test_boards_EG accuracy: 0.4748\r\n",
        "#test_boards_HI accuracy: 0.2721\r\n",
        "#test_boards_EI accuracy: 0.3510\r\n",
        "#test_boards_AG accuracy: 0.7285"
      ],
      "execution_count": 342,
      "outputs": [
        {
          "output_type": "stream",
          "text": [
            "26/26 [==============================] - 0s 7ms/step - loss: 4.6547 - accuracy: 0.3510\n"
          ],
          "name": "stdout"
        },
        {
          "output_type": "execute_result",
          "data": {
            "text/plain": [
              "[4.654711723327637, 0.35101252794265747]"
            ]
          },
          "metadata": {
            "tags": []
          },
          "execution_count": 342
        }
      ]
    },
    {
      "cell_type": "code",
      "metadata": {
        "colab": {
          "base_uri": "https://localhost:8080/"
        },
        "id": "xYqzJyzs4KHU",
        "outputId": "9a8ae9b5-f630-4e66-acef-18838dcdd732"
      },
      "source": [
        "idx = rd.randint(0,test_boards_p1.shape[0]-1)\r\n",
        "print (\"Choice =\", test_labels_p1[idx])\r\n",
        "preds = twoD(test_boards_p1[idx].reshape(1,6,7,1)).numpy()[0]\r\n",
        "print (\"Preds =\\n\", preds)\r\n",
        "print (\"Prediction =\", np.argmax(preds))"
      ],
      "execution_count": 343,
      "outputs": [
        {
          "output_type": "stream",
          "text": [
            "Choice = 5.0\n",
            "Preds =\n",
            " [6.4512377e-04 1.9996172e-02 1.2678219e-02 2.6383135e-03 8.3109009e-01\n",
            " 1.2987614e-01 3.0759603e-03]\n",
            "Prediction = 4\n"
          ],
          "name": "stdout"
        }
      ]
    },
    {
      "cell_type": "code",
      "metadata": {
        "id": "cGe2-qxalic-"
      },
      "source": [
        ""
      ],
      "execution_count": 356,
      "outputs": []
    },
    {
      "cell_type": "code",
      "metadata": {
        "id": "2cMi9rTWmHEC"
      },
      "source": [
        "guesses_p1 = [np.argmax(p) for p in twoD.predict(test_boards_p1)]\r\n",
        "guesses_p1_og = [np.argmax(p) for p in twoD_p1_og.predict(test_boards_p1)]\r\n",
        "comparison_p1 = pd.DataFrame(columns=[\"Choice\",\"Guess\",\"OG\"])\r\n",
        "comparison_p1[\"Choice\"] = test_labels_p1\r\n",
        "comparison_p1[\"Guess\"] = guesses_p1\r\n",
        "comparison_p1[\"OG\"] = guesses_p1_og"
      ],
      "execution_count": 360,
      "outputs": []
    },
    {
      "cell_type": "code",
      "metadata": {
        "colab": {
          "base_uri": "https://localhost:8080/",
          "height": 419
        },
        "id": "rTL20EbsoQKz",
        "outputId": "41c222a4-9120-46f4-d60d-4b836c5acbd6"
      },
      "source": [
        "comparison_p1.loc[lambda df: df[\"Guess\"] != df[\"OG\"]]"
      ],
      "execution_count": 362,
      "outputs": [
        {
          "output_type": "execute_result",
          "data": {
            "text/html": [
              "<div>\n",
              "<style scoped>\n",
              "    .dataframe tbody tr th:only-of-type {\n",
              "        vertical-align: middle;\n",
              "    }\n",
              "\n",
              "    .dataframe tbody tr th {\n",
              "        vertical-align: top;\n",
              "    }\n",
              "\n",
              "    .dataframe thead th {\n",
              "        text-align: right;\n",
              "    }\n",
              "</style>\n",
              "<table border=\"1\" class=\"dataframe\">\n",
              "  <thead>\n",
              "    <tr style=\"text-align: right;\">\n",
              "      <th></th>\n",
              "      <th>Choice</th>\n",
              "      <th>Guess</th>\n",
              "      <th>OG</th>\n",
              "    </tr>\n",
              "  </thead>\n",
              "  <tbody>\n",
              "    <tr>\n",
              "      <th>9</th>\n",
              "      <td>3.0</td>\n",
              "      <td>5</td>\n",
              "      <td>3</td>\n",
              "    </tr>\n",
              "    <tr>\n",
              "      <th>12</th>\n",
              "      <td>2.0</td>\n",
              "      <td>5</td>\n",
              "      <td>2</td>\n",
              "    </tr>\n",
              "    <tr>\n",
              "      <th>13</th>\n",
              "      <td>5.0</td>\n",
              "      <td>5</td>\n",
              "      <td>3</td>\n",
              "    </tr>\n",
              "    <tr>\n",
              "      <th>15</th>\n",
              "      <td>5.0</td>\n",
              "      <td>5</td>\n",
              "      <td>1</td>\n",
              "    </tr>\n",
              "    <tr>\n",
              "      <th>21</th>\n",
              "      <td>0.0</td>\n",
              "      <td>1</td>\n",
              "      <td>4</td>\n",
              "    </tr>\n",
              "    <tr>\n",
              "      <th>...</th>\n",
              "      <td>...</td>\n",
              "      <td>...</td>\n",
              "      <td>...</td>\n",
              "    </tr>\n",
              "    <tr>\n",
              "      <th>2087</th>\n",
              "      <td>1.0</td>\n",
              "      <td>3</td>\n",
              "      <td>1</td>\n",
              "    </tr>\n",
              "    <tr>\n",
              "      <th>2089</th>\n",
              "      <td>2.0</td>\n",
              "      <td>6</td>\n",
              "      <td>2</td>\n",
              "    </tr>\n",
              "    <tr>\n",
              "      <th>2091</th>\n",
              "      <td>1.0</td>\n",
              "      <td>5</td>\n",
              "      <td>1</td>\n",
              "    </tr>\n",
              "    <tr>\n",
              "      <th>2095</th>\n",
              "      <td>3.0</td>\n",
              "      <td>0</td>\n",
              "      <td>3</td>\n",
              "    </tr>\n",
              "    <tr>\n",
              "      <th>2096</th>\n",
              "      <td>3.0</td>\n",
              "      <td>3</td>\n",
              "      <td>4</td>\n",
              "    </tr>\n",
              "  </tbody>\n",
              "</table>\n",
              "<p>757 rows × 3 columns</p>\n",
              "</div>"
            ],
            "text/plain": [
              "      Choice  Guess  OG\n",
              "9        3.0      5   3\n",
              "12       2.0      5   2\n",
              "13       5.0      5   3\n",
              "15       5.0      5   1\n",
              "21       0.0      1   4\n",
              "...      ...    ...  ..\n",
              "2087     1.0      3   1\n",
              "2089     2.0      6   2\n",
              "2091     1.0      5   1\n",
              "2095     3.0      0   3\n",
              "2096     3.0      3   4\n",
              "\n",
              "[757 rows x 3 columns]"
            ]
          },
          "metadata": {
            "tags": []
          },
          "execution_count": 362
        }
      ]
    },
    {
      "cell_type": "code",
      "metadata": {
        "id": "c_jn8H9Q6cfe"
      },
      "source": [
        "for idx in range(test_boards_p1.shape[0]):\r\n",
        "    choice = test_labels_p1[idx]\r\n",
        "    preds = twoD_p1_og(test_boards_p1[idx].reshape(1,6,7,1)).numpy()[0]\r\n",
        "    prediction = np.argmax(preds)\r\n",
        "    if choice == prediction:\r\n",
        "        print(\"Index:\",idx,\"Choice =\",choice,\"Prediction =\",prediction)"
      ],
      "execution_count": null,
      "outputs": []
    },
    {
      "cell_type": "code",
      "metadata": {
        "id": "cKyYYCHsJHFn"
      },
      "source": [
        "#twoD_origdata accuracy: 0.7856\r\n",
        "#twoD_trained_on_data_df accuracy: 0.9553\r\n",
        "#twoD_og_untrained  #accuracy: 0.8061\r\n",
        "#twoD trained on orig data accuracy: 0.7947\r\n",
        "#twoD_og_trained accuracy: 0.9560\r\n",
        "#twoD_og_partly_trained_on_data_df accuracy: 0.9553\r\n",
        "#twoD_trained_on_data_df = twoD  accuracy: 0.5281\r\n",
        "#twoD_og_trained_on_data_df  accuracy: 0.6330\r\n",
        "#twoD_og  accuracy: 0.7271"
      ],
      "execution_count": null,
      "outputs": []
    },
    {
      "cell_type": "code",
      "metadata": {
        "id": "s9lY7KFcwLjd"
      },
      "source": [
        "zf.shutil.unpack_archive(\"twoD_p1_og.zip\", \"restored/twoD_p1_og\")\r\n",
        "twoD_p1_og = tf.keras.models.load_model('./restored/twoD_p1_og')\r\n",
        "#for layer in twoD_og.layers:#[:-3]:\r\n",
        "    #layer.trainable = False\r\n",
        "#    print(layer.trainable)"
      ],
      "execution_count": 67,
      "outputs": []
    },
    {
      "cell_type": "code",
      "metadata": {
        "id": "54LaBYBwLfsb",
        "colab": {
          "base_uri": "https://localhost:8080/",
          "height": 35
        },
        "outputId": "f772503b-1294-4370-9c67-a8613a599316"
      },
      "source": [
        "#### Save whole model\r\n",
        "twoD.save('saved_models/twoD_p1_AG')\r\n",
        "#new_twoD = tf.keras.models.load_model('./saved_models/twoD_p1')\r\n",
        "\r\n",
        "#### Zip whole model\r\n",
        "zf.shutil.make_archive(\"twoD_p1_AG\", 'zip', 'saved_models/twoD_p1_AG')\r\n",
        "#zf.shutil.unpack_archive(\"twoD_p1.zip\", \"restored/twoD_p1\")"
      ],
      "execution_count": null,
      "outputs": [
        {
          "output_type": "execute_result",
          "data": {
            "application/vnd.google.colaboratory.intrinsic+json": {
              "type": "string"
            },
            "text/plain": [
              "'/content/twoD_p1.zip'"
            ]
          },
          "metadata": {
            "tags": []
          },
          "execution_count": 56
        }
      ]
    },
    {
      "cell_type": "markdown",
      "metadata": {
        "id": "VTFWFn7mY3RC"
      },
      "source": [
        "##Build Player2"
      ]
    },
    {
      "cell_type": "code",
      "metadata": {
        "id": "5-v1wobKY3RG",
        "colab": {
          "base_uri": "https://localhost:8080/"
        },
        "outputId": "fb4a6f33-8bc8-425d-a5ad-6a614453b5dd"
      },
      "source": [
        "# convolution model \r\n",
        "input = keras.Input(shape=(6,7,1), name=\"input\")\r\n",
        "x = layers.Conv2D(77,2,padding='same', activation='relu', input_shape=(6,7,1))(input)\r\n",
        "x = layers.AveragePooling2D(2)(x)\r\n",
        "x = layers.Flatten()(x)\r\n",
        "\r\n",
        "y = layers.Conv2D(77,2,padding='same', activation='relu', input_shape=(6,7,1))(input)\r\n",
        "y = layers.MaxPooling2D(2)(y)\r\n",
        "y = layers.Flatten()(y)\r\n",
        "\r\n",
        "xx = layers.Conv2D(111,2,padding='same', activation='relu', input_shape=(6,7,1))(input)\r\n",
        "xx = layers.Conv2D(77,3,activation='relu')(xx)\r\n",
        "xx = layers.Flatten()(xx)\r\n",
        "\r\n",
        "z = layers.Concatenate()([x, y, xx])\r\n",
        "z = layers.Dropout(0.4)(z)\r\n",
        "z = layers.Dense(777,activation='relu')(z)\r\n",
        "z = layers.Dropout(0.3)(z)\r\n",
        "\r\n",
        "output = layers.Dense(7,activation=\"softmax\")(z)\r\n",
        "\r\n",
        "twoD_p2 = keras.Model(input,output,name=\"twoD_p2\")\r\n",
        "\r\n",
        "twoD_p2.summary()"
      ],
      "execution_count": 378,
      "outputs": [
        {
          "output_type": "stream",
          "text": [
            "Model: \"twoD_p2\"\n",
            "__________________________________________________________________________________________________\n",
            "Layer (type)                    Output Shape         Param #     Connected to                     \n",
            "==================================================================================================\n",
            "input (InputLayer)              [(None, 6, 7, 1)]    0                                            \n",
            "__________________________________________________________________________________________________\n",
            "conv2d_28 (Conv2D)              (None, 6, 7, 77)     385         input[0][0]                      \n",
            "__________________________________________________________________________________________________\n",
            "conv2d_29 (Conv2D)              (None, 6, 7, 77)     385         input[0][0]                      \n",
            "__________________________________________________________________________________________________\n",
            "conv2d_30 (Conv2D)              (None, 6, 7, 111)    555         input[0][0]                      \n",
            "__________________________________________________________________________________________________\n",
            "average_pooling2d_7 (AveragePoo (None, 3, 3, 77)     0           conv2d_28[0][0]                  \n",
            "__________________________________________________________________________________________________\n",
            "max_pooling2d_7 (MaxPooling2D)  (None, 3, 3, 77)     0           conv2d_29[0][0]                  \n",
            "__________________________________________________________________________________________________\n",
            "conv2d_31 (Conv2D)              (None, 4, 5, 77)     77000       conv2d_30[0][0]                  \n",
            "__________________________________________________________________________________________________\n",
            "flatten_21 (Flatten)            (None, 693)          0           average_pooling2d_7[0][0]        \n",
            "__________________________________________________________________________________________________\n",
            "flatten_22 (Flatten)            (None, 693)          0           max_pooling2d_7[0][0]            \n",
            "__________________________________________________________________________________________________\n",
            "flatten_23 (Flatten)            (None, 1540)         0           conv2d_31[0][0]                  \n",
            "__________________________________________________________________________________________________\n",
            "concatenate_7 (Concatenate)     (None, 2926)         0           flatten_21[0][0]                 \n",
            "                                                                 flatten_22[0][0]                 \n",
            "                                                                 flatten_23[0][0]                 \n",
            "__________________________________________________________________________________________________\n",
            "dropout_14 (Dropout)            (None, 2926)         0           concatenate_7[0][0]              \n",
            "__________________________________________________________________________________________________\n",
            "dense_14 (Dense)                (None, 777)          2274279     dropout_14[0][0]                 \n",
            "__________________________________________________________________________________________________\n",
            "dropout_15 (Dropout)            (None, 777)          0           dense_14[0][0]                   \n",
            "__________________________________________________________________________________________________\n",
            "dense_15 (Dense)                (None, 7)            5446        dropout_15[0][0]                 \n",
            "==================================================================================================\n",
            "Total params: 2,358,050\n",
            "Trainable params: 2,358,050\n",
            "Non-trainable params: 0\n",
            "__________________________________________________________________________________________________\n"
          ],
          "name": "stdout"
        }
      ]
    },
    {
      "cell_type": "code",
      "metadata": {
        "id": "L4mRAAjiY3RH",
        "cellView": "form"
      },
      "source": [
        "#@title flat model \r\n",
        "input = keras.Input(shape=(42))\r\n",
        "x = layers.Dense(512,activation='relu')(input)\r\n",
        "x = layers.Dropout(0.4)(x)\r\n",
        "x = layers.Dense(256,activation='relu')(x)\r\n",
        "x = layers.Dropout(0.2)(x)\r\n",
        "\r\n",
        "y = layers.Dense(512,activation='relu')(input)\r\n",
        "y = layers.Dropout(0.4)(y)\r\n",
        "y = layers.Dense(256,activation='relu')(y)\r\n",
        "y = layers.Dropout(0.2)(y)\r\n",
        "\r\n",
        "o = layers.Concatenate()([x,y])\r\n",
        "o = layers.Dropout(0.4)(o)\r\n",
        "o = layers.Dense(256,activation='relu')(o)\r\n",
        "o = layers.Dropout(0.2)(o)\r\n",
        "\r\n",
        "output = layers.Dense(7,activation=\"softmax\")(o)\r\n",
        "#output = layers.Dense(1,activation=\"sigmoid\")(x)  #<< for each column?\r\n",
        "\r\n",
        "flat_p2 = keras.Model(input,output,name=\"flat\")\r\n",
        "flat_p2.summary()"
      ],
      "execution_count": null,
      "outputs": []
    },
    {
      "cell_type": "markdown",
      "metadata": {
        "id": "mXUP7mEVY3RH"
      },
      "source": [
        "###Train Player2"
      ]
    },
    {
      "cell_type": "code",
      "metadata": {
        "id": "KlvJOr3eY3RI",
        "cellView": "form"
      },
      "source": [
        "#@title define train_model\r\n",
        "def train_model(model, train_features, train_labels, epochs=training_epochs,\r\n",
        "                batch_size=None, validation_split=validation_split,\r\n",
        "                callbacks=None):\r\n",
        "\r\n",
        "    history = model.fit(x=train_features, y=train_labels, \r\n",
        "                        batch_size=batch_size,\r\n",
        "                        epochs=epochs, shuffle=True, \r\n",
        "                        validation_split=validation_split,\r\n",
        "                        verbose = 1,\r\n",
        "                        callbacks=callbacks)\r\n",
        "\r\n",
        "    epoch_count = history.epoch\r\n",
        "    hist = pd.DataFrame(history.history)\r\n",
        "    return epoch_count, hist"
      ],
      "execution_count": null,
      "outputs": []
    },
    {
      "cell_type": "code",
      "metadata": {
        "id": "J4ggtJMmB5Js"
      },
      "source": [
        "learning_rate = 0.0075\r\n",
        "batch_size = 55\r\n",
        "validation_split = 0.05\r\n",
        "training_epochs = 30"
      ],
      "execution_count": 379,
      "outputs": []
    },
    {
      "cell_type": "code",
      "metadata": {
        "id": "F1MTgeKsY3RI"
      },
      "source": [
        "epoch_count = pd.DataFrame()\r\n",
        "train_hist = pd.DataFrame(columns=[\"loss\",\"accuracy\",\"val_loss\",\"val_accuracy\"])\r\n",
        "\r\n",
        "#checkpoint_path = \"twoD_p2/cp.ckpt\"\r\n",
        "#checkpoint_dir = os.path.dirname(checkpoint_path)\r\n",
        "\r\n",
        "# Create a callback that saves the model's weights\r\n",
        "#cp_callback = tf.keras.callbacks.ModelCheckpoint(filepath=checkpoint_path,\r\n",
        "#                                                 save_weights_only=True,\r\n",
        "#                                                 verbose=1)"
      ],
      "execution_count": 380,
      "outputs": []
    },
    {
      "cell_type": "code",
      "metadata": {
        "id": "K8Ks_CBLY3RI"
      },
      "source": [
        "twoD_p2.compile(optimizer=tf.keras.optimizers.Adam(lr=learning_rate),\r\n",
        "                loss=\"sparse_categorical_crossentropy\",\r\n",
        "                metrics=['accuracy']) \r\n",
        "\r\n",
        "#flat_p2.compile(optimizer=tf.keras.optimizers.Adam(lr=learning_rate),\r\n",
        "#                loss=\"sparse_categorical_crossentropy\",\r\n",
        "#                metrics=['accuracy']) "
      ],
      "execution_count": 381,
      "outputs": []
    },
    {
      "cell_type": "code",
      "metadata": {
        "id": "VDKBZjsqY3RI"
      },
      "source": [
        "train_boards_AI = train_boards_AI.reshape(6289,6,7,1)\r\n",
        "#train_boards_p2 = train_boards_p2.reshape(3828,42)"
      ],
      "execution_count": 382,
      "outputs": []
    },
    {
      "cell_type": "code",
      "metadata": {
        "id": "w-bUDouuY3RJ",
        "colab": {
          "base_uri": "https://localhost:8080/"
        },
        "outputId": "382cfabd-c3cb-4e01-bce5-d98a99ff6c17"
      },
      "source": [
        "# Train and plot\r\n",
        "ec, th = train_model(twoD_p2, \r\n",
        "                    train_boards_AI, \r\n",
        "                    train_labels_AI,\r\n",
        "                    epochs=training_epochs,\r\n",
        "                    batch_size=batch_size,\r\n",
        "                    validation_split=validation_split,\r\n",
        "                    callbacks=None)#[cp_callback])\r\n",
        "\r\n",
        "epoch_count = epoch_count.append([val + len(epoch_count) + 1 for val in ec], ignore_index=True)\r\n",
        "train_hist = train_hist.append(th, ignore_index=True)"
      ],
      "execution_count": 383,
      "outputs": [
        {
          "output_type": "stream",
          "text": [
            "Epoch 1/30\n",
            "109/109 [==============================] - 4s 35ms/step - loss: 2.2150 - accuracy: 0.1929 - val_loss: 1.7448 - val_accuracy: 0.2762\n",
            "Epoch 2/30\n",
            "109/109 [==============================] - 4s 35ms/step - loss: 1.7132 - accuracy: 0.2999 - val_loss: 1.6211 - val_accuracy: 0.3556\n",
            "Epoch 3/30\n",
            "109/109 [==============================] - 4s 34ms/step - loss: 1.6310 - accuracy: 0.3376 - val_loss: 1.5747 - val_accuracy: 0.3492\n",
            "Epoch 4/30\n",
            "109/109 [==============================] - 4s 33ms/step - loss: 1.5734 - accuracy: 0.3696 - val_loss: 1.5148 - val_accuracy: 0.3587\n",
            "Epoch 5/30\n",
            "109/109 [==============================] - 4s 33ms/step - loss: 1.5455 - accuracy: 0.3814 - val_loss: 1.4842 - val_accuracy: 0.3937\n",
            "Epoch 6/30\n",
            "109/109 [==============================] - 4s 32ms/step - loss: 1.4906 - accuracy: 0.4117 - val_loss: 1.5050 - val_accuracy: 0.3905\n",
            "Epoch 7/30\n",
            "109/109 [==============================] - 4s 33ms/step - loss: 1.4725 - accuracy: 0.4104 - val_loss: 1.4291 - val_accuracy: 0.4286\n",
            "Epoch 8/30\n",
            "109/109 [==============================] - 4s 32ms/step - loss: 1.4537 - accuracy: 0.4112 - val_loss: 1.4377 - val_accuracy: 0.4159\n",
            "Epoch 9/30\n",
            "109/109 [==============================] - 4s 33ms/step - loss: 1.4181 - accuracy: 0.4294 - val_loss: 1.4039 - val_accuracy: 0.4190\n",
            "Epoch 10/30\n",
            "109/109 [==============================] - 4s 33ms/step - loss: 1.3958 - accuracy: 0.4398 - val_loss: 1.4239 - val_accuracy: 0.4063\n",
            "Epoch 11/30\n",
            "109/109 [==============================] - 4s 33ms/step - loss: 1.3728 - accuracy: 0.4523 - val_loss: 1.3646 - val_accuracy: 0.4762\n",
            "Epoch 12/30\n",
            "109/109 [==============================] - 4s 32ms/step - loss: 1.3614 - accuracy: 0.4492 - val_loss: 1.3849 - val_accuracy: 0.4413\n",
            "Epoch 13/30\n",
            "109/109 [==============================] - 4s 33ms/step - loss: 1.3624 - accuracy: 0.4553 - val_loss: 1.3692 - val_accuracy: 0.4444\n",
            "Epoch 14/30\n",
            "109/109 [==============================] - 4s 33ms/step - loss: 1.3339 - accuracy: 0.4652 - val_loss: 1.3494 - val_accuracy: 0.4349\n",
            "Epoch 15/30\n",
            "109/109 [==============================] - 4s 33ms/step - loss: 1.3068 - accuracy: 0.4761 - val_loss: 1.3712 - val_accuracy: 0.4413\n",
            "Epoch 16/30\n",
            "109/109 [==============================] - 4s 33ms/step - loss: 1.3088 - accuracy: 0.4725 - val_loss: 1.3453 - val_accuracy: 0.4349\n",
            "Epoch 17/30\n",
            "109/109 [==============================] - 4s 33ms/step - loss: 1.2736 - accuracy: 0.4881 - val_loss: 1.3468 - val_accuracy: 0.4381\n",
            "Epoch 18/30\n",
            "109/109 [==============================] - 4s 33ms/step - loss: 1.2713 - accuracy: 0.5047 - val_loss: 1.3498 - val_accuracy: 0.4222\n",
            "Epoch 19/30\n",
            "109/109 [==============================] - 4s 33ms/step - loss: 1.2579 - accuracy: 0.4955 - val_loss: 1.3275 - val_accuracy: 0.4381\n",
            "Epoch 20/30\n",
            "109/109 [==============================] - 4s 32ms/step - loss: 1.2433 - accuracy: 0.5040 - val_loss: 1.3344 - val_accuracy: 0.4254\n",
            "Epoch 21/30\n",
            "109/109 [==============================] - 4s 33ms/step - loss: 1.2317 - accuracy: 0.5040 - val_loss: 1.3362 - val_accuracy: 0.4444\n",
            "Epoch 22/30\n",
            "109/109 [==============================] - 4s 33ms/step - loss: 1.2356 - accuracy: 0.5190 - val_loss: 1.3210 - val_accuracy: 0.4540\n",
            "Epoch 23/30\n",
            "109/109 [==============================] - 4s 33ms/step - loss: 1.2060 - accuracy: 0.5190 - val_loss: 1.3381 - val_accuracy: 0.4349\n",
            "Epoch 24/30\n",
            "109/109 [==============================] - 4s 33ms/step - loss: 1.1873 - accuracy: 0.5294 - val_loss: 1.3362 - val_accuracy: 0.4571\n",
            "Epoch 25/30\n",
            "109/109 [==============================] - 4s 33ms/step - loss: 1.1871 - accuracy: 0.5225 - val_loss: 1.3459 - val_accuracy: 0.4190\n",
            "Epoch 26/30\n",
            "109/109 [==============================] - 4s 33ms/step - loss: 1.1787 - accuracy: 0.5346 - val_loss: 1.3390 - val_accuracy: 0.4667\n",
            "Epoch 27/30\n",
            "109/109 [==============================] - 4s 34ms/step - loss: 1.1590 - accuracy: 0.5465 - val_loss: 1.3303 - val_accuracy: 0.4635\n",
            "Epoch 28/30\n",
            "109/109 [==============================] - 4s 33ms/step - loss: 1.1528 - accuracy: 0.5416 - val_loss: 1.3213 - val_accuracy: 0.4603\n",
            "Epoch 29/30\n",
            "109/109 [==============================] - 4s 33ms/step - loss: 1.1654 - accuracy: 0.5328 - val_loss: 1.3323 - val_accuracy: 0.4667\n",
            "Epoch 30/30\n",
            "109/109 [==============================] - 4s 33ms/step - loss: 1.1750 - accuracy: 0.5274 - val_loss: 1.3234 - val_accuracy: 0.4349\n"
          ],
          "name": "stdout"
        }
      ]
    },
    {
      "cell_type": "code",
      "metadata": {
        "id": "lCnt--IfAE8v"
      },
      "source": [
        "epoch_count"
      ],
      "execution_count": null,
      "outputs": []
    },
    {
      "cell_type": "code",
      "metadata": {
        "id": "ZGBubO9h-GZY"
      },
      "source": [
        "#ec = ec.append([val + len(epoch_count) for val in ec])\r\n",
        "#th = train_hist.append(th, ignore_index=True)"
      ],
      "execution_count": null,
      "outputs": []
    },
    {
      "cell_type": "code",
      "metadata": {
        "id": "EWwIri02IQd0",
        "colab": {
          "base_uri": "https://localhost:8080/",
          "height": 282
        },
        "outputId": "dd6c4c2e-5be8-4e19-a169-42d3e1041aa4"
      },
      "source": [
        "plt.plot(list(train_hist.index), train_hist[\"accuracy\"] )\r\n",
        "plt.plot(list(train_hist.index), train_hist[\"val_accuracy\"])"
      ],
      "execution_count": 387,
      "outputs": [
        {
          "output_type": "execute_result",
          "data": {
            "text/plain": [
              "[<matplotlib.lines.Line2D at 0x7efb8f5d4410>]"
            ]
          },
          "metadata": {
            "tags": []
          },
          "execution_count": 387
        },
        {
          "output_type": "display_data",
          "data": {
            "image/png": "[encoded data removed]",
            "text/plain": [
              "<Figure size 432x288 with 1 Axes>"
            ]
          },
          "metadata": {
            "tags": [],
            "needs_background": "light"
          }
        }
      ]
    },
    {
      "cell_type": "code",
      "metadata": {
        "colab": {
          "base_uri": "https://localhost:8080/"
        },
        "id": "IhXH-TW-Y3RJ",
        "outputId": "88435c00-e02d-4536-ef82-f4cea0532cbf"
      },
      "source": [
        "test_boards_AI = test_boards_AI.reshape(699,6,7,1)\r\n",
        "#test_boards_p2 = test_boards_p2.reshape(426,42)\r\n",
        "\r\n",
        "twoD_p2.evaluate(x=test_boards_AI, y=test_labels_AI)"
      ],
      "execution_count": 388,
      "outputs": [
        {
          "output_type": "stream",
          "text": [
            "22/22 [==============================] - 0s 8ms/step - loss: 1.3354 - accuracy: 0.4449\n"
          ],
          "name": "stdout"
        },
        {
          "output_type": "execute_result",
          "data": {
            "text/plain": [
              "[1.335378885269165, 0.4449213147163391]"
            ]
          },
          "metadata": {
            "tags": []
          },
          "execution_count": 388
        }
      ]
    },
    {
      "cell_type": "code",
      "metadata": {
        "colab": {
          "base_uri": "https://localhost:8080/"
        },
        "id": "f-rF2vRQUX_F",
        "outputId": "aafc3ca3-58ff-4747-f287-f3c308b68733"
      },
      "source": [
        "twoD_p2_og.evaluate(x=test_boards_p2, y=test_labels_p2)"
      ],
      "execution_count": null,
      "outputs": [
        {
          "output_type": "stream",
          "text": [
            "24/24 [==============================] - 0s 6ms/step - loss: 2.9583 - accuracy: 0.2777\n"
          ],
          "name": "stdout"
        },
        {
          "output_type": "execute_result",
          "data": {
            "text/plain": [
              "[2.9582860469818115, 0.2777053415775299]"
            ]
          },
          "metadata": {
            "tags": []
          },
          "execution_count": 39
        }
      ]
    },
    {
      "cell_type": "code",
      "metadata": {
        "colab": {
          "base_uri": "https://localhost:8080/",
          "height": 52
        },
        "id": "In1JdMllY3RK",
        "outputId": "1cd6b48c-080b-47c0-cf00-493f70cad8b7"
      },
      "source": [
        "#### Save whole model\r\n",
        "twoD_p2.save('saved_models/twoD_p2')\r\n",
        "#restore_twoD = tf.keras.models.load_model('./restored/twoD_p2')\r\n",
        "\r\n",
        "#### Zip whole model\r\n",
        "zf.shutil.make_archive(\"twoD_p2\", 'zip', 'saved_models/twoD_p2')\r\n",
        "#zf.shutil.unpack_archive(\"twoD_p2.zip\", \"restored/twoD_p2\")"
      ],
      "execution_count": null,
      "outputs": [
        {
          "output_type": "stream",
          "text": [
            "INFO:tensorflow:Assets written to: saved_models/twoD_p2/assets\n"
          ],
          "name": "stdout"
        },
        {
          "output_type": "execute_result",
          "data": {
            "application/vnd.google.colaboratory.intrinsic+json": {
              "type": "string"
            },
            "text/plain": [
              "'/content/twoD_p2.zip'"
            ]
          },
          "metadata": {
            "tags": []
          },
          "execution_count": 40
        }
      ]
    },
    {
      "cell_type": "code",
      "metadata": {
        "id": "PC4dY883UCQ8"
      },
      "source": [
        "zf.shutil.unpack_archive(\"twoD_p2_AD.zip\", \"restored/twoD_p2_AD\")\r\n",
        "twoD_p2_og = tf.keras.models.load_model('restored/twoD_p2_AD')"
      ],
      "execution_count": null,
      "outputs": []
    }
  ]
}