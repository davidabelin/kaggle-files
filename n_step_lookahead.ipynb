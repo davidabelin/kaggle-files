{
  "nbformat": 4,
  "nbformat_minor": 0,
  "metadata": {
    "kernelspec": {
      "display_name": "Python 3",
      "language": "python",
      "name": "python3"
    },
    "language_info": {
      "codemirror_mode": {
        "name": "ipython",
        "version": 3
      },
      "file_extension": ".py",
      "mimetype": "text/x-python",
      "name": "python",
      "nbconvert_exporter": "python",
      "pygments_lexer": "ipython3",
      "version": "3.7.6"
    },
    "papermill": {
      "duration": 584.131731,
      "end_time": "2020-10-01T00:35:30.337480",
      "environment_variables": {},
      "exception": null,
      "input_path": "__notebook__.ipynb",
      "output_path": "__notebook__.ipynb",
      "parameters": {},
      "start_time": "2020-10-01T00:25:46.205749",
      "version": "2.1.0"
    },
    "colab": {
      "name": "n-step-lookahead.ipynb",
      "provenance": [],
      "machine_shape": "hm",
      "include_colab_link": true
    }
  },
  "cells": [
    {
      "cell_type": "markdown",
      "metadata": {
        "id": "view-in-github",
        "colab_type": "text"
      },
      "source": [
        "<a href=\"https://colab.research.google.com/github/davidabelin/kaggle-files/blob/main/n_step_lookahead.ipynb\" target=\"_parent\"><img src=\"https://colab.research.google.com/assets/colab-badge.svg\" alt=\"Open In Colab\"/></a>"
      ]
    },
    {
      "cell_type": "markdown",
      "metadata": {
        "id": "6i1gx5IvvzEC"
      },
      "source": [
        "# Introduction"
      ]
    },
    {
      "cell_type": "markdown",
      "metadata": {
        "papermill": {
          "duration": 0.012802,
          "end_time": "2020-10-01T00:25:52.206626",
          "exception": false,
          "start_time": "2020-10-01T00:25:52.193824",
          "status": "completed"
        },
        "tags": [],
        "id": "OaK06vBTrHqR"
      },
      "source": [
        "### Previously...\n",
        "In the previous tutorial, you learned how to build an agent with one-step lookahead.  This agent performs reasonably well, but definitely still has room for improvement!  For instance, consider the potential moves in the figure below.  (_Note that we use zero-based numbering for the columns, so the leftmost column corresponds to `col=0`, the next column corresponds to `col=1`, and so on._)\n",
        "\n",
        "<center>\n",
        "<img src=\"https://i.imgur.com/aAYyy2I.png\" width=90%><br/>\n",
        "</center>\n",
        "\n",
        "With one-step lookahead, the red player picks one of column 5 or 6, each with 50% probability.  But, column 5 is clearly a bad move, as it lets the opponent win the game in only one more turn.  Unfortunately, the agent doesn't know this, because it can only look one move into the future.  \n",
        "\n",
        "In this tutorial, you'll use the **minimax algorithm** to help the agent look farther into the future and make better-informed decisions.\n"
      ]
    },
    {
      "cell_type": "markdown",
      "metadata": {
        "id": "SOLcDyxexNtu"
      },
      "source": [
        "### Minimax\n",
        "\n",
        "We'd like to leverage information from deeper in the game tree.  For now, assume we work with a depth of 3.  This way, when deciding its move, the agent considers all possible game boards that can result from  \n",
        "1. the agent's move, \n",
        "2. the opponent's move, and \n",
        "3. the agent's next move.  \n",
        "\n",
        "We'll work with a visual example.  For simplicity, we assume that at each turn, both the agent and opponent have only two possible moves.  Each of the blue rectangles in the figure below corresponds to a different game board.\n",
        "\n",
        "<center>\n",
        "<img src=\"https://i.imgur.com/BrRe7Bu.png\" width=90%><br/>\n",
        "</center>\n",
        "\n",
        "We have labeled each of the \"leaf nodes\" at the bottom of the tree with the score from the heuristic.  (_We use made-up scores in the figure.  In the code, we'll use the same heuristic from the previous tutorial._)  As before, the current game board is at the top of the figure, and the agent's goal is to end up with a score that's as high as possible. \n",
        "\n",
        "But notice that the agent no longer has complete control over its score -- after the agent makes its move, the opponent selects its own move.  And, the opponent's selection can prove disastrous for the agent!  In particular, \n",
        "- If the agent chooses the left branch, the opponent can force a score of -1.  \n",
        "- If the agent chooses the right branch, the opponent can force a score of +10.  \n",
        "\n",
        "Take the time now to check this in the figure, to make sure it makes sense to you!\n",
        "\n",
        "With this in mind, you might argue that the right branch is the better choice for the agent, since it is the less risky option.  Sure, it gives up the possibility of getting the large score (+40) that can only be accessed on the left branch, but it also guarantees that the agent gets at least +10 points.\n",
        "\n",
        "This is the main idea behind the **minimax algorithm**: the agent chooses moves to get a score that is as high as possible, and it assumes the opponent will counteract this by choosing moves to force the score to be as low as possible.  That is, the agent and opponent have opposing goals, and we assume the opponent plays optimally.\n",
        "\n",
        "So, in practice, how does the agent use this assumption to select a move?  We illustrate the agent's thought process in the figure below.\n",
        "\n",
        "<center>\n",
        "<img src=\"https://i.imgur.com/bWezUC3.png\" width=90%><br/>\n",
        "</center>\n",
        "\n",
        "In the example, minimax assigns the move on the left a score of -1, and the move on the right is assigned a score of +10.  So, the agent will select the move on the right. "
      ]
    },
    {
      "cell_type": "markdown",
      "metadata": {
        "id": "KtbGLKkaxEFt"
      },
      "source": [
        "# ConnectX environment\n",
        "\n",
        "We'll use several functions from the previous tutorial.  These are defined in the hidden code cell below.  (_Click on the \"Code\" button below if you'd like to view them._)"
      ]
    },
    {
      "cell_type": "code",
      "metadata": {
        "id": "zGJK52KstUSG",
        "outputId": "c8c88a0b-2271-4b08-e686-98ee4ca2c58c",
        "colab": {
          "base_uri": "https://localhost:8080/"
        }
      },
      "source": [
        "!pip install 'kaggle-environments>=0.1.6'"
      ],
      "execution_count": 1,
      "outputs": [
        {
          "output_type": "stream",
          "text": [
            "Collecting kaggle-environments>=0.1.6\n",
            "\u001b[?25l  Downloading https://files.pythonhosted.org/packages/4d/da/9a0e0615eb0a98c0b30cfad0a8aea30c2c1773cbe3e12908c55ea061c853/kaggle_environments-1.3.14-py2.py3-none-any.whl (100kB)\n",
            "\r\u001b[K     |███▎                            | 10kB 19.1MB/s eta 0:00:01\r\u001b[K     |██████▌                         | 20kB 1.7MB/s eta 0:00:01\r\u001b[K     |█████████▉                      | 30kB 2.3MB/s eta 0:00:01\r\u001b[K     |█████████████                   | 40kB 2.6MB/s eta 0:00:01\r\u001b[K     |████████████████▎               | 51kB 2.0MB/s eta 0:00:01\r\u001b[K     |███████████████████▋            | 61kB 2.3MB/s eta 0:00:01\r\u001b[K     |██████████████████████▉         | 71kB 2.5MB/s eta 0:00:01\r\u001b[K     |██████████████████████████      | 81kB 2.7MB/s eta 0:00:01\r\u001b[K     |█████████████████████████████▍  | 92kB 2.9MB/s eta 0:00:01\r\u001b[K     |████████████████████████████████| 102kB 2.3MB/s \n",
            "\u001b[?25hCollecting jsonschema>=3.0.1\n",
            "\u001b[?25l  Downloading https://files.pythonhosted.org/packages/c5/8f/51e89ce52a085483359217bc72cdbf6e75ee595d5b1d4b5ade40c7e018b8/jsonschema-3.2.0-py2.py3-none-any.whl (56kB)\n",
            "\u001b[K     |████████████████████████████████| 61kB 5.4MB/s \n",
            "\u001b[?25hRequirement already satisfied: importlib-metadata; python_version < \"3.8\" in /usr/local/lib/python3.6/dist-packages (from jsonschema>=3.0.1->kaggle-environments>=0.1.6) (2.0.0)\n",
            "Requirement already satisfied: six>=1.11.0 in /usr/local/lib/python3.6/dist-packages (from jsonschema>=3.0.1->kaggle-environments>=0.1.6) (1.15.0)\n",
            "Requirement already satisfied: attrs>=17.4.0 in /usr/local/lib/python3.6/dist-packages (from jsonschema>=3.0.1->kaggle-environments>=0.1.6) (20.2.0)\n",
            "Requirement already satisfied: setuptools in /usr/local/lib/python3.6/dist-packages (from jsonschema>=3.0.1->kaggle-environments>=0.1.6) (50.3.2)\n",
            "Requirement already satisfied: pyrsistent>=0.14.0 in /usr/local/lib/python3.6/dist-packages (from jsonschema>=3.0.1->kaggle-environments>=0.1.6) (0.17.3)\n",
            "Requirement already satisfied: zipp>=0.5 in /usr/local/lib/python3.6/dist-packages (from importlib-metadata; python_version < \"3.8\"->jsonschema>=3.0.1->kaggle-environments>=0.1.6) (3.3.1)\n",
            "\u001b[31mERROR: nbclient 0.5.1 has requirement jupyter-client>=6.1.5, but you'll have jupyter-client 5.3.5 which is incompatible.\u001b[0m\n",
            "Installing collected packages: jsonschema, kaggle-environments\n",
            "  Found existing installation: jsonschema 2.6.0\n",
            "    Uninstalling jsonschema-2.6.0:\n",
            "      Successfully uninstalled jsonschema-2.6.0\n",
            "Successfully installed jsonschema-3.2.0 kaggle-environments-1.3.14\n"
          ],
          "name": "stdout"
        }
      ]
    },
    {
      "cell_type": "code",
      "metadata": {
        "id": "n_IvjS2ntYfq"
      },
      "source": [
        "import time\n",
        "import random\n",
        "import numpy as np\n",
        "import IPython\n",
        "\n",
        "from kaggle_environments import evaluate, make, utils\n",
        "\n",
        "env = make(\"connectx\", debug=True)\n",
        "env.render()"
      ],
      "execution_count": 16,
      "outputs": []
    },
    {
      "cell_type": "markdown",
      "metadata": {
        "id": "pWo0PhiGvPy-"
      },
      "source": [
        "#Code"
      ]
    },
    {
      "cell_type": "code",
      "metadata": {
        "_kg_hide-input": true,
        "execution": {
          "iopub.execute_input": "2020-10-01T00:25:52.248793Z",
          "iopub.status.busy": "2020-10-01T00:25:52.243538Z",
          "iopub.status.idle": "2020-10-01T00:25:52.252983Z",
          "shell.execute_reply": "2020-10-01T00:25:52.252195Z"
        },
        "papermill": {
          "duration": 0.034729,
          "end_time": "2020-10-01T00:25:52.253155",
          "exception": false,
          "start_time": "2020-10-01T00:25:52.218426",
          "status": "completed"
        },
        "tags": [],
        "id": "MN9RjTpxrHqS"
      },
      "source": [
        "# Gets board at next step if agent drops piece in selected column\n",
        "def drop_piece(grid, col, mark, config):\n",
        "    next_grid = grid.copy()\n",
        "    for row in range(config.rows-1, -1, -1):\n",
        "        if next_grid[row][col] == 0:\n",
        "            break\n",
        "    next_grid[row][col] = mark\n",
        "    return next_grid\n",
        "\n",
        "# Helper function for get_heuristic: checks if window satisfies heuristic conditions\n",
        "def check_window(window, num_discs, piece, config):\n",
        "    return (window.count(piece) == num_discs and window.count(0) == config.inarow-num_discs)\n",
        "    \n",
        "# Helper function for get_heuristic: counts number of windows satisfying specified heuristic conditions\n",
        "def count_windows(grid, num_discs, piece, config):\n",
        "    num_windows = 0\n",
        "    # horizontal\n",
        "    for row in range(config.rows):\n",
        "        for col in range(config.columns-(config.inarow-1)):\n",
        "            window = list(grid[row, col:col+config.inarow])\n",
        "            if check_window(window, num_discs, piece, config):\n",
        "                num_windows += 1\n",
        "    # vertical\n",
        "    for row in range(config.rows-(config.inarow-1)):\n",
        "        for col in range(config.columns):\n",
        "            window = list(grid[row:row+config.inarow, col])\n",
        "            if check_window(window, num_discs, piece, config):\n",
        "                num_windows += 1\n",
        "    # positive diagonal\n",
        "    for row in range(config.rows-(config.inarow-1)):\n",
        "        for col in range(config.columns-(config.inarow-1)):\n",
        "            window = list(grid[range(row, row+config.inarow), range(col, col+config.inarow)])\n",
        "            if check_window(window, num_discs, piece, config):\n",
        "                num_windows += 1\n",
        "    # negative diagonal\n",
        "    for row in range(config.inarow-1, config.rows):\n",
        "        for col in range(config.columns-(config.inarow-1)):\n",
        "            window = list(grid[range(row, row-config.inarow, -1), range(col, col+config.inarow)])\n",
        "            if check_window(window, num_discs, piece, config):\n",
        "                num_windows += 1\n",
        "    return num_windows"
      ],
      "execution_count": 3,
      "outputs": []
    },
    {
      "cell_type": "markdown",
      "metadata": {
        "papermill": {
          "duration": 0.008623,
          "end_time": "2020-10-01T00:25:52.270193",
          "exception": false,
          "start_time": "2020-10-01T00:25:52.261570",
          "status": "completed"
        },
        "tags": [],
        "id": "7q08zvIbrHqX"
      },
      "source": [
        "We'll also need to slightly modify the heuristic from the previous tutorial, since the opponent is now able to modify the game board.\n",
        "\n",
        "<center>\n",
        "<img src=\"https://i.imgur.com/vQ8b1aX.png\" width=70%><br/>\n",
        "</center>\n",
        "\n",
        "In particular, we need to check if the opponent has won the game by playing a disc.  The new heuristic looks at each group of four adjacent locations in a (horizontal, vertical, or diagonal) line and assigns:\n",
        "- **1000000 (`1e6`) points** if the agent has four discs in a row (the agent won), \n",
        "- **1 point** if the agent filled three spots, and the remaining spot is empty (the agent wins if it fills in the empty spot), \n",
        "- **-100 points** if the opponent filled three spots, and the remaining spot is empty (the opponent wins by filling in the empty spot), and\n",
        "- **-10000 (`-1e4`) points** if the opponent has four discs in a row (the opponent won).\n",
        "\n",
        "This is defined in the code cell below."
      ]
    },
    {
      "cell_type": "code",
      "metadata": {
        "execution": {
          "iopub.execute_input": "2020-10-01T00:25:52.300004Z",
          "iopub.status.busy": "2020-10-01T00:25:52.299065Z",
          "iopub.status.idle": "2020-10-01T00:25:52.302861Z",
          "shell.execute_reply": "2020-10-01T00:25:52.302109Z"
        },
        "papermill": {
          "duration": 0.023113,
          "end_time": "2020-10-01T00:25:52.303030",
          "exception": false,
          "start_time": "2020-10-01T00:25:52.279917",
          "status": "completed"
        },
        "tags": [],
        "id": "fLM9V4dsrHqX"
      },
      "source": [
        "# Helper function for minimax: calculates value of heuristic for grid\n",
        "def get_heuristic(grid, mark, config):\n",
        "    num_threes = count_windows(grid, 3, mark, config)\n",
        "    num_fours = count_windows(grid, 4, mark, config)\n",
        "    num_threes_opp = count_windows(grid, 3, mark%2+1, config)\n",
        "    num_fours_opp = count_windows(grid, 4, mark%2+1, config)\n",
        "    score = num_threes - 1e2*num_threes_opp - 1e4*num_fours_opp + 1e6*num_fours\n",
        "    return score"
      ],
      "execution_count": 4,
      "outputs": []
    },
    {
      "cell_type": "markdown",
      "metadata": {
        "papermill": {
          "duration": 0.011518,
          "end_time": "2020-10-01T00:25:52.326144",
          "exception": false,
          "start_time": "2020-10-01T00:25:52.314626",
          "status": "completed"
        },
        "tags": [],
        "id": "W18c_G2nrHqb"
      },
      "source": [
        "In the next code cell, we define a few additional functions that we'll need for the minimax agent.  "
      ]
    },
    {
      "cell_type": "code",
      "metadata": {
        "execution": {
          "iopub.execute_input": "2020-10-01T00:25:52.376026Z",
          "iopub.status.busy": "2020-10-01T00:25:52.374952Z",
          "iopub.status.idle": "2020-10-01T00:25:52.378428Z",
          "shell.execute_reply": "2020-10-01T00:25:52.377714Z"
        },
        "papermill": {
          "duration": 0.041022,
          "end_time": "2020-10-01T00:25:52.378553",
          "exception": false,
          "start_time": "2020-10-01T00:25:52.337531",
          "status": "completed"
        },
        "tags": [],
        "id": "SuT-SK_5rHqc"
      },
      "source": [
        "# Uses minimax to calculate value of dropping piece in selected column\n",
        "def score_move(grid, col, mark, config, nsteps):\n",
        "    next_grid = drop_piece(grid, col, mark, config)\n",
        "    score = minimax(next_grid, nsteps-1, False, mark, config)\n",
        "    return score\n",
        "\n",
        "# Helper function for minimax: checks if agent or opponent has four in a row in the window\n",
        "def is_terminal_window(window, config):\n",
        "    return window.count(1) == config.inarow or window.count(2) == config.inarow\n",
        "\n",
        "# Helper function for minimax: checks if game has ended\n",
        "def is_terminal_node(grid, config):\n",
        "    # Check for draw \n",
        "    if list(grid[0, :]).count(0) == 0:\n",
        "        return True\n",
        "    # Check for win: horizontal, vertical, or diagonal\n",
        "    # horizontal \n",
        "    for row in range(config.rows):\n",
        "        for col in range(config.columns-(config.inarow-1)):\n",
        "            window = list(grid[row, col:col+config.inarow])\n",
        "            if is_terminal_window(window, config):\n",
        "                return True\n",
        "    # vertical\n",
        "    for row in range(config.rows-(config.inarow-1)):\n",
        "        for col in range(config.columns):\n",
        "            window = list(grid[row:row+config.inarow, col])\n",
        "            if is_terminal_window(window, config):\n",
        "                return True\n",
        "    # positive diagonal\n",
        "    for row in range(config.rows-(config.inarow-1)):\n",
        "        for col in range(config.columns-(config.inarow-1)):\n",
        "            window = list(grid[range(row, row+config.inarow), range(col, col+config.inarow)])\n",
        "            if is_terminal_window(window, config):\n",
        "                return True\n",
        "    # negative diagonal\n",
        "    for row in range(config.inarow-1, config.rows):\n",
        "        for col in range(config.columns-(config.inarow-1)):\n",
        "            window = list(grid[range(row, row-config.inarow, -1), range(col, col+config.inarow)])\n",
        "            if is_terminal_window(window, config):\n",
        "                return True\n",
        "    return False\n",
        "\n",
        "# Minimax implementation\n",
        "def minimax(node, depth, maximizingPlayer, mark, config):\n",
        "    is_terminal = is_terminal_node(node, config)\n",
        "    valid_moves = [c for c in range(config.columns) if node[0][c] == 0]\n",
        "    if depth == 0 or is_terminal:\n",
        "        return get_heuristic(node, mark, config)\n",
        "    if maximizingPlayer:\n",
        "        value = -np.Inf\n",
        "        for col in valid_moves:\n",
        "            child = drop_piece(node, col, mark, config)\n",
        "            value = max(value, minimax(child, depth-1, False, mark, config))\n",
        "        return value\n",
        "    else:\n",
        "        value = np.Inf\n",
        "        for col in valid_moves:\n",
        "            child = drop_piece(node, col, mark%2+1, config)\n",
        "            value = min(value, minimax(child, depth-1, True, mark, config))\n",
        "        return value"
      ],
      "execution_count": 5,
      "outputs": []
    },
    {
      "cell_type": "markdown",
      "metadata": {
        "papermill": {
          "duration": 0.007982,
          "end_time": "2020-10-01T00:25:52.395164",
          "exception": false,
          "start_time": "2020-10-01T00:25:52.387182",
          "status": "completed"
        },
        "tags": [],
        "id": "4PyzlG-prHqf"
      },
      "source": [
        "We won't describe the minimax implementation in detail, but if you want to read more technical pseudocode, here's the description [from Wikipedia](https://en.wikipedia.org/wiki/Minimax#Pseudocode).  (_Note that the pseudocode can be safely skipped!_)\n",
        "\n",
        "<center>\n",
        "<img src=\"https://i.imgur.com/BwP9tMD.png\" width=60%>\n",
        "</center>\n",
        "\n",
        "Finally, we implement the minimax agent in the competition format.  The `N_STEPS` variable is used to set the depth of the tree."
      ]
    },
    {
      "cell_type": "code",
      "metadata": {
        "execution": {
          "iopub.execute_input": "2020-10-01T00:25:52.424652Z",
          "iopub.status.busy": "2020-10-01T00:25:52.423810Z",
          "iopub.status.idle": "2020-10-01T00:25:52.427169Z",
          "shell.execute_reply": "2020-10-01T00:25:52.426623Z"
        },
        "papermill": {
          "duration": 0.023884,
          "end_time": "2020-10-01T00:25:52.427297",
          "exception": false,
          "start_time": "2020-10-01T00:25:52.403413",
          "status": "completed"
        },
        "tags": [],
        "id": "8OR6A3JJrHqf"
      },
      "source": [
        "# How deep to make the game tree: higher values take longer to run!\n",
        "N_STEPS = 2 #3\n",
        "\n",
        "def my_agent(obs, config):\n",
        "    # Get list of valid moves\n",
        "    valid_moves = [c for c in range(config.columns) if obs.board[c] == 0]\n",
        "    # Convert the board to a 2D grid\n",
        "    grid = np.asarray(obs.board).reshape(config.rows, config.columns)\n",
        "    # Use the heuristic to assign a score to each possible board in the next step\n",
        "    scores = dict(zip(valid_moves, [score_move(grid, col, obs.mark, config, N_STEPS) for col in valid_moves]))\n",
        "    # Get a list of columns (moves) that maximize the heuristic\n",
        "    max_cols = [key for key in scores.keys() if scores[key] == max(scores.values())]\n",
        "    # Select at random from the maximizing columns\n",
        "    return random.choice(max_cols)"
      ],
      "execution_count": 17,
      "outputs": []
    },
    {
      "cell_type": "markdown",
      "metadata": {
        "id": "EyEtsyewlgQ1"
      },
      "source": [
        "### Test your Agent"
      ]
    },
    {
      "cell_type": "code",
      "metadata": {
        "execution": {
          "iopub.execute_input": "2020-10-01T00:25:52.466218Z",
          "iopub.status.busy": "2020-10-01T00:25:52.465378Z",
          "iopub.status.idle": "2020-10-01T00:25:58.353937Z",
          "shell.execute_reply": "2020-10-01T00:25:58.354466Z"
        },
        "papermill": {
          "duration": 5.902606,
          "end_time": "2020-10-01T00:25:58.354621",
          "exception": false,
          "start_time": "2020-10-01T00:25:52.452015",
          "status": "completed"
        },
        "tags": [],
        "id": "sE29vHU3rHqj"
      },
      "source": [
        "# Create the game environment\n",
        "env = make(\"connectx\")\n",
        "\n",
        "# Two random agents play one game round\n",
        "env.run([my_agent, \"random\"])\n",
        "\n",
        "# Show the game\n",
        "env.render(mode=\"ipython\")"
      ],
      "execution_count": null,
      "outputs": []
    },
    {
      "cell_type": "code",
      "metadata": {
        "id": "Gr8CU7gplgQ2"
      },
      "source": [
        "env.reset()\n",
        "# Play as the first agent against default \"random\" agent.\n",
        "env = make(\"connectx\")\n",
        "#env.run([\"random\",\"negamax\"])\n",
        "env.play([\"random\", None])#, width=500, height=450)\n",
        "env.render(mode=\"ipython\", width=500, height=450)"
      ],
      "execution_count": null,
      "outputs": []
    },
    {
      "cell_type": "markdown",
      "metadata": {
        "papermill": {
          "duration": 0.011599,
          "end_time": "2020-10-01T00:25:58.379045",
          "exception": false,
          "start_time": "2020-10-01T00:25:58.367446",
          "status": "completed"
        },
        "tags": [],
        "id": "lCkRw44krHqn"
      },
      "source": [
        "### Check performance."
      ]
    },
    {
      "cell_type": "code",
      "metadata": {
        "_kg_hide-input": true,
        "execution": {
          "iopub.execute_input": "2020-10-01T00:25:58.413220Z",
          "iopub.status.busy": "2020-10-01T00:25:58.412500Z",
          "iopub.status.idle": "2020-10-01T00:25:58.415156Z",
          "shell.execute_reply": "2020-10-01T00:25:58.415595Z"
        },
        "papermill": {
          "duration": 0.025007,
          "end_time": "2020-10-01T00:25:58.415744",
          "exception": false,
          "start_time": "2020-10-01T00:25:58.390737",
          "status": "completed"
        },
        "tags": [],
        "id": "ejGQ6pjDrHqo"
      },
      "source": [
        "def get_win_percentages(agent1, agent2, n_rounds=100):\n",
        "    # Use default Connect Four setup\n",
        "    config = {'rows': 6, 'columns': 7, 'inarow': 4}\n",
        "    # Agent 1 goes first (roughly) half the time          \n",
        "    outcomes = evaluate(\"connectx\", [agent1, agent2], config, [], n_rounds//2)\n",
        "    # Agent 2 goes first (roughly) half the time      \n",
        "    outcomes += [[b,a] for [a,b] in evaluate(\"connectx\", [agent2, agent1], config, [], n_rounds-n_rounds//2)]\n",
        "    print(\"Agent 1 Win Percentage:\", np.round(outcomes.count([1,-1])/len(outcomes), 2))\n",
        "    print(\"Agent 2 Win Percentage:\", np.round(outcomes.count([-1,1])/len(outcomes), 2))\n",
        "    print(\"Number of Invalid Plays by Agent 1:\", outcomes.count([None, 0]))\n",
        "    print(\"Number of Invalid Plays by Agent 2:\", outcomes.count([0, None]))"
      ],
      "execution_count": 9,
      "outputs": []
    },
    {
      "cell_type": "code",
      "metadata": {
        "execution": {
          "iopub.execute_input": "2020-10-01T00:25:58.460008Z",
          "iopub.status.busy": "2020-10-01T00:25:58.449993Z",
          "iopub.status.idle": "2020-10-01T00:35:30.158646Z",
          "shell.execute_reply": "2020-10-01T00:35:30.159549Z"
        },
        "papermill": {
          "duration": 571.73133,
          "end_time": "2020-10-01T00:35:30.159789",
          "exception": false,
          "start_time": "2020-10-01T00:25:58.428459",
          "status": "completed"
        },
        "tags": [],
        "id": "r4gjNwYxrHqs",
        "outputId": "4169efe4-4bd6-4526-8b77-7bd4f896d787",
        "colab": {
          "base_uri": "https://localhost:8080/"
        }
      },
      "source": [
        "start = time.time()\n",
        "n_rounds=10\n",
        "get_win_percentages(agent1=my_agent, agent2=\"negamax\", n_rounds=n_rounds)\n",
        "end = time.time()\n",
        "print (\"total\",end-start)\n",
        "print (\"per game\",(end-start)/n_rounds)"
      ],
      "execution_count": 13,
      "outputs": [
        {
          "output_type": "stream",
          "text": [
            "Agent 1 Win Percentage: 0.5\n",
            "Agent 2 Win Percentage: 0.3\n",
            "Number of Invalid Plays by Agent 1: 0\n",
            "Number of Invalid Plays by Agent 2: 0\n",
            "total 95.15454459190369\n",
            "per game 9.51545445919037\n"
          ],
          "name": "stdout"
        }
      ]
    },
    {
      "cell_type": "markdown",
      "metadata": {
        "papermill": {
          "duration": 0.013066,
          "end_time": "2020-10-01T00:35:30.189848",
          "exception": false,
          "start_time": "2020-10-01T00:35:30.176782",
          "status": "completed"
        },
        "tags": [],
        "id": "QTQR-L8qrHqv"
      },
      "source": [
        "Not bad!\n",
        "\n",
        "#Your turn\n",
        "\n",
        "Continue to check your understanding and **[submit your own agent]** to the competition."
      ]
    },
    {
      "cell_type": "markdown",
      "metadata": {
        "id": "Qy1htPitlgQ9"
      },
      "source": [
        "## Evaluate your Agent"
      ]
    },
    {
      "cell_type": "code",
      "metadata": {
        "id": "4EMlKmmSlgQ-",
        "outputId": "1b23c508-8af8-4bb4-f35e-d7f0183bed39",
        "colab": {
          "base_uri": "https://localhost:8080/"
        }
      },
      "source": [
        "def mean_reward(rewards):\n",
        "    return sum(r[0] for r in rewards) / float(len(rewards))\n",
        "\n",
        "# Run multiple episodes to estimate its performance.\n",
        "print(\"My Agent vs Random Agent:\", mean_reward(evaluate(\"connectx\", [my_agent, \"random\"], num_episodes=2)))\n",
        "print(\"My Agent vs Negamax Agent:\", mean_reward(evaluate(\"connectx\", [my_agent, \"negamax\"], num_episodes=2)))"
      ],
      "execution_count": 14,
      "outputs": [
        {
          "output_type": "stream",
          "text": [
            "My Agent vs Random Agent: 1.0\n",
            "My Agent vs Negamax Agent: 1.0\n"
          ],
          "name": "stdout"
        }
      ]
    },
    {
      "cell_type": "markdown",
      "metadata": {
        "id": "O9g7GbIAlgRB"
      },
      "source": [
        "## Play your Agent\n",
        "Click on any column to place a checker there (\"manually select action\")."
      ]
    },
    {
      "cell_type": "code",
      "metadata": {
        "id": "f6ypJHa0lgRC"
      },
      "source": [
        "# \"None\" represents which agent you'll manually play as (first or second player).\n",
        "env.play([my_agent, None])"
      ],
      "execution_count": null,
      "outputs": []
    },
    {
      "cell_type": "markdown",
      "metadata": {
        "id": "9X-DCNJrlgRO"
      },
      "source": [
        "# Submit to Competition\n",
        "\n",
        "1. Commit this kernel.\n",
        "2. View the commited version.\n",
        "3. Go to \"Data\" section and find submission.py file.\n",
        "4. Click \"Submit to Competition\"\n",
        "5. Go to [My Submissions](https://kaggle.com/c/connectx/submissions) to view your score and episodes being played."
      ]
    },
    {
      "cell_type": "markdown",
      "metadata": {
        "id": "i1FSEjQzlgRF"
      },
      "source": [
        "## Write Submission File\n",
        "\n"
      ]
    },
    {
      "cell_type": "code",
      "metadata": {
        "id": "Rd3R7oEclgRG"
      },
      "source": [
        "import inspect\n",
        "import os\n",
        "\n",
        "def write_agent_to_file(function, file):\n",
        "    with open(file, \"a\" if os.path.exists(file) else \"w\") as f:\n",
        "        f.write(inspect.getsource(function))\n",
        "        print(function, \"written to\", file)\n",
        "\n",
        "write_agent_to_file(my_agent, \"submission.py\")"
      ],
      "execution_count": null,
      "outputs": []
    },
    {
      "cell_type": "markdown",
      "metadata": {
        "id": "CCmT7oInlgRJ"
      },
      "source": [
        "## Validate Submission\n",
        "Play your submission against itself.  This is the first episode the competition will run to weed out erroneous agents.\n",
        "\n",
        "Why validate? This roughly verifies that your submission is fully encapsulated and can be run remotely."
      ]
    },
    {
      "cell_type": "code",
      "metadata": {
        "id": "tC6CIUnflgRJ"
      },
      "source": [
        "# Note: Stdout replacement is a temporary workaround.\n",
        "import sys\n",
        "out = sys.stdout\n",
        "submission = utils.read_file(\"/content/submission.py\")\n",
        "#agent = utils.get_last_callable(submission)\n",
        "sys.stdout = out"
      ],
      "execution_count": null,
      "outputs": []
    },
    {
      "cell_type": "code",
      "metadata": {
        "id": "gjgniqUmpElG"
      },
      "source": [
        "env = make(\"connectx\", debug=True)\n",
        "env.run([submission, my_agent])\n",
        "print(\"Success!\" if env.state[0].status == env.state[1].status == \"DONE\" else \"Failed...\")"
      ],
      "execution_count": null,
      "outputs": []
    },
    {
      "cell_type": "markdown",
      "metadata": {
        "papermill": {
          "duration": 0.012048,
          "end_time": "2020-10-01T00:35:30.214410",
          "exception": false,
          "start_time": "2020-10-01T00:35:30.202362",
          "status": "completed"
        },
        "tags": [],
        "id": "jy5gvzF9rHqw"
      },
      "source": [
        "---\n",
        "\n",
        "\n",
        "\n",
        "\n",
        "*Have questions or comments? Visit the [Learn Discussion forum](https://www.kaggle.com/learn-forum/161477) to chat with other Learners.*"
      ]
    }
  ]
}