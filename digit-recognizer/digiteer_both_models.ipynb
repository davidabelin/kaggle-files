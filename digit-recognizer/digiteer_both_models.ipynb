{
  "nbformat": 4,
  "nbformat_minor": 0,
  "metadata": {
    "colab": {
      "name": "digiteer_both_models.ipynb",
      "provenance": [],
      "collapsed_sections": [
        "JndnmDMp66FL",
        "266KQvZoMxMv",
        "6sfw3LH0Oycm"
      ],
      "machine_shape": "hm"
    },
    "kernelspec": {
      "name": "python3",
      "display_name": "Python 3"
    },
    "accelerator": "GPU"
  },
  "cells": [
    {
      "cell_type": "code",
      "metadata": {
        "id": "wDlWLbfkJtvu",
        "cellView": "form"
      },
      "source": [
        "#@title Everything not mine is copyright 2020 Google LLC. Double-click here for full information.\n",
        "# Licensed under the Apache License, Version 2.0 (the \"License\");\n",
        "# you may not use this file except in compliance with the License.\n",
        "# You may obtain a copy of the License at\n",
        "#\n",
        "# https://www.apache.org/licenses/LICENSE-2.0\n",
        "#\n",
        "# Unless required by applicable law or agreed to in writing, software\n",
        "# distributed under the License is distributed on an \"AS IS\" BASIS,\n",
        "# WITHOUT WARRANTIES OR CONDITIONS OF ANY KIND, either express or implied.\n",
        "# See the License for the specific language governing permissions and\n",
        "# limitations under the License.\n",
        " \n",
        "# Yann LeCun and Corinna Cortes hold the copyright of MNIST dataset,\n",
        "# which is a derivative work from original NIST datasets. \n",
        "# MNIST dataset is made available under the terms of the \n",
        "# Creative Commons Attribution-Share Alike 3.0 license."
      ],
      "execution_count": 1,
      "outputs": []
    },
    {
      "cell_type": "markdown",
      "metadata": {
        "id": "9SBux8qWSzPz"
      },
      "source": [
        "This Notebook is heavily modified from the MLCC programming project with single-digit images here:\n",
        "https://colab.research.google.com/github/google/eng-edu/blob/master/ml/cc/exercises/multi-class_classification_with_MNIST.ipynb"
      ]
    },
    {
      "cell_type": "code",
      "metadata": {
        "id": "9n9_cTveKmse",
        "cellView": "both",
        "colab": {
          "base_uri": "https://localhost:8080/"
        },
        "outputId": "a4509abe-bdc6-4e3b-d734-fe0f2ad536b6"
      },
      "source": [
        "# load some standard utilities.\n",
        "%tensorflow_version 2.x\n",
        "#from __future__ import absolute_import, division, print_function, unicode_literals\n",
        " \n",
        "import random as rd\n",
        "import numpy as np\n",
        "import pandas as pd\n",
        "import tensorflow as tf\n",
        "from tensorflow.keras import layers\n",
        "from matplotlib import pyplot as plt\n",
        "import time\n",
        " \n",
        "print(\"Loaded modules.\")"
      ],
      "execution_count": 2,
      "outputs": [
        {
          "output_type": "stream",
          "text": [
            "Loaded modules.\n"
          ],
          "name": "stdout"
        }
      ]
    },
    {
      "cell_type": "code",
      "metadata": {
        "id": "WaxUYawO2DDX",
        "colab": {
          "base_uri": "https://localhost:8080/",
          "height": 35
        },
        "outputId": "727c8a32-67d1-44f8-fd1f-b4b5a32423b1"
      },
      "source": [
        "tf.__version__"
      ],
      "execution_count": 3,
      "outputs": [
        {
          "output_type": "execute_result",
          "data": {
            "application/vnd.google.colaboratory.intrinsic+json": {
              "type": "string"
            },
            "text/plain": [
              "'2.3.0'"
            ]
          },
          "metadata": {
            "tags": []
          },
          "execution_count": 3
        }
      ]
    },
    {
      "cell_type": "code",
      "metadata": {
        "id": "JZlvdpyYKx7V",
        "cellView": "both",
        "colab": {
          "base_uri": "https://localhost:8080/"
        },
        "outputId": "c6f61834-1002-4c7d-d8d1-68f0e55655b7"
      },
      "source": [
        "# load the dataset.\n",
        "(x_train, y_train),(x_test, y_test) = tf.keras.datasets.mnist.load_data()"
      ],
      "execution_count": 4,
      "outputs": [
        {
          "output_type": "stream",
          "text": [
            "Downloading data from https://storage.googleapis.com/tensorflow/tf-keras-datasets/mnist.npz\n",
            "11493376/11490434 [==============================] - 0s 0us/step\n"
          ],
          "name": "stdout"
        }
      ]
    },
    {
      "cell_type": "code",
      "metadata": {
        "id": "1aGtML-Okikx"
      },
      "source": [
        "kaggle = pd.read_csv('https://github.com/davidabelin/kaggle-files/raw/main/digit-recognizer/test.csv')\n",
        "k_train = pd.read_csv('https://github.com/davidabelin/kaggle-files/raw/main/digit-recognizer/train.csv')\n",
        "k_answers = np.asarray(k_train['label'])\n",
        "k_train = k_train.drop(columns=['label'])\n",
        "k_train_norm = np.asarray(k_train/255.)"
      ],
      "execution_count": 5,
      "outputs": []
    },
    {
      "cell_type": "code",
      "metadata": {
        "id": "MQrwGrKCL_8P"
      },
      "source": [
        "kaggle_norm = np.asarray(kaggle/255.)\n",
        "x_train_norm = x_train/255.\n",
        "x_test_norm = x_test/255."
      ],
      "execution_count": 6,
      "outputs": []
    },
    {
      "cell_type": "markdown",
      "metadata": {
        "id": "3014ezH3C7jT"
      },
      "source": [
        "## Create a deep neural net model and a convolutional neural network to compare"
      ]
    },
    {
      "cell_type": "code",
      "metadata": {
        "id": "nxgw5eyKfyft"
      },
      "source": [
        "k_train_norm = k_train_norm.reshape(42000, 28, 28)\n",
        "kaggle_norm = kaggle_norm.reshape(28000, 28, 28)\n",
        "x_train_norm = x_train_norm.reshape(60000, 28, 28)\n",
        "x_test_norm = x_test_norm.reshape(10000, 28, 28)"
      ],
      "execution_count": 7,
      "outputs": []
    },
    {
      "cell_type": "code",
      "metadata": {
        "id": "M5AI0Drej0KS"
      },
      "source": [
        "# SET UP A DEEP NEURAL NET \n",
        " \n",
        "def create_DNN(learning_rate):\n",
        "    \"\"\"Create and compile a deep neural net.\"\"\"  \n",
        "    # Define the kind of model to use.\n",
        "    model = tf.keras.models.Sequential()\n",
        "    model.add(tf.keras.layers.Flatten(input_shape=(28, 28)))\n",
        "    model.add(tf.keras.layers.Dense(units=128, activation='relu'))\n",
        "    model.add(tf.keras.layers.Dropout(rate=0.1)) #avoid overfitting to train set\n",
        "    model.add(tf.keras.layers.Dense(units=256, activation='relu'))\n",
        "    model.add(tf.keras.layers.Dropout(rate=0.2))\n",
        "    model.add(tf.keras.layers.Flatten())\n",
        "    model.add(tf.keras.layers.Dense(units=100, activation='softmax'))     \n",
        "    model.compile(optimizer=tf.keras.optimizers.Adam(lr=learning_rate),\n",
        "                    loss=\"sparse_categorical_crossentropy\",\n",
        "                    metrics=['accuracy']) \n",
        "    return model "
      ],
      "execution_count": 8,
      "outputs": []
    },
    {
      "cell_type": "code",
      "metadata": {
        "id": "1C_tbFXcMHu7"
      },
      "source": [
        " # SET UP A **CONVOLUTIONAL** NEURAL NET \n",
        " \n",
        "def create_CNN(learning_rate):\n",
        "    \"\"\"Create and compile a convolutional neural net.\"\"\"  \n",
        "    # Define the kind of model to use.\n",
        "    model = tf.keras.models.Sequential()\n",
        "    model.add(tf.keras.layers.Conv2D(32, 6, activation='relu', input_shape=(28, 28, 1)))\n",
        "    model.add(tf.keras.layers.Conv2D(64, 4, activation='relu'))\n",
        "    model.add(tf.keras.layers.Conv2D(128, 2, activation='relu'))\n",
        "    model.add(tf.keras.layers.MaxPooling2D((2,2)))\n",
        "    model.add(tf.keras.layers.Flatten())\n",
        "    model.add(tf.keras.layers.Dense(units=100, activation='softmax'))     \n",
        "    model.compile(optimizer=tf.keras.optimizers.Adam(lr=learning_rate),\n",
        "                    loss=\"sparse_categorical_crossentropy\",\n",
        "                    metrics=['accuracy']) \n",
        "    return model"
      ],
      "execution_count": 9,
      "outputs": []
    },
    {
      "cell_type": "code",
      "metadata": {
        "id": "_CYqd8LMZ75Z"
      },
      "source": [
        "k_train_norm = k_train_norm.reshape(42000, 28, 28, 1)\n",
        "kaggle_norm = kaggle_norm.reshape(28000, 28, 28, 1)\n",
        "x_train_norm = x_train_norm.reshape(60000, 28, 28, 1)\n",
        "x_test_norm = x_test_norm.reshape(10000, 28, 28, 1)"
      ],
      "execution_count": 10,
      "outputs": []
    },
    {
      "cell_type": "code",
      "metadata": {
        "id": "XQAjVbCtM61V"
      },
      "source": [
        " # train on the training set with 10% held back for validation #\n",
        "def train_model(model, train_features, train_label, epochs,\n",
        "                batch_size=None, validation_split=None):\n",
        "\n",
        "    history = model.fit(x=train_features, y=train_label, \n",
        "                        batch_size=batch_size,\n",
        "                        epochs=epochs, shuffle=True, \n",
        "                        validation_split=validation_split)\n",
        "\n",
        "    # Gather the model's metrics after each round of training\n",
        "    epochs = history.epoch\n",
        "    hist = pd.DataFrame(history.history)\n",
        "    return epochs, hist"
      ],
      "execution_count": 11,
      "outputs": []
    },
    {
      "cell_type": "code",
      "metadata": {
        "colab": {
          "base_uri": "https://localhost:8080/"
        },
        "id": "Cj4E1zPlsKgp",
        "outputId": "e889d976-32d7-4634-df3d-88473688d931"
      },
      "source": [
        "\n",
        "print(\"\\nfinished test set of 42000 - 4200 in about {} minutess\\n\".format((time.time()-batch_time)//60))"
      ],
      "execution_count": 27,
      "outputs": [
        {
          "output_type": "stream",
          "text": [
            "\n",
            "finished test set of 42000 - 4200 in about 30.0 minutess\n",
            "\n"
          ],
          "name": "stdout"
        }
      ]
    },
    {
      "cell_type": "code",
      "metadata": {
        "cellView": "both",
        "id": "Nn2eBWKXTuaX",
        "colab": {
          "base_uri": "https://localhost:8080/"
        },
        "outputId": "cc16f4e7-14c7-471e-e5ed-5b1680aa0cca"
      },
      "source": [
        "# Train and evalate CNN\n",
        "learning_rate = 0.001\n",
        "epochs = 30\n",
        "batch_size = 512\n",
        "validation_split = 0.1\n",
        "start_time = time.time()\n",
        "\n",
        "convoluter = create_CNN(learning_rate)\n",
        "\n",
        "# TRAIN X2:\n",
        "for _ in range(2):\n",
        "    #x_test_norm:\n",
        "    epochs_CNN, hist_CNN = train_model(convoluter, x_test_norm, y_test, epochs, batch_size, validation_split)\n",
        "    print(\"finished test set of 10000 - 1000 in {:.2} seconds\".format(time.time()-start_time))\n",
        "    batch_time = time.time()\n",
        "    #x_train_norm:\n",
        "    epochs_CNN, hist_CNN = train_model(convoluter, x_train_norm, y_train, epochs, batch_size, validation_split)\n",
        "    print(\"finished train set of 60000 - 6000 in {:.2} seconds\".format(time.time()-batch_time))\n",
        "    batch_time = time.time()\n",
        "    #k_train_norm:\n",
        "    epochs_CNN, hist_CNN = train_model(convoluter, k_train_norm, k_answers, epochs, batch_size, validation_split)\n",
        "    print(\"finished test set of 42000 - 4200 in {:.2} seconds\".format(time.time()-batch_time))\n",
        "\n",
        "print (\"\\nTotal time: {:.2} seconds\".format(time.time()-start_time))\n"
      ],
      "execution_count": 12,
      "outputs": [
        {
          "output_type": "stream",
          "text": [
            "Epoch 1/30\n",
            "18/18 [==============================] - 0s 24ms/step - loss: 1.7967 - accuracy: 0.5108 - val_loss: 0.6438 - val_accuracy: 0.8020\n",
            "Epoch 2/30\n",
            "18/18 [==============================] - 0s 12ms/step - loss: 0.4648 - accuracy: 0.8687 - val_loss: 0.4120 - val_accuracy: 0.8740\n",
            "Epoch 3/30\n",
            "18/18 [==============================] - 0s 12ms/step - loss: 0.3307 - accuracy: 0.9021 - val_loss: 0.3141 - val_accuracy: 0.9200\n",
            "Epoch 4/30\n",
            "18/18 [==============================] - 0s 12ms/step - loss: 0.2324 - accuracy: 0.9321 - val_loss: 0.2212 - val_accuracy: 0.9380\n",
            "Epoch 5/30\n",
            "18/18 [==============================] - 0s 12ms/step - loss: 0.1577 - accuracy: 0.9529 - val_loss: 0.1628 - val_accuracy: 0.9450\n",
            "Epoch 6/30\n",
            "18/18 [==============================] - 0s 12ms/step - loss: 0.1141 - accuracy: 0.9656 - val_loss: 0.1548 - val_accuracy: 0.9510\n",
            "Epoch 7/30\n",
            "18/18 [==============================] - 0s 12ms/step - loss: 0.0842 - accuracy: 0.9737 - val_loss: 0.1033 - val_accuracy: 0.9630\n",
            "Epoch 8/30\n",
            "18/18 [==============================] - 0s 12ms/step - loss: 0.0694 - accuracy: 0.9778 - val_loss: 0.0927 - val_accuracy: 0.9680\n",
            "Epoch 9/30\n",
            "18/18 [==============================] - 0s 12ms/step - loss: 0.0604 - accuracy: 0.9807 - val_loss: 0.1055 - val_accuracy: 0.9660\n",
            "Epoch 10/30\n",
            "18/18 [==============================] - 0s 12ms/step - loss: 0.0509 - accuracy: 0.9827 - val_loss: 0.0693 - val_accuracy: 0.9800\n",
            "Epoch 11/30\n",
            "18/18 [==============================] - 0s 12ms/step - loss: 0.0410 - accuracy: 0.9868 - val_loss: 0.0818 - val_accuracy: 0.9710\n",
            "Epoch 12/30\n",
            "18/18 [==============================] - 0s 12ms/step - loss: 0.0333 - accuracy: 0.9886 - val_loss: 0.0958 - val_accuracy: 0.9760\n",
            "Epoch 13/30\n",
            "18/18 [==============================] - 0s 12ms/step - loss: 0.0312 - accuracy: 0.9900 - val_loss: 0.0813 - val_accuracy: 0.9790\n",
            "Epoch 14/30\n",
            "18/18 [==============================] - 0s 12ms/step - loss: 0.0363 - accuracy: 0.9882 - val_loss: 0.0779 - val_accuracy: 0.9730\n",
            "Epoch 15/30\n",
            "18/18 [==============================] - 0s 12ms/step - loss: 0.0263 - accuracy: 0.9921 - val_loss: 0.0662 - val_accuracy: 0.9780\n",
            "Epoch 16/30\n",
            "18/18 [==============================] - 0s 12ms/step - loss: 0.0210 - accuracy: 0.9937 - val_loss: 0.0748 - val_accuracy: 0.9770\n",
            "Epoch 17/30\n",
            "18/18 [==============================] - 0s 12ms/step - loss: 0.0146 - accuracy: 0.9964 - val_loss: 0.0864 - val_accuracy: 0.9740\n",
            "Epoch 18/30\n",
            "18/18 [==============================] - 0s 12ms/step - loss: 0.0147 - accuracy: 0.9953 - val_loss: 0.0778 - val_accuracy: 0.9790\n",
            "Epoch 19/30\n",
            "18/18 [==============================] - 0s 12ms/step - loss: 0.0119 - accuracy: 0.9961 - val_loss: 0.0804 - val_accuracy: 0.9790\n",
            "Epoch 20/30\n",
            "18/18 [==============================] - 0s 12ms/step - loss: 0.0099 - accuracy: 0.9973 - val_loss: 0.0724 - val_accuracy: 0.9810\n",
            "Epoch 21/30\n",
            "18/18 [==============================] - 0s 12ms/step - loss: 0.0078 - accuracy: 0.9984 - val_loss: 0.0810 - val_accuracy: 0.9810\n",
            "Epoch 22/30\n",
            "18/18 [==============================] - 0s 12ms/step - loss: 0.0070 - accuracy: 0.9988 - val_loss: 0.0688 - val_accuracy: 0.9830\n",
            "Epoch 23/30\n",
            "18/18 [==============================] - 0s 12ms/step - loss: 0.0068 - accuracy: 0.9982 - val_loss: 0.0714 - val_accuracy: 0.9820\n",
            "Epoch 24/30\n",
            "18/18 [==============================] - 0s 12ms/step - loss: 0.0051 - accuracy: 0.9989 - val_loss: 0.0743 - val_accuracy: 0.9810\n",
            "Epoch 25/30\n",
            "18/18 [==============================] - 0s 12ms/step - loss: 0.0038 - accuracy: 0.9997 - val_loss: 0.0658 - val_accuracy: 0.9820\n",
            "Epoch 26/30\n",
            "18/18 [==============================] - 0s 12ms/step - loss: 0.0033 - accuracy: 0.9998 - val_loss: 0.0727 - val_accuracy: 0.9820\n",
            "Epoch 27/30\n",
            "18/18 [==============================] - 0s 12ms/step - loss: 0.0023 - accuracy: 0.9999 - val_loss: 0.0767 - val_accuracy: 0.9800\n",
            "Epoch 28/30\n",
            "18/18 [==============================] - 0s 12ms/step - loss: 0.0025 - accuracy: 0.9997 - val_loss: 0.0788 - val_accuracy: 0.9780\n",
            "Epoch 29/30\n",
            "18/18 [==============================] - 0s 12ms/step - loss: 0.0023 - accuracy: 0.9999 - val_loss: 0.0882 - val_accuracy: 0.9800\n",
            "Epoch 30/30\n",
            "18/18 [==============================] - 0s 12ms/step - loss: 0.0035 - accuracy: 0.9994 - val_loss: 0.0882 - val_accuracy: 0.9810\n",
            "finished test set of 10000 - 1000 in 1.6e+01 seconds\n",
            "Epoch 1/30\n",
            "106/106 [==============================] - 1s 13ms/step - loss: 0.0849 - accuracy: 0.9767 - val_loss: 0.0481 - val_accuracy: 0.9872\n",
            "Epoch 2/30\n",
            "106/106 [==============================] - 1s 12ms/step - loss: 0.0477 - accuracy: 0.9859 - val_loss: 0.0450 - val_accuracy: 0.9870\n",
            "Epoch 3/30\n",
            "106/106 [==============================] - 1s 12ms/step - loss: 0.0389 - accuracy: 0.9885 - val_loss: 0.0397 - val_accuracy: 0.9895\n",
            "Epoch 4/30\n",
            "106/106 [==============================] - 1s 12ms/step - loss: 0.0322 - accuracy: 0.9899 - val_loss: 0.0378 - val_accuracy: 0.9907\n",
            "Epoch 5/30\n",
            "106/106 [==============================] - 1s 12ms/step - loss: 0.0278 - accuracy: 0.9916 - val_loss: 0.0359 - val_accuracy: 0.9910\n",
            "Epoch 6/30\n",
            "106/106 [==============================] - 1s 12ms/step - loss: 0.0244 - accuracy: 0.9928 - val_loss: 0.0423 - val_accuracy: 0.9875\n",
            "Epoch 7/30\n",
            "106/106 [==============================] - 1s 12ms/step - loss: 0.0214 - accuracy: 0.9936 - val_loss: 0.0441 - val_accuracy: 0.9888\n",
            "Epoch 8/30\n",
            "106/106 [==============================] - 1s 12ms/step - loss: 0.0188 - accuracy: 0.9941 - val_loss: 0.0402 - val_accuracy: 0.9893\n",
            "Epoch 9/30\n",
            "106/106 [==============================] - 1s 12ms/step - loss: 0.0152 - accuracy: 0.9956 - val_loss: 0.0377 - val_accuracy: 0.9912\n",
            "Epoch 10/30\n",
            "106/106 [==============================] - 1s 12ms/step - loss: 0.0147 - accuracy: 0.9953 - val_loss: 0.0423 - val_accuracy: 0.9895\n",
            "Epoch 11/30\n",
            "106/106 [==============================] - 1s 12ms/step - loss: 0.0137 - accuracy: 0.9956 - val_loss: 0.0400 - val_accuracy: 0.9908\n",
            "Epoch 12/30\n",
            "106/106 [==============================] - 1s 12ms/step - loss: 0.0111 - accuracy: 0.9964 - val_loss: 0.0372 - val_accuracy: 0.9915\n",
            "Epoch 13/30\n",
            "106/106 [==============================] - 1s 12ms/step - loss: 0.0103 - accuracy: 0.9969 - val_loss: 0.0386 - val_accuracy: 0.9912\n",
            "Epoch 14/30\n",
            "106/106 [==============================] - 1s 12ms/step - loss: 0.0093 - accuracy: 0.9969 - val_loss: 0.0423 - val_accuracy: 0.9912\n",
            "Epoch 15/30\n",
            "106/106 [==============================] - 1s 12ms/step - loss: 0.0074 - accuracy: 0.9978 - val_loss: 0.0527 - val_accuracy: 0.9895\n",
            "Epoch 16/30\n",
            "106/106 [==============================] - 1s 12ms/step - loss: 0.0084 - accuracy: 0.9973 - val_loss: 0.0483 - val_accuracy: 0.9920\n",
            "Epoch 17/30\n",
            "106/106 [==============================] - 1s 12ms/step - loss: 0.0071 - accuracy: 0.9978 - val_loss: 0.0482 - val_accuracy: 0.9908\n",
            "Epoch 18/30\n",
            "106/106 [==============================] - 1s 12ms/step - loss: 0.0058 - accuracy: 0.9980 - val_loss: 0.0558 - val_accuracy: 0.9897\n",
            "Epoch 19/30\n",
            "106/106 [==============================] - 1s 12ms/step - loss: 0.0046 - accuracy: 0.9982 - val_loss: 0.0532 - val_accuracy: 0.9918\n",
            "Epoch 20/30\n",
            "106/106 [==============================] - 1s 12ms/step - loss: 0.0061 - accuracy: 0.9979 - val_loss: 0.0498 - val_accuracy: 0.9920\n",
            "Epoch 21/30\n",
            "106/106 [==============================] - 1s 12ms/step - loss: 0.0050 - accuracy: 0.9983 - val_loss: 0.0675 - val_accuracy: 0.9877\n",
            "Epoch 22/30\n",
            "106/106 [==============================] - 1s 12ms/step - loss: 0.0058 - accuracy: 0.9979 - val_loss: 0.0499 - val_accuracy: 0.9920\n",
            "Epoch 23/30\n",
            "106/106 [==============================] - 1s 12ms/step - loss: 0.0042 - accuracy: 0.9985 - val_loss: 0.0482 - val_accuracy: 0.9910\n",
            "Epoch 24/30\n",
            "106/106 [==============================] - 1s 12ms/step - loss: 0.0055 - accuracy: 0.9982 - val_loss: 0.0563 - val_accuracy: 0.9908\n",
            "Epoch 25/30\n",
            "106/106 [==============================] - 1s 12ms/step - loss: 0.0035 - accuracy: 0.9987 - val_loss: 0.0608 - val_accuracy: 0.9895\n",
            "Epoch 26/30\n",
            "106/106 [==============================] - 1s 12ms/step - loss: 0.0054 - accuracy: 0.9982 - val_loss: 0.0542 - val_accuracy: 0.9900\n",
            "Epoch 27/30\n",
            "106/106 [==============================] - 1s 12ms/step - loss: 0.0038 - accuracy: 0.9988 - val_loss: 0.0600 - val_accuracy: 0.9918\n",
            "Epoch 28/30\n",
            "106/106 [==============================] - 1s 12ms/step - loss: 0.0036 - accuracy: 0.9988 - val_loss: 0.0586 - val_accuracy: 0.9905\n",
            "Epoch 29/30\n",
            "106/106 [==============================] - 1s 12ms/step - loss: 0.0044 - accuracy: 0.9986 - val_loss: 0.0617 - val_accuracy: 0.9910\n",
            "Epoch 30/30\n",
            "106/106 [==============================] - 1s 12ms/step - loss: 0.0032 - accuracy: 0.9989 - val_loss: 0.0618 - val_accuracy: 0.9892\n",
            "finished train set of 60000 - 6000 in 3.8e+01 seconds\n",
            "Epoch 1/30\n",
            "74/74 [==============================] - 1s 15ms/step - loss: 0.0185 - accuracy: 0.9950 - val_loss: 0.0129 - val_accuracy: 0.9967\n",
            "Epoch 2/30\n",
            "74/74 [==============================] - 1s 12ms/step - loss: 0.0066 - accuracy: 0.9981 - val_loss: 0.0094 - val_accuracy: 0.9976\n",
            "Epoch 3/30\n",
            "74/74 [==============================] - 1s 12ms/step - loss: 0.0036 - accuracy: 0.9992 - val_loss: 0.0122 - val_accuracy: 0.9969\n",
            "Epoch 4/30\n",
            "74/74 [==============================] - 1s 12ms/step - loss: 0.0022 - accuracy: 0.9995 - val_loss: 0.0077 - val_accuracy: 0.9981\n",
            "Epoch 5/30\n",
            "74/74 [==============================] - 1s 12ms/step - loss: 0.0020 - accuracy: 0.9994 - val_loss: 0.0114 - val_accuracy: 0.9962\n",
            "Epoch 6/30\n",
            "74/74 [==============================] - 1s 12ms/step - loss: 0.0026 - accuracy: 0.9993 - val_loss: 0.0093 - val_accuracy: 0.9979\n",
            "Epoch 7/30\n",
            "74/74 [==============================] - 1s 12ms/step - loss: 0.0012 - accuracy: 0.9997 - val_loss: 0.0070 - val_accuracy: 0.9986\n",
            "Epoch 8/30\n",
            "74/74 [==============================] - 1s 12ms/step - loss: 8.5246e-04 - accuracy: 0.9998 - val_loss: 0.0078 - val_accuracy: 0.9981\n",
            "Epoch 9/30\n",
            "74/74 [==============================] - 1s 12ms/step - loss: 4.0396e-04 - accuracy: 0.9999 - val_loss: 0.0086 - val_accuracy: 0.9976\n",
            "Epoch 10/30\n",
            "74/74 [==============================] - 1s 12ms/step - loss: 6.6130e-04 - accuracy: 0.9998 - val_loss: 0.0095 - val_accuracy: 0.9981\n",
            "Epoch 11/30\n",
            "74/74 [==============================] - 1s 12ms/step - loss: 4.4359e-04 - accuracy: 0.9999 - val_loss: 0.0085 - val_accuracy: 0.9979\n",
            "Epoch 12/30\n",
            "74/74 [==============================] - 1s 12ms/step - loss: 2.2670e-04 - accuracy: 1.0000 - val_loss: 0.0074 - val_accuracy: 0.9983\n",
            "Epoch 13/30\n",
            "74/74 [==============================] - 1s 12ms/step - loss: 7.5358e-05 - accuracy: 1.0000 - val_loss: 0.0077 - val_accuracy: 0.9986\n",
            "Epoch 14/30\n",
            "74/74 [==============================] - 1s 12ms/step - loss: 5.2135e-05 - accuracy: 1.0000 - val_loss: 0.0077 - val_accuracy: 0.9983\n",
            "Epoch 15/30\n",
            "74/74 [==============================] - 1s 12ms/step - loss: 4.3820e-05 - accuracy: 1.0000 - val_loss: 0.0078 - val_accuracy: 0.9983\n",
            "Epoch 16/30\n",
            "74/74 [==============================] - 1s 12ms/step - loss: 3.8705e-05 - accuracy: 1.0000 - val_loss: 0.0080 - val_accuracy: 0.9983\n",
            "Epoch 17/30\n",
            "74/74 [==============================] - 1s 12ms/step - loss: 3.4452e-05 - accuracy: 1.0000 - val_loss: 0.0081 - val_accuracy: 0.9983\n",
            "Epoch 18/30\n",
            "74/74 [==============================] - 1s 12ms/step - loss: 3.0800e-05 - accuracy: 1.0000 - val_loss: 0.0082 - val_accuracy: 0.9983\n",
            "Epoch 19/30\n",
            "74/74 [==============================] - 1s 12ms/step - loss: 2.8562e-05 - accuracy: 1.0000 - val_loss: 0.0083 - val_accuracy: 0.9983\n",
            "Epoch 20/30\n",
            "74/74 [==============================] - 1s 12ms/step - loss: 2.5787e-05 - accuracy: 1.0000 - val_loss: 0.0084 - val_accuracy: 0.9983\n",
            "Epoch 21/30\n",
            "74/74 [==============================] - 1s 12ms/step - loss: 2.3784e-05 - accuracy: 1.0000 - val_loss: 0.0085 - val_accuracy: 0.9983\n",
            "Epoch 22/30\n",
            "74/74 [==============================] - 1s 12ms/step - loss: 2.1936e-05 - accuracy: 1.0000 - val_loss: 0.0086 - val_accuracy: 0.9981\n",
            "Epoch 23/30\n",
            "74/74 [==============================] - 1s 12ms/step - loss: 2.0969e-05 - accuracy: 1.0000 - val_loss: 0.0087 - val_accuracy: 0.9981\n",
            "Epoch 24/30\n",
            "74/74 [==============================] - 1s 12ms/step - loss: 1.9029e-05 - accuracy: 1.0000 - val_loss: 0.0087 - val_accuracy: 0.9983\n",
            "Epoch 25/30\n",
            "74/74 [==============================] - 1s 12ms/step - loss: 1.7593e-05 - accuracy: 1.0000 - val_loss: 0.0088 - val_accuracy: 0.9981\n",
            "Epoch 26/30\n",
            "74/74 [==============================] - 1s 12ms/step - loss: 1.6889e-05 - accuracy: 1.0000 - val_loss: 0.0088 - val_accuracy: 0.9981\n",
            "Epoch 27/30\n",
            "74/74 [==============================] - 1s 12ms/step - loss: 1.5523e-05 - accuracy: 1.0000 - val_loss: 0.0089 - val_accuracy: 0.9981\n",
            "Epoch 28/30\n",
            "74/74 [==============================] - 1s 12ms/step - loss: 1.4511e-05 - accuracy: 1.0000 - val_loss: 0.0089 - val_accuracy: 0.9983\n",
            "Epoch 29/30\n",
            "74/74 [==============================] - 1s 12ms/step - loss: 1.3793e-05 - accuracy: 1.0000 - val_loss: 0.0090 - val_accuracy: 0.9983\n",
            "Epoch 30/30\n",
            "74/74 [==============================] - 1s 12ms/step - loss: 1.2890e-05 - accuracy: 1.0000 - val_loss: 0.0091 - val_accuracy: 0.9981\n",
            "finished test set of 42000 - 4200 in 2.8e+01 seconds\n",
            "Epoch 1/30\n",
            "18/18 [==============================] - 0s 13ms/step - loss: 0.0402 - accuracy: 0.9927 - val_loss: 0.0816 - val_accuracy: 0.9810\n",
            "Epoch 2/30\n",
            "18/18 [==============================] - 0s 12ms/step - loss: 0.0252 - accuracy: 0.9913 - val_loss: 0.0354 - val_accuracy: 0.9910\n",
            "Epoch 3/30\n",
            "18/18 [==============================] - 0s 12ms/step - loss: 0.0093 - accuracy: 0.9962 - val_loss: 0.0214 - val_accuracy: 0.9940\n",
            "Epoch 4/30\n",
            "18/18 [==============================] - 0s 12ms/step - loss: 0.0035 - accuracy: 0.9990 - val_loss: 0.0200 - val_accuracy: 0.9930\n",
            "Epoch 5/30\n",
            "18/18 [==============================] - 0s 12ms/step - loss: 0.0017 - accuracy: 0.9996 - val_loss: 0.0316 - val_accuracy: 0.9920\n",
            "Epoch 6/30\n",
            "18/18 [==============================] - 0s 12ms/step - loss: 8.8865e-04 - accuracy: 0.9998 - val_loss: 0.0304 - val_accuracy: 0.9920\n",
            "Epoch 7/30\n",
            "18/18 [==============================] - 0s 12ms/step - loss: 5.1539e-04 - accuracy: 1.0000 - val_loss: 0.0269 - val_accuracy: 0.9930\n",
            "Epoch 8/30\n",
            "18/18 [==============================] - 0s 12ms/step - loss: 3.9302e-04 - accuracy: 0.9999 - val_loss: 0.0273 - val_accuracy: 0.9930\n",
            "Epoch 9/30\n",
            "18/18 [==============================] - 0s 12ms/step - loss: 2.0730e-04 - accuracy: 1.0000 - val_loss: 0.0261 - val_accuracy: 0.9930\n",
            "Epoch 10/30\n",
            "18/18 [==============================] - 0s 12ms/step - loss: 8.0894e-05 - accuracy: 1.0000 - val_loss: 0.0257 - val_accuracy: 0.9930\n",
            "Epoch 11/30\n",
            "18/18 [==============================] - 0s 12ms/step - loss: 6.0661e-05 - accuracy: 1.0000 - val_loss: 0.0262 - val_accuracy: 0.9930\n",
            "Epoch 12/30\n",
            "18/18 [==============================] - 0s 12ms/step - loss: 5.0829e-05 - accuracy: 1.0000 - val_loss: 0.0267 - val_accuracy: 0.9930\n",
            "Epoch 13/30\n",
            "18/18 [==============================] - 0s 12ms/step - loss: 4.5823e-05 - accuracy: 1.0000 - val_loss: 0.0272 - val_accuracy: 0.9930\n",
            "Epoch 14/30\n",
            "18/18 [==============================] - 0s 12ms/step - loss: 4.1438e-05 - accuracy: 1.0000 - val_loss: 0.0273 - val_accuracy: 0.9940\n",
            "Epoch 15/30\n",
            "18/18 [==============================] - 0s 12ms/step - loss: 3.8548e-05 - accuracy: 1.0000 - val_loss: 0.0273 - val_accuracy: 0.9940\n",
            "Epoch 16/30\n",
            "18/18 [==============================] - 0s 12ms/step - loss: 3.5725e-05 - accuracy: 1.0000 - val_loss: 0.0278 - val_accuracy: 0.9940\n",
            "Epoch 17/30\n",
            "18/18 [==============================] - 0s 12ms/step - loss: 3.3310e-05 - accuracy: 1.0000 - val_loss: 0.0278 - val_accuracy: 0.9940\n",
            "Epoch 18/30\n",
            "18/18 [==============================] - 0s 12ms/step - loss: 3.1238e-05 - accuracy: 1.0000 - val_loss: 0.0278 - val_accuracy: 0.9940\n",
            "Epoch 19/30\n",
            "18/18 [==============================] - 0s 12ms/step - loss: 2.9504e-05 - accuracy: 1.0000 - val_loss: 0.0279 - val_accuracy: 0.9940\n",
            "Epoch 20/30\n",
            "18/18 [==============================] - 0s 12ms/step - loss: 2.7930e-05 - accuracy: 1.0000 - val_loss: 0.0279 - val_accuracy: 0.9940\n",
            "Epoch 21/30\n",
            "18/18 [==============================] - 0s 12ms/step - loss: 2.6425e-05 - accuracy: 1.0000 - val_loss: 0.0281 - val_accuracy: 0.9940\n",
            "Epoch 22/30\n",
            "18/18 [==============================] - 0s 12ms/step - loss: 2.5161e-05 - accuracy: 1.0000 - val_loss: 0.0282 - val_accuracy: 0.9940\n",
            "Epoch 23/30\n",
            "18/18 [==============================] - 0s 12ms/step - loss: 2.3998e-05 - accuracy: 1.0000 - val_loss: 0.0282 - val_accuracy: 0.9940\n",
            "Epoch 24/30\n",
            "18/18 [==============================] - 0s 12ms/step - loss: 2.2882e-05 - accuracy: 1.0000 - val_loss: 0.0282 - val_accuracy: 0.9940\n",
            "Epoch 25/30\n",
            "18/18 [==============================] - 0s 12ms/step - loss: 2.1769e-05 - accuracy: 1.0000 - val_loss: 0.0282 - val_accuracy: 0.9930\n",
            "Epoch 26/30\n",
            "18/18 [==============================] - 0s 12ms/step - loss: 2.0923e-05 - accuracy: 1.0000 - val_loss: 0.0283 - val_accuracy: 0.9930\n",
            "Epoch 27/30\n",
            "18/18 [==============================] - 0s 12ms/step - loss: 2.0044e-05 - accuracy: 1.0000 - val_loss: 0.0283 - val_accuracy: 0.9930\n",
            "Epoch 28/30\n",
            "18/18 [==============================] - 0s 12ms/step - loss: 1.9260e-05 - accuracy: 1.0000 - val_loss: 0.0283 - val_accuracy: 0.9930\n",
            "Epoch 29/30\n",
            "18/18 [==============================] - 0s 12ms/step - loss: 1.8475e-05 - accuracy: 1.0000 - val_loss: 0.0283 - val_accuracy: 0.9930\n",
            "Epoch 30/30\n",
            "18/18 [==============================] - 0s 12ms/step - loss: 1.7826e-05 - accuracy: 1.0000 - val_loss: 0.0284 - val_accuracy: 0.9930\n",
            "finished test set of 10000 - 1000 in 8.8e+01 seconds\n",
            "Epoch 1/30\n",
            "106/106 [==============================] - 1s 12ms/step - loss: 0.0232 - accuracy: 0.9928 - val_loss: 0.0239 - val_accuracy: 0.9947\n",
            "Epoch 2/30\n",
            "106/106 [==============================] - 1s 12ms/step - loss: 0.0065 - accuracy: 0.9980 - val_loss: 0.0320 - val_accuracy: 0.9930\n",
            "Epoch 3/30\n",
            "106/106 [==============================] - 1s 12ms/step - loss: 0.0052 - accuracy: 0.9983 - val_loss: 0.0280 - val_accuracy: 0.9943\n",
            "Epoch 4/30\n",
            "106/106 [==============================] - 1s 12ms/step - loss: 0.0023 - accuracy: 0.9992 - val_loss: 0.0370 - val_accuracy: 0.9928\n",
            "Epoch 5/30\n",
            "106/106 [==============================] - 1s 12ms/step - loss: 0.0017 - accuracy: 0.9993 - val_loss: 0.0383 - val_accuracy: 0.9935\n",
            "Epoch 6/30\n",
            "106/106 [==============================] - 1s 12ms/step - loss: 0.0014 - accuracy: 0.9996 - val_loss: 0.0295 - val_accuracy: 0.9945\n",
            "Epoch 7/30\n",
            "106/106 [==============================] - 1s 12ms/step - loss: 7.1971e-04 - accuracy: 0.9997 - val_loss: 0.0372 - val_accuracy: 0.9938\n",
            "Epoch 8/30\n",
            "106/106 [==============================] - 1s 12ms/step - loss: 0.0020 - accuracy: 0.9993 - val_loss: 0.0470 - val_accuracy: 0.9930\n",
            "Epoch 9/30\n",
            "106/106 [==============================] - 1s 12ms/step - loss: 0.0035 - accuracy: 0.9987 - val_loss: 0.0518 - val_accuracy: 0.9920\n",
            "Epoch 10/30\n",
            "106/106 [==============================] - 1s 12ms/step - loss: 0.0033 - accuracy: 0.9988 - val_loss: 0.0417 - val_accuracy: 0.9920\n",
            "Epoch 11/30\n",
            "106/106 [==============================] - 1s 12ms/step - loss: 0.0046 - accuracy: 0.9985 - val_loss: 0.0405 - val_accuracy: 0.9927\n",
            "Epoch 12/30\n",
            "106/106 [==============================] - 1s 12ms/step - loss: 0.0016 - accuracy: 0.9994 - val_loss: 0.0453 - val_accuracy: 0.9915\n",
            "Epoch 13/30\n",
            "106/106 [==============================] - 1s 12ms/step - loss: 0.0011 - accuracy: 0.9996 - val_loss: 0.0433 - val_accuracy: 0.9935\n",
            "Epoch 14/30\n",
            "106/106 [==============================] - 1s 12ms/step - loss: 3.9424e-04 - accuracy: 0.9999 - val_loss: 0.0417 - val_accuracy: 0.9938\n",
            "Epoch 15/30\n",
            "106/106 [==============================] - 1s 12ms/step - loss: 8.6317e-05 - accuracy: 1.0000 - val_loss: 0.0423 - val_accuracy: 0.9943\n",
            "Epoch 16/30\n",
            "106/106 [==============================] - 1s 12ms/step - loss: 2.6938e-05 - accuracy: 1.0000 - val_loss: 0.0432 - val_accuracy: 0.9947\n",
            "Epoch 17/30\n",
            "106/106 [==============================] - 1s 12ms/step - loss: 2.1913e-05 - accuracy: 1.0000 - val_loss: 0.0436 - val_accuracy: 0.9947\n",
            "Epoch 18/30\n",
            "106/106 [==============================] - 1s 12ms/step - loss: 1.6066e-05 - accuracy: 1.0000 - val_loss: 0.0440 - val_accuracy: 0.9947\n",
            "Epoch 19/30\n",
            "106/106 [==============================] - 1s 12ms/step - loss: 1.3762e-05 - accuracy: 1.0000 - val_loss: 0.0443 - val_accuracy: 0.9945\n",
            "Epoch 20/30\n",
            "106/106 [==============================] - 1s 12ms/step - loss: 1.2169e-05 - accuracy: 1.0000 - val_loss: 0.0447 - val_accuracy: 0.9945\n",
            "Epoch 21/30\n",
            "106/106 [==============================] - 1s 12ms/step - loss: 1.0836e-05 - accuracy: 1.0000 - val_loss: 0.0452 - val_accuracy: 0.9945\n",
            "Epoch 22/30\n",
            "106/106 [==============================] - 1s 12ms/step - loss: 9.6215e-06 - accuracy: 1.0000 - val_loss: 0.0455 - val_accuracy: 0.9943\n",
            "Epoch 23/30\n",
            "106/106 [==============================] - 1s 12ms/step - loss: 8.7056e-06 - accuracy: 1.0000 - val_loss: 0.0458 - val_accuracy: 0.9945\n",
            "Epoch 24/30\n",
            "106/106 [==============================] - 1s 12ms/step - loss: 7.9359e-06 - accuracy: 1.0000 - val_loss: 0.0462 - val_accuracy: 0.9945\n",
            "Epoch 25/30\n",
            "106/106 [==============================] - 1s 12ms/step - loss: 7.2661e-06 - accuracy: 1.0000 - val_loss: 0.0466 - val_accuracy: 0.9943\n",
            "Epoch 26/30\n",
            "106/106 [==============================] - 1s 12ms/step - loss: 6.6077e-06 - accuracy: 1.0000 - val_loss: 0.0469 - val_accuracy: 0.9943\n",
            "Epoch 27/30\n",
            "106/106 [==============================] - 1s 12ms/step - loss: 6.0921e-06 - accuracy: 1.0000 - val_loss: 0.0472 - val_accuracy: 0.9943\n",
            "Epoch 28/30\n",
            "106/106 [==============================] - 1s 12ms/step - loss: 5.6148e-06 - accuracy: 1.0000 - val_loss: 0.0476 - val_accuracy: 0.9943\n",
            "Epoch 29/30\n",
            "106/106 [==============================] - 1s 12ms/step - loss: 5.1560e-06 - accuracy: 1.0000 - val_loss: 0.0478 - val_accuracy: 0.9943\n",
            "Epoch 30/30\n",
            "106/106 [==============================] - 1s 12ms/step - loss: 4.7851e-06 - accuracy: 1.0000 - val_loss: 0.0481 - val_accuracy: 0.9943\n",
            "finished train set of 60000 - 6000 in 3.8e+01 seconds\n",
            "Epoch 1/30\n",
            "74/74 [==============================] - 1s 13ms/step - loss: 0.0235 - accuracy: 0.9938 - val_loss: 0.0123 - val_accuracy: 0.9960\n",
            "Epoch 2/30\n",
            "74/74 [==============================] - 1s 12ms/step - loss: 0.0062 - accuracy: 0.9979 - val_loss: 0.0131 - val_accuracy: 0.9969\n",
            "Epoch 3/30\n",
            "74/74 [==============================] - 1s 12ms/step - loss: 0.0019 - accuracy: 0.9993 - val_loss: 0.0093 - val_accuracy: 0.9971\n",
            "Epoch 4/30\n",
            "74/74 [==============================] - 1s 12ms/step - loss: 7.2428e-04 - accuracy: 0.9998 - val_loss: 0.0069 - val_accuracy: 0.9983\n",
            "Epoch 5/30\n",
            "74/74 [==============================] - 1s 12ms/step - loss: 1.3514e-04 - accuracy: 1.0000 - val_loss: 0.0063 - val_accuracy: 0.9988\n",
            "Epoch 6/30\n",
            "74/74 [==============================] - 1s 12ms/step - loss: 6.6532e-05 - accuracy: 1.0000 - val_loss: 0.0070 - val_accuracy: 0.9986\n",
            "Epoch 7/30\n",
            "74/74 [==============================] - 1s 12ms/step - loss: 4.2069e-05 - accuracy: 1.0000 - val_loss: 0.0070 - val_accuracy: 0.9988\n",
            "Epoch 8/30\n",
            "74/74 [==============================] - 1s 12ms/step - loss: 3.4121e-05 - accuracy: 1.0000 - val_loss: 0.0069 - val_accuracy: 0.9988\n",
            "Epoch 9/30\n",
            "74/74 [==============================] - 1s 12ms/step - loss: 2.8682e-05 - accuracy: 1.0000 - val_loss: 0.0070 - val_accuracy: 0.9988\n",
            "Epoch 10/30\n",
            "74/74 [==============================] - 1s 12ms/step - loss: 2.4932e-05 - accuracy: 1.0000 - val_loss: 0.0069 - val_accuracy: 0.9988\n",
            "Epoch 11/30\n",
            "74/74 [==============================] - 1s 12ms/step - loss: 2.1970e-05 - accuracy: 1.0000 - val_loss: 0.0070 - val_accuracy: 0.9988\n",
            "Epoch 12/30\n",
            "74/74 [==============================] - 1s 12ms/step - loss: 1.9567e-05 - accuracy: 1.0000 - val_loss: 0.0070 - val_accuracy: 0.9988\n",
            "Epoch 13/30\n",
            "74/74 [==============================] - 1s 12ms/step - loss: 1.7466e-05 - accuracy: 1.0000 - val_loss: 0.0071 - val_accuracy: 0.9988\n",
            "Epoch 14/30\n",
            "74/74 [==============================] - 1s 12ms/step - loss: 1.5691e-05 - accuracy: 1.0000 - val_loss: 0.0071 - val_accuracy: 0.9988\n",
            "Epoch 15/30\n",
            "74/74 [==============================] - 1s 12ms/step - loss: 1.4317e-05 - accuracy: 1.0000 - val_loss: 0.0071 - val_accuracy: 0.9988\n",
            "Epoch 16/30\n",
            "74/74 [==============================] - 1s 12ms/step - loss: 1.3044e-05 - accuracy: 1.0000 - val_loss: 0.0072 - val_accuracy: 0.9988\n",
            "Epoch 17/30\n",
            "74/74 [==============================] - 1s 12ms/step - loss: 1.1955e-05 - accuracy: 1.0000 - val_loss: 0.0072 - val_accuracy: 0.9988\n",
            "Epoch 18/30\n",
            "74/74 [==============================] - 1s 12ms/step - loss: 1.0983e-05 - accuracy: 1.0000 - val_loss: 0.0072 - val_accuracy: 0.9988\n",
            "Epoch 19/30\n",
            "74/74 [==============================] - 1s 12ms/step - loss: 1.0185e-05 - accuracy: 1.0000 - val_loss: 0.0072 - val_accuracy: 0.9988\n",
            "Epoch 20/30\n",
            "74/74 [==============================] - 1s 12ms/step - loss: 9.3950e-06 - accuracy: 1.0000 - val_loss: 0.0072 - val_accuracy: 0.9988\n",
            "Epoch 21/30\n",
            "74/74 [==============================] - 1s 12ms/step - loss: 8.7479e-06 - accuracy: 1.0000 - val_loss: 0.0073 - val_accuracy: 0.9988\n",
            "Epoch 22/30\n",
            "74/74 [==============================] - 1s 12ms/step - loss: 8.0936e-06 - accuracy: 1.0000 - val_loss: 0.0073 - val_accuracy: 0.9988\n",
            "Epoch 23/30\n",
            "74/74 [==============================] - 1s 12ms/step - loss: 7.5561e-06 - accuracy: 1.0000 - val_loss: 0.0074 - val_accuracy: 0.9988\n",
            "Epoch 24/30\n",
            "74/74 [==============================] - 1s 12ms/step - loss: 7.0745e-06 - accuracy: 1.0000 - val_loss: 0.0074 - val_accuracy: 0.9988\n",
            "Epoch 25/30\n",
            "74/74 [==============================] - 1s 12ms/step - loss: 6.5817e-06 - accuracy: 1.0000 - val_loss: 0.0074 - val_accuracy: 0.9988\n",
            "Epoch 26/30\n",
            "74/74 [==============================] - 1s 12ms/step - loss: 6.1590e-06 - accuracy: 1.0000 - val_loss: 0.0074 - val_accuracy: 0.9988\n",
            "Epoch 27/30\n",
            "74/74 [==============================] - 1s 12ms/step - loss: 5.8027e-06 - accuracy: 1.0000 - val_loss: 0.0074 - val_accuracy: 0.9988\n",
            "Epoch 28/30\n",
            "74/74 [==============================] - 1s 12ms/step - loss: 5.4109e-06 - accuracy: 1.0000 - val_loss: 0.0075 - val_accuracy: 0.9988\n",
            "Epoch 29/30\n",
            "74/74 [==============================] - 1s 12ms/step - loss: 5.1142e-06 - accuracy: 1.0000 - val_loss: 0.0075 - val_accuracy: 0.9988\n",
            "Epoch 30/30\n",
            "74/74 [==============================] - 1s 12ms/step - loss: 4.7770e-06 - accuracy: 1.0000 - val_loss: 0.0075 - val_accuracy: 0.9988\n",
            "finished test set of 42000 - 4200 in 2.8e+01 seconds\n",
            "\n",
            "Total time: 1.5e+02 seconds\n"
          ],
          "name": "stdout"
        }
      ]
    },
    {
      "cell_type": "code",
      "metadata": {
        "id": "7G_xeZOVFICr",
        "colab": {
          "base_uri": "https://localhost:8080/"
        },
        "outputId": "0662fa11-eace-4136-8953-9fd0e2ccb36b"
      },
      "source": [
        "convoluter.evaluate(x=x_test_norm,y=y_test, batch_size=batch_size)"
      ],
      "execution_count": 13,
      "outputs": [
        {
          "output_type": "stream",
          "text": [
            "20/20 [==============================] - 0s 5ms/step - loss: 0.0086 - accuracy: 0.9984\n"
          ],
          "name": "stdout"
        },
        {
          "output_type": "execute_result",
          "data": {
            "text/plain": [
              "[0.008643372915685177, 0.9983999729156494]"
            ]
          },
          "metadata": {
            "tags": []
          },
          "execution_count": 13
        }
      ]
    },
    {
      "cell_type": "code",
      "metadata": {
        "id": "nj3v5EKQFY8s",
        "cellView": "both"
      },
      "source": [
        "# The adjustable \"hyperparameters\" for the model\n",
        "dense_NN = create_DNN(learning_rate)\n",
        " \n",
        "# TRAIN:\n",
        "epochs_DNN, hist_DNN = train_model(dense_NN, x_train_norm, y_train, \n",
        "                                    epochs, batch_size, validation_split)\n",
        "epochs_DNN, hist_DNN = train_model(dense_NN, k_train_norm, k_answers, \n",
        "                                    epochs, batch_size, validation_split)\n",
        "epochs_DNN, hist_DNN = train_model(dense_NN, k_train_norm, k_answers, \n",
        "                                    epochs, batch_size, validation_split)\n",
        "\n",
        "# EVALUATE AGAINST THE TEST SET:\n",
        "print(\"\\n Evaluate the new model against the test set:\")\n",
        "dense_NN.evaluate(x=x_test_norm, \n",
        "                  y=y_test, \n",
        "                  batch_size=batch_size)"
      ],
      "execution_count": null,
      "outputs": []
    },
    {
      "cell_type": "code",
      "metadata": {
        "id": "PXsQXrv3pCM3"
      },
      "source": [
        "dense_NN.evaluate(x=x_train_norm, y=y_train, batch_size=batch_size)"
      ],
      "execution_count": null,
      "outputs": []
    },
    {
      "cell_type": "code",
      "metadata": {
        "id": "1p1IIO1LFGb-",
        "colab": {
          "base_uri": "https://localhost:8080/"
        },
        "outputId": "0b33e853-d3fd-42b1-add6-c6fff9a6b6e4"
      },
      "source": [
        "dense_NN.evaluate(x=x_test_norm,y=y_test, batch_size=batch_size)"
      ],
      "execution_count": 45,
      "outputs": [
        {
          "output_type": "stream",
          "text": [
            "20/20 [==============================] - 0s 2ms/step - loss: 0.0433 - accuracy: 0.9907\n"
          ],
          "name": "stdout"
        },
        {
          "output_type": "execute_result",
          "data": {
            "text/plain": [
              "[0.043288663029670715, 0.9907000064849854]"
            ]
          },
          "metadata": {
            "tags": []
          },
          "execution_count": 45
        }
      ]
    },
    {
      "cell_type": "code",
      "metadata": {
        "id": "Ss4AlURU4Om8",
        "colab": {
          "base_uri": "https://localhost:8080/",
          "height": 453
        },
        "outputId": "d4c1d8a2-2a7e-48b6-a49c-9632635dc093"
      },
      "source": [
        "def getKaggles():  \n",
        "    kaggles = pd.DataFrame(columns=['ImageId','Label'])  \n",
        "    predicts = convoluter.predict(kaggle_norm)\n",
        "    for j in range(len(kaggle_norm)):\n",
        "        probs = predicts[j] # one row of 10 probabilities \n",
        "        max_id = np.argmax(probs)   # index of top probability in row\n",
        "        kaggles.at[j,'ImageId'] = j+1\n",
        "        kaggles.at[j,'Label'] = max_id\n",
        "\n",
        "    return kaggles\n",
        "print(\"Loaded function getKaggles.\")\n",
        "print(\"Getting answers...\" )\n",
        "\n",
        "# LOAD UP ALL THE GUESSES (W/ PROBABILITES) FOR \n",
        "# EACH EXAMPLE IMAGE IN THE NORMALIZED TEST SET\n",
        "kaggles = getKaggles()\n",
        "kaggles"
      ],
      "execution_count": 19,
      "outputs": [
        {
          "output_type": "stream",
          "text": [
            "Loaded function getKaggles.\n",
            "Getting answers...\n"
          ],
          "name": "stdout"
        },
        {
          "output_type": "execute_result",
          "data": {
            "text/html": [
              "<div>\n",
              "<style scoped>\n",
              "    .dataframe tbody tr th:only-of-type {\n",
              "        vertical-align: middle;\n",
              "    }\n",
              "\n",
              "    .dataframe tbody tr th {\n",
              "        vertical-align: top;\n",
              "    }\n",
              "\n",
              "    .dataframe thead th {\n",
              "        text-align: right;\n",
              "    }\n",
              "</style>\n",
              "<table border=\"1\" class=\"dataframe\">\n",
              "  <thead>\n",
              "    <tr style=\"text-align: right;\">\n",
              "      <th></th>\n",
              "      <th>ImageId</th>\n",
              "      <th>Label</th>\n",
              "    </tr>\n",
              "  </thead>\n",
              "  <tbody>\n",
              "    <tr>\n",
              "      <th>0</th>\n",
              "      <td>1</td>\n",
              "      <td>2</td>\n",
              "    </tr>\n",
              "    <tr>\n",
              "      <th>1</th>\n",
              "      <td>2</td>\n",
              "      <td>0</td>\n",
              "    </tr>\n",
              "    <tr>\n",
              "      <th>2</th>\n",
              "      <td>3</td>\n",
              "      <td>9</td>\n",
              "    </tr>\n",
              "    <tr>\n",
              "      <th>3</th>\n",
              "      <td>4</td>\n",
              "      <td>9</td>\n",
              "    </tr>\n",
              "    <tr>\n",
              "      <th>4</th>\n",
              "      <td>5</td>\n",
              "      <td>3</td>\n",
              "    </tr>\n",
              "    <tr>\n",
              "      <th>...</th>\n",
              "      <td>...</td>\n",
              "      <td>...</td>\n",
              "    </tr>\n",
              "    <tr>\n",
              "      <th>27995</th>\n",
              "      <td>27996</td>\n",
              "      <td>9</td>\n",
              "    </tr>\n",
              "    <tr>\n",
              "      <th>27996</th>\n",
              "      <td>27997</td>\n",
              "      <td>7</td>\n",
              "    </tr>\n",
              "    <tr>\n",
              "      <th>27997</th>\n",
              "      <td>27998</td>\n",
              "      <td>3</td>\n",
              "    </tr>\n",
              "    <tr>\n",
              "      <th>27998</th>\n",
              "      <td>27999</td>\n",
              "      <td>9</td>\n",
              "    </tr>\n",
              "    <tr>\n",
              "      <th>27999</th>\n",
              "      <td>28000</td>\n",
              "      <td>2</td>\n",
              "    </tr>\n",
              "  </tbody>\n",
              "</table>\n",
              "<p>28000 rows × 2 columns</p>\n",
              "</div>"
            ],
            "text/plain": [
              "      ImageId Label\n",
              "0           1     2\n",
              "1           2     0\n",
              "2           3     9\n",
              "3           4     9\n",
              "4           5     3\n",
              "...       ...   ...\n",
              "27995   27996     9\n",
              "27996   27997     7\n",
              "27997   27998     3\n",
              "27998   27999     9\n",
              "27999   28000     2\n",
              "\n",
              "[28000 rows x 2 columns]"
            ]
          },
          "metadata": {
            "tags": []
          },
          "execution_count": 19
        }
      ]
    },
    {
      "cell_type": "code",
      "metadata": {
        "id": "wXDkSujsBtKu"
      },
      "source": [
        "kaggles.to_csv('submission.csv', columns=[\"ImageId\",\"Label\"], index=False) #"
      ],
      "execution_count": 20,
      "outputs": []
    },
    {
      "cell_type": "code",
      "metadata": {
        "id": "2y_vqIFK4joK"
      },
      "source": [
        "g = pd.read_csv('/content/submission.csv')"
      ],
      "execution_count": 21,
      "outputs": []
    },
    {
      "cell_type": "code",
      "metadata": {
        "id": "VOVdPA-L4q5g"
      },
      "source": [
        "s1 = pd.read_csv('/content/submission1.csv', index_col=\"ImageId\")#header=None, "
      ],
      "execution_count": 59,
      "outputs": []
    },
    {
      "cell_type": "code",
      "metadata": {
        "colab": {
          "base_uri": "https://localhost:8080/",
          "height": 419
        },
        "id": "tQHRriJL7vhK",
        "outputId": "fbc7ed64-7f22-46b0-d3fb-411ab738a52e"
      },
      "source": [
        "g"
      ],
      "execution_count": 22,
      "outputs": [
        {
          "output_type": "execute_result",
          "data": {
            "text/html": [
              "<div>\n",
              "<style scoped>\n",
              "    .dataframe tbody tr th:only-of-type {\n",
              "        vertical-align: middle;\n",
              "    }\n",
              "\n",
              "    .dataframe tbody tr th {\n",
              "        vertical-align: top;\n",
              "    }\n",
              "\n",
              "    .dataframe thead th {\n",
              "        text-align: right;\n",
              "    }\n",
              "</style>\n",
              "<table border=\"1\" class=\"dataframe\">\n",
              "  <thead>\n",
              "    <tr style=\"text-align: right;\">\n",
              "      <th></th>\n",
              "      <th>ImageId</th>\n",
              "      <th>Label</th>\n",
              "    </tr>\n",
              "  </thead>\n",
              "  <tbody>\n",
              "    <tr>\n",
              "      <th>0</th>\n",
              "      <td>1</td>\n",
              "      <td>2</td>\n",
              "    </tr>\n",
              "    <tr>\n",
              "      <th>1</th>\n",
              "      <td>2</td>\n",
              "      <td>0</td>\n",
              "    </tr>\n",
              "    <tr>\n",
              "      <th>2</th>\n",
              "      <td>3</td>\n",
              "      <td>9</td>\n",
              "    </tr>\n",
              "    <tr>\n",
              "      <th>3</th>\n",
              "      <td>4</td>\n",
              "      <td>9</td>\n",
              "    </tr>\n",
              "    <tr>\n",
              "      <th>4</th>\n",
              "      <td>5</td>\n",
              "      <td>3</td>\n",
              "    </tr>\n",
              "    <tr>\n",
              "      <th>...</th>\n",
              "      <td>...</td>\n",
              "      <td>...</td>\n",
              "    </tr>\n",
              "    <tr>\n",
              "      <th>27995</th>\n",
              "      <td>27996</td>\n",
              "      <td>9</td>\n",
              "    </tr>\n",
              "    <tr>\n",
              "      <th>27996</th>\n",
              "      <td>27997</td>\n",
              "      <td>7</td>\n",
              "    </tr>\n",
              "    <tr>\n",
              "      <th>27997</th>\n",
              "      <td>27998</td>\n",
              "      <td>3</td>\n",
              "    </tr>\n",
              "    <tr>\n",
              "      <th>27998</th>\n",
              "      <td>27999</td>\n",
              "      <td>9</td>\n",
              "    </tr>\n",
              "    <tr>\n",
              "      <th>27999</th>\n",
              "      <td>28000</td>\n",
              "      <td>2</td>\n",
              "    </tr>\n",
              "  </tbody>\n",
              "</table>\n",
              "<p>28000 rows × 2 columns</p>\n",
              "</div>"
            ],
            "text/plain": [
              "       ImageId  Label\n",
              "0            1      2\n",
              "1            2      0\n",
              "2            3      9\n",
              "3            4      9\n",
              "4            5      3\n",
              "...        ...    ...\n",
              "27995    27996      9\n",
              "27996    27997      7\n",
              "27997    27998      3\n",
              "27998    27999      9\n",
              "27999    28000      2\n",
              "\n",
              "[28000 rows x 2 columns]"
            ]
          },
          "metadata": {
            "tags": []
          },
          "execution_count": 22
        }
      ]
    },
    {
      "cell_type": "code",
      "metadata": {
        "id": "wZGqr6PSFZg4",
        "colab": {
          "base_uri": "https://localhost:8080/",
          "height": 282
        },
        "outputId": "bb83e469-f579-4588-e586-e28540343817"
      },
      "source": [
        "dig = kaggle.iloc[3]\n",
        "dig = np.reshape(list(dig),(28,28))\n",
        "plt.imshow(dig)"
      ],
      "execution_count": 48,
      "outputs": [
        {
          "output_type": "execute_result",
          "data": {
            "text/plain": [
              "<matplotlib.image.AxesImage at 0x7f1a246316a0>"
            ]
          },
          "metadata": {
            "tags": []
          },
          "execution_count": 48
        },
        {
          "output_type": "display_data",
          "data": {
            "image/png": "[encoded data removed]",
            "text/plain": [
              "<Figure size 432x288 with 1 Axes>"
            ]
          },
          "metadata": {
            "tags": [],
            "needs_background": "light"
          }
        }
      ]
    },
    {
      "cell_type": "markdown",
      "metadata": {
        "id": "9H7W-OKHUnsp"
      },
      "source": [
        "##Visualizations"
      ]
    },
    {
      "cell_type": "code",
      "metadata": {
        "id": "N6QCoQqRvRfb",
        "colab": {
          "base_uri": "https://localhost:8080/",
          "height": 282
        },
        "outputId": "024760b8-e478-43d5-cc84-4621159a5776"
      },
      "source": [
        "# Plot a graph of the 'accuracy' metric vs. epochs:\n",
        "plt.plot(range(epochs),hist_DNN[\"accuracy\"])\n",
        "plt.plot(range(epochs),hist_DNN[\"val_accuracy\"])\n",
        "plt.plot(range(epochs),hist_CNN[\"accuracy\"])\n",
        "plt.plot(range(epochs),hist_CNN[\"val_accuracy\"])"
      ],
      "execution_count": null,
      "outputs": [
        {
          "output_type": "execute_result",
          "data": {
            "text/plain": [
              "[<matplotlib.lines.Line2D at 0x7f796bb2d9b0>]"
            ]
          },
          "metadata": {
            "tags": []
          },
          "execution_count": 52
        },
        {
          "output_type": "display_data",
          "data": {
            "image/png": "[encoded data removed]",
            "text/plain": [
              "<Figure size 432x288 with 1 Axes>"
            ]
          },
          "metadata": {
            "tags": [],
            "needs_background": "light"
          }
        }
      ]
    }
  ]
}