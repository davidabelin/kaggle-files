{
  "nbformat": 4,
  "nbformat_minor": 0,
  "metadata": {
    "kernelspec": {
      "name": "python3",
      "display_name": "Python 3",
      "language": "python"
    },
    "language_info": {
      "name": "python",
      "version": "3.7.6",
      "mimetype": "text/x-python",
      "codemirror_mode": {
        "name": "ipython",
        "version": 3
      },
      "pygments_lexer": "ipython3",
      "nbconvert_exporter": "python",
      "file_extension": ".py"
    },
    "colab": {
      "name": "autoencoders.ipynb",
      "provenance": [],
      "machine_shape": "hm"
    },
    "accelerator": "GPU"
  },
  "cells": [
    {
      "cell_type": "markdown",
      "metadata": {
        "id": "FTdMDuYlXqWm"
      },
      "source": [
        "Copy of [this notebook by Mehdi at Kaggle](https://www.kaggle.com/mehdi83/autoencoders)"
      ]
    },
    {
      "cell_type": "code",
      "metadata": {
        "_uuid": "8f2839f25d086af736a60e9eeb907d3b93b6e0e5",
        "_cell_guid": "b1076dfc-b9ad-4769-8c92-a6c4dae69d19",
        "trusted": true,
        "id": "pi9iB3TRXqWn"
      },
      "source": [
        "import numpy as np\n",
        "import pandas as pd \n",
        "\n",
        "import numpy as np\n",
        "np.random.seed(13)\n",
        "from keras.datasets import mnist\n",
        "from keras.models import Model\n",
        "from keras.layers import Input, Dense, Conv2D, Conv2DTranspose, Dropout, Flatten\n",
        "from keras.utils import np_utils\n",
        "from keras import backend as K\n",
        "\n",
        "from matplotlib import pyplot as plt\n",
        "%matplotlib inline\n",
        "import os\n",
        "print(os.listdir(\"../content/sample_data\"))"
      ],
      "execution_count": null,
      "outputs": []
    },
    {
      "cell_type": "code",
      "metadata": {
        "_cell_guid": "79c7e3d0-c299-4dcb-8224-4455121ee9b0",
        "_uuid": "d629ff2d2480ee46fbb7e2d37f6b5fab8052498a",
        "trusted": true,
        "id": "xTLkLGIVXqWp"
      },
      "source": [
        "train = pd.read_csv(\"../content/sample_data/mnist_train_small.csv\")\n",
        "test = pd.read_csv(\"../content/sample_data/mnist_test.csv\")"
      ],
      "execution_count": null,
      "outputs": []
    },
    {
      "cell_type": "code",
      "metadata": {
        "trusted": true,
        "_uuid": "8ca346b91c9994f33984c309e45d56a54cb00438",
        "id": "E9iU2UfQXqWp"
      },
      "source": [
        "x_train = (train.iloc[:,1:].values).astype('float32') # all pixel values\n",
        "y_train = train.iloc[:,0].values.astype('int32') # only labels i.e targets digits\n",
        "x_test = (test.iloc[:,1:].values).astype('float32')\n",
        "y_test = test.iloc[:,0].values.astype('int32')"
      ],
      "execution_count": null,
      "outputs": []
    },
    {
      "cell_type": "code",
      "metadata": {
        "trusted": true,
        "_uuid": "53f820dd264250ec65041782939f8d1e6b5ec08a",
        "id": "5RUWC-pwXqWp"
      },
      "source": [
        "def draw_digit(data, row, col, n):\n",
        "    size = int(np.sqrt(data.shape[0]))\n",
        "    plt.subplot(row, col, n)    \n",
        "    plt.imshow(data.reshape(size, size))\n",
        "    plt.gray()"
      ],
      "execution_count": null,
      "outputs": []
    },
    {
      "cell_type": "code",
      "metadata": {
        "trusted": true,
        "_uuid": "bcb71bff4a561f6d7c61188d373edcaade2faee0",
        "id": "QlsLdRVsXqWp"
      },
      "source": [
        "input_unit_size = 28*28\n",
        "x_train = x_train.reshape(x_train.shape[0], input_unit_size)\n",
        "x_train = x_train.astype('float32')\n",
        "x_train /= 255"
      ],
      "execution_count": null,
      "outputs": []
    },
    {
      "cell_type": "code",
      "metadata": {
        "trusted": true,
        "_uuid": "d9c12d630102d6761f701e33583804956d963ea3",
        "id": "dV3cDJl1XqWq"
      },
      "source": [
        "inputs = Input(shape=(input_unit_size,))\n",
        "x = Dense(144, activation='relu')(inputs)\n",
        "outputs = Dense(input_unit_size)(x)\n",
        "model = Model(inputs=inputs, outputs=outputs)\n",
        "model.compile(loss='binary_crossentropy', optimizer='adadelta')"
      ],
      "execution_count": null,
      "outputs": []
    },
    {
      "cell_type": "code",
      "metadata": {
        "trusted": true,
        "_uuid": "6f3d8b0a782d5c3c9ba4ff82edb40a675b5154dd",
        "id": "eQKcajV7XqWq"
      },
      "source": [
        "model.fit(x_train, x_train, epochs=10, batch_size=256)"
      ],
      "execution_count": null,
      "outputs": []
    },
    {
      "cell_type": "code",
      "metadata": {
        "trusted": true,
        "_uuid": "9a297bba7b45b8cae05003d579543b7a33160e38",
        "id": "FP4XnVQUXqWq"
      },
      "source": [
        "show_size = 10\n",
        "total = 0\n",
        "plt.figure(figsize=(20, 20))\n",
        "for i in range(show_size):\n",
        "    for j in range(show_size):    \n",
        "        draw_digit(x_train[total], show_size, show_size, total+1)\n",
        "        total+=1\n",
        "plt.show()"
      ],
      "execution_count": null,
      "outputs": []
    },
    {
      "cell_type": "code",
      "metadata": {
        "trusted": true,
        "_uuid": "09d7bfc719c90db598a8bb23b7e0dcdd8ddbd482",
        "id": "3pLVqjtQXqWq"
      },
      "source": [
        "get_layer_output = K.function([model.layers[0].input],\n",
        "                              [model.layers[1].output])\n",
        "\n",
        "hidden_outputs = get_layer_output([x_train[0:show_size**2]])[0]\n",
        "\n",
        "total = 0\n",
        "plt.figure(figsize=(20, 20))\n",
        "for i in range(show_size):\n",
        "    for j in range(show_size):    \n",
        "        draw_digit(hidden_outputs[total], show_size, show_size, total+1)\n",
        "        total+=1\n",
        "plt.show()"
      ],
      "execution_count": null,
      "outputs": []
    },
    {
      "cell_type": "code",
      "metadata": {
        "trusted": true,
        "_uuid": "f598086a4f21444a74d8e2e0e8b1c2cb83b69608",
        "id": "7TBDv79mXqWq"
      },
      "source": [
        "get_layer_output = K.function([model.layers[0].input],\n",
        "                              [model.layers[2].output])\n",
        "\n",
        "last_outputs = get_layer_output([x_train[0:show_size**2]])[0]\n",
        "\n",
        "total = 0\n",
        "plt.figure(figsize=(20, 20))\n",
        "for i in range(show_size):\n",
        "    for j in range(show_size):    \n",
        "        draw_digit(last_outputs[total], show_size, show_size, total+1)\n",
        "        total+=1\n",
        "plt.show()"
      ],
      "execution_count": null,
      "outputs": []
    },
    {
      "cell_type": "code",
      "metadata": {
        "trusted": true,
        "_uuid": "af7210a37f4e2f32e64717ecc9022024d68d1da8",
        "id": "CmpGrwHtXqWq"
      },
      "source": [
        "encoding_dim = 32\n",
        "\n",
        "input_img = Input(shape=(784,))\n",
        "encoded = Dense(128, activation='relu')(input_img)\n",
        "encoded = Dense(64, activation='relu')(encoded)\n",
        "\n",
        "encoded = Dense(encoding_dim, activation='relu')(encoded)\n",
        "\n",
        "decoded = Dense(64, activation='relu')(encoded)\n",
        "decoded = Dense(128, activation='relu')(decoded)\n",
        "decoded = Dense(784, activation='sigmoid')(decoded)"
      ],
      "execution_count": null,
      "outputs": []
    },
    {
      "cell_type": "code",
      "metadata": {
        "trusted": true,
        "_uuid": "d4848f4428ec458692f27fba6d03abd44ff919ef",
        "id": "xyLctSqjXqWq"
      },
      "source": [
        "x_train = x_train.reshape((len(x_train), np.prod(x_train.shape[1:])))\n",
        "x_test = x_test.reshape((len(x_test), np.prod(x_test.shape[1:])))\n",
        "print(x_train.shape)\n",
        "print(x_test.shape)"
      ],
      "execution_count": null,
      "outputs": []
    },
    {
      "cell_type": "code",
      "metadata": {
        "trusted": true,
        "_uuid": "9b0a4b1c573125bf1718a366b8be377700b7f00b",
        "id": "ZXu4-wcPXqWq"
      },
      "source": [
        "# Model compilation\n",
        "autoencoder = Model(inputs=(input_img), outputs=(decoded))\n",
        "autoencoder.summary()"
      ],
      "execution_count": null,
      "outputs": []
    },
    {
      "cell_type": "code",
      "metadata": {
        "trusted": true,
        "_uuid": "4ea9bec8cbe35cdbcfa14d0246f266a22b254e62",
        "id": "AlUeDMT8XqWq"
      },
      "source": [
        "encoder = Model(inputs=input_img, outputs=encoded)\n",
        "\n",
        "encoded_input = Input(shape=(encoding_dim,))\n",
        "\n",
        "decoder1 = autoencoder.layers[-3]\n",
        "decoder2 = autoencoder.layers[-2]\n",
        "decoder3 = autoencoder.layers[-1]\n",
        "\n",
        "decoder = Model(inputs=encoded_input, outputs=decoder3(decoder2(decoder1(encoded_input))))\n",
        "\n",
        "autoencoder.compile(optimizer='adam', loss='binary_crossentropy')"
      ],
      "execution_count": null,
      "outputs": []
    },
    {
      "cell_type": "code",
      "metadata": {
        "trusted": true,
        "_uuid": "58c8a28becb14a4b48b72e1a22b4159f80ec259a",
        "id": "b1kz53AOXqWq"
      },
      "source": [
        "autoencoder.fit(x_train, x_train,\n",
        "                epochs=20,\n",
        "                batch_size=256,\n",
        "                shuffle=True,\n",
        "                validation_data=(x_test, x_test))"
      ],
      "execution_count": null,
      "outputs": []
    },
    {
      "cell_type": "code",
      "metadata": {
        "trusted": true,
        "_uuid": "9738193aac48f993aa9029a54573c29f11218210",
        "id": "LlcvldvtXqWq"
      },
      "source": [
        "encoded_imgs = encoder.predict(x_test)\n",
        "decoded_imgs = decoder.predict(encoded_imgs)\n",
        "\n",
        "n = 10  \n",
        "plt.figure(figsize=(20, 4))\n",
        "for i in range(n):\n",
        "\n",
        "    ax = plt.subplot(2, n, i + 1)\n",
        "    plt.imshow(x_test[i].reshape(28, 28))\n",
        "    plt.gray()\n",
        "    ax.get_xaxis().set_visible(False)\n",
        "    ax.get_yaxis().set_visible(False)\n",
        "\n",
        "    ax = plt.subplot(2, n, i + 1 + n)\n",
        "    plt.imshow(decoded_imgs[i].reshape(28, 28))\n",
        "    plt.gray()\n",
        "    ax.get_xaxis().set_visible(False)\n",
        "    ax.get_yaxis().set_visible(False)\n",
        "plt.show()"
      ],
      "execution_count": null,
      "outputs": []
    }
  ]
}