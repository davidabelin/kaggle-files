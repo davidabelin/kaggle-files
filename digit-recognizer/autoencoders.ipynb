{
  "nbformat": 4,
  "nbformat_minor": 0,
  "metadata": {
    "kernelspec": {
      "name": "python3",
      "display_name": "Python 3",
      "language": "python"
    },
    "language_info": {
      "name": "python",
      "version": "3.7.6",
      "mimetype": "text/x-python",
      "codemirror_mode": {
        "name": "ipython",
        "version": 3
      },
      "pygments_lexer": "ipython3",
      "nbconvert_exporter": "python",
      "file_extension": ".py"
    },
    "colab": {
      "name": "autoencoders.ipynb",
      "provenance": [],
      "machine_shape": "hm"
    },
    "accelerator": "GPU"
  },
  "cells": [
    {
      "cell_type": "markdown",
      "metadata": {
        "id": "FTdMDuYlXqWm"
      },
      "source": [
        "Copy of [this notebook by Mehdi at Kaggle](https://www.kaggle.com/mehdi83/autoencoders)"
      ]
    },
    {
      "cell_type": "code",
      "metadata": {
        "_uuid": "8f2839f25d086af736a60e9eeb907d3b93b6e0e5",
        "_cell_guid": "b1076dfc-b9ad-4769-8c92-a6c4dae69d19",
        "trusted": true,
        "id": "pi9iB3TRXqWn"
      },
      "source": [
        "import numpy as np\n",
        "import pandas as pd \n",
        "\n",
        "import numpy as np\n",
        "np.random.seed(13)\n",
        "from keras.datasets import mnist\n",
        "from keras.models import Model\n",
        "from keras.layers import Input, Dense, Conv2D, Conv2DTranspose, MaxPooling2D\n",
        "from keras.layers import Dropout, Flatten, UpSampling2D, Reshape\n",
        "from keras.utils import np_utils\n",
        "from keras import backend as K\n",
        "\n",
        "from matplotlib import pyplot as plt\n",
        "from matplotlib import colors\n",
        "%matplotlib inline\n",
        "import os"
      ],
      "execution_count": 2,
      "outputs": []
    },
    {
      "cell_type": "code",
      "metadata": {
        "_cell_guid": "79c7e3d0-c299-4dcb-8224-4455121ee9b0",
        "_uuid": "d629ff2d2480ee46fbb7e2d37f6b5fab8052498a",
        "trusted": true,
        "id": "xTLkLGIVXqWp"
      },
      "source": [
        "train = pd.read_csv(\"../content/sample_data/mnist_train_small.csv\")\n",
        "test = pd.read_csv(\"../content/sample_data/mnist_test.csv\")"
      ],
      "execution_count": 3,
      "outputs": []
    },
    {
      "cell_type": "code",
      "metadata": {
        "trusted": true,
        "_uuid": "8ca346b91c9994f33984c309e45d56a54cb00438",
        "id": "E9iU2UfQXqWp"
      },
      "source": [
        "x_train = (train.iloc[:,1:].values).astype('float32') # all pixel values\n",
        "y_train = train.iloc[:,0].values.astype('int32') # only labels i.e targets digits\n",
        "x_test = (test.iloc[:,1:].values).astype('float32')\n",
        "y_test = test.iloc[:,0].values.astype('int32')"
      ],
      "execution_count": 4,
      "outputs": []
    },
    {
      "cell_type": "code",
      "metadata": {
        "trusted": true,
        "_uuid": "53f820dd264250ec65041782939f8d1e6b5ec08a",
        "id": "5RUWC-pwXqWp"
      },
      "source": [
        "def draw_digit(data, row, col, n):\n",
        "    size = int(np.sqrt(data.shape[0]))\n",
        "    plt.subplot(row, col, n)    \n",
        "    plt.imshow(data.reshape(size, size),cmap=\"viridis\")\n",
        "    #plt.gray()"
      ],
      "execution_count": 5,
      "outputs": []
    },
    {
      "cell_type": "code",
      "metadata": {
        "trusted": true,
        "_uuid": "bcb71bff4a561f6d7c61188d373edcaade2faee0",
        "id": "QlsLdRVsXqWp"
      },
      "source": [
        "input_unit_size = 28*28\n",
        "x_train = x_train.reshape(x_train.shape[0], input_unit_size)\n",
        "x_train = x_train.astype('float32')\n",
        "x_train /= 255"
      ],
      "execution_count": 6,
      "outputs": []
    },
    {
      "cell_type": "code",
      "metadata": {
        "trusted": true,
        "_uuid": "d9c12d630102d6761f701e33583804956d963ea3",
        "id": "dV3cDJl1XqWq"
      },
      "source": [
        "# Basic no frills model\n",
        "inputs = Input(shape=(input_unit_size,))\n",
        "x = Dense(144, activation='relu')(inputs)\n",
        "outputs = Dense(input_unit_size)(x)\n",
        "model = Model(inputs=inputs, outputs=outputs)\n",
        "model.compile(loss='binary_crossentropy', optimizer='adadelta')"
      ],
      "execution_count": 7,
      "outputs": []
    },
    {
      "cell_type": "code",
      "metadata": {
        "id": "mhEUk2uIS_yA"
      },
      "source": [
        "# Basic some frills model\r\n",
        "inputs = Input(shape=(input_unit_size,))\r\n",
        "x = Reshape((28,28,1))(inputs)\r\n",
        "x = Conv2D(64, 4, activation=\"relu\",padding=\"same\")(x)\r\n",
        "x = MaxPooling2D(2)(x)\r\n",
        "x = Conv2D(128, 2, activation=\"relu\",padding=\"same\")(x)\r\n",
        "x = MaxPooling2D(2)(x)\r\n",
        "\r\n",
        "#x = Flatten()(x)\r\n",
        "#\r\n",
        "\r\n",
        "x = UpSampling2D(2)(x)\r\n",
        "x = Conv2DTranspose(128, 2, activation=\"relu\",padding=\"same\")(x)\r\n",
        "x = UpSampling2D(2)(x)\r\n",
        "x = Conv2DTranspose(64, 4, activation=\"relu\",padding=\"same\")(x)\r\n",
        "x = Flatten()(x)\r\n",
        "outputs =  Dense(input_unit_size, activation=\"relu\")(x)\r\n",
        "#outputs = Reshape((28,28,1))(x)\r\n",
        "\r\n",
        "model_transpose = Model(inputs=inputs, outputs=outputs)\r\n",
        "model_transpose.compile(loss='binary_crossentropy', optimizer='adadelta')"
      ],
      "execution_count": 42,
      "outputs": []
    },
    {
      "cell_type": "code",
      "metadata": {
        "colab": {
          "base_uri": "https://localhost:8080/"
        },
        "id": "PqeZml50YyWb",
        "outputId": "a76b2008-ef2a-47d3-d045-7724128b6336"
      },
      "source": [
        "model_transpose.summary()"
      ],
      "execution_count": 43,
      "outputs": [
        {
          "output_type": "stream",
          "text": [
            "Model: \"model_15\"\n",
            "_________________________________________________________________\n",
            "Layer (type)                 Output Shape              Param #   \n",
            "=================================================================\n",
            "input_19 (InputLayer)        [(None, 784)]             0         \n",
            "_________________________________________________________________\n",
            "reshape_11 (Reshape)         (None, 28, 28, 1)         0         \n",
            "_________________________________________________________________\n",
            "conv2d_25 (Conv2D)           (None, 28, 28, 64)        1088      \n",
            "_________________________________________________________________\n",
            "max_pooling2d_24 (MaxPooling (None, 14, 14, 64)        0         \n",
            "_________________________________________________________________\n",
            "conv2d_26 (Conv2D)           (None, 14, 14, 128)       32896     \n",
            "_________________________________________________________________\n",
            "max_pooling2d_25 (MaxPooling (None, 7, 7, 128)         0         \n",
            "_________________________________________________________________\n",
            "up_sampling2d_23 (UpSampling (None, 14, 14, 128)       0         \n",
            "_________________________________________________________________\n",
            "conv2d_transpose_21 (Conv2DT (None, 14, 14, 128)       65664     \n",
            "_________________________________________________________________\n",
            "up_sampling2d_24 (UpSampling (None, 28, 28, 128)       0         \n",
            "_________________________________________________________________\n",
            "conv2d_transpose_22 (Conv2DT (None, 28, 28, 64)        131136    \n",
            "_________________________________________________________________\n",
            "flatten_2 (Flatten)          (None, 50176)             0         \n",
            "_________________________________________________________________\n",
            "dense_5 (Dense)              (None, 784)               39338768  \n",
            "=================================================================\n",
            "Total params: 39,569,552\n",
            "Trainable params: 39,569,552\n",
            "Non-trainable params: 0\n",
            "_________________________________________________________________\n"
          ],
          "name": "stdout"
        }
      ]
    },
    {
      "cell_type": "code",
      "metadata": {
        "trusted": true,
        "_uuid": "6f3d8b0a782d5c3c9ba4ff82edb40a675b5154dd",
        "id": "eQKcajV7XqWq",
        "colab": {
          "base_uri": "https://localhost:8080/"
        },
        "outputId": "8e091e24-283b-4eac-fd69-4b615971b399"
      },
      "source": [
        "#model.summary()\r\n",
        "model_transpose.fit(x_train, x_train, epochs=10, batch_size=256)"
      ],
      "execution_count": 44,
      "outputs": [
        {
          "output_type": "stream",
          "text": [
            "Epoch 1/10\n",
            "79/79 [==============================] - 6s 23ms/step - loss: 1.1204\n",
            "Epoch 2/10\n",
            "79/79 [==============================] - 2s 22ms/step - loss: 0.8780\n",
            "Epoch 3/10\n",
            "79/79 [==============================] - 2s 22ms/step - loss: 0.7693\n",
            "Epoch 4/10\n",
            "79/79 [==============================] - 2s 22ms/step - loss: 0.7012\n",
            "Epoch 5/10\n",
            "79/79 [==============================] - 2s 22ms/step - loss: 0.6481\n",
            "Epoch 6/10\n",
            "79/79 [==============================] - 2s 22ms/step - loss: 0.6055\n",
            "Epoch 7/10\n",
            "79/79 [==============================] - 2s 22ms/step - loss: 0.5748\n",
            "Epoch 8/10\n",
            "79/79 [==============================] - 2s 22ms/step - loss: 0.5489\n",
            "Epoch 9/10\n",
            "79/79 [==============================] - 2s 22ms/step - loss: 0.5278\n",
            "Epoch 10/10\n",
            "79/79 [==============================] - 2s 22ms/step - loss: 0.5107\n"
          ],
          "name": "stdout"
        },
        {
          "output_type": "execute_result",
          "data": {
            "text/plain": [
              "<tensorflow.python.keras.callbacks.History at 0x7f26bde3a7b8>"
            ]
          },
          "metadata": {
            "tags": []
          },
          "execution_count": 44
        }
      ]
    },
    {
      "cell_type": "code",
      "metadata": {
        "trusted": true,
        "_uuid": "9a297bba7b45b8cae05003d579543b7a33160e38",
        "id": "FP4XnVQUXqWq"
      },
      "source": [
        "show_size = 10\n",
        "total = 0\n",
        "plt.figure(figsize=(20, 20))\n",
        "for i in range(show_size):\n",
        "    for j in range(show_size):    \n",
        "        draw_digit(x_train[total], show_size, show_size, total+1)\n",
        "        total+=1\n",
        "plt.show()"
      ],
      "execution_count": null,
      "outputs": []
    },
    {
      "cell_type": "code",
      "metadata": {
        "trusted": true,
        "_uuid": "09d7bfc719c90db598a8bb23b7e0dcdd8ddbd482",
        "id": "3pLVqjtQXqWq"
      },
      "source": [
        "get_layer_output = K.function([model.layers[0].input],\n",
        "                              [model.layers[1].output])\n",
        "\n",
        "hidden_outputs = get_layer_output([x_train[0:show_size**2]])[0]\n",
        "\n",
        "total = 0\n",
        "plt.figure(figsize=(20, 20))\n",
        "for i in range(show_size):\n",
        "    for j in range(show_size):    \n",
        "        draw_digit(hidden_outputs[total], show_size, show_size, total+1)\n",
        "        total+=1\n",
        "plt.show()"
      ],
      "execution_count": null,
      "outputs": []
    },
    {
      "cell_type": "code",
      "metadata": {
        "trusted": true,
        "_uuid": "f598086a4f21444a74d8e2e0e8b1c2cb83b69608",
        "id": "7TBDv79mXqWq"
      },
      "source": [
        "get_layer_output = K.function([model.layers[0].input],\n",
        "                              [model.layers[2].output])\n",
        "\n",
        "last_outputs = get_layer_output([x_train[0:show_size**2]])[0]\n",
        "\n",
        "total = 0\n",
        "plt.figure(figsize=(20, 20))\n",
        "for i in range(show_size):\n",
        "    for j in range(show_size):    \n",
        "        draw_digit(last_outputs[total], show_size, show_size, total+1)\n",
        "        total+=1\n",
        "plt.show()"
      ],
      "execution_count": null,
      "outputs": []
    },
    {
      "cell_type": "code",
      "metadata": {
        "trusted": true,
        "_uuid": "af7210a37f4e2f32e64717ecc9022024d68d1da8",
        "id": "CmpGrwHtXqWq"
      },
      "source": [
        "encoding_dim = 32\n",
        "\n",
        "input_img = Input(shape=(784,))\n",
        "encoded = Dense(128, activation='relu')(input_img)\n",
        "encoded = Dense(64, activation='relu')(encoded)\n",
        "\n",
        "encoded = Dense(encoding_dim, activation='relu')(encoded)\n",
        "\n",
        "decoded = Dense(64, activation='relu')(encoded)\n",
        "decoded = Dense(128, activation='relu')(decoded)\n",
        "decoded = Dense(784, activation='sigmoid')(decoded)"
      ],
      "execution_count": 11,
      "outputs": []
    },
    {
      "cell_type": "code",
      "metadata": {
        "trusted": true,
        "_uuid": "d4848f4428ec458692f27fba6d03abd44ff919ef",
        "id": "xyLctSqjXqWq",
        "colab": {
          "base_uri": "https://localhost:8080/"
        },
        "outputId": "0db0c647-6c74-4bf8-9c5b-bb9aa7ea351b"
      },
      "source": [
        "x_train = x_train.reshape((len(x_train), np.prod(x_train.shape[1:])))\n",
        "x_test = x_test.reshape((len(x_test), np.prod(x_test.shape[1:])))\n",
        "print(x_train.shape)\n",
        "print(x_test.shape)"
      ],
      "execution_count": 12,
      "outputs": [
        {
          "output_type": "stream",
          "text": [
            "(19999, 784)\n",
            "(9999, 784)\n"
          ],
          "name": "stdout"
        }
      ]
    },
    {
      "cell_type": "code",
      "metadata": {
        "trusted": true,
        "_uuid": "9b0a4b1c573125bf1718a366b8be377700b7f00b",
        "id": "ZXu4-wcPXqWq",
        "colab": {
          "base_uri": "https://localhost:8080/"
        },
        "outputId": "37aa6646-783f-41de-a542-101dcb035e28"
      },
      "source": [
        "# Model compilation\n",
        "autoencoder = Model(inputs=(input_img), outputs=(decoded))\n",
        "autoencoder.summary()"
      ],
      "execution_count": 13,
      "outputs": [
        {
          "output_type": "stream",
          "text": [
            "Model: \"model_3\"\n",
            "_________________________________________________________________\n",
            "Layer (type)                 Output Shape              Param #   \n",
            "=================================================================\n",
            "input_2 (InputLayer)         [(None, 784)]             0         \n",
            "_________________________________________________________________\n",
            "dense_2 (Dense)              (None, 128)               100480    \n",
            "_________________________________________________________________\n",
            "dense_3 (Dense)              (None, 64)                8256      \n",
            "_________________________________________________________________\n",
            "dense_4 (Dense)              (None, 32)                2080      \n",
            "_________________________________________________________________\n",
            "dense_5 (Dense)              (None, 64)                2112      \n",
            "_________________________________________________________________\n",
            "dense_6 (Dense)              (None, 128)               8320      \n",
            "_________________________________________________________________\n",
            "dense_7 (Dense)              (None, 784)               101136    \n",
            "=================================================================\n",
            "Total params: 222,384\n",
            "Trainable params: 222,384\n",
            "Non-trainable params: 0\n",
            "_________________________________________________________________\n"
          ],
          "name": "stdout"
        }
      ]
    },
    {
      "cell_type": "code",
      "metadata": {
        "trusted": true,
        "_uuid": "4ea9bec8cbe35cdbcfa14d0246f266a22b254e62",
        "id": "AlUeDMT8XqWq"
      },
      "source": [
        "encoder = Model(inputs=input_img, outputs=encoded)\n",
        "\n",
        "encoded_input = Input(shape=(encoding_dim,))\n",
        "\n",
        "decoder1 = autoencoder.layers[-3]\n",
        "decoder2 = autoencoder.layers[-2]\n",
        "decoder3 = autoencoder.layers[-1]\n",
        "\n",
        "decoder = Model(inputs=encoded_input, outputs=decoder3(decoder2(decoder1(encoded_input))))\n",
        "\n",
        "autoencoder.compile(optimizer='adam', loss='binary_crossentropy')"
      ],
      "execution_count": 14,
      "outputs": []
    },
    {
      "cell_type": "code",
      "metadata": {
        "trusted": true,
        "_uuid": "58c8a28becb14a4b48b72e1a22b4159f80ec259a",
        "id": "b1kz53AOXqWq",
        "colab": {
          "base_uri": "https://localhost:8080/"
        },
        "outputId": "870f8a26-d38f-42ad-a75a-f307ce5bb19e"
      },
      "source": [
        "autoencoder.fit(x_train, x_train,\n",
        "                epochs=20,\n",
        "                batch_size=256,\n",
        "                shuffle=True,\n",
        "                validation_data=(x_test, x_test))"
      ],
      "execution_count": 15,
      "outputs": [
        {
          "output_type": "stream",
          "text": [
            "Epoch 1/20\n",
            "79/79 [==============================] - 1s 9ms/step - loss: 0.4501 - val_loss: 3362.4255\n",
            "Epoch 2/20\n",
            "79/79 [==============================] - 0s 4ms/step - loss: 0.2264 - val_loss: -3563.4055\n",
            "Epoch 3/20\n",
            "79/79 [==============================] - 0s 4ms/step - loss: 0.1801 - val_loss: -9092.8770\n",
            "Epoch 4/20\n",
            "79/79 [==============================] - 0s 4ms/step - loss: 0.1598 - val_loss: -14503.7734\n",
            "Epoch 5/20\n",
            "79/79 [==============================] - 0s 4ms/step - loss: 0.1471 - val_loss: -17747.5859\n",
            "Epoch 6/20\n",
            "79/79 [==============================] - 0s 4ms/step - loss: 0.1392 - val_loss: -20516.4941\n",
            "Epoch 7/20\n",
            "79/79 [==============================] - 0s 4ms/step - loss: 0.1330 - val_loss: -22431.7363\n",
            "Epoch 8/20\n",
            "79/79 [==============================] - 0s 4ms/step - loss: 0.1277 - val_loss: -25158.4414\n",
            "Epoch 9/20\n",
            "79/79 [==============================] - 1s 7ms/step - loss: 0.1239 - val_loss: -26192.0586\n",
            "Epoch 10/20\n",
            "79/79 [==============================] - 0s 4ms/step - loss: 0.1205 - val_loss: -27921.6973\n",
            "Epoch 11/20\n",
            "79/79 [==============================] - 0s 4ms/step - loss: 0.1181 - val_loss: -29825.6445\n",
            "Epoch 12/20\n",
            "79/79 [==============================] - 0s 4ms/step - loss: 0.1169 - val_loss: -29037.2305\n",
            "Epoch 13/20\n",
            "79/79 [==============================] - 0s 4ms/step - loss: 0.1151 - val_loss: -29955.5840\n",
            "Epoch 14/20\n",
            "79/79 [==============================] - 0s 4ms/step - loss: 0.1137 - val_loss: -31585.9453\n",
            "Epoch 15/20\n",
            "79/79 [==============================] - 0s 4ms/step - loss: 0.1115 - val_loss: -31964.9727\n",
            "Epoch 16/20\n",
            "79/79 [==============================] - 0s 4ms/step - loss: 0.1103 - val_loss: -31738.0410\n",
            "Epoch 17/20\n",
            "79/79 [==============================] - 0s 4ms/step - loss: 0.1093 - val_loss: -32652.1641\n",
            "Epoch 18/20\n",
            "79/79 [==============================] - 0s 4ms/step - loss: 0.1078 - val_loss: -33149.3008\n",
            "Epoch 19/20\n",
            "79/79 [==============================] - 0s 4ms/step - loss: 0.1065 - val_loss: -34010.9453\n",
            "Epoch 20/20\n",
            "79/79 [==============================] - 0s 4ms/step - loss: 0.1053 - val_loss: -35230.5938\n"
          ],
          "name": "stdout"
        },
        {
          "output_type": "execute_result",
          "data": {
            "text/plain": [
              "<tensorflow.python.keras.callbacks.History at 0x7fb3a437b0b8>"
            ]
          },
          "metadata": {
            "tags": []
          },
          "execution_count": 15
        }
      ]
    },
    {
      "cell_type": "code",
      "metadata": {
        "trusted": true,
        "_uuid": "9738193aac48f993aa9029a54573c29f11218210",
        "id": "LlcvldvtXqWq",
        "colab": {
          "base_uri": "https://localhost:8080/",
          "height": 248
        },
        "outputId": "ebbb5073-f960-4f22-fbb2-9f29df8e80c1"
      },
      "source": [
        "encoded_imgs = encoder.predict(x_test)\n",
        "decoded_imgs = decoder.predict(encoded_imgs)\n",
        "\n",
        "n = 10  \n",
        "plt.figure(figsize=(20, 4))\n",
        "for i in range(n):\n",
        "\n",
        "    ax = plt.subplot(2, n, i + 1)\n",
        "    plt.imshow(x_test[i].reshape(28, 28),cmap=\"viridis\")\n",
        "    #plt.gray()\n",
        "    ax.get_xaxis().set_visible(False)\n",
        "    ax.get_yaxis().set_visible(False)\n",
        "\n",
        "    ax = plt.subplot(2, n, i + 1 + n)\n",
        "    plt.imshow(decoded_imgs[i].reshape(28, 28),cmap=\"viridis\")\n",
        "    #plt.gray()\n",
        "    ax.get_xaxis().set_visible(False)\n",
        "    ax.get_yaxis().set_visible(False)\n",
        "plt.show()"
      ],
      "execution_count": 39,
      "outputs": [
        {
          "output_type": "display_data",
          "data": {
            "image/png": "[encoded data removed]",
            "text/plain": [
              "<Figure size 1440x288 with 20 Axes>"
            ]
          },
          "metadata": {
            "tags": [],
            "needs_background": "light"
          }
        }
      ]
    }
  ]
}