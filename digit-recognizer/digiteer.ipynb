{
  "nbformat": 4,
  "nbformat_minor": 0,
  "metadata": {
    "kernelspec": {
      "language": "python",
      "display_name": "Python 3",
      "name": "python3"
    },
    "language_info": {
      "pygments_lexer": "ipython3",
      "nbconvert_exporter": "python",
      "version": "3.6.4",
      "file_extension": ".py",
      "codemirror_mode": {
        "name": "ipython",
        "version": 3
      },
      "name": "python",
      "mimetype": "text/x-python"
    },
    "colab": {
      "name": "digiteer.ipynb",
      "provenance": []
    }
  },
  "cells": [
    {
      "cell_type": "markdown",
      "metadata": {
        "id": "qfja9tMaB1ZH"
      },
      "source": [
        "#### Copyright 2018 Google LLC.\n",
        "\n"
      ]
    },
    {
      "cell_type": "markdown",
      "metadata": {
        "id": "jsgWaBOfq6_f"
      },
      "source": [
        "I'm not sure where this originated, but all due copyrighting to them.\n",
        "The rest is copyright 2020 by me.\n",
        "\n",
        "```\n",
        "# Licensed under the Apache License, Version 2.0 (the \"License\");\n",
        "# you may not use this file except in compliance with the License.\n",
        "# You may obtain a copy of the License at\n",
        "#\n",
        "# https://www.apache.org/licenses/LICENSE-2.0\n",
        "#\n",
        "# Unless required by applicable law or agreed to in writing, software\n",
        "# distributed under the License is distributed on an \"AS IS\" BASIS,\n",
        "# WITHOUT WARRANTIES OR CONDITIONS OF ANY KIND, either express or implied.\n",
        "# See the License for the specific language governing permissions and\n",
        "# limitations under the License.\n",
        "```\n"
      ]
    },
    {
      "cell_type": "markdown",
      "metadata": {
        "id": "YHK6DyunSbs4"
      },
      "source": [
        "# Handwritten Digit Classification"
      ]
    },
    {
      "cell_type": "code",
      "metadata": {
        "id": "PLy3pthUS0D2",
        "cellView": "both",
        "trusted": false
      },
      "source": [
        "#@title IMPORTS\n",
        "%matplotlib inline\n",
        "import matplotlib.pyplot as plt\n",
        "import matplotlib.image as mpimg\n",
        "import seaborn as sbn\n",
        "\n",
        "import zipfile\n",
        "import random as rd\n",
        "import numpy as np\n",
        "import pandas as pd\n",
        "import os, signal\n",
        "from IPython.display import clear_output\n",
        "def clear(): clear_output()\n",
        "\n",
        "import tensorflow as tf\n",
        "from tensorflow.keras import layers\n",
        "from tensorflow.keras import Model\n",
        "#from tensorflow.keras.preprocessing.image import img_to_array, load_img\n",
        "#from tensorflow.keras.preprocessing.image import ImageDataGenerator\n",
        "from tensorflow.keras.layers import Dense, Flatten, Conv2D, MaxPooling2D, InputLayer, Input\n",
        "from tensorflow.keras.optimizers import RMSprop\n",
        "from tensorflow.keras.optimizers import Adam"
      ],
      "execution_count": null,
      "outputs": []
    },
    {
      "cell_type": "markdown",
      "metadata": {
        "id": "UY6KJV6z6l7_"
      },
      "source": [
        "## Examine the Data"
      ]
    },
    {
      "cell_type": "code",
      "metadata": {
        "id": "u8Y3AFF5pgJZ",
        "trusted": false,
        "outputId": "9948fc3d-9c5e-433c-a4a7-1c919acdc780",
        "colab": {
          "base_uri": "https://localhost:8080/"
        }
      },
      "source": [
        "#Load\n",
        "mnist = tf.keras.datasets.mnist\n",
        "(imgs_train, ans_train), (imgs_test, ans_test) = mnist.load_data()\n",
        "\n",
        "# Scale\n",
        "x_train, x_test = x_train / 255.0, x_test / 255.0\n",
        "\n",
        "# Knobs\n",
        "nrows = 2\n",
        "ncols = 5\n",
        "pindex = 0\n",
        "N = 10\n",
        "image_shape = 28\n",
        "\n",
        "# Data\n",
        "imgs_train.shape, imgs_test.shape"
      ],
      "execution_count": null,
      "outputs": [
        {
          "output_type": "stream",
          "text": [
            "Downloading data from https://storage.googleapis.com/tensorflow/tf-keras-datasets/mnist.npz\n",
            "11493376/11490434 [==============================] - 1s 0us/step\n"
          ],
          "name": "stdout"
        },
        {
          "output_type": "execute_result",
          "data": {
            "text/plain": [
              "((60000, 28, 28), (10000, 28, 28))"
            ]
          },
          "metadata": {
            "tags": []
          },
          "execution_count": 3
        }
      ]
    },
    {
      "cell_type": "code",
      "metadata": {
        "id": "Gf0G6g1aAKhM",
        "trusted": false,
        "outputId": "03f83c8d-22ab-4b27-8a5a-8c797ca14b32",
        "colab": {
          "base_uri": "https://localhost:8080/",
          "height": 248
        }
      },
      "source": [
        "##Test function\n",
        "im = np.zeros((28,56))\n",
        "tens_index = rd.randint(0,len(ans_train)-1)   \n",
        "ones_index = rd.randint(0,len(ans_train)-1) \n",
        "for i in range(28):\n",
        "    im[:,i] = imgs_train[tens_index,:,i]\n",
        "    im[:,i+28] = imgs_train[ones_index,:,i]\n",
        "answer = ans_train[tens_index]*10 + ans_train[ones_index]\n",
        "print (\"Answer =\", ans_train[tens_index],\"* 10 +\",ans_train[ones_index],\"=\",answer)\n",
        "plt.imshow(im)"
      ],
      "execution_count": null,
      "outputs": [
        {
          "output_type": "stream",
          "text": [
            "Answer = 1 * 10 + 4 = 14\n"
          ],
          "name": "stdout"
        },
        {
          "output_type": "execute_result",
          "data": {
            "text/plain": [
              "<matplotlib.image.AxesImage at 0x7f731603eb70>"
            ]
          },
          "metadata": {
            "tags": []
          },
          "execution_count": 26
        },
        {
          "output_type": "display_data",
          "data": {
            "image/png": "[encoded data removed]",
            "text/plain": [
              "<Figure size 432x288 with 1 Axes>"
            ]
          },
          "metadata": {
            "tags": [],
            "needs_background": "light"
          }
        }
      ]
    },
    {
      "cell_type": "code",
      "metadata": {
        "id": "6X6jzIZm1vDZ",
        "cellView": "both",
        "trusted": false,
        "outputId": "8dde413d-c961-468c-cf72-5b4f82e5b2e4",
        "colab": {
          "base_uri": "https://localhost:8080/",
          "height": 281
        }
      },
      "source": [
        "def doubleDigits(images=imgs_train,answers=ans_train):\n",
        "    im = np.zeros((28,56))\n",
        "    tens_index = rd.randint(0,len(answers)-1)  # HERE IS WHERE THE \n",
        "    ones_index = rd.randint(0,len(answers)-1)             # RANDOM NUMS COME FROM\n",
        "    for i in range(28):\n",
        "        im[:,i] = images[tens_index,:,i]\n",
        "        im[:,i+28] = images[ones_index,:,i]\n",
        "    answer = answers[tens_index]*10 + answers[ones_index] #CALCULATE THE RIGHT\n",
        "    return im, answer                         #ANSWER NUMERICALLY                \n",
        "    #returns image array, list of answers\n",
        "print(\"Loaded function doubleDigits.\")\n",
        "\n",
        "# THIS FUNCTION WILL BE CALLED TO GENERATE A NEW \n",
        "# TRAINING SET OF RANDOM DOUBLE-DIGIT IMAGES TO WORK WITH\n",
        "\n",
        "def getDoubleDigits(x_df=imgs_train,y_df=ans_train,how_many=1):\n",
        "    '''\n",
        "        Get a trainable set of how_many double-digit images. \n",
        "        Returns two objects:\n",
        "            - xdf, an array with how_many 28x56 images (ie. of shape(how_many,28,56)),\n",
        "            - ydf, a 1D array with the corresponding labels (shape(how_many,1))\n",
        "    '''\n",
        "    yy = []\n",
        "    xx = []\n",
        "    for i in range(how_many):\n",
        "        dd, ans = doubleDigits(x_df,y_df)\n",
        "        yy += [ans]\n",
        "        xx.append(dd)\n",
        "        if i%1000 == 0:\n",
        "            clear()\n",
        "            print(i,\"...\")\n",
        "    return xx, yy\n",
        "\n",
        "print(\"Loaded function getDoubleDigits.\")\n",
        "\n",
        "# AND FINALLY CALL FUNCTION gDD TO SHOW AN EXAMPLE OF A \n",
        "# CONSTRUCTED IMAGE AND ANSWER TO MAKE SURE IT LOOKS OK\n",
        "xdf, ydf = getDoubleDigits(imgs_test,ans_test)\n",
        "print('~Random example~')\n",
        "print('Answer:',ydf[0])\n",
        "plt.imshow(xdf[0])"
      ],
      "execution_count": null,
      "outputs": [
        {
          "output_type": "stream",
          "text": [
            "0 ...\n",
            "~Random example~\n",
            "Answer: 76\n"
          ],
          "name": "stdout"
        },
        {
          "output_type": "execute_result",
          "data": {
            "text/plain": [
              "<matplotlib.image.AxesImage at 0x7f7321126978>"
            ]
          },
          "metadata": {
            "tags": []
          },
          "execution_count": 5
        },
        {
          "output_type": "display_data",
          "data": {
            "image/png": "[encoded data removed]",
            "text/plain": [
              "<Figure size 432x288 with 1 Axes>"
            ]
          },
          "metadata": {
            "tags": [],
            "needs_background": "light"
          }
        }
      ]
    },
    {
      "cell_type": "code",
      "metadata": {
        "id": "4YQljE-wizDw",
        "trusted": false,
        "outputId": "eede089d-6035-44ff-f289-402756a10c16",
        "colab": {
          "base_uri": "https://localhost:8080/"
        }
      },
      "source": [
        "xts, yts = getDoubleDigits(imgs_test,ans_test,4000)\n",
        "x_test = np.array(xts) / 255.\n",
        "y_test = np.array(yts)\n",
        "print(\"Made\",4000,\"new double-digit images to test on.\")\n",
        "\n",
        "xtn, ytn = getDoubleDigits(imgs_train,ans_train,40000)\n",
        "x_train = np.array(xtn) / 255.\n",
        "y_train = np.array(ytn)\n",
        "print(\"Made\",40000,\"new double-digit images to train on.\")"
      ],
      "execution_count": null,
      "outputs": [
        {
          "output_type": "stream",
          "text": [
            "39000 ...\n",
            "Made 40000 new double-digit images to train on.\n"
          ],
          "name": "stdout"
        }
      ]
    },
    {
      "cell_type": "code",
      "metadata": {
        "id": "0lAvqbmnEZhD",
        "trusted": false
      },
      "source": [
        "# Add a channels dimension\n",
        "x_train = x_train[..., tf.newaxis].astype(\"float32\")\n",
        "x_test = x_test[..., tf.newaxis].astype(\"float32\")"
      ],
      "execution_count": null,
      "outputs": []
    },
    {
      "cell_type": "markdown",
      "metadata": {
        "id": "5oqBkNBJmtUv"
      },
      "source": [
        "## Building a Minimalist Convnet"
      ]
    },
    {
      "cell_type": "code",
      "metadata": {
        "id": "a3sLSlJuHExE",
        "trusted": false
      },
      "source": [
        "###################### Stack Model Layers\n",
        "##########################################\n",
        "def stack_new_model():\n",
        "    input_layer = layers.Input(shape=(28, 56, 1))\n",
        "    x = layers.Conv2D(4, 6, activation='relu')(input_layer)\n",
        "    x = layers.MaxPooling2D(2)(x)\n",
        "    x = layers.Conv2D(3, 3, activation='relu', strides=(2))(x) \n",
        "    x = layers.Conv2D(1, 3, activation='relu', strides=(2))(x) \n",
        "    #x = layers.Conv2D(1, 2, activation='relu', strides=(1))(x) \n",
        "    #x = layers.MaxPooling2D(2)(x)\n",
        "    x = layers.Flatten()(x)\n",
        "    x = layers.Dense(12, activation='relu')(x)  ### how few ?! ####\n",
        "    x = layers.Dropout(0.1)(x)\n",
        "    output_layer = layers.Dense(100)(x)#, activation='softmax')(x)\n",
        "    model = Model(input_layer, output_layer)\n",
        "    ############################## Compile\n",
        "    model.compile(loss=tf.keras.losses.SparseCategoricalCrossentropy(from_logits=True),\n",
        "                                                            optimizer=Adam(lr=0.0075),\n",
        "                                                            metrics=['acc'])\n",
        "    return model, ([], [], [], []) # new set each new _compile_"
      ],
      "execution_count": null,
      "outputs": []
    },
    {
      "cell_type": "code",
      "metadata": {
        "id": "NqkMcZKCpOAa",
        "trusted": false
      },
      "source": [
        "####################### TF Datasets for input\n",
        "\n",
        "train_ds = tf.data.Dataset.from_tensor_slices( (x_train, y_train) )\n",
        "test_ds = tf.data.Dataset.from_tensor_slices( (x_test, y_test) )\n",
        "\n",
        "###################### Stack Layers\n",
        "input_layer = layers.Input(shape=(28, 56, 1))\n",
        "x = layers.Conv2D(2, (3,4), activation='relu')(input_layer)\n",
        "x = layers.MaxPooling2D(2)(x)\n",
        "#x = layers.Conv2D(3, (2,3), activation='relu')(x) \n",
        "#x = layers.MaxPooling2D(2)(x)\n",
        "#x = layers.Conv2D(5, (2,3), activation='relu')(x) # ,strides=(2))(x) \n",
        "x = layers.Flatten()(x)\n",
        "#x = layers.Dense(10, activation='relu')(x) \n",
        "x = layers.Dropout(0.25)(x)\n",
        "output_layer = layers.Dense(100)(x)#, activation='softmax')(x)\n",
        "\n",
        "####################### Build\n",
        "model = Model(input_layer, output_layer)\n",
        "\n",
        "####################### Compile\n",
        "model.compile(loss=tf.keras.losses.SparseCategoricalCrossentropy(from_logits=True),\n",
        "                optimizer=Adam(lr=0.0075),\n",
        "                metrics=['acc'])\n",
        "####################### Layer-outputs model\n",
        "layer_outputs = [layer.output for layer in model.layers[1:]]\n",
        "output_model = Model(input_layer, layer_outputs)\n",
        "\n",
        "####################### History containers\n",
        "answers, guesses = [],[]#, max_guesses, flatout = [],[],[],np.zeros((N,4))"
      ],
      "execution_count": null,
      "outputs": []
    },
    {
      "cell_type": "code",
      "metadata": {
        "id": "y0TV7ZFwrK8j",
        "trusted": false,
        "outputId": "30142222-6e35-4b37-a063-c8158d54b42c",
        "colab": {
          "base_uri": "https://localhost:8080/"
        }
      },
      "source": [
        "model.summary()"
      ],
      "execution_count": null,
      "outputs": [
        {
          "output_type": "stream",
          "text": [
            "Model: \"functional_1\"\n",
            "_________________________________________________________________\n",
            "Layer (type)                 Output Shape              Param #   \n",
            "=================================================================\n",
            "input_1 (InputLayer)         [(None, 28, 56, 1)]       0         \n",
            "_________________________________________________________________\n",
            "conv2d (Conv2D)              (None, 26, 53, 2)         26        \n",
            "_________________________________________________________________\n",
            "max_pooling2d (MaxPooling2D) (None, 13, 26, 2)         0         \n",
            "_________________________________________________________________\n",
            "flatten (Flatten)            (None, 676)               0         \n",
            "_________________________________________________________________\n",
            "dropout (Dropout)            (None, 676)               0         \n",
            "_________________________________________________________________\n",
            "dense (Dense)                (None, 100)               67700     \n",
            "=================================================================\n",
            "Total params: 67,726\n",
            "Trainable params: 67,726\n",
            "Non-trainable params: 0\n",
            "_________________________________________________________________\n"
          ],
          "name": "stdout"
        }
      ]
    },
    {
      "cell_type": "markdown",
      "metadata": {
        "id": "mu3Jdwkjwax4"
      },
      "source": [
        "### Training / Loading and reloading"
      ]
    },
    {
      "cell_type": "code",
      "metadata": {
        "id": "Fb1_lgobv81m",
        "trusted": false,
        "outputId": "b421781c-0f80-4995-c8af-defc050fdabf",
        "colab": {
          "base_uri": "https://localhost:8080/"
        }
      },
      "source": [
        "############################# Train\n",
        "mhistory = model.fit(train_ds.shuffle(40001).batch(400), \n",
        "                        epochs=15,  \n",
        "                        validation_data=test_ds.batch(100), \n",
        "                        verbose=1)"
      ],
      "execution_count": null,
      "outputs": [
        {
          "output_type": "stream",
          "text": [
            "Epoch 1/15\n",
            "100/100 [==============================] - 16s 161ms/step - loss: 0.3010 - acc: 0.8991 - val_loss: 0.4577 - val_acc: 0.8780\n",
            "Epoch 2/15\n",
            "100/100 [==============================] - 16s 160ms/step - loss: 0.2835 - acc: 0.9059 - val_loss: 0.4536 - val_acc: 0.8802\n",
            "Epoch 3/15\n",
            "100/100 [==============================] - 16s 163ms/step - loss: 0.2741 - acc: 0.9083 - val_loss: 0.4612 - val_acc: 0.8813\n",
            "Epoch 4/15\n",
            "100/100 [==============================] - 16s 161ms/step - loss: 0.2708 - acc: 0.9108 - val_loss: 0.4639 - val_acc: 0.8813\n",
            "Epoch 5/15\n",
            "100/100 [==============================] - 16s 161ms/step - loss: 0.2693 - acc: 0.9093 - val_loss: 0.4641 - val_acc: 0.8827\n",
            "Epoch 6/15\n",
            "100/100 [==============================] - 16s 161ms/step - loss: 0.2603 - acc: 0.9126 - val_loss: 0.4658 - val_acc: 0.8813\n",
            "Epoch 7/15\n",
            "100/100 [==============================] - 16s 161ms/step - loss: 0.2563 - acc: 0.9123 - val_loss: 0.4677 - val_acc: 0.8823\n",
            "Epoch 8/15\n",
            "100/100 [==============================] - 16s 161ms/step - loss: 0.2541 - acc: 0.9165 - val_loss: 0.4757 - val_acc: 0.8817\n",
            "Epoch 9/15\n",
            "100/100 [==============================] - 16s 161ms/step - loss: 0.2588 - acc: 0.9132 - val_loss: 0.4681 - val_acc: 0.8813\n",
            "Epoch 10/15\n",
            "100/100 [==============================] - 16s 161ms/step - loss: 0.2535 - acc: 0.9138 - val_loss: 0.4737 - val_acc: 0.8830\n",
            "Epoch 11/15\n",
            "100/100 [==============================] - 16s 161ms/step - loss: 0.2528 - acc: 0.9148 - val_loss: 0.4716 - val_acc: 0.8820\n",
            "Epoch 12/15\n",
            "100/100 [==============================] - 16s 161ms/step - loss: 0.2494 - acc: 0.9157 - val_loss: 0.4722 - val_acc: 0.8815\n",
            "Epoch 13/15\n",
            "100/100 [==============================] - 16s 161ms/step - loss: 0.2495 - acc: 0.9167 - val_loss: 0.4709 - val_acc: 0.8820\n",
            "Epoch 14/15\n",
            "100/100 [==============================] - 16s 160ms/step - loss: 0.2490 - acc: 0.9161 - val_loss: 0.4739 - val_acc: 0.8830\n",
            "Epoch 15/15\n",
            "100/100 [==============================] - 16s 160ms/step - loss: 0.2460 - acc: 0.9168 - val_loss: 0.4708 - val_acc: 0.8802\n"
          ],
          "name": "stdout"
        }
      ]
    },
    {
      "cell_type": "code",
      "metadata": {
        "id": "pVOENw5KiuGs",
        "trusted": false
      },
      "source": [
        "################ Save / Load weights and ckpts\n",
        "###model.load_weights('VCD_weights/VCD_weights')\n",
        "###model.save_weights('VCD_weights/VCD_weights')"
      ],
      "execution_count": null,
      "outputs": []
    },
    {
      "cell_type": "markdown",
      "metadata": {
        "id": "-8EHQyWGDvWz"
      },
      "source": [
        "### Visualizing Intermediate Representations\n"
      ]
    },
    {
      "cell_type": "code",
      "metadata": {
        "id": "oP5AH28uewTP",
        "cellView": "form",
        "trusted": false
      },
      "source": [
        "#@title Function GUESSING()\n",
        "def guessing(N=1):\n",
        "    answers, guesses = [],[]\n",
        "    print ('Processing...\\n')\n",
        "    for count in range(N):\n",
        "        take1_ds = test_ds.shuffle(10001).take(1)\n",
        "        for img, ans in take1_ds:\n",
        "            answer = ans.numpy()\n",
        "            img = img.numpy()                  # 28x56x1\n",
        "        img = img.reshape((1,) + img.shape)    # 1x28x56x1\n",
        "        guess_set = model.predict(img)\n",
        "        guess = tf.random.categorical( guess_set, num_samples=1 ).numpy().squeeze()\n",
        "\n",
        "        answers += [answer]\n",
        "        guesses += [guess]\n",
        "        #pG += [guess_set[guess]]\n",
        "        #pA += [guess_set[answer]]\n",
        "        #print(\"Answer\",answer,\"\\tGuess\",guess)#, \"\\tp(A)\",pA,\"\\tp(G)\",pG)\n",
        "       \n",
        "        if count%20 == 0:\n",
        "            print ('Processing...',count,\"...\")\n",
        "            clear_output(wait=True)\n",
        "\n",
        "    return answers, guesses#, pA, pG"
      ],
      "execution_count": null,
      "outputs": []
    },
    {
      "cell_type": "code",
      "metadata": {
        "id": "nfs9TGQErDm0",
        "cellView": "form",
        "trusted": false
      },
      "source": [
        "#@title Define fxn showOutput()\n",
        "def showOutput(img, model=output_model):\n",
        "    plt.imshow(img[:,:,0])\n",
        "    layer_output_maps = model.predict( img )\n",
        "    layer_names = [layer.name for layer in model.layers[1:]]\n",
        "    for layer_name, layer_map in zip(layer_names, layer_output_maps):\n",
        "        if len(layer_map.shape) == 4 and not 'max_pooling' in layer_name:\n",
        "            n_maps = layer_map.shape[3] \n",
        "            # Map has shape (1, size, size, n_maps)\n",
        "            rows = layer_map.shape[1]\n",
        "            cols = layer_map.shape[2]\n",
        "            image_grid = np.zeros((rows, cols * n_maps))\n",
        "            for i in range(n_maps):\n",
        "                x = layer_map[0, :, :, i]\n",
        "                x *= 255.0\n",
        "                image_grid[:, i * cols : (i + 1) * cols] = x\n",
        "                image_grid[:,i*cols] = 255\n",
        "                image_grid[:,i*cols+1] = 128\n",
        "            scale = 2.           \n",
        "            plt.figure(figsize=(scale * n_maps, scale))\n",
        "            plt.title(layer_name)\n",
        "            plt.grid(False)\n",
        "            plt.imshow(image_grid, aspect='auto', cmap='viridis')"
      ],
      "execution_count": null,
      "outputs": []
    },
    {
      "cell_type": "code",
      "metadata": {
        "id": "gQdsr9ZFrPGM",
        "cellView": "both",
        "trusted": false
      },
      "source": [
        "#@title Function GET_RESULTS()\n",
        "def get_results(N):\n",
        "    results = pd.DataFrame(columns=['Answer','Guess'])#,'P(A)','P(G)'])\n",
        "    results['Answer'], results['Guess'] = guessing(N) #, results['P(A)'], results['P(G)'] \n",
        "    return results"
      ],
      "execution_count": null,
      "outputs": []
    },
    {
      "cell_type": "code",
      "metadata": {
        "id": "_dQJos2jAtCQ",
        "trusted": false
      },
      "source": [
        "results = get_results(100)\n",
        "results"
      ],
      "execution_count": null,
      "outputs": []
    },
    {
      "cell_type": "code",
      "metadata": {
        "id": "Ve_q8qGoCFUu",
        "trusted": false
      },
      "source": [
        "#showOutput()"
      ],
      "execution_count": null,
      "outputs": []
    },
    {
      "cell_type": "code",
      "metadata": {
        "id": "uqgpg-yl2tOh",
        "cellView": "form",
        "trusted": false,
        "outputId": "bd36b7d8-bcf2-4982-86ef-904fa8ebe750",
        "colab": {
          "base_uri": "https://localhost:8080/",
          "height": 236
        }
      },
      "source": [
        "#@title Show layer output...\n",
        "\n",
        "# Take random image from the training set.\n",
        "take1_ds = test_ds.shuffle(10001).take(1)\n",
        "for img, ans in take1_ds:\n",
        "    img = img.numpy() \n",
        "plt.figure(figsize=(3,3))\n",
        "plt.imshow(img[:,:,0])                 # np shape (28, 28, 1)\n",
        "img = img.reshape((1,) + img.shape)    # np shape (1, 28, 28, 1)\n",
        "\n",
        "layer_output_maps = output_model.predict( img )\n",
        "layer_names = [layer.name for layer in model.layers[1:]]\n",
        "for layer_name, layer_map in zip(layer_names, layer_output_maps):\n",
        "    if len(layer_map.shape) == 4 and not 'max_pooling' in layer_name:\n",
        "        n_maps = layer_map.shape[-1]  # number of maps\n",
        "        # Map has shape (1, rows, columns, n_features)\n",
        "        rows = layer_map.shape[1]\n",
        "        cols = layer_map.shape[2]\n",
        "        image_grid = np.zeros((rows, cols * n_maps))\n",
        "        \n",
        "        for i in range(n_maps):\n",
        "            x = layer_map[0, :, :, i]\n",
        "            x *= 255.0\n",
        "            image_grid[:, i * cols : (i + 1) * cols] = x\n",
        "            image_grid[:,i*cols] = 255.\n",
        "            image_grid[:,i*cols+1] = 0.\n",
        "            \n",
        "        scale = 2.           \n",
        "        plt.figure(figsize=(scale * n_maps, scale))\n",
        "        plt.title(layer_name)\n",
        "        plt.grid(False)\n",
        "        plt.imshow(image_grid, cmap='viridis')\n",
        " "
      ],
      "execution_count": null,
      "outputs": [
        {
          "output_type": "display_data",
          "data": {
            "image/png": "[encoded data removed]",
            "text/plain": [
              "<Figure size 216x216 with 1 Axes>"
            ]
          },
          "metadata": {
            "tags": [],
            "needs_background": "light"
          }
        },
        {
          "output_type": "display_data",
          "data": {
            "image/png": "[encoded data removed]",
            "text/plain": [
              "<Figure size 288x144 with 1 Axes>"
            ]
          },
          "metadata": {
            "tags": [],
            "needs_background": "light"
          }
        }
      ]
    },
    {
      "cell_type": "code",
      "metadata": {
        "id": "i-MZye-l2bZM",
        "trusted": false
      },
      "source": [
        "n = 10\n",
        "for i, c in enumerate(['Answer','Guess']):\n",
        "    x = list(range(i,n+i))\n",
        "    x = [(xx + i*0.05) for xx in x]\n",
        "    y = results[c][:n]\n",
        "    plt.bar(x, y)"
      ],
      "execution_count": null,
      "outputs": []
    },
    {
      "cell_type": "markdown",
      "metadata": {
        "id": "ql_FDtDXoNib"
      },
      "source": [
        "### Get answers and compare with predictions."
      ]
    },
    {
      "cell_type": "code",
      "metadata": {
        "id": "Q67V1mIbgKrT",
        "trusted": false
      },
      "source": [
        "tv = results['Guess'] == results['Answer']\n",
        "wrongs = results.loc[~tv]\n",
        "wrongs"
      ],
      "execution_count": null,
      "outputs": []
    },
    {
      "cell_type": "code",
      "metadata": {
        "id": "bffPxjYDlEYJ",
        "trusted": false,
        "outputId": "cc6d672d-5a99-4740-8c7a-ca1799db917d",
        "colab": {
          "base_uri": "https://localhost:8080/",
          "height": 265
        }
      },
      "source": [
        "## TO DO fix\n",
        "## Display some examples of *wrong* guesses\n",
        "###########################################\n",
        "index = rd.choice(wrongs.index)  \n",
        "a = wrongs.at[index,'Answer']\n",
        "print(\"Answer[\",index,\"] is\", a)\n",
        "print(\"Guess[\",index,\"] was\",wrongs.at[index,'Guess'])\n",
        "plt.imshow(x_test[a,:,:,0])"
      ],
      "execution_count": null,
      "outputs": [
        {
          "output_type": "stream",
          "text": [
            "Answer[ 37 ] is 81\n",
            "Guess[ 37 ] was 21\n"
          ],
          "name": "stdout"
        },
        {
          "output_type": "execute_result",
          "data": {
            "text/plain": [
              "<matplotlib.image.AxesImage at 0x7f73162ae470>"
            ]
          },
          "metadata": {
            "tags": []
          },
          "execution_count": 24
        },
        {
          "output_type": "display_data",
          "data": {
            "image/png": "[encoded data removed]",
            "text/plain": [
              "<Figure size 432x288 with 1 Axes>"
            ]
          },
          "metadata": {
            "tags": [],
            "needs_background": "light"
          }
        }
      ]
    },
    {
      "cell_type": "markdown",
      "metadata": {
        "id": "Q5Vulban4ZrD"
      },
      "source": [
        "### Evaluation"
      ]
    },
    {
      "cell_type": "code",
      "metadata": {
        "id": "0oj0gTIy4k60",
        "cellView": "form",
        "trusted": false,
        "outputId": "f3d16faf-9978-4e26-ee64-94a252d7108f",
        "colab": {
          "base_uri": "https://localhost:8080/",
          "height": 561
        }
      },
      "source": [
        "#@title Display learning curves ##TO DO##\n",
        "\n",
        "####TO DO make better #########\n",
        "\n",
        "acc = mhistory.history['acc']\n",
        "val_acc = mhistory.history['val_acc']\n",
        "\n",
        "loss = mhistory.history['loss']\n",
        "val_loss = mhistory.history['val_loss']\n",
        "\n",
        "epochs = range(len(acc))\n",
        "\n",
        "plt.plot(epochs, acc)\n",
        "plt.plot(epochs, val_acc)\n",
        "plt.title('Training and validation accuracy')\n",
        "\n",
        "plt.figure()\n",
        "\n",
        "plt.plot(epochs, loss)\n",
        "plt.plot(epochs, val_loss)\n",
        "plt.title('Training and validation loss')"
      ],
      "execution_count": null,
      "outputs": [
        {
          "output_type": "execute_result",
          "data": {
            "text/plain": [
              "Text(0.5, 1.0, 'Training and validation loss')"
            ]
          },
          "metadata": {
            "tags": []
          },
          "execution_count": 23
        },
        {
          "output_type": "display_data",
          "data": {
            "image/png": "[encoded data removed]",
            "text/plain": [
              "<Figure size 432x288 with 1 Axes>"
            ]
          },
          "metadata": {
            "tags": [],
            "needs_background": "light"
          }
        },
        {
          "output_type": "display_data",
          "data": {
            "image/png": "[encoded data removed]",
            "text/plain": [
              "<Figure size 432x288 with 1 Axes>"
            ]
          },
          "metadata": {
            "tags": [],
            "needs_background": "light"
          }
        }
      ]
    }
  ]
}