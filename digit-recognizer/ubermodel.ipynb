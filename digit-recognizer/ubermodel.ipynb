{
  "nbformat": 4,
  "nbformat_minor": 0,
  "metadata": {
    "colab": {
      "name": "ubermodel.ipynb",
      "provenance": [],
      "machine_shape": "hm"
    },
    "kernelspec": {
      "display_name": "Python 3",
      "language": "python",
      "name": "python3"
    },
    "language_info": {
      "codemirror_mode": {
        "name": "ipython",
        "version": 3
      },
      "file_extension": ".py",
      "mimetype": "text/x-python",
      "name": "python",
      "nbconvert_exporter": "python",
      "pygments_lexer": "ipython3",
      "version": "3.7.6"
    },
    "accelerator": "GPU"
  },
  "cells": [
    {
      "cell_type": "markdown",
      "metadata": {
        "id": "aOR9HGAvP5jj"
      },
      "source": [
        "#Ubermodel"
      ]
    },
    {
      "cell_type": "code",
      "metadata": {
        "cellView": "both",
        "id": "9n9_cTveKmse"
      },
      "source": [
        "import random as rd\n",
        "import time\n",
        "import numpy as np\n",
        "import pandas as pd\n",
        "import tensorflow as tf\n",
        "from tensorflow import keras\n",
        "from tensorflow.keras import layers\n",
        "from matplotlib import pyplot as plt\n",
        "\n",
        "#submit = True\n",
        "submit = False"
      ],
      "execution_count": 1,
      "outputs": []
    },
    {
      "cell_type": "code",
      "metadata": {
        "cellView": "both",
        "id": "JZlvdpyYKx7V",
        "colab": {
          "base_uri": "https://localhost:8080/"
        },
        "outputId": "0778eff6-fc2d-42ad-e7cf-583c2eb0f6d1"
      },
      "source": [
        "# Load data\n",
        "\n",
        "#From Kaggle competition:\n",
        "#k_train = pd.read_csv('../input/digit-recognizer/train.csv')\n",
        "#k_train = pd.read_csv('../content/train.csv')\n",
        "k_train = pd.read_csv('https://github.com/davidabelin/kaggle-files/raw/main/digit-recognizer/train.csv')\n",
        "kaggle_data = [list(k_train.iloc[idx]) for idx in k_train.index]\n",
        "\n",
        "# the public MNIST dataset.\n",
        "(x_train, y_train),(x_test, y_test) = tf.keras.datasets.mnist.load_data()\n",
        "x_test = x_test.reshape((10000, 784))\n",
        "x_train = x_train.reshape((60000, 784))\n",
        "\n",
        "dummy = []\n",
        "for i in range(len(x_test)):\n",
        "    line = list(x_test[i])\n",
        "    line.insert(0, int(y_test[i]))\n",
        "    dummy += line\n",
        "for i in range(len(x_train)):  \n",
        "    line = list(x_train[i])\n",
        "    line.insert(0, int(y_train[i]))\n",
        "    dummy += line  \n",
        "mnist_data = np.asarray(dummy).reshape((70000,785))\n",
        "mnist_data = [list(row) for row in mnist_data]\n",
        "\n",
        "all_data = mnist_data + kaggle_data"
      ],
      "execution_count": 2,
      "outputs": [
        {
          "output_type": "stream",
          "text": [
            "Downloading data from https://storage.googleapis.com/tensorflow/tf-keras-datasets/mnist.npz\n",
            "11493376/11490434 [==============================] - 0s 0us/step\n"
          ],
          "name": "stdout"
        }
      ]
    },
    {
      "cell_type": "code",
      "metadata": {
        "id": "cy9BzUKdVVpB"
      },
      "source": [
        "all_data = np.random.permutation(all_data)\n",
        "all_data = np.asarray(all_data)\n",
        "data_df = pd.DataFrame(all_data)\n",
        "\n",
        "data_0_norm, labels_0 = np.asarray(data_df.loc[0:19999, 1:]/255.), np.array(data_df.loc[0:19999,0])\n",
        "data_1_norm, labels_1 = np.asarray(data_df.loc[20000:39999, 1:]/255.), np.array(data_df.loc[20000:39999,0])\n",
        "data_2_norm, labels_2 = np.asarray(data_df.loc[40000:59999, 1:]/255.), np.array(data_df.loc[40000:59999,0])\n",
        "val_data_norm, val_labels = np.asarray(data_df.loc[60000:61999:, 1:]/255.), np.array(data_df.loc[60000:61999,0])\n",
        "uber_data_norm, uber_labels = np.asarray(data_df.loc[62000:, 1:]/255.), np.array(data_df.loc[62000:,0])\n",
        "\n",
        "data_0_norm = data_0_norm.reshape(20000, 28, 28, 1)\n",
        "data_1_norm = data_1_norm.reshape(20000, 28, 28, 1)\n",
        "data_2_norm = data_2_norm.reshape(20000, 28, 28, 1)\n",
        "val_data_norm = val_data_norm.reshape(2000, 28, 28, 1)\n",
        "uber_data_norm = uber_data_norm.reshape(50000, 28, 28, 1)"
      ],
      "execution_count": 46,
      "outputs": []
    },
    {
      "cell_type": "code",
      "metadata": {
        "id": "aBHU76baSzlJ"
      },
      "source": [
        "# train on the training set with some held back for validation #\n",
        "def train_model(model, train_features, train_label, epochs,\n",
        "                batch_size=None, validation_split=None, verbose=0):\n",
        "\n",
        "    history = model.fit(x=train_features, y=train_label, \n",
        "                        batch_size=batch_size,\n",
        "                        epochs=epochs, shuffle=True, \n",
        "                        validation_split=validation_split,\n",
        "                        verbose = verbose)\n",
        "\n",
        "    # Gather the model's metrics after each round of training\n",
        "    epochs = history.epoch\n",
        "    hist = pd.DataFrame(history.history)\n",
        "    return epochs, hist"
      ],
      "execution_count": 47,
      "outputs": []
    },
    {
      "cell_type": "code",
      "metadata": {
        "id": "1C_tbFXcMHu7"
      },
      "source": [
        " # Set up a CNN with Keras\n",
        " \n",
        "def create_CNN(learning_rate):\n",
        "    \"\"\"Create and compile a convolutional neural net.\"\"\"  \n",
        "    # Define the kind of model to use.\n",
        "    model = tf.keras.models.Sequential()\n",
        "    model.add(tf.keras.layers.Conv2D(32, 5, activation='relu', input_shape=(28, 28, 1)))\n",
        "    model.add(tf.keras.layers.MaxPooling2D((2,2)))\n",
        "    model.add(tf.keras.layers.Conv2D(64, 3, activation='relu'))\n",
        "    model.add(tf.keras.layers.MaxPooling2D((2,2)))\n",
        "    model.add(tf.keras.layers.Flatten())\n",
        "    model.add(tf.keras.layers.Dense(units=10, activation='softmax'))     \n",
        "    model.compile(optimizer=tf.keras.optimizers.Adam(lr=learning_rate),\n",
        "                    loss=\"sparse_categorical_crossentropy\",\n",
        "                    metrics=['accuracy']) \n",
        "    return model"
      ],
      "execution_count": 48,
      "outputs": []
    },
    {
      "cell_type": "code",
      "metadata": {
        "id": "ViVafL--X5bG"
      },
      "source": [
        "def create_mixedNN(learning_rate):\n",
        "    \"\"\"Create and compile a deep neural net.\"\"\"  \n",
        "    # Define the kind of model to use.\n",
        "    model = tf.keras.models.Sequential()\n",
        "    model.add(tf.keras.layers.Conv2D(32, 6, activation='relu', input_shape=(28, 28, 1)))\n",
        "    model.add(tf.keras.layers.Conv2D(64, 2, activation='relu'))\n",
        "    model.add(tf.keras.layers.MaxPooling2D((2,2)))\n",
        "    model.add(tf.keras.layers.Flatten())\n",
        "    model.add(tf.keras.layers.Dense(units=1024, activation='relu'))\n",
        "    model.add(tf.keras.layers.Dropout(0.3))\n",
        "    model.add(tf.keras.layers.Dense(units=512, activation='relu'))\n",
        "    model.add(tf.keras.layers.Dropout(0.2))\n",
        "    model.add(tf.keras.layers.Dense(units=10, activation='softmax'))     \n",
        "    model.compile(optimizer=tf.keras.optimizers.Adam(lr=learning_rate),\n",
        "                    loss=\"sparse_categorical_crossentropy\",\n",
        "                    metrics=['accuracy']) \n",
        "    return model"
      ],
      "execution_count": 49,
      "outputs": []
    },
    {
      "cell_type": "code",
      "metadata": {
        "id": "hMfitb4zTuiS"
      },
      "source": [
        "def getDNNModel(learning_rate):\n",
        "    inputs = keras.Input(shape=(28, 28, 1))\n",
        "    dnn = layers.Flatten()(inputs)\n",
        "    dnn = layers.Dense(768, activation='relu')(dnn)\n",
        "    dnn = layers.Dropout(0.3)(dnn)\n",
        "    dnn = layers.Dense(units=512, activation='relu')(dnn)\n",
        "    dnn = layers.Dropout(0.2)(dnn)\n",
        "    dnn = layers.Dense(units=256, activation='relu')(dnn)\n",
        "    dnn = layers.Dropout(0.1)(dnn)\n",
        "    outputs = layers.Dense(10, activation=\"softmax\")(dnn)\n",
        "    model = keras.Model(inputs, outputs)\n",
        "    model.compile(optimizer=keras.optimizers.Adam(lr=learning_rate),\n",
        "                    loss=\"sparse_categorical_crossentropy\",\n",
        "                    metrics=['accuracy']) \n",
        "    return model    "
      ],
      "execution_count": 50,
      "outputs": []
    },
    {
      "cell_type": "code",
      "metadata": {
        "id": "9Kz7CP4jaGHB"
      },
      "source": [
        "learning_rate = 0.001\n",
        "epochs = 30\n",
        "batch_size = 500\n",
        "\n",
        "if submit:\n",
        "    validation_split = None\n",
        "    verbose = 0\n",
        "else:\n",
        "    validation_split = 0.05 # off bottom\n",
        "    verbose = 1\n",
        "\n",
        "model_A = create_CNN(learning_rate)\n",
        "model_B = getDNNModel(learning_rate)\n",
        "model_C = create_mixedNN(learning_rate)"
      ],
      "execution_count": 70,
      "outputs": []
    },
    {
      "cell_type": "code",
      "metadata": {
        "cellView": "both",
        "id": "Nn2eBWKXTuaX",
        "colab": {
          "base_uri": "https://localhost:8080/"
        },
        "outputId": "0b9d53ae-ff5c-4447-cd9b-a8f71951145f"
      },
      "source": [
        "#x_test_norm:\n",
        "start_time = time.time()\n",
        "epochs_A, hist_A = train_model(model_A, uber_data_norm, uber_labels, epochs, batch_size, validation_split, verbose=verbose)\n",
        "if not submit:\n",
        "    print(\"\\nTrained model A in about {} seconds\\n\".format((round(time.time()-start_time,4))))\n",
        "batch_time = time.time()\n",
        "\n",
        "#x_train_norm:\n",
        "epochs_B, hist_B = train_model(model_B, uber_data_norm, uber_labels, epochs, batch_size, validation_split, verbose=verbose)\n",
        "if not submit:\n",
        "    print(\"\\nTrained model B in about {} seconds\\n\".format((round(time.time()-batch_time,4))))\n",
        "batch_time = time.time()\n",
        "\n",
        "#k_train_norm:\n",
        "epochs_C, hist_C = train_model(model_C, uber_data_norm, uber_labels, epochs, batch_size, validation_split, verbose=verbose)\n",
        "if not submit:\n",
        "    print(\"\\nTrained model C in about {} seconds\\n\".format((round(time.time()-batch_time,4))))\n",
        "\n",
        "if not submit:\n",
        "    print (\"\\nTotal time: {} seconds is about {} minutes.\".format(round(time.time()-start_time,4),\n",
        "                                                              (time.time()-start_time)//60))"
      ],
      "execution_count": 71,
      "outputs": [
        {
          "output_type": "stream",
          "text": [
            "Epoch 1/30\n",
            "95/95 [==============================] - 0s 5ms/step - loss: 0.6548 - accuracy: 0.8315 - val_loss: 0.1876 - val_accuracy: 0.9472\n",
            "Epoch 2/30\n",
            "95/95 [==============================] - 0s 4ms/step - loss: 0.1366 - accuracy: 0.9601 - val_loss: 0.1074 - val_accuracy: 0.9676\n",
            "Epoch 3/30\n",
            "95/95 [==============================] - 0s 4ms/step - loss: 0.0890 - accuracy: 0.9738 - val_loss: 0.0906 - val_accuracy: 0.9692\n",
            "Epoch 4/30\n",
            "95/95 [==============================] - 0s 4ms/step - loss: 0.0684 - accuracy: 0.9800 - val_loss: 0.0625 - val_accuracy: 0.9804\n",
            "Epoch 5/30\n",
            "95/95 [==============================] - 0s 4ms/step - loss: 0.0578 - accuracy: 0.9831 - val_loss: 0.0693 - val_accuracy: 0.9764\n",
            "Epoch 6/30\n",
            "95/95 [==============================] - 0s 4ms/step - loss: 0.0497 - accuracy: 0.9851 - val_loss: 0.0512 - val_accuracy: 0.9840\n",
            "Epoch 7/30\n",
            "95/95 [==============================] - 0s 4ms/step - loss: 0.0436 - accuracy: 0.9869 - val_loss: 0.0502 - val_accuracy: 0.9840\n",
            "Epoch 8/30\n",
            "95/95 [==============================] - 0s 4ms/step - loss: 0.0398 - accuracy: 0.9880 - val_loss: 0.0477 - val_accuracy: 0.9852\n",
            "Epoch 9/30\n",
            "95/95 [==============================] - 0s 4ms/step - loss: 0.0351 - accuracy: 0.9897 - val_loss: 0.0486 - val_accuracy: 0.9860\n",
            "Epoch 10/30\n",
            "95/95 [==============================] - 0s 4ms/step - loss: 0.0328 - accuracy: 0.9901 - val_loss: 0.0445 - val_accuracy: 0.9864\n",
            "Epoch 11/30\n",
            "95/95 [==============================] - 0s 4ms/step - loss: 0.0293 - accuracy: 0.9911 - val_loss: 0.0450 - val_accuracy: 0.9876\n",
            "Epoch 12/30\n",
            "95/95 [==============================] - 0s 4ms/step - loss: 0.0272 - accuracy: 0.9920 - val_loss: 0.0502 - val_accuracy: 0.9864\n",
            "Epoch 13/30\n",
            "95/95 [==============================] - 0s 4ms/step - loss: 0.0235 - accuracy: 0.9933 - val_loss: 0.0476 - val_accuracy: 0.9860\n",
            "Epoch 14/30\n",
            "95/95 [==============================] - 0s 4ms/step - loss: 0.0223 - accuracy: 0.9935 - val_loss: 0.0463 - val_accuracy: 0.9884\n",
            "Epoch 15/30\n",
            "95/95 [==============================] - 0s 4ms/step - loss: 0.0202 - accuracy: 0.9945 - val_loss: 0.0407 - val_accuracy: 0.9892\n",
            "Epoch 16/30\n",
            "95/95 [==============================] - 0s 4ms/step - loss: 0.0187 - accuracy: 0.9944 - val_loss: 0.0437 - val_accuracy: 0.9884\n",
            "Epoch 17/30\n",
            "95/95 [==============================] - 0s 4ms/step - loss: 0.0161 - accuracy: 0.9955 - val_loss: 0.0446 - val_accuracy: 0.9880\n",
            "Epoch 18/30\n",
            "95/95 [==============================] - 0s 4ms/step - loss: 0.0147 - accuracy: 0.9960 - val_loss: 0.0461 - val_accuracy: 0.9876\n",
            "Epoch 19/30\n",
            "95/95 [==============================] - 0s 4ms/step - loss: 0.0153 - accuracy: 0.9957 - val_loss: 0.0478 - val_accuracy: 0.9880\n",
            "Epoch 20/30\n",
            "95/95 [==============================] - 0s 4ms/step - loss: 0.0130 - accuracy: 0.9962 - val_loss: 0.0498 - val_accuracy: 0.9888\n",
            "Epoch 21/30\n",
            "95/95 [==============================] - 0s 4ms/step - loss: 0.0116 - accuracy: 0.9969 - val_loss: 0.0468 - val_accuracy: 0.9896\n",
            "Epoch 22/30\n",
            "95/95 [==============================] - 0s 4ms/step - loss: 0.0107 - accuracy: 0.9973 - val_loss: 0.0488 - val_accuracy: 0.9896\n",
            "Epoch 23/30\n",
            "95/95 [==============================] - 0s 4ms/step - loss: 0.0093 - accuracy: 0.9980 - val_loss: 0.0470 - val_accuracy: 0.9888\n",
            "Epoch 24/30\n",
            "95/95 [==============================] - 0s 4ms/step - loss: 0.0091 - accuracy: 0.9980 - val_loss: 0.0450 - val_accuracy: 0.9916\n",
            "Epoch 25/30\n",
            "95/95 [==============================] - 0s 4ms/step - loss: 0.0079 - accuracy: 0.9979 - val_loss: 0.0526 - val_accuracy: 0.9908\n",
            "Epoch 26/30\n",
            "95/95 [==============================] - 0s 4ms/step - loss: 0.0074 - accuracy: 0.9983 - val_loss: 0.0470 - val_accuracy: 0.9908\n",
            "Epoch 27/30\n",
            "95/95 [==============================] - 0s 4ms/step - loss: 0.0072 - accuracy: 0.9983 - val_loss: 0.0454 - val_accuracy: 0.9892\n",
            "Epoch 28/30\n",
            "95/95 [==============================] - 0s 4ms/step - loss: 0.0064 - accuracy: 0.9985 - val_loss: 0.0478 - val_accuracy: 0.9892\n",
            "Epoch 29/30\n",
            "95/95 [==============================] - 0s 4ms/step - loss: 0.0059 - accuracy: 0.9987 - val_loss: 0.0504 - val_accuracy: 0.9880\n",
            "Epoch 30/30\n",
            "95/95 [==============================] - 0s 4ms/step - loss: 0.0060 - accuracy: 0.9986 - val_loss: 0.0498 - val_accuracy: 0.9904\n",
            "\n",
            "Trained model A in about 11.617 seconds\n",
            "\n",
            "Epoch 1/30\n",
            "95/95 [==============================] - 0s 4ms/step - loss: 0.4085 - accuracy: 0.8769 - val_loss: 0.1498 - val_accuracy: 0.9544\n",
            "Epoch 2/30\n",
            "95/95 [==============================] - 0s 3ms/step - loss: 0.1349 - accuracy: 0.9591 - val_loss: 0.0948 - val_accuracy: 0.9704\n",
            "Epoch 3/30\n",
            "95/95 [==============================] - 0s 3ms/step - loss: 0.0895 - accuracy: 0.9723 - val_loss: 0.0839 - val_accuracy: 0.9716\n",
            "Epoch 4/30\n",
            "95/95 [==============================] - 0s 3ms/step - loss: 0.0682 - accuracy: 0.9784 - val_loss: 0.0733 - val_accuracy: 0.9768\n",
            "Epoch 5/30\n",
            "95/95 [==============================] - 0s 3ms/step - loss: 0.0545 - accuracy: 0.9820 - val_loss: 0.0609 - val_accuracy: 0.9788\n",
            "Epoch 6/30\n",
            "95/95 [==============================] - 0s 3ms/step - loss: 0.0428 - accuracy: 0.9861 - val_loss: 0.0718 - val_accuracy: 0.9788\n",
            "Epoch 7/30\n",
            "95/95 [==============================] - 0s 3ms/step - loss: 0.0352 - accuracy: 0.9888 - val_loss: 0.0647 - val_accuracy: 0.9808\n",
            "Epoch 8/30\n",
            "95/95 [==============================] - 0s 3ms/step - loss: 0.0314 - accuracy: 0.9896 - val_loss: 0.0608 - val_accuracy: 0.9812\n",
            "Epoch 9/30\n",
            "95/95 [==============================] - 0s 3ms/step - loss: 0.0275 - accuracy: 0.9911 - val_loss: 0.0680 - val_accuracy: 0.9796\n",
            "Epoch 10/30\n",
            "95/95 [==============================] - 0s 3ms/step - loss: 0.0262 - accuracy: 0.9913 - val_loss: 0.0668 - val_accuracy: 0.9820\n",
            "Epoch 11/30\n",
            "95/95 [==============================] - 0s 3ms/step - loss: 0.0215 - accuracy: 0.9930 - val_loss: 0.0693 - val_accuracy: 0.9796\n",
            "Epoch 12/30\n",
            "95/95 [==============================] - 0s 3ms/step - loss: 0.0218 - accuracy: 0.9931 - val_loss: 0.0602 - val_accuracy: 0.9856\n",
            "Epoch 13/30\n",
            "95/95 [==============================] - 0s 3ms/step - loss: 0.0164 - accuracy: 0.9946 - val_loss: 0.0668 - val_accuracy: 0.9828\n",
            "Epoch 14/30\n",
            "95/95 [==============================] - 0s 3ms/step - loss: 0.0202 - accuracy: 0.9933 - val_loss: 0.0539 - val_accuracy: 0.9844\n",
            "Epoch 15/30\n",
            "95/95 [==============================] - 0s 3ms/step - loss: 0.0165 - accuracy: 0.9945 - val_loss: 0.0598 - val_accuracy: 0.9856\n",
            "Epoch 16/30\n",
            "95/95 [==============================] - 0s 3ms/step - loss: 0.0164 - accuracy: 0.9939 - val_loss: 0.0665 - val_accuracy: 0.9836\n",
            "Epoch 17/30\n",
            "95/95 [==============================] - 0s 3ms/step - loss: 0.0149 - accuracy: 0.9951 - val_loss: 0.0670 - val_accuracy: 0.9828\n",
            "Epoch 18/30\n",
            "95/95 [==============================] - 0s 3ms/step - loss: 0.0143 - accuracy: 0.9952 - val_loss: 0.0646 - val_accuracy: 0.9848\n",
            "Epoch 19/30\n",
            "95/95 [==============================] - 0s 3ms/step - loss: 0.0158 - accuracy: 0.9946 - val_loss: 0.0646 - val_accuracy: 0.9824\n",
            "Epoch 20/30\n",
            "95/95 [==============================] - 0s 3ms/step - loss: 0.0149 - accuracy: 0.9951 - val_loss: 0.0621 - val_accuracy: 0.9852\n",
            "Epoch 21/30\n",
            "95/95 [==============================] - 0s 3ms/step - loss: 0.0112 - accuracy: 0.9963 - val_loss: 0.0706 - val_accuracy: 0.9848\n",
            "Epoch 22/30\n",
            "95/95 [==============================] - 0s 3ms/step - loss: 0.0142 - accuracy: 0.9951 - val_loss: 0.0537 - val_accuracy: 0.9860\n",
            "Epoch 23/30\n",
            "95/95 [==============================] - 0s 3ms/step - loss: 0.0107 - accuracy: 0.9965 - val_loss: 0.0636 - val_accuracy: 0.9848\n",
            "Epoch 24/30\n",
            "95/95 [==============================] - 0s 3ms/step - loss: 0.0131 - accuracy: 0.9954 - val_loss: 0.0664 - val_accuracy: 0.9840\n",
            "Epoch 25/30\n",
            "95/95 [==============================] - 0s 3ms/step - loss: 0.0121 - accuracy: 0.9959 - val_loss: 0.0611 - val_accuracy: 0.9864\n",
            "Epoch 26/30\n",
            "95/95 [==============================] - 0s 3ms/step - loss: 0.0113 - accuracy: 0.9963 - val_loss: 0.0581 - val_accuracy: 0.9876\n",
            "Epoch 27/30\n",
            "95/95 [==============================] - 0s 3ms/step - loss: 0.0098 - accuracy: 0.9969 - val_loss: 0.0588 - val_accuracy: 0.9844\n",
            "Epoch 28/30\n",
            "95/95 [==============================] - 0s 3ms/step - loss: 0.0121 - accuracy: 0.9957 - val_loss: 0.0683 - val_accuracy: 0.9832\n",
            "Epoch 29/30\n",
            "95/95 [==============================] - 0s 3ms/step - loss: 0.0094 - accuracy: 0.9969 - val_loss: 0.0611 - val_accuracy: 0.9868\n",
            "Epoch 30/30\n",
            "95/95 [==============================] - 0s 3ms/step - loss: 0.0082 - accuracy: 0.9973 - val_loss: 0.0657 - val_accuracy: 0.9844\n",
            "\n",
            "Trained model B in about 8.7705 seconds\n",
            "\n",
            "Epoch 1/30\n",
            "95/95 [==============================] - 1s 9ms/step - loss: 0.2965 - accuracy: 0.9085 - val_loss: 0.0680 - val_accuracy: 0.9784\n",
            "Epoch 2/30\n",
            "95/95 [==============================] - 1s 8ms/step - loss: 0.0583 - accuracy: 0.9819 - val_loss: 0.0416 - val_accuracy: 0.9868\n",
            "Epoch 3/30\n",
            "95/95 [==============================] - 1s 8ms/step - loss: 0.0361 - accuracy: 0.9887 - val_loss: 0.0376 - val_accuracy: 0.9892\n",
            "Epoch 4/30\n",
            "95/95 [==============================] - 1s 8ms/step - loss: 0.0268 - accuracy: 0.9913 - val_loss: 0.0344 - val_accuracy: 0.9892\n",
            "Epoch 5/30\n",
            "95/95 [==============================] - 1s 8ms/step - loss: 0.0184 - accuracy: 0.9938 - val_loss: 0.0358 - val_accuracy: 0.9900\n",
            "Epoch 6/30\n",
            "95/95 [==============================] - 1s 8ms/step - loss: 0.0135 - accuracy: 0.9959 - val_loss: 0.0334 - val_accuracy: 0.9896\n",
            "Epoch 7/30\n",
            "95/95 [==============================] - 1s 8ms/step - loss: 0.0093 - accuracy: 0.9972 - val_loss: 0.0289 - val_accuracy: 0.9920\n",
            "Epoch 8/30\n",
            "95/95 [==============================] - 1s 8ms/step - loss: 0.0101 - accuracy: 0.9965 - val_loss: 0.0362 - val_accuracy: 0.9904\n",
            "Epoch 9/30\n",
            "95/95 [==============================] - 1s 8ms/step - loss: 0.0091 - accuracy: 0.9971 - val_loss: 0.0351 - val_accuracy: 0.9908\n",
            "Epoch 10/30\n",
            "95/95 [==============================] - 1s 8ms/step - loss: 0.0075 - accuracy: 0.9977 - val_loss: 0.0273 - val_accuracy: 0.9924\n",
            "Epoch 11/30\n",
            "95/95 [==============================] - 1s 8ms/step - loss: 0.0061 - accuracy: 0.9980 - val_loss: 0.0331 - val_accuracy: 0.9924\n",
            "Epoch 12/30\n",
            "95/95 [==============================] - 1s 8ms/step - loss: 0.0047 - accuracy: 0.9984 - val_loss: 0.0329 - val_accuracy: 0.9908\n",
            "Epoch 13/30\n",
            "95/95 [==============================] - 1s 8ms/step - loss: 0.0048 - accuracy: 0.9985 - val_loss: 0.0316 - val_accuracy: 0.9940\n",
            "Epoch 14/30\n",
            "95/95 [==============================] - 1s 8ms/step - loss: 0.0038 - accuracy: 0.9987 - val_loss: 0.0314 - val_accuracy: 0.9936\n",
            "Epoch 15/30\n",
            "95/95 [==============================] - 1s 8ms/step - loss: 0.0044 - accuracy: 0.9984 - val_loss: 0.0322 - val_accuracy: 0.9924\n",
            "Epoch 16/30\n",
            "95/95 [==============================] - 1s 8ms/step - loss: 0.0034 - accuracy: 0.9991 - val_loss: 0.0292 - val_accuracy: 0.9920\n",
            "Epoch 17/30\n",
            "95/95 [==============================] - 1s 8ms/step - loss: 0.0049 - accuracy: 0.9984 - val_loss: 0.0354 - val_accuracy: 0.9920\n",
            "Epoch 18/30\n",
            "95/95 [==============================] - 1s 8ms/step - loss: 0.0032 - accuracy: 0.9989 - val_loss: 0.0379 - val_accuracy: 0.9924\n",
            "Epoch 19/30\n",
            "95/95 [==============================] - 1s 8ms/step - loss: 0.0034 - accuracy: 0.9989 - val_loss: 0.0288 - val_accuracy: 0.9928\n",
            "Epoch 20/30\n",
            "95/95 [==============================] - 1s 8ms/step - loss: 0.0036 - accuracy: 0.9988 - val_loss: 0.0403 - val_accuracy: 0.9924\n",
            "Epoch 21/30\n",
            "95/95 [==============================] - 1s 8ms/step - loss: 0.0034 - accuracy: 0.9986 - val_loss: 0.0393 - val_accuracy: 0.9932\n",
            "Epoch 22/30\n",
            "95/95 [==============================] - 1s 8ms/step - loss: 0.0029 - accuracy: 0.9992 - val_loss: 0.0315 - val_accuracy: 0.9936\n",
            "Epoch 23/30\n",
            "95/95 [==============================] - 1s 8ms/step - loss: 0.0051 - accuracy: 0.9985 - val_loss: 0.0464 - val_accuracy: 0.9904\n",
            "Epoch 24/30\n",
            "95/95 [==============================] - 1s 8ms/step - loss: 0.0050 - accuracy: 0.9981 - val_loss: 0.0359 - val_accuracy: 0.9908\n",
            "Epoch 25/30\n",
            "95/95 [==============================] - 1s 8ms/step - loss: 0.0035 - accuracy: 0.9988 - val_loss: 0.0427 - val_accuracy: 0.9920\n",
            "Epoch 26/30\n",
            "95/95 [==============================] - 1s 8ms/step - loss: 0.0023 - accuracy: 0.9993 - val_loss: 0.0468 - val_accuracy: 0.9904\n",
            "Epoch 27/30\n",
            "95/95 [==============================] - 1s 8ms/step - loss: 0.0021 - accuracy: 0.9992 - val_loss: 0.0458 - val_accuracy: 0.9924\n",
            "Epoch 28/30\n",
            "95/95 [==============================] - 1s 8ms/step - loss: 0.0024 - accuracy: 0.9992 - val_loss: 0.0491 - val_accuracy: 0.9916\n",
            "Epoch 29/30\n",
            "95/95 [==============================] - 1s 8ms/step - loss: 0.0019 - accuracy: 0.9995 - val_loss: 0.0400 - val_accuracy: 0.9940\n",
            "Epoch 30/30\n",
            "95/95 [==============================] - 1s 8ms/step - loss: 0.0013 - accuracy: 0.9996 - val_loss: 0.0312 - val_accuracy: 0.9940\n",
            "\n",
            "Trained model C in about 22.783 seconds\n",
            "\n",
            "\n",
            "Total time: 43.171 seconds is about 0.0 minutes.\n"
          ],
          "name": "stdout"
        }
      ]
    },
    {
      "cell_type": "code",
      "metadata": {
        "id": "_XaLUPOicU9x",
        "colab": {
          "base_uri": "https://localhost:8080/"
        },
        "outputId": "9d117171-e85f-49c5-a56c-4a317fc7b8e5"
      },
      "source": [
        "if not submit:\n",
        "    print (\"Evaluate against val_data_norm:\")\n",
        "    print (\"A:\",model_A.evaluate(val_data_norm, val_labels, batch_size=100))\n",
        "    print (\"B:\",model_B.evaluate(val_data_norm, val_labels, batch_size=100))\n",
        "    print (\"C:\",model_C.evaluate(val_data_norm, val_labels, batch_size=100))"
      ],
      "execution_count": 72,
      "outputs": [
        {
          "output_type": "stream",
          "text": [
            "Evaluate against val_data_norm:\n",
            "20/20 [==============================] - 0s 2ms/step - loss: 0.0367 - accuracy: 0.9905\n",
            "A: [0.03670591488480568, 0.9904999732971191]\n",
            "20/20 [==============================] - 0s 2ms/step - loss: 0.0638 - accuracy: 0.9900\n",
            "B: [0.06384072452783585, 0.9900000095367432]\n",
            "20/20 [==============================] - 0s 2ms/step - loss: 0.0407 - accuracy: 0.9915\n",
            "C: [0.04066876694560051, 0.9915000200271606]\n"
          ],
          "name": "stdout"
        }
      ]
    },
    {
      "cell_type": "code",
      "metadata": {
        "id": "SQoJ-mA6SpPF"
      },
      "source": [
        "def getUberModel(learning_rate, modelA, modelB, modelC):\n",
        "    \n",
        "    inputs = keras.Input(shape=(28, 28, 1))\n",
        "    xA = modelA(inputs)\n",
        "    xB = modelB(inputs)\n",
        "    xC = modelC(inputs)\n",
        "    x = layers.concatenate([xA, xB, xC])\n",
        "    x = layers.Dense(300, activation='relu')(x)\n",
        "    x = layers.Dropout(0.3)(x)\n",
        "    outputs = layers.Dense(10, activation=\"softmax\")(x)\n",
        "    ensemble_model = keras.Model(inputs=inputs, outputs=outputs)\n",
        "    ensemble_model.compile(optimizer=keras.optimizers.Adam(lr=learning_rate),\n",
        "                            loss=\"sparse_categorical_crossentropy\",\n",
        "                            metrics=['accuracy']) \n",
        "    return ensemble_model"
      ],
      "execution_count": 73,
      "outputs": []
    },
    {
      "cell_type": "code",
      "metadata": {
        "id": "S-GQdo-oel-f",
        "colab": {
          "base_uri": "https://localhost:8080/",
          "height": 477
        },
        "outputId": "ca5821e3-eb6b-4595-d407-b34cc1a85f1f"
      },
      "source": [
        "ubermodel = getUberModel(learning_rate, model_A, model_B, model_C)\n",
        "#ubermodel.summary()\n",
        "keras.utils.plot_model(ubermodel, \"ubermodel.png\", show_shapes=True)"
      ],
      "execution_count": 74,
      "outputs": [
        {
          "output_type": "execute_result",
          "data": {
            "image/png": "[encoded data removed]",
            "text/plain": [
              "<IPython.core.display.Image object>"
            ]
          },
          "metadata": {
            "tags": []
          },
          "execution_count": 74
        }
      ]
    },
    {
      "cell_type": "code",
      "metadata": {
        "id": "RuhvEOaMP5jp",
        "colab": {
          "base_uri": "https://localhost:8080/"
        },
        "outputId": "d0be1dda-ff64-4c5b-8b3f-c9196fa7aa0f"
      },
      "source": [
        "#Ubermodel train:\n",
        "start_time = time.time()\n",
        "epochs_U, hist_U = train_model(ubermodel, uber_data_norm, uber_labels, epochs+20, batch_size, validation_split, verbose=verbose)\n",
        "\n",
        "if not submit:\n",
        "    print(\"\\nTrained model C in about {} seconds\\n\".format((round(time.time()-start_time,4))))\n"
      ],
      "execution_count": 75,
      "outputs": [
        {
          "output_type": "stream",
          "text": [
            "Epoch 1/50\n",
            "95/95 [==============================] - 1s 13ms/step - loss: 0.7581 - accuracy: 0.9399 - val_loss: 0.0756 - val_accuracy: 0.9912\n",
            "Epoch 2/50\n",
            "95/95 [==============================] - 1s 11ms/step - loss: 0.0278 - accuracy: 0.9989 - val_loss: 0.0459 - val_accuracy: 0.9908\n",
            "Epoch 3/50\n",
            "95/95 [==============================] - 1s 11ms/step - loss: 0.0124 - accuracy: 0.9985 - val_loss: 0.0397 - val_accuracy: 0.9924\n",
            "Epoch 4/50\n",
            "95/95 [==============================] - 1s 11ms/step - loss: 0.0121 - accuracy: 0.9977 - val_loss: 0.0348 - val_accuracy: 0.9908\n",
            "Epoch 5/50\n",
            "95/95 [==============================] - 1s 10ms/step - loss: 0.0154 - accuracy: 0.9961 - val_loss: 0.0485 - val_accuracy: 0.9880\n",
            "Epoch 6/50\n",
            "95/95 [==============================] - 1s 11ms/step - loss: 0.0115 - accuracy: 0.9971 - val_loss: 0.0392 - val_accuracy: 0.9896\n",
            "Epoch 7/50\n",
            "95/95 [==============================] - 1s 11ms/step - loss: 0.0141 - accuracy: 0.9963 - val_loss: 0.0556 - val_accuracy: 0.9880\n",
            "Epoch 8/50\n",
            "95/95 [==============================] - 1s 11ms/step - loss: 0.0102 - accuracy: 0.9972 - val_loss: 0.0521 - val_accuracy: 0.9888\n",
            "Epoch 9/50\n",
            "95/95 [==============================] - 1s 11ms/step - loss: 0.0076 - accuracy: 0.9979 - val_loss: 0.0423 - val_accuracy: 0.9908\n",
            "Epoch 10/50\n",
            "95/95 [==============================] - 1s 11ms/step - loss: 0.0096 - accuracy: 0.9975 - val_loss: 0.0412 - val_accuracy: 0.9892\n",
            "Epoch 11/50\n",
            "95/95 [==============================] - 1s 10ms/step - loss: 0.0124 - accuracy: 0.9967 - val_loss: 0.0401 - val_accuracy: 0.9904\n",
            "Epoch 12/50\n",
            "95/95 [==============================] - 1s 11ms/step - loss: 0.0090 - accuracy: 0.9978 - val_loss: 0.0419 - val_accuracy: 0.9908\n",
            "Epoch 13/50\n",
            "95/95 [==============================] - 1s 11ms/step - loss: 0.0075 - accuracy: 0.9979 - val_loss: 0.0425 - val_accuracy: 0.9920\n",
            "Epoch 14/50\n",
            "95/95 [==============================] - 1s 11ms/step - loss: 0.0053 - accuracy: 0.9986 - val_loss: 0.0395 - val_accuracy: 0.9936\n",
            "Epoch 15/50\n",
            "95/95 [==============================] - 1s 11ms/step - loss: 0.0059 - accuracy: 0.9985 - val_loss: 0.0331 - val_accuracy: 0.9928\n",
            "Epoch 16/50\n",
            "95/95 [==============================] - 1s 11ms/step - loss: 0.0080 - accuracy: 0.9976 - val_loss: 0.0496 - val_accuracy: 0.9888\n",
            "Epoch 17/50\n",
            "95/95 [==============================] - 1s 11ms/step - loss: 0.0062 - accuracy: 0.9981 - val_loss: 0.0393 - val_accuracy: 0.9928\n",
            "Epoch 18/50\n",
            "95/95 [==============================] - 1s 11ms/step - loss: 0.0061 - accuracy: 0.9984 - val_loss: 0.0349 - val_accuracy: 0.9924\n",
            "Epoch 19/50\n",
            "95/95 [==============================] - 1s 10ms/step - loss: 0.0050 - accuracy: 0.9985 - val_loss: 0.0448 - val_accuracy: 0.9932\n",
            "Epoch 20/50\n",
            "95/95 [==============================] - 1s 11ms/step - loss: 0.0028 - accuracy: 0.9993 - val_loss: 0.0398 - val_accuracy: 0.9932\n",
            "Epoch 21/50\n",
            "95/95 [==============================] - 1s 11ms/step - loss: 0.0020 - accuracy: 0.9994 - val_loss: 0.0477 - val_accuracy: 0.9912\n",
            "Epoch 22/50\n",
            "95/95 [==============================] - 1s 11ms/step - loss: 0.0023 - accuracy: 0.9993 - val_loss: 0.0475 - val_accuracy: 0.9928\n",
            "Epoch 23/50\n",
            "95/95 [==============================] - 1s 11ms/step - loss: 0.0043 - accuracy: 0.9989 - val_loss: 0.0391 - val_accuracy: 0.9936\n",
            "Epoch 24/50\n",
            "95/95 [==============================] - 1s 11ms/step - loss: 0.0022 - accuracy: 0.9993 - val_loss: 0.0390 - val_accuracy: 0.9924\n",
            "Epoch 25/50\n",
            "95/95 [==============================] - 1s 11ms/step - loss: 0.0033 - accuracy: 0.9988 - val_loss: 0.0393 - val_accuracy: 0.9924\n",
            "Epoch 26/50\n",
            "95/95 [==============================] - 1s 11ms/step - loss: 0.0031 - accuracy: 0.9990 - val_loss: 0.0344 - val_accuracy: 0.9928\n",
            "Epoch 27/50\n",
            "95/95 [==============================] - 1s 10ms/step - loss: 0.0015 - accuracy: 0.9997 - val_loss: 0.0352 - val_accuracy: 0.9952\n",
            "Epoch 28/50\n",
            "95/95 [==============================] - 1s 11ms/step - loss: 0.0023 - accuracy: 0.9993 - val_loss: 0.0373 - val_accuracy: 0.9928\n",
            "Epoch 29/50\n",
            "95/95 [==============================] - 1s 11ms/step - loss: 0.0045 - accuracy: 0.9986 - val_loss: 0.0425 - val_accuracy: 0.9920\n",
            "Epoch 30/50\n",
            "95/95 [==============================] - 1s 11ms/step - loss: 0.0053 - accuracy: 0.9983 - val_loss: 0.0463 - val_accuracy: 0.9912\n",
            "Epoch 31/50\n",
            "95/95 [==============================] - 1s 11ms/step - loss: 0.0054 - accuracy: 0.9984 - val_loss: 0.0331 - val_accuracy: 0.9928\n",
            "Epoch 32/50\n",
            "95/95 [==============================] - 1s 11ms/step - loss: 0.0041 - accuracy: 0.9987 - val_loss: 0.0524 - val_accuracy: 0.9884\n",
            "Epoch 33/50\n",
            "95/95 [==============================] - 1s 11ms/step - loss: 0.0031 - accuracy: 0.9989 - val_loss: 0.0509 - val_accuracy: 0.9908\n",
            "Epoch 34/50\n",
            "95/95 [==============================] - 1s 11ms/step - loss: 0.0023 - accuracy: 0.9993 - val_loss: 0.0426 - val_accuracy: 0.9928\n",
            "Epoch 35/50\n",
            "95/95 [==============================] - 1s 11ms/step - loss: 7.9388e-04 - accuracy: 0.9998 - val_loss: 0.0474 - val_accuracy: 0.9924\n",
            "Epoch 36/50\n",
            "95/95 [==============================] - 1s 10ms/step - loss: 0.0011 - accuracy: 0.9996 - val_loss: 0.0395 - val_accuracy: 0.9932\n",
            "Epoch 37/50\n",
            "95/95 [==============================] - 1s 11ms/step - loss: 0.0029 - accuracy: 0.9992 - val_loss: 0.0750 - val_accuracy: 0.9888\n",
            "Epoch 38/50\n",
            "95/95 [==============================] - 1s 11ms/step - loss: 0.0049 - accuracy: 0.9985 - val_loss: 0.0460 - val_accuracy: 0.9924\n",
            "Epoch 39/50\n",
            "95/95 [==============================] - 1s 11ms/step - loss: 0.0044 - accuracy: 0.9987 - val_loss: 0.0530 - val_accuracy: 0.9920\n",
            "Epoch 40/50\n",
            "95/95 [==============================] - 1s 11ms/step - loss: 0.0023 - accuracy: 0.9993 - val_loss: 0.0648 - val_accuracy: 0.9908\n",
            "Epoch 41/50\n",
            "95/95 [==============================] - 1s 11ms/step - loss: 0.0034 - accuracy: 0.9991 - val_loss: 0.0518 - val_accuracy: 0.9916\n",
            "Epoch 42/50\n",
            "95/95 [==============================] - 1s 11ms/step - loss: 0.0038 - accuracy: 0.9989 - val_loss: 0.0440 - val_accuracy: 0.9912\n",
            "Epoch 43/50\n",
            "95/95 [==============================] - 1s 11ms/step - loss: 0.0032 - accuracy: 0.9988 - val_loss: 0.0403 - val_accuracy: 0.9936\n",
            "Epoch 44/50\n",
            "95/95 [==============================] - 1s 11ms/step - loss: 0.0032 - accuracy: 0.9990 - val_loss: 0.0431 - val_accuracy: 0.9928\n",
            "Epoch 45/50\n",
            "95/95 [==============================] - 1s 11ms/step - loss: 0.0025 - accuracy: 0.9992 - val_loss: 0.0506 - val_accuracy: 0.9916\n",
            "Epoch 46/50\n",
            "95/95 [==============================] - 1s 11ms/step - loss: 0.0020 - accuracy: 0.9994 - val_loss: 0.0488 - val_accuracy: 0.9932\n",
            "Epoch 47/50\n",
            "95/95 [==============================] - 1s 11ms/step - loss: 0.0012 - accuracy: 0.9997 - val_loss: 0.0500 - val_accuracy: 0.9912\n",
            "Epoch 48/50\n",
            "95/95 [==============================] - 1s 11ms/step - loss: 0.0026 - accuracy: 0.9993 - val_loss: 0.0527 - val_accuracy: 0.9912\n",
            "Epoch 49/50\n",
            "95/95 [==============================] - 1s 11ms/step - loss: 0.0054 - accuracy: 0.9983 - val_loss: 0.0526 - val_accuracy: 0.9900\n",
            "Epoch 50/50\n",
            "95/95 [==============================] - 1s 11ms/step - loss: 0.0021 - accuracy: 0.9994 - val_loss: 0.0533 - val_accuracy: 0.9924\n",
            "\n",
            "Trained model C in about 51.9753 seconds\n",
            "\n"
          ],
          "name": "stdout"
        }
      ]
    },
    {
      "cell_type": "code",
      "metadata": {
        "colab": {
          "base_uri": "https://localhost:8080/"
        },
        "id": "E-NUejiaykrD",
        "outputId": "bcf759ba-f744-4dc4-8b54-692cd75ac863"
      },
      "source": [
        "print (\"Ubermodel:\",ubermodel.evaluate(val_data_norm, val_labels, batch_size=100))"
      ],
      "execution_count": 76,
      "outputs": [
        {
          "output_type": "stream",
          "text": [
            "20/20 [==============================] - 0s 3ms/step - loss: 0.0444 - accuracy: 0.9930\n",
            "Ubermodel: [0.044363755732774734, 0.9929999709129333]\n"
          ],
          "name": "stdout"
        }
      ]
    },
    {
      "cell_type": "code",
      "metadata": {
        "colab": {
          "base_uri": "https://localhost:8080/",
          "height": 306
        },
        "id": "SBAx2jir6P6v",
        "outputId": "09ef21f8-0cb2-416a-f5d1-e0d675f69fad"
      },
      "source": [
        "digiteer = keras.models.load_model(filepath='/content/digiteer_model.zip')"
      ],
      "execution_count": 87,
      "outputs": [
        {
          "output_type": "error",
          "ename": "OSError",
          "evalue": "ignored",
          "traceback": [
            "\u001b[0;31m---------------------------------------------------------------------------\u001b[0m",
            "\u001b[0;31mOSError\u001b[0m                                   Traceback (most recent call last)",
            "\u001b[0;32m<ipython-input-87-400a9f1c76e9>\u001b[0m in \u001b[0;36m<module>\u001b[0;34m()\u001b[0m\n\u001b[0;32m----> 1\u001b[0;31m \u001b[0mdigiteer\u001b[0m \u001b[0;34m=\u001b[0m \u001b[0mkeras\u001b[0m\u001b[0;34m.\u001b[0m\u001b[0mmodels\u001b[0m\u001b[0;34m.\u001b[0m\u001b[0mload_model\u001b[0m\u001b[0;34m(\u001b[0m\u001b[0mfilepath\u001b[0m\u001b[0;34m=\u001b[0m\u001b[0;34m'/content/digiteer_model.zip'\u001b[0m\u001b[0;34m)\u001b[0m\u001b[0;34m\u001b[0m\u001b[0;34m\u001b[0m\u001b[0m\n\u001b[0m",
            "\u001b[0;32m/usr/local/lib/python3.6/dist-packages/tensorflow/python/keras/saving/save.py\u001b[0m in \u001b[0;36mload_model\u001b[0;34m(filepath, custom_objects, compile, options)\u001b[0m\n\u001b[1;32m    184\u001b[0m     \u001b[0mfilepath\u001b[0m \u001b[0;34m=\u001b[0m \u001b[0mpath_to_string\u001b[0m\u001b[0;34m(\u001b[0m\u001b[0mfilepath\u001b[0m\u001b[0;34m)\u001b[0m\u001b[0;34m\u001b[0m\u001b[0;34m\u001b[0m\u001b[0m\n\u001b[1;32m    185\u001b[0m     \u001b[0;32mif\u001b[0m \u001b[0misinstance\u001b[0m\u001b[0;34m(\u001b[0m\u001b[0mfilepath\u001b[0m\u001b[0;34m,\u001b[0m \u001b[0msix\u001b[0m\u001b[0;34m.\u001b[0m\u001b[0mstring_types\u001b[0m\u001b[0;34m)\u001b[0m\u001b[0;34m:\u001b[0m\u001b[0;34m\u001b[0m\u001b[0;34m\u001b[0m\u001b[0m\n\u001b[0;32m--> 186\u001b[0;31m       \u001b[0mloader_impl\u001b[0m\u001b[0;34m.\u001b[0m\u001b[0mparse_saved_model\u001b[0m\u001b[0;34m(\u001b[0m\u001b[0mfilepath\u001b[0m\u001b[0;34m)\u001b[0m\u001b[0;34m\u001b[0m\u001b[0;34m\u001b[0m\u001b[0m\n\u001b[0m\u001b[1;32m    187\u001b[0m       \u001b[0;32mreturn\u001b[0m \u001b[0msaved_model_load\u001b[0m\u001b[0;34m.\u001b[0m\u001b[0mload\u001b[0m\u001b[0;34m(\u001b[0m\u001b[0mfilepath\u001b[0m\u001b[0;34m,\u001b[0m \u001b[0mcompile\u001b[0m\u001b[0;34m,\u001b[0m \u001b[0moptions\u001b[0m\u001b[0;34m)\u001b[0m\u001b[0;34m\u001b[0m\u001b[0;34m\u001b[0m\u001b[0m\n\u001b[1;32m    188\u001b[0m \u001b[0;34m\u001b[0m\u001b[0m\n",
            "\u001b[0;32m/usr/local/lib/python3.6/dist-packages/tensorflow/python/saved_model/loader_impl.py\u001b[0m in \u001b[0;36mparse_saved_model\u001b[0;34m(export_dir)\u001b[0m\n\u001b[1;32m    111\u001b[0m                   (export_dir,\n\u001b[1;32m    112\u001b[0m                    \u001b[0mconstants\u001b[0m\u001b[0;34m.\u001b[0m\u001b[0mSAVED_MODEL_FILENAME_PBTXT\u001b[0m\u001b[0;34m,\u001b[0m\u001b[0;34m\u001b[0m\u001b[0;34m\u001b[0m\u001b[0m\n\u001b[0;32m--> 113\u001b[0;31m                    constants.SAVED_MODEL_FILENAME_PB))\n\u001b[0m\u001b[1;32m    114\u001b[0m \u001b[0;34m\u001b[0m\u001b[0m\n\u001b[1;32m    115\u001b[0m \u001b[0;34m\u001b[0m\u001b[0m\n",
            "\u001b[0;31mOSError\u001b[0m: SavedModel file does not exist at: /content/digiteer_model.zip/{saved_model.pbtxt|saved_model.pb}"
          ]
        }
      ]
    },
    {
      "cell_type": "code",
      "metadata": {
        "id": "W5bHGejdaxby"
      },
      "source": [
        "def getPredictions(model=None, dataset=None): \n",
        "    ''' Takes a trained model and data\n",
        "        Returns a List of guesses for that model on that data\n",
        "    ''' \n",
        "    predictions = []\n",
        "    predicts = model.predict(dataset)\n",
        "    for j in range(len(dataset)):\n",
        "        probs = predicts[j] # one row of 10 probabilities \n",
        "        max_id = np.argmax(probs)   # index of top probability in row\n",
        "        predictions += [max_id]\n",
        "    return predictions"
      ],
      "execution_count": 60,
      "outputs": []
    },
    {
      "cell_type": "code",
      "metadata": {
        "id": "PzxZVtm0P5jp"
      },
      "source": [
        "def getProbabilities(model=None, dataset=None):\n",
        "    ''' Takes a trained model and a set of data\n",
        "        Returns a List of guesses by that model for that data\n",
        "    ''' \n",
        "    return model.predict(dataset)"
      ],
      "execution_count": 61,
      "outputs": []
    },
    {
      "cell_type": "code",
      "metadata": {
        "id": "1aGtML-Okikx"
      },
      "source": [
        "#kaggle = pd.read_csv('../input/digit-recognizer/test.csv')\n",
        "kaggle = pd.read_csv('https://github.com/davidabelin/kaggle-files/raw/main/digit-recognizer/test.csv')\n",
        "kaggle_norm = np.asarray(kaggle/255.)\n",
        "kaggle_norm = kaggle_norm.reshape(28000, 28, 28, 1)"
      ],
      "execution_count": 62,
      "outputs": []
    },
    {
      "cell_type": "code",
      "metadata": {
        "id": "4QBcAX5baRij"
      },
      "source": [
        "kag_guesses = pd.DataFrame(columns=['A', 'B', 'C', 'AB','AC','CB'])\n",
        "\n",
        "kag_guesses['A'] = getPredictions(model=model3D_A, dataset=kaggle_norm)\n",
        "kag_guesses['B'] = getPredictions(model=model3D_B, dataset=kaggle_norm)\n",
        "kag_guesses['C'] = getPredictions(model=model3D_C, dataset=kaggle_norm)\n",
        "\n",
        "for i in range(len(kag_guesses['A'])):\n",
        "    kag_guesses['AB'] = kag_guesses['A'] - kag_guesses['B']\n",
        "    kag_guesses['AC'] = kag_guesses['A'] - kag_guesses['C']\n",
        "    kag_guesses['CB'] = kag_guesses['C'] - kag_guesses['B']"
      ],
      "execution_count": null,
      "outputs": []
    },
    {
      "cell_type": "code",
      "metadata": {
        "id": "9J2IS3MhP5jq"
      },
      "source": [
        "kag_probs = pd.DataFrame(columns=list(range(30)))\n",
        "\n",
        "getProbabilities()\n",
        "uberguesses = getPredictions(model=ubermodel, )"
      ],
      "execution_count": null,
      "outputs": []
    },
    {
      "cell_type": "code",
      "metadata": {
        "id": "3UUac0XGP5jq"
      },
      "source": [
        "if not submit:\n",
        "#All agree on them all!?\n",
        "    kag_guesses['CB'].sum() + kag_guesses['AC'].sum() + kag_guesses['AB'].sum()\n",
        "    kag_guesses.to_csv('guessesABC.csv')"
      ],
      "execution_count": null,
      "outputs": []
    },
    {
      "cell_type": "code",
      "metadata": {
        "id": "x8mmj0gsxMD0"
      },
      "source": [
        "if submit:\n",
        "    kaggles = pd.DataFrame(columns=['ImageId','Label']) \n",
        "    kaggles['Label'] = kag_guesses['C']\n",
        "    kaggles['ImageId'] = [i+1 for i in kaggles.index.values] \n",
        "    kaggles.to_csv('submission.csv', columns=[\"ImageId\",\"Label\"], index=False)"
      ],
      "execution_count": null,
      "outputs": []
    },
    {
      "cell_type": "markdown",
      "metadata": {
        "id": "9H7W-OKHUnsp"
      },
      "source": [
        "##Visualizations"
      ]
    },
    {
      "cell_type": "code",
      "metadata": {
        "id": "gSy9WCq7P5jq"
      },
      "source": [
        "k_img = np.asarray(kaggle.iloc[20044 - 1])\n",
        "k_img = k_img.reshape(28,28)\n",
        "plt.imshow(k_img)"
      ],
      "execution_count": null,
      "outputs": []
    },
    {
      "cell_type": "code",
      "metadata": {
        "id": "N6QCoQqRvRfb"
      },
      "source": [
        "if not submit:\n",
        "# Plot a graph of the 'accuracy' metric vs. epochs:\n",
        "    plt.plot(epochs_A,hist_A[\"accuracy\"])\n",
        "    plt.plot(epochs_A,hist_A[\"val_accuracy\"])\n",
        "    plt.show()\n",
        "\n",
        "    plt.plot(epochs_B,hist_B[\"accuracy\"])\n",
        "    plt.plot(epochs_B,hist_B[\"val_accuracy\"])\n",
        "    plt.show()"
      ],
      "execution_count": null,
      "outputs": []
    }
  ]
}