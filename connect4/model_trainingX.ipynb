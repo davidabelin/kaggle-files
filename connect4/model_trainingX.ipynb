{
  "nbformat": 4,
  "nbformat_minor": 0,
  "metadata": {
    "colab": {
      "name": "model_trainingX.ipynb",
      "provenance": [],
      "collapsed_sections": [],
      "machine_shape": "hm"
    },
    "kernelspec": {
      "display_name": "Python 3",
      "language": "python",
      "name": "python3"
    },
    "language_info": {
      "codemirror_mode": {
        "name": "ipython",
        "version": 3
      },
      "file_extension": ".py",
      "mimetype": "text/x-python",
      "name": "python",
      "nbconvert_exporter": "python",
      "pygments_lexer": "ipython3",
      "version": "3.7.6"
    },
    "accelerator": "GPU"
  },
  "cells": [
    {
      "cell_type": "markdown",
      "metadata": {
        "id": "bOCGP5St_gxH"
      },
      "source": [
        "##Imports and definitions"
      ]
    },
    {
      "cell_type": "code",
      "metadata": {
        "id": "g_OQUa0FZEFg"
      },
      "source": [
        "import time\n",
        "import random\n",
        "import numpy as np\n",
        "import pandas as pd\n",
        "import matplotlib.pyplot as plt\n",
        "%matplotlib inline"
      ],
      "execution_count": null,
      "outputs": []
    },
    {
      "cell_type": "code",
      "metadata": {
        "id": "_HrG_X1LZEFk"
      },
      "source": [
        "# Check version of tensorflow\n",
        "!pip install 'tensorflow==1.15.0'\n",
        "import tensorflow as tf\n",
        "#tf.__version__"
      ],
      "execution_count": null,
      "outputs": []
    },
    {
      "cell_type": "code",
      "metadata": {
        "id": "xKOc6VGWZwXM"
      },
      "source": [
        "!pip install 'kaggle-environments>=0.1.6'"
      ],
      "execution_count": null,
      "outputs": []
    },
    {
      "cell_type": "code",
      "metadata": {
        "id": "qdN3UqGJZEFy"
      },
      "source": [
        "!apt-get update\n",
        "!apt-get install -y cmake libopenmpi-dev python3-dev zlib1g-dev\n",
        "!pip install \"stable-baselines[mpi]==2.9.0\""
      ],
      "execution_count": null,
      "outputs": []
    },
    {
      "cell_type": "markdown",
      "metadata": {
        "id": "XYiS-Ykh_o9J"
      },
      "source": [
        "###Environment"
      ]
    },
    {
      "cell_type": "code",
      "metadata": {
        "id": "sYkfxvIlZEFp"
      },
      "source": [
        "from kaggle_environments import make, evaluate\n",
        "from gym import spaces\n",
        "\n",
        "class ConnectFourGym:\n",
        "    def __init__(self, agent2=\"random\"):\n",
        "        ks_env = make(\"connectx\", debug=True)\n",
        "        self.env = ks_env.train([None, agent2])\n",
        "        self.rows = ks_env.configuration.rows\n",
        "        self.columns = ks_env.configuration.columns\n",
        "        # Learn about spaces here: http://gym.openai.com/docs/#spaces\n",
        "        self.action_space = spaces.Discrete(self.columns)\n",
        "        self.observation_space = spaces.Box(low=0, high=2, \n",
        "                                            shape=(self.rows,self.columns,1), dtype=np.int)\n",
        "        # Tuple corresponding to the min and max possible rewards\n",
        "        self.reward_range = (-10, 1)\n",
        "        # StableBaselines throws error if these are not defined\n",
        "        self.spec = None\n",
        "        self.metadata = None\n",
        "    def reset(self):\n",
        "        self.obs = self.env.reset()\n",
        "        return np.array(self.obs['board']).reshape(self.rows,self.columns,1)\n",
        "    def change_reward(self, old_reward, done):\n",
        "        if old_reward == 1: # The agent won the game\n",
        "            return 1\n",
        "        elif done: # The opponent won the game\n",
        "            return -1\n",
        "        else: # Reward 1/42\n",
        "            return 1/(self.rows*self.columns)\n",
        "    def step(self, action):\n",
        "        # Check if agent's move is valid\n",
        "        is_valid = (self.obs['board'][int(action)] == 0)\n",
        "        if is_valid: # Play the move\n",
        "            self.obs, old_reward, done, _ = self.env.step(int(action))\n",
        "            reward = self.change_reward(old_reward, done)\n",
        "        else: # End the game and penalize agent\n",
        "            reward, done, _ = -10, True, {}\n",
        "        return np.array(self.obs['board']).reshape(self.rows,self.columns,1), reward, done, _"
      ],
      "execution_count": null,
      "outputs": []
    },
    {
      "cell_type": "code",
      "metadata": {
        "id": "7p0vGKq_ZEF2"
      },
      "source": [
        "import os\n",
        "from stable_baselines.bench import Monitor \n",
        "from stable_baselines.common.vec_env import DummyVecEnv\n",
        "\n",
        "# Create directory for logging training information\n",
        "log_dir = \"ppo/\"\n",
        "os.makedirs(log_dir, exist_ok=True)\n",
        "\n",
        "# Create ConnectFour environment\n",
        "env = ConnectFourGym()\n",
        "\n",
        "# Logging progress\n",
        "monitor_env = Monitor(env, log_dir, allow_early_resets=True) \n",
        "                      #info_keywords=('reward','done'))\n",
        "\n",
        "# Create a vectorized environment\n",
        "vec_env = DummyVecEnv([lambda: monitor_env])"
      ],
      "execution_count": 48,
      "outputs": []
    },
    {
      "cell_type": "markdown",
      "metadata": {
        "id": "yUy8-rua_5eC"
      },
      "source": [
        "##Training"
      ]
    },
    {
      "cell_type": "markdown",
      "metadata": {
        "id": "Vu8YzvNxATuW"
      },
      "source": [
        "###Build"
      ]
    },
    {
      "cell_type": "code",
      "metadata": {
        "id": "2HQx0aLc-fry"
      },
      "source": [
        "from stable_baselines.a2c. "
      ],
      "execution_count": null,
      "outputs": []
    },
    {
      "cell_type": "code",
      "metadata": {
        "id": "IZZslvHb-FoH"
      },
      "source": [
        "from stable_baselines import PPO1, A2C \n",
        "from stable_baselines.a2c.utils import conv, linear, conv_to_fc\n",
        "from stable_baselines.common.policies import CnnPolicy, MlpPolicy"
      ],
      "execution_count": 16,
      "outputs": []
    },
    {
      "cell_type": "code",
      "metadata": {
        "id": "TVkGzQbeZEF6",
        "cellView": "form"
      },
      "source": [
        "#@title model_OG\n",
        "# Neural network for predicting action values\n",
        "def modified_cnn_OG(scaled_images, **kwargs):\n",
        "    activ = tf.nn.relu\n",
        "    layer_1 = activ(conv(scaled_images, 'c1', n_filters=32, filter_size=3, stride=1, \n",
        "                         init_scale=np.sqrt(2), **kwargs))\n",
        "    layer_2 = activ(conv(layer_1, 'c2', n_filters=64, filter_size=3, stride=1, \n",
        "                         init_scale=np.sqrt(2), **kwargs))\n",
        "    layer_3 = conv_to_fc(layer_2)\n",
        "    return activ(linear(layer_3, 'fc1', n_hidden=512, init_scale=np.sqrt(2)))  \n",
        "\n",
        "class CustomCnnPolicy_OG(CnnPolicy):\n",
        "    def __init__(self, *args, **kwargs):\n",
        "        super(CustomCnnPolicy_OG, self).__init__(*args, **kwargs, cnn_extractor=modified_cnn_OG)\n",
        "        \n",
        "# Initialize agent\n",
        "model_OG = PPO1(CustomCnnPolicy_OG, vec_env, verbose=1)"
      ],
      "execution_count": null,
      "outputs": []
    },
    {
      "cell_type": "code",
      "metadata": {
        "id": "7KgH7xmnlK49"
      },
      "source": [
        "# Neural network for predicting action values\n",
        "def modified_cnn_X(scaled_images, **kwargs):\n",
        "    activ = tf.nn.relu\n",
        "    layer_1 = activ(conv(scaled_images, 'c1', n_filters=64, filter_size=2, stride=1, \n",
        "                         init_scale=np.sqrt(2), **kwargs))\n",
        "    layer_2 = conv_to_fc(layer_1)\n",
        "    layer_3 = activ(linear(layer_2, 'fc1', n_hidden=256, init_scale=np.sqrt(2)))\n",
        "    return activ(linear(layer_3, 'fc2', n_hidden=512, init_scale=np.sqrt(2)))  \n",
        "\n",
        "class CustomCnnPolicyX(CnnPolicy):\n",
        "    def __init__(self, *args, **kwargs):\n",
        "        super(CustomCnnPolicyX, self).__init__(*args, **kwargs, cnn_extractor=modified_cnn_X)\n",
        "        \n",
        "# Initialize agent\n",
        "modelX = PPO1(CustomCnnPolicyX, vec_env, verbose=0)"
      ],
      "execution_count": 49,
      "outputs": []
    },
    {
      "cell_type": "code",
      "metadata": {
        "id": "Ub1DdlHKBAsF"
      },
      "source": [
        "## RESET ENV AND MODELS\n",
        "if False:\n",
        "    log_dir = \"ppo/\"\n",
        "    os.makedirs(log_dir, exist_ok=True)\n",
        "    monitor_env = Monitor(env, log_dir, allow_early_resets=True)\n",
        "    vec_env = DummyVecEnv([lambda: monitor_env])\n",
        "    modelX = PPO1(CustomCnnPolicyX, vec_env, verbose=0)\n",
        "    model_OG = PPO1(CustomCnnPolicy_OG, vec_env, verbose=0)"
      ],
      "execution_count": null,
      "outputs": []
    },
    {
      "cell_type": "markdown",
      "metadata": {
        "id": "eUWJ9J1gAasd"
      },
      "source": [
        "###Train"
      ]
    },
    {
      "cell_type": "code",
      "metadata": {
        "id": "fHGjGxz-5p4s"
      },
      "source": [
        "def agentX(obs, config, model=modelX, debug=False):\n",
        "    # Use the best model to select a column\n",
        "    col, _ = model.predict(np.array(obs['board']).reshape(6,7,1))\n",
        "    if debug:\n",
        "        print(\"ModelX as player {} predicts: {}\".format(obs.mark, col))\n",
        "    # Check if selected column is valid\n",
        "    is_valid = (obs['board'][int(col)] == 0)\n",
        "    # If not valid, select random move. \n",
        "    if is_valid:\n",
        "        return int(col)\n",
        "    else:\n",
        "        if debug:\n",
        "            print(\">>> ModelX as {} guesses randomly: {}\".format(obs.mark, col))\n",
        "        return random.choice([col for col in range(config.columns) if obs.board[int(col)] == 0])"
      ],
      "execution_count": 50,
      "outputs": []
    },
    {
      "cell_type": "code",
      "metadata": {
        "id": "UH_6_3uSJcJi"
      },
      "source": [
        "# Training agents\n",
        "from heuristic_v8 import my_agent as heuristic\n",
        "from test_agent_v6 import my_agent as test_agent"
      ],
      "execution_count": 46,
      "outputs": []
    },
    {
      "cell_type": "code",
      "metadata": {
        "id": "_ivsVs6EWugF"
      },
      "source": [
        "agent_order = {0:agentX, 1:agentX, 2:agentX,\n",
        "               3:agentX, 4:agentX, 5:agentX,\n",
        "               6:agentX, 7:agentX, 8:agentX, \n",
        "               9:agentX} "
      ],
      "execution_count": null,
      "outputs": []
    },
    {
      "cell_type": "code",
      "metadata": {
        "id": "Ds-dbq44gkbn",
        "colab": {
          "base_uri": "https://localhost:8080/",
          "height": 435
        },
        "outputId": "ec0b91fd-0bc8-45cc-a3e9-64de069bb7ad"
      },
      "source": [
        "# Train agent\n",
        "agent_order = {0:\"negamax\", 1:agentX, 2:heuristic,\n",
        "               3:agentX, 4:test_agent, 5:agentX,\n",
        "               6:test_agent, 7:agentX, 8:\"random\", \n",
        "               9:agentX}\n",
        "              \n",
        "\n",
        "for _ in range(1):\n",
        "    for session in range(len(agent_order)): \n",
        "        start = time.time()\n",
        "        nsteps = 10240 // len(agent_order)\n",
        "        env = ConnectFourGym(agent2=agent_order[session])\n",
        "        modelX.learn(total_timesteps=nsteps)\n",
        "        stop = time.time()\n",
        "        print (nsteps,\"steps against\",agent_order[session],\"took\",\n",
        "            (stop-start)// 60,\"minutes and\",\n",
        "            round((stop-start) % 60, 2), \"seconds.\")\n",
        "        \n",
        "# Plot cumulative reward\n",
        "with open(os.path.join(log_dir, \"monitor.csv\"), 'rt') as fh:    \n",
        "    firstline = fh.readline()\n",
        "    assert firstline[0] == '#'\n",
        "    df = pd.read_csv(fh, index_col=None)['r']\n",
        "df.rolling(window=1024).mean().plot()\n",
        "plt.show()"
      ],
      "execution_count": 51,
      "outputs": [
        {
          "output_type": "stream",
          "text": [
            "1024 steps against negamax took 0.0 minutes and 4.79 seconds.\n",
            "1024 steps against <function agentX at 0x7f67eb65aea0> took 0.0 minutes and 4.47 seconds.\n",
            "1024 steps against <function my_agent at 0x7f68804efd90> took 0.0 minutes and 4.49 seconds.\n",
            "1024 steps against <function agentX at 0x7f67eb65aea0> took 0.0 minutes and 4.48 seconds.\n",
            "1024 steps against <function my_agent at 0x7f68a4e7ad08> took 0.0 minutes and 4.48 seconds.\n",
            "1024 steps against <function agentX at 0x7f67eb65aea0> took 0.0 minutes and 4.79 seconds.\n",
            "1024 steps against <function my_agent at 0x7f68a4e7ad08> took 0.0 minutes and 4.5 seconds.\n",
            "1024 steps against <function agentX at 0x7f67eb65aea0> took 0.0 minutes and 4.48 seconds.\n",
            "1024 steps against random took 0.0 minutes and 4.51 seconds.\n",
            "1024 steps against <function agentX at 0x7f67eb65aea0> took 0.0 minutes and 4.56 seconds.\n"
          ],
          "name": "stdout"
        },
        {
          "output_type": "display_data",
          "data": {
            "image/png": "[encoded data removed]",
            "text/plain": [
              "<Figure size 432x288 with 1 Axes>"
            ]
          },
          "metadata": {
            "tags": [],
            "needs_background": "light"
          }
        }
      ]
    },
    {
      "cell_type": "code",
      "metadata": {
        "id": "NvgsEOWagkbo",
        "colab": {
          "base_uri": "https://localhost:8080/",
          "height": 265
        },
        "outputId": "e0c07105-d80c-4141-daff-9fe3dae448b3"
      },
      "source": [
        "# Plot cumulative reward\n",
        "with open(os.path.join(log_dir, \"monitor.csv\"), 'rt') as fh:    \n",
        "    firstline = fh.readline()\n",
        "    assert firstline[0] == '#'\n",
        "    df = pd.read_csv(fh, index_col=None)#['r']\n",
        "df['r'].rolling(window=512).mean().plot()\n",
        "plt.show()"
      ],
      "execution_count": 52,
      "outputs": [
        {
          "output_type": "display_data",
          "data": {
            "image/png": "[encoded data removed]",
            "text/plain": [
              "<Figure size 432x288 with 1 Axes>"
            ]
          },
          "metadata": {
            "tags": [],
            "needs_background": "light"
          }
        }
      ]
    },
    {
      "cell_type": "code",
      "metadata": {
        "id": "8NP0s-sCzjbG",
        "colab": {
          "base_uri": "https://localhost:8080/",
          "height": 297
        },
        "outputId": "dd010cfd-47a6-4d09-8b33-be200b538894"
      },
      "source": [
        "df.describe()"
      ],
      "execution_count": 53,
      "outputs": [
        {
          "output_type": "execute_result",
          "data": {
            "text/html": [
              "<div>\n",
              "<style scoped>\n",
              "    .dataframe tbody tr th:only-of-type {\n",
              "        vertical-align: middle;\n",
              "    }\n",
              "\n",
              "    .dataframe tbody tr th {\n",
              "        vertical-align: top;\n",
              "    }\n",
              "\n",
              "    .dataframe thead th {\n",
              "        text-align: right;\n",
              "    }\n",
              "</style>\n",
              "<table border=\"1\" class=\"dataframe\">\n",
              "  <thead>\n",
              "    <tr style=\"text-align: right;\">\n",
              "      <th></th>\n",
              "      <th>r</th>\n",
              "      <th>l</th>\n",
              "      <th>t</th>\n",
              "    </tr>\n",
              "  </thead>\n",
              "  <tbody>\n",
              "    <tr>\n",
              "      <th>count</th>\n",
              "      <td>1029.000000</td>\n",
              "      <td>1029.000000</td>\n",
              "      <td>1029.000000</td>\n",
              "    </tr>\n",
              "    <tr>\n",
              "      <th>mean</th>\n",
              "      <td>-1.453191</td>\n",
              "      <td>9.884354</td>\n",
              "      <td>46.419546</td>\n",
              "    </tr>\n",
              "    <tr>\n",
              "      <th>std</th>\n",
              "      <td>4.109154</td>\n",
              "      <td>2.993384</td>\n",
              "      <td>13.076082</td>\n",
              "    </tr>\n",
              "    <tr>\n",
              "      <th>min</th>\n",
              "      <td>-9.880952</td>\n",
              "      <td>4.000000</td>\n",
              "      <td>23.390674</td>\n",
              "    </tr>\n",
              "    <tr>\n",
              "      <th>25%</th>\n",
              "      <td>-0.857143</td>\n",
              "      <td>8.000000</td>\n",
              "      <td>35.212198</td>\n",
              "    </tr>\n",
              "    <tr>\n",
              "      <th>50%</th>\n",
              "      <td>1.095238</td>\n",
              "      <td>10.000000</td>\n",
              "      <td>46.426579</td>\n",
              "    </tr>\n",
              "    <tr>\n",
              "      <th>75%</th>\n",
              "      <td>1.214286</td>\n",
              "      <td>12.000000</td>\n",
              "      <td>57.842513</td>\n",
              "    </tr>\n",
              "    <tr>\n",
              "      <th>max</th>\n",
              "      <td>1.380952</td>\n",
              "      <td>19.000000</td>\n",
              "      <td>68.577620</td>\n",
              "    </tr>\n",
              "  </tbody>\n",
              "</table>\n",
              "</div>"
            ],
            "text/plain": [
              "                 r            l            t\n",
              "count  1029.000000  1029.000000  1029.000000\n",
              "mean     -1.453191     9.884354    46.419546\n",
              "std       4.109154     2.993384    13.076082\n",
              "min      -9.880952     4.000000    23.390674\n",
              "25%      -0.857143     8.000000    35.212198\n",
              "50%       1.095238    10.000000    46.426579\n",
              "75%       1.214286    12.000000    57.842513\n",
              "max       1.380952    19.000000    68.577620"
            ]
          },
          "metadata": {
            "tags": []
          },
          "execution_count": 53
        }
      ]
    },
    {
      "cell_type": "code",
      "metadata": {
        "id": "kFxtymUAD1ny"
      },
      "source": [
        "for _ in range(5):\n",
        "    start = time.time()\n",
        "    nsteps = 102400 // 5\n",
        "    env = ConnectFourGym(agent2=agentX)\n",
        "    modelX.learn(total_timesteps=nsteps)\n",
        "    stop = time.time()\n",
        "    print (nsteps,\"steps against AgentX took\",\n",
        "        (stop-start)// 60,\"minutes and\",\n",
        "        round((stop-start) % 60, 2), \"seconds.\")\n",
        "        \n",
        "# Plot cumulative reward\n",
        "with open(os.path.join(log_dir, \"monitor.csv\"), 'rt') as fh:    \n",
        "    firstline = fh.readline()\n",
        "    assert firstline[0] == '#'\n",
        "    df = pd.read_csv(fh, index_col=None)['r']\n",
        "df[(-102400//5):].rolling(window=1024).mean().plot()\n",
        "plt.show()"
      ],
      "execution_count": null,
      "outputs": []
    },
    {
      "cell_type": "code",
      "metadata": {
        "id": "Ge-EvliEg4Ph"
      },
      "source": [
        "modelX.save('modelX1')"
      ],
      "execution_count": 14,
      "outputs": []
    },
    {
      "cell_type": "code",
      "metadata": {
        "id": "jL7oRCsGiYnL"
      },
      "source": [
        "del modelX\n",
        "modelX =  PPO1.load('/content/modelX.zip')"
      ],
      "execution_count": 15,
      "outputs": []
    },
    {
      "cell_type": "markdown",
      "metadata": {
        "id": "gq15cfr5ABPi"
      },
      "source": [
        "##Evaluation"
      ]
    },
    {
      "cell_type": "code",
      "metadata": {
        "id": "VcFPs_8NZEGj"
      },
      "source": [
        "def get_win_percentages(agent1, agent2, n_rounds=1):\n",
        "    # Use default Connect Four setup\n",
        "    config = {'rows': 6, 'columns': 7, 'inarow': 4}\n",
        "    # Agent 1 goes first (roughly) half the time          \n",
        "    outcomes = evaluate(\"connectx\", [agent1, agent2], config, [], n_rounds//2)\n",
        "    # Agent 2 goes first (roughly) half the time      \n",
        "    outcomes += [[b,a] for [a,b] in evaluate(\"connectx\", [agent2, agent1], config, [], n_rounds-n_rounds//2)]\n",
        "    \n",
        "    print(\"Agent 1 Win Percentage:\", np.round(outcomes.count([1,-1])/len(outcomes), 4))\n",
        "    print(\"Agent 2 Win Percentage:\", np.round(outcomes.count([-1,1])/len(outcomes), 4))\n",
        "    print(\"Number of Invalid Plays by Agent 1:\", outcomes.count([None, 0]))\n",
        "    print(\"Number of Invalid Plays by Agent 2:\", outcomes.count([0, None]))\n",
        "    return outcomes"
      ],
      "execution_count": null,
      "outputs": []
    },
    {
      "cell_type": "code",
      "metadata": {
        "id": "56A0wuYqZEGb"
      },
      "source": [
        "def trained_agent(obs, config, model=modelX, debug=True):\n",
        "    # Use the best model to select a column\n",
        "    col, _ = model.predict(np.array(obs['board']).reshape(6,7,1))\n",
        "    if debug:\n",
        "        print(\"Trained model {} predicts: {}\".format(obs.mark, col))\n",
        "    # Check if selected column is valid\n",
        "    is_valid = (obs['board'][int(col)] == 0)\n",
        "    # If not valid, select random move. \n",
        "    if is_valid:\n",
        "        return int(col)\n",
        "    else:\n",
        "        if debug:\n",
        "            print(\">>> Trained model {} guesses randomly: {}\".format(obs.mark, col))\n",
        "        return random.choice([col for col in range(config.columns) if obs.board[int(col)] == 0])"
      ],
      "execution_count": null,
      "outputs": []
    },
    {
      "cell_type": "code",
      "metadata": {
        "id": "J-6fChPkmIQa"
      },
      "source": [
        "modelX.load('/content/modelX.zip', env=None)"
      ],
      "execution_count": null,
      "outputs": []
    },
    {
      "cell_type": "code",
      "metadata": {
        "id": "5wjT993pnEwS"
      },
      "source": [
        "modelX2 = PPO1.load('/content/modelX2.zip', env=None)"
      ],
      "execution_count": null,
      "outputs": []
    },
    {
      "cell_type": "code",
      "metadata": {
        "id": "dVBc94kxZEGn"
      },
      "source": [
        "start_time = time.time()\n",
        "n_rounds=1000\n",
        "agent1 = agentX #lambda x,y: trained_agent(x,y,model=modelX,debug=True)\n",
        "#agent2 = lambda x,y: trained_agent(x,y,model=modelX,debug=True)\n",
        "agent2 = test_agent\n",
        "outcomes = get_win_percentages(agent1, agent2, n_rounds=n_rounds)\n",
        "print (\"Total time taken: {} seconds\".format(time.time() - start_time))\n",
        "print (\"Time taken per round: {} seconds\".format((time.time() - start_time)/n_rounds))"
      ],
      "execution_count": null,
      "outputs": []
    },
    {
      "cell_type": "code",
      "metadata": {
        "id": "Lp__ttChtT95"
      },
      "source": [
        "A, B = 0, 0\n",
        "for [a,b] in outcomes:\n",
        "    A = A + a\n",
        "    B = B + b\n",
        "(A, B)"
      ],
      "execution_count": null,
      "outputs": []
    },
    {
      "cell_type": "code",
      "metadata": {
        "id": "CkK_5qhVuYwm"
      },
      "source": [
        "outcomes"
      ],
      "execution_count": null,
      "outputs": []
    }
  ]
}