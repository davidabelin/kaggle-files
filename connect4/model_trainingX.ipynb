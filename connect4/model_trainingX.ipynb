{
  "nbformat": 4,
  "nbformat_minor": 0,
  "metadata": {
    "colab": {
      "name": "model_trainingX.ipynb",
      "provenance": [],
      "collapsed_sections": [],
      "machine_shape": "hm"
    },
    "kernelspec": {
      "display_name": "Python 3",
      "language": "python",
      "name": "python3"
    },
    "language_info": {
      "codemirror_mode": {
        "name": "ipython",
        "version": 3
      },
      "file_extension": ".py",
      "mimetype": "text/x-python",
      "name": "python",
      "nbconvert_exporter": "python",
      "pygments_lexer": "ipython3",
      "version": "3.7.6"
    },
    "accelerator": "GPU"
  },
  "cells": [
    {
      "cell_type": "markdown",
      "metadata": {
        "id": "bOCGP5St_gxH"
      },
      "source": [
        "##Imports and definitions"
      ]
    },
    {
      "cell_type": "code",
      "metadata": {
        "id": "g_OQUa0FZEFg"
      },
      "source": [
        "import time\n",
        "import random\n",
        "import numpy as np\n",
        "import pandas as pd\n",
        "import matplotlib.pyplot as plt\n",
        "%matplotlib inline"
      ],
      "execution_count": null,
      "outputs": []
    },
    {
      "cell_type": "code",
      "metadata": {
        "id": "_HrG_X1LZEFk"
      },
      "source": [
        "# Check version of tensorflow\n",
        "!pip install 'tensorflow==1.15.0'\n",
        "import tensorflow as tf\n",
        "#tf.__version__"
      ],
      "execution_count": null,
      "outputs": []
    },
    {
      "cell_type": "code",
      "metadata": {
        "id": "xKOc6VGWZwXM"
      },
      "source": [
        "!pip install 'kaggle-environments>=0.1.6'"
      ],
      "execution_count": null,
      "outputs": []
    },
    {
      "cell_type": "code",
      "metadata": {
        "id": "qdN3UqGJZEFy"
      },
      "source": [
        "!apt-get update\n",
        "!apt-get install -y cmake libopenmpi-dev python3-dev zlib1g-dev\n",
        "!pip install \"stable-baselines[mpi]==2.9.0\""
      ],
      "execution_count": null,
      "outputs": []
    },
    {
      "cell_type": "markdown",
      "metadata": {
        "id": "XYiS-Ykh_o9J"
      },
      "source": [
        "###Environment"
      ]
    },
    {
      "cell_type": "code",
      "metadata": {
        "id": "sYkfxvIlZEFp"
      },
      "source": [
        "from kaggle_environments import make, evaluate\n",
        "from gym import spaces\n",
        "\n",
        "class ConnectFourGym:\n",
        "    def __init__(self, agent2=\"random\"):\n",
        "        ks_env = make(\"connectx\", debug=True)\n",
        "        self.env = ks_env.train([None, agent2])\n",
        "        self.rows = ks_env.configuration.rows\n",
        "        self.columns = ks_env.configuration.columns\n",
        "        # Learn about spaces here: http://gym.openai.com/docs/#spaces\n",
        "        self.action_space = spaces.Discrete(self.columns)\n",
        "        self.observation_space = spaces.Box(low=0, high=2, \n",
        "                                            shape=(self.rows,self.columns,1), dtype=np.int)\n",
        "        # Tuple corresponding to the min and max possible rewards\n",
        "        self.reward_range = (-10, 1)\n",
        "        # StableBaselines throws error if these are not defined\n",
        "        self.spec = None\n",
        "        self.metadata = None\n",
        "    def reset(self):\n",
        "        self.obs = self.env.reset()\n",
        "        return np.array(self.obs['board']).reshape(self.rows,self.columns,1)\n",
        "    def change_reward(self, old_reward, done):\n",
        "        if old_reward == 1: # The agent won the game\n",
        "            return 3/self.rows*self.columns\n",
        "        elif done: # The opponent won the game\n",
        "            return -42/(self.rows*self.columns)\n",
        "        else: # Reward 1/42\n",
        "            return 1/(self.rows*self.columns)\n",
        "    def step(self, action):\n",
        "        # Check if agent's move is valid\n",
        "        is_valid = (self.obs['board'][int(action)] == 0)\n",
        "        if is_valid: # Play the move\n",
        "            self.obs, old_reward, done, _ = self.env.step(int(action))\n",
        "            reward = self.change_reward(old_reward, done)\n",
        "        else: # End the game and penalize agent\n",
        "            reward, done, _ = -420/42, True, {}\n",
        "        return np.array(self.obs['board']).reshape(self.rows,self.columns,1), reward, done, _\n",
        "\n",
        "#scoreset_A: 10/42, -100/42, 1/42, -10\n",
        "#scoreset_B: 1/42, -100/42, 1/42, -420/42\n",
        "#scoreset_C: 1/2*42, -210/42, 1/42, -420/42\n",
        "#scoreset_D: -1/42, -300/42, 1/42, -420/42\n",
        "#scoreset_E: -1/42, -300/42, 2/42, -420/42\n",
        "#scoreset_F: -50/42, -300/42, 1/42, -400/42\n",
        "#scoreset_G: -200/42, -300/42, 1/42, -400/42\n",
        "#scoreset_H: -1/42, -200/42, 2/42, -400/42\n",
        "#scoreset_J: 3/42, -42/42, 1/42, -420/42\n",
        "#scoreset_O: 1, -1, 1/42, -10"
      ],
      "execution_count": 36,
      "outputs": []
    },
    {
      "cell_type": "code",
      "metadata": {
        "id": "7p0vGKq_ZEF2"
      },
      "source": [
        "import os\n",
        "from stable_baselines.bench import Monitor \n",
        "from stable_baselines.common.vec_env import DummyVecEnv\n",
        "\n",
        "# Create directory for logging training information\n",
        "log_dir = \"ppo/\"\n",
        "os.makedirs(log_dir, exist_ok=True)\n",
        "\n",
        "# Create ConnectFour environment\n",
        "env = ConnectFourGym()\n",
        "\n",
        "# Logging progress\n",
        "monitor_env = Monitor(env, log_dir, allow_early_resets=True)#, info_keywords=(['observation'])) \n",
        "\n",
        "# Create a vectorized environment\n",
        "vec_env = DummyVecEnv([lambda: monitor_env])"
      ],
      "execution_count": 34,
      "outputs": []
    },
    {
      "cell_type": "markdown",
      "metadata": {
        "id": "yUy8-rua_5eC"
      },
      "source": [
        "##Training"
      ]
    },
    {
      "cell_type": "markdown",
      "metadata": {
        "id": "Vu8YzvNxATuW"
      },
      "source": [
        "###Build"
      ]
    },
    {
      "cell_type": "code",
      "metadata": {
        "id": "IZZslvHb-FoH"
      },
      "source": [
        "from stable_baselines import PPO1, A2C,  \n",
        "from stable_baselines.a2c.utils import conv, linear, conv_to_fc\n",
        "from stable_baselines.common.policies import CnnPolicy, MlpPolicy"
      ],
      "execution_count": 35,
      "outputs": []
    },
    {
      "cell_type": "code",
      "metadata": {
        "id": "TVkGzQbeZEF6",
        "cellView": "form"
      },
      "source": [
        "#@title model_OG\n",
        "# Neural network for predicting action values\n",
        "def modified_cnn_OG(scaled_images, **kwargs):\n",
        "    activ = tf.nn.relu\n",
        "    layer_1 = activ(conv(scaled_images, 'c1', n_filters=32, filter_size=3, stride=1, \n",
        "                         init_scale=np.sqrt(2), **kwargs))\n",
        "    layer_2 = activ(conv(layer_1, 'c2', n_filters=64, filter_size=3, stride=1, \n",
        "                         init_scale=np.sqrt(2), **kwargs))\n",
        "    layer_3 = conv_to_fc(layer_2)\n",
        "    return activ(linear(layer_3, 'fc1', n_hidden=512, init_scale=np.sqrt(2)))  \n",
        "\n",
        "class CustomCnnPolicy_OG(CnnPolicy):\n",
        "    def __init__(self, *args, **kwargs):\n",
        "        super(CustomCnnPolicy_OG, self).__init__(*args, **kwargs, cnn_extractor=modified_cnn_OG)\n",
        "        \n",
        "# Initialize agent\n",
        "model_OG = PPO1(CustomCnnPolicy_OG, vec_env, verbose=1)"
      ],
      "execution_count": 14,
      "outputs": []
    },
    {
      "cell_type": "code",
      "metadata": {
        "id": "7KgH7xmnlK49"
      },
      "source": [
        "# Neural network for predicting action values\n",
        "def modified_cnn_X(scaled_images, **kwargs):\n",
        "    activ = tf.nn.relu\n",
        "    layer_1 = activ(conv(scaled_images, 'c1', n_filters=64, filter_size=2, stride=1, \n",
        "                         init_scale=np.sqrt(2), **kwargs))\n",
        "    layer_2 = activ(conv(scaled_images, 'c2', n_filters=128, filter_size=2, stride=1, \n",
        "                         init_scale=np.sqrt(2), **kwargs))\n",
        "    layer_3 = conv_to_fc(layer_2)\n",
        "    layer_4 = activ(linear(layer_3, 'fc1', n_hidden=1024, init_scale=np.sqrt(2)))\n",
        "    return activ(linear(layer_4, 'fc2', n_hidden=512, init_scale=np.sqrt(2)))  \n",
        "\n",
        "class CustomCnnPolicyX(CnnPolicy):\n",
        "    def __init__(self, *args, **kwargs):\n",
        "        super(CustomCnnPolicyX, self).__init__(*args, **kwargs, cnn_extractor=modified_cnn_X)\n",
        "        \n",
        "# Initialize agent\n",
        "modelX = PPO1(CustomCnnPolicyX, vec_env, verbose=0)"
      ],
      "execution_count": 25,
      "outputs": []
    },
    {
      "cell_type": "code",
      "metadata": {
        "id": "Ub1DdlHKBAsF"
      },
      "source": [
        "## RESET ENV AND MODELS\n",
        "if False:\n",
        "    log_dir = \"ppo/\"\n",
        "    os.makedirs(log_dir, exist_ok=True)\n",
        "    monitor_env = Monitor(env, log_dir, allow_early_resets=True)\n",
        "    vec_env = DummyVecEnv([lambda: monitor_env])\n",
        "    modelX = PPO1(CustomCnnPolicyX, vec_env, verbose=0)\n",
        "    model_OG = PPO1(CustomCnnPolicy_OG, vec_env, verbose=0)"
      ],
      "execution_count": null,
      "outputs": []
    },
    {
      "cell_type": "markdown",
      "metadata": {
        "id": "eUWJ9J1gAasd"
      },
      "source": [
        "###Train"
      ]
    },
    {
      "cell_type": "code",
      "metadata": {
        "id": "fHGjGxz-5p4s"
      },
      "source": [
        "def agentX(obs, config, model=modelX, debug=False):\n",
        "    # Use the best model to select a column\n",
        "    col, _ = model.predict(np.array(obs['board']).reshape(6,7,1))\n",
        "\n",
        "    # Check if selected column is valid\n",
        "    is_valid = (obs['board'][int(col)] == 0)\n",
        "    # If not valid, select random move. \n",
        "    if is_valid:\n",
        "        return int(col)\n",
        "    else:\n",
        "        return random.choice([col for col in range(config.columns) if obs.board[int(col)] == 0])"
      ],
      "execution_count": 26,
      "outputs": []
    },
    {
      "cell_type": "code",
      "metadata": {
        "id": "_ivsVs6EWugF"
      },
      "source": [
        "# Training agents\n",
        "from experimental_agent_v7 import my_agent as heuristic\n",
        "from test_agent_v9 import my_agent as test_agent\n",
        "\n",
        "agent_order_X = {0:agentX, 1:agentX, 2:agentX,\n",
        "                3:agentX, 4:agentX, 5:agentX,\n",
        "                6:agentX, 7:agentX, 8:agentX, \n",
        "                9:agentX} \n",
        "\n",
        "agent_order_A = {0:\"negamax\", 1:test_agent, 2:heuristic,\n",
        "                3:agentX, 4:test_agent, 5:agentX,\n",
        "                6:\"random\", 7:heuristic, 8:test_agent, \n",
        "                9:agentX}\n",
        "\n",
        "agent_order_B = {0:\"negamax\", 1:test_agent, 2:heuristic,\n",
        "                3:heuristic, 4:test_agent, 5:\"negamax\",\n",
        "                6:test_agent, 7:\"random\", 8:heuristic}\n",
        "\n",
        "agent_order_N = {0:\"negamax\", 1:\"random\", 2:\"negamax\"}"
      ],
      "execution_count": 27,
      "outputs": []
    },
    {
      "cell_type": "code",
      "metadata": {
        "id": "Ds-dbq44gkbn"
      },
      "source": [
        "# Train agent\n",
        "agent_order = agent_order_A\n",
        "for _ in range(10):\n",
        "    for session in range(len(agent_order)): \n",
        "        start = time.time()\n",
        "        nsteps = 102400 // (len(agent_order))\n",
        "        env = ConnectFourGym(agent2=agent_order[session])\n",
        "        modelX.learn(total_timesteps=nsteps)\n",
        "        stop = time.time()\n",
        "        print (nsteps,\"steps against\",agent_order[session],\"took\",\n",
        "            (stop-start)// 60,\"minutes and\",\n",
        "            round((stop-start) % 60, 2), \"seconds.\")\n",
        "        \n",
        "    # Plot cumulative reward\n",
        "    with open(os.path.join(log_dir, \"monitor.csv\"), 'rt') as fh:    \n",
        "        firstline = fh.readline()\n",
        "        assert firstline[0] == '#'\n",
        "        df = pd.read_csv(fh, index_col=None)\n",
        "    (df['l'].rolling(window=1024).mean() - 6).plot()\n",
        "    df['r'].rolling(window=1024).mean().plot()\n",
        "    plt.show()"
      ],
      "execution_count": null,
      "outputs": []
    },
    {
      "cell_type": "code",
      "metadata": {
        "id": "NvgsEOWagkbo",
        "colab": {
          "base_uri": "https://localhost:8080/",
          "height": 265
        },
        "outputId": "9beaff81-2396-4cf8-97db-4ffcbea0aa07"
      },
      "source": [
        "# Plot cumulative reward\n",
        "#with open(os.path.join(log_dir, \"monitor.csv\"), 'rt') as fh:    \n",
        "#    firstline = fh.readline()\n",
        "#    assert firstline[0] == '#'\n",
        "    #df = pd.read_csv('/content/ppo/monitor.csv', index_col=None) #fh\n",
        "\n",
        "(df['l'][-7680:].rolling(window=512).mean() - 6).plot()\n",
        "df['r'][-7680:].rolling(window=512).mean().plot()\n",
        "plt.show()"
      ],
      "execution_count": 38,
      "outputs": [
        {
          "output_type": "display_data",
          "data": {
            "image/png": "[encoded data removed]",
            "text/plain": [
              "<Figure size 432x288 with 1 Axes>"
            ]
          },
          "metadata": {
            "tags": [],
            "needs_background": "light"
          }
        }
      ]
    },
    {
      "cell_type": "code",
      "metadata": {
        "id": "fK01bfbiFLx3"
      },
      "source": [
        "modelX.save('big_scoresetJ_100k')"
      ],
      "execution_count": 39,
      "outputs": []
    },
    {
      "cell_type": "code",
      "metadata": {
        "id": "jL7oRCsGiYnL"
      },
      "source": [
        "modelX.save('modelX')\n",
        "del modelX\n",
        "modelX =  PPO1.load('/content/modelX.zip', env=vec_env)"
      ],
      "execution_count": null,
      "outputs": []
    },
    {
      "cell_type": "code",
      "metadata": {
        "colab": {
          "base_uri": "https://localhost:8080/"
        },
        "id": "LAPzwL5AfD52",
        "outputId": "e29b5b33-4f4e-4ac4-bc0c-31199266c71c"
      },
      "source": [
        "model_OG = A2C.load('/content/model_OG_A2C.zip', env=vec_env)"
      ],
      "execution_count": 86,
      "outputs": [
        {
          "output_type": "stream",
          "text": [
            "WARNING:tensorflow:From /usr/local/lib/python3.6/dist-packages/stable_baselines/a2c/a2c.py:167: The name tf.train.RMSPropOptimizer is deprecated. Please use tf.compat.v1.train.RMSPropOptimizer instead.\n",
            "\n",
            "WARNING:tensorflow:From /usr/local/lib/python3.6/dist-packages/tensorflow_core/python/training/rmsprop.py:119: calling Ones.__init__ (from tensorflow.python.ops.init_ops) with dtype is deprecated and will be removed in a future version.\n",
            "Instructions for updating:\n",
            "Call initializer instance with the dtype argument instead of passing it to the constructor\n",
            "WARNING:tensorflow:From /usr/local/lib/python3.6/dist-packages/stable_baselines/a2c/a2c.py:177: The name tf.global_variables_initializer is deprecated. Please use tf.compat.v1.global_variables_initializer instead.\n",
            "\n"
          ],
          "name": "stdout"
        }
      ]
    },
    {
      "cell_type": "markdown",
      "metadata": {
        "id": "gq15cfr5ABPi"
      },
      "source": [
        "##Evaluation"
      ]
    },
    {
      "cell_type": "code",
      "metadata": {
        "id": "VcFPs_8NZEGj"
      },
      "source": [
        "def get_win_percentages(agent1, agent2, n_rounds=1):\n",
        "    # Use default Connect Four setup\n",
        "    config = {'rows': 6, 'columns': 7, 'inarow': 4}\n",
        "    # Agent 1 goes first (roughly) half the time          \n",
        "    outcomes = evaluate(\"connectx\", [agent1, agent2], config, [], n_rounds//2)\n",
        "    # Agent 2 goes first (roughly) half the time      \n",
        "    outcomes += [[b,a] for [a,b] in evaluate(\"connectx\", [agent2, agent1], config, [], n_rounds-n_rounds//2)]\n",
        "    \n",
        "    print(\"Agent 1 Win Percentage:\", np.round(outcomes.count([1,-1])/len(outcomes), 4))\n",
        "    print(\"Agent 2 Win Percentage:\", np.round(outcomes.count([-1,1])/len(outcomes), 4))\n",
        "    print(\"Number of Invalid Plays by Agent 1:\", outcomes.count([None, 0]))\n",
        "    print(\"Number of Invalid Plays by Agent 2:\", outcomes.count([0, None]))\n",
        "    return outcomes"
      ],
      "execution_count": 40,
      "outputs": []
    },
    {
      "cell_type": "code",
      "metadata": {
        "id": "56A0wuYqZEGb"
      },
      "source": [
        "def trained_agent(obs, config, model=modelX, debug=True):\n",
        "    # Use the best model to select a column\n",
        "    col, _ = model.predict(np.array(obs['board']).reshape(6,7,1))\n",
        "    if debug:\n",
        "        print(\"Trained model {} predicts: {}\".format(obs.mark, col))\n",
        "    # Check if selected column is valid\n",
        "    is_valid = (obs['board'][int(col)] == 0)\n",
        "    # If not valid, select random move. \n",
        "    if is_valid:\n",
        "        return int(col)\n",
        "    else:\n",
        "        if debug:\n",
        "            print(\">>> Trained model {} guesses randomly: {}\".format(obs.mark, col))\n",
        "        return random.choice([col for col in range(config.columns) if obs.board[int(col)] == 0])"
      ],
      "execution_count": 47,
      "outputs": []
    },
    {
      "cell_type": "code",
      "metadata": {
        "id": "gAmYNMaFggKm"
      },
      "source": [
        "board = np.array([0, 0, 0, 0, 0, 0, 0,\n",
        "                  0, 0, 0, 0, 0, 0, 0,\n",
        "                  0, 0, 0, 0, 0, 0, 0,\n",
        "                  0, 0, 2, 2, 2, 1, 0,\n",
        "                  0, 0, 1, 2, 2, 1, 0,\n",
        "                  0, 0, 2, 1, 1, 1, 0]).reshape((6,7,1))"
      ],
      "execution_count": 81,
      "outputs": []
    },
    {
      "cell_type": "code",
      "metadata": {
        "colab": {
          "base_uri": "https://localhost:8080/"
        },
        "id": "t8rrnzn7XjTy",
        "outputId": "16421b5f-47f7-4176-90a2-92a5eb57166f"
      },
      "source": [
        "modelX.action_probability(board)"
      ],
      "execution_count": 89,
      "outputs": [
        {
          "output_type": "execute_result",
          "data": {
            "text/plain": [
              "array([4.5385608e-03, 6.4647697e-02, 6.7577712e-02, 1.8929254e-02,\n",
              "       8.2114214e-01, 2.2954317e-02, 2.1039565e-04], dtype=float32)"
            ]
          },
          "metadata": {
            "tags": []
          },
          "execution_count": 89
        }
      ]
    },
    {
      "cell_type": "code",
      "metadata": {
        "colab": {
          "base_uri": "https://localhost:8080/"
        },
        "id": "XPNzjQYBh0ND",
        "outputId": "21fc1d19-e8a7-434d-8339-9211a2fd9104"
      },
      "source": [
        "modelX.predict(board)"
      ],
      "execution_count": 90,
      "outputs": [
        {
          "output_type": "execute_result",
          "data": {
            "text/plain": [
              "(4, None)"
            ]
          },
          "metadata": {
            "tags": []
          },
          "execution_count": 90
        }
      ]
    },
    {
      "cell_type": "code",
      "metadata": {
        "colab": {
          "base_uri": "https://localhost:8080/"
        },
        "id": "gJ1VBA2Mlvo0",
        "outputId": "2688cdc0-3edc-4fad-b474-bb4cb540d303"
      },
      "source": [
        "model_OG.predict(board), model_OG.action_probability(board)"
      ],
      "execution_count": 91,
      "outputs": [
        {
          "output_type": "execute_result",
          "data": {
            "text/plain": [
              "((2, None), array([0.07473746, 0.03027752, 0.4408844 , 0.2556756 , 0.17304564,\n",
              "        0.01038975, 0.01498962], dtype=float32))"
            ]
          },
          "metadata": {
            "tags": []
          },
          "execution_count": 91
        }
      ]
    },
    {
      "cell_type": "code",
      "metadata": {
        "id": "dVBc94kxZEGn",
        "colab": {
          "base_uri": "https://localhost:8080/"
        },
        "outputId": "857007e6-07c9-45e2-bb43-6c6a365dc6b9"
      },
      "source": [
        "start_time = time.time()\n",
        "n_rounds=222\n",
        "agent1 = lambda x,y: trained_agent(x,y,model=modelX,debug=False)\n",
        "agent2 = lambda x,y: test_agent(x,y,debug=False)\n",
        "#agent2 = agentX\n",
        "#agent2 = \"negamax\"\n",
        "outcomes = get_win_percentages(agent1, agent2, n_rounds=n_rounds)\n",
        "print (\"Total time taken: {} seconds\".format(time.time() - start_time))\n",
        "print (\"Time taken per round: {} seconds\".format((time.time() - start_time)/n_rounds))"
      ],
      "execution_count": 52,
      "outputs": [
        {
          "output_type": "stream",
          "text": [
            "Agent 1 Win Percentage: 0.0\n",
            "Agent 2 Win Percentage: 1.0\n",
            "Number of Invalid Plays by Agent 1: 0\n",
            "Number of Invalid Plays by Agent 2: 0\n",
            "Total time taken: 203.2764027118683 seconds\n",
            "Time taken per round: 0.9156598969622776 seconds\n"
          ],
          "name": "stdout"
        }
      ]
    },
    {
      "cell_type": "code",
      "metadata": {
        "id": "cDwl86SgdtKW"
      },
      "source": [
        ""
      ],
      "execution_count": null,
      "outputs": []
    },
    {
      "cell_type": "code",
      "metadata": {
        "id": "nZSvCVDAcHC1"
      },
      "source": [
        "start_time = time.time()\n",
        "n_rounds=100\n",
        "agent1 = agentX \n",
        "agent2 = \"random\"\n",
        "outcomes = get_win_percentages(agent1, agent2, n_rounds=n_rounds)\n",
        "print (\"Total time taken: {} seconds\".format(time.time() - start_time))\n",
        "print (\"Time taken per round: {} seconds\".format((time.time() - start_time)/n_rounds))"
      ],
      "execution_count": null,
      "outputs": []
    },
    {
      "cell_type": "code",
      "metadata": {
        "id": "CkK_5qhVuYwm"
      },
      "source": [
        "outcomes"
      ],
      "execution_count": null,
      "outputs": []
    }
  ]
}