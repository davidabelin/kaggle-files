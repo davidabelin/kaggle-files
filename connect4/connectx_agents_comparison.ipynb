{
  "nbformat": 4,
  "nbformat_minor": 0,
  "metadata": {
    "kernelspec": {
      "language": "python",
      "display_name": "Python 3",
      "name": "python3"
    },
    "language_info": {
      "pygments_lexer": "ipython3",
      "nbconvert_exporter": "python",
      "version": "3.6.4",
      "file_extension": ".py",
      "codemirror_mode": {
        "name": "ipython",
        "version": 3
      },
      "name": "python",
      "mimetype": "text/x-python"
    },
    "colab": {
      "name": "connectx_agents_comparison.ipynb",
      "provenance": [],
      "toc_visible": true,
      "machine_shape": "hm"
    }
  },
  "cells": [
    {
      "cell_type": "markdown",
      "metadata": {
        "id": "_pO98-EQMtxG"
      },
      "source": [
        "# ConnectX - Legion Of Agents - Arena\n",
        "\n",
        "This notebook contains a lot of different agents from different sources.    \n",
        "In the **Comparison In Battle** section, we also added a comparison in a fair battle of each agent with each in 1 round with 1000 steps."
      ]
    },
    {
      "cell_type": "markdown",
      "metadata": {
        "trusted": true,
        "id": "ZTJUWfXAMtx1"
      },
      "source": [
        "<a id=\"100\"></a>\n",
        "<h2 style='background:#FBE338; border:0; color:black'><center>Example Using The kaggle_environments For Testing Agents<center><h2>"
      ]
    },
    {
      "cell_type": "markdown",
      "metadata": {
        "id": "ZcAB3MxWMtx1"
      },
      "source": [
        "We need to import the library for creating environments and simulating agent battles"
      ]
    },
    {
      "cell_type": "code",
      "metadata": {
        "trusted": true,
        "id": "QuKKIyVoMtx2"
      },
      "source": [
        "# Upgrade kaggle_environments using pip before import\n",
        "!pip install kaggle_environments"
      ],
      "execution_count": null,
      "outputs": []
    },
    {
      "cell_type": "code",
      "metadata": {
        "trusted": true,
        "id": "t5KP63NOMtx2"
      },
      "source": [
        "import numpy as np\n",
        "import pandas as pd\n",
        "\n",
        "import matplotlib.pyplot as plt\n",
        "import seaborn as sns\n",
        "\n",
        "from kaggle_environments import make, evaluate"
      ],
      "execution_count": null,
      "outputs": []
    },
    {
      "cell_type": "markdown",
      "metadata": {
        "id": "BvPvqFUpMtx2"
      },
      "source": [
        "Create a rock-paper-scissors environment (RPS), and set 1000 episodes for each simulation"
      ]
    },
    {
      "cell_type": "code",
      "metadata": {
        "trusted": true,
        "id": "xPXfIxPKMtx3"
      },
      "source": [
        "config = {'rows': 6, 'columns': 7, 'inarow': 4}\r\n",
        "env = make(\"connectx\", configuration=config)"
      ],
      "execution_count": null,
      "outputs": []
    },
    {
      "cell_type": "markdown",
      "metadata": {
        "id": "VD1EuKMbMtx3"
      },
      "source": [
        "Let's start simulating the battle invert_my_last_action vs copy_opponent_agent"
      ]
    },
    {
      "cell_type": "code",
      "metadata": {
        "trusted": true,
        "id": "3kWotorLMtx4"
      },
      "source": [
        "# Battle example: invert_my_last_action vs copy_opponent_agent\n",
        "env.run([\"pruner_v5.py\", \"deep_lookahead.py\"])\n",
        "\n",
        "env.render(mode=\"ipython\", width=240, height=240)"
      ],
      "execution_count": null,
      "outputs": []
    },
    {
      "cell_type": "markdown",
      "metadata": {
        "id": "JmIdi0QyMtx4"
      },
      "source": [
        "Get score for 2 agents in the battle"
      ]
    },
    {
      "cell_type": "code",
      "metadata": {
        "trusted": true,
        "id": "mij1ZMmSMtx5"
      },
      "source": [
        "list_names = [\"quick_pick_submit.py\",\n",
        "            \"quick_look_v0.py\",\n",
        "            \"quick_look_v5.py\",\n",
        "            \"deep_lookahead.py\",\n",
        "            \"heuristic_v8.py\",\n",
        "            \"experimental_agent_v6.py\",\n",
        "            \"experimental_agent_v7.py\",\n",
        "            \"experimental_agent_v8.py\",\n",
        "            \"pruner_v5.py\",\n",
        "            \"prunerBD.py\",\n",
        "            \"prunerZ_ready.py\",\n",
        "            \"test_agent_v1.py\",\n",
        "            \"test_agent_v4.py\",\n",
        "            \"test_agent_v6.py\",\n",
        "            \"test_agent_v9.py\",\n",
        "            env.agents.negamax,\n",
        "            env.agents.random]\n",
        "\n",
        "list_agents = list_names"
      ],
      "execution_count": null,
      "outputs": []
    },
    {
      "cell_type": "code",
      "metadata": {
        "id": "O9v57MMdTX9i"
      },
      "source": [
        "test_list = [\"quick_pick_submit.py\",\r\n",
        "             \"test_agent_v4.py\",\r\n",
        "             \"test_agent_v6.py\",\r\n",
        "             env.agents.negamax,\r\n",
        "             env.agents.random,\r\n",
        "             \"test_agent_v9.py\"]\r\n",
        "\r\n",
        "list_names = test_list\r\n",
        "list_agents = test_list"
      ],
      "execution_count": null,
      "outputs": []
    },
    {
      "cell_type": "code",
      "metadata": {
        "trusted": true,
        "id": "521NMS_NMtx4"
      },
      "source": [
        "evaluate(\n",
        "    \"connectx\", \n",
        "    [\"pruner_v5.py\", \"deep_lookahead.py\"], \n",
        "    configuration=config\n",
        ")\n",
        "\n",
        "env.render(mode=\"ipython\", width=500, height=400)"
      ],
      "execution_count": null,
      "outputs": []
    },
    {
      "cell_type": "code",
      "metadata": {
        "id": "JSbzI5MMoXfK"
      },
      "source": [
        "def get_win_percentages(agent1, agent2, n_rounds=10):\n",
        "    config = {'rows': 6, 'columns': 7, 'inarow': 4}        \n",
        "    outcomes = evaluate(\"connectx\", [agent1, agent2], config, [], n_rounds//2) \n",
        "    outcomes += [[b,a] for [a,b] in evaluate(\"connectx\", [agent2, agent1], config, [], n_rounds-n_rounds//2)]\n",
        "    a1_score = outcomes.count([1,-1])/len(outcomes)\n",
        "    a2_score = outcomes.count([-1,1])/len(outcomes)\n",
        "    \n",
        "    #print(\"Agent 1 Win Percentage:\", np.round(outcomes.count([1,-1])/len(outcomes), 3))\n",
        "    #print(\"Agent 2 Win Percentage:\", np.round(outcomes.count([-1,1])/len(outcomes), 3))\n",
        "    return round(a1_score,3), round(a2_score,3)"
      ],
      "execution_count": null,
      "outputs": []
    },
    {
      "cell_type": "code",
      "metadata": {
        "id": "1DtjdMJHplMd"
      },
      "source": [
        "a, b = get_win_percentages(env.agents.negamax,\"quick_pick_submit.py\", n_rounds=10)"
      ],
      "execution_count": null,
      "outputs": []
    },
    {
      "cell_type": "markdown",
      "metadata": {
        "id": "m_7Fa3UOMtx5"
      },
      "source": [
        "<a id=\"101\"></a>\n",
        "<h2 style='background:#FBE338; border:0; color:black'><center>Comparison In Battle<center><h2>\n"
      ]
    },
    {
      "cell_type": "code",
      "metadata": {
        "trusted": true,
        "id": "7tjnlEtIMtx5"
      },
      "source": [
        "print(\"Simulating battles. Please stand by...\")\n",
        "scores = np.zeros((len(list_names), len(list_names)), dtype=float)\n",
        "config = {'rows': 6, 'columns': 7, 'inarow': 4}\n",
        "\n",
        "for ind_agent_1 in range(len(list_names)):\n",
        "    for ind_agent_2 in range(ind_agent_1 + 1, len(list_names)):\n",
        "        print(list_names[ind_agent_1],\"vs\",list_names[ind_agent_2])\n",
        "\n",
        "        score1, score2 = get_win_percentages(list_agents[ind_agent_1],\n",
        "                                             list_agents[ind_agent_2],\n",
        "                                             10)\n",
        "        \n",
        "        scores[ind_agent_1, ind_agent_2] = score1\n",
        "        scores[ind_agent_2, ind_agent_1] = score2\n",
        "        \n",
        "        print(scores[ind_agent_1, ind_agent_2],\":\",scores[ind_agent_2, ind_agent_1])"
      ],
      "execution_count": null,
      "outputs": []
    },
    {
      "cell_type": "code",
      "metadata": {
        "id": "wxr_g2iTU-we"
      },
      "source": [
        "scores"
      ],
      "execution_count": null,
      "outputs": []
    },
    {
      "cell_type": "code",
      "metadata": {
        "trusted": true,
        "id": "iZxc_KMaMtx6"
      },
      "source": [
        "df_scores = pd.DataFrame(\n",
        "    scores, \n",
        "    index=list_names, \n",
        "    columns=list_names,\n",
        ")\n",
        "\n",
        "plt.figure(figsize=(10, 10))\n",
        "sns.heatmap(\n",
        "    df_scores, annot=True, cbar=False, cmap='coolwarm', linewidths=1, linecolor='black')#, fmt=\"d\")\n",
        "plt.xticks(rotation=45, fontsize=10)\n",
        "plt.yticks(rotation=45, fontsize=10);"
      ],
      "execution_count": null,
      "outputs": []
    },
    {
      "cell_type": "markdown",
      "metadata": {
        "trusted": true,
        "id": "ZkWKzWRjMtx6"
      },
      "source": [
        "<a id=\"102\"></a>\n",
        "<h2 style='background:#FBE338; border:0; color:black'><center>Test Your Own Agent<center><h2>\n"
      ]
    },
    {
      "cell_type": "markdown",
      "metadata": {
        "id": "D-ZVn7rXMtx6"
      },
      "source": [
        "Set here your own agent"
      ]
    },
    {
      "cell_type": "code",
      "metadata": {
        "trusted": true,
        "id": "3RjiMxyUMtx7"
      },
      "source": [
        "def your_agent(observation, configuration):\n",
        "    return 0"
      ],
      "execution_count": null,
      "outputs": []
    },
    {
      "cell_type": "code",
      "metadata": {
        "trusted": true,
        "id": "Rbl1AWqbMtx7"
      },
      "source": [
        "scores = np.zeros((len(list_names), 1), dtype=int)"
      ],
      "execution_count": null,
      "outputs": []
    },
    {
      "cell_type": "code",
      "metadata": {
        "trusted": true,
        "id": "g2WPt2wbMtx7"
      },
      "source": [
        "for ind_agent_1 in range(len(list_names)):\n",
        "\n",
        "    current_score = evaluate(\n",
        "        \"connectx\", \n",
        "        [\"negamax\", list_agents[ind_agent_1]], \n",
        "        configuration={\"episodeSteps\": 1000}\n",
        "    )\n",
        "\n",
        "    scores[ind_agent_1, 0] = current_score[0][0]"
      ],
      "execution_count": null,
      "outputs": []
    },
    {
      "cell_type": "code",
      "metadata": {
        "trusted": true,
        "id": "alhyT0D1Mtx8"
      },
      "source": [
        "df_scores = pd.DataFrame(\n",
        "    scores, \n",
        "    index=list_names, \n",
        "    columns=[\"your_agent\"],\n",
        ")\n",
        "\n",
        "\n",
        "plt.figure(figsize=(2, 10))\n",
        "sns.heatmap(\n",
        "    df_scores, annot=True, cbar=False, \n",
        "    cmap=\"coolwarm\", linewidths=1, linecolor=\"black\", \n",
        "    fmt=\"d\", vmin=-500, vmax=500,\n",
        ")\n",
        "plt.xticks(rotation=90, fontsize=15)\n",
        "plt.yticks(rotation=360, fontsize=15);"
      ],
      "execution_count": null,
      "outputs": []
    },
    {
      "cell_type": "code",
      "metadata": {
        "trusted": true,
        "id": "jLJdfbHAMtx8"
      },
      "source": [
        "df_scores"
      ],
      "execution_count": null,
      "outputs": []
    },
    {
      "cell_type": "code",
      "metadata": {
        "id": "doT8StGdcuCF"
      },
      "source": [
        "env.render(mode=\"ipython\")"
      ],
      "execution_count": null,
      "outputs": []
    }
  ]
}