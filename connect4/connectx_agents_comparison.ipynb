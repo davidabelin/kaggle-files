{
  "nbformat": 4,
  "nbformat_minor": 0,
  "metadata": {
    "kernelspec": {
      "language": "python",
      "display_name": "Python 3",
      "name": "python3"
    },
    "language_info": {
      "pygments_lexer": "ipython3",
      "nbconvert_exporter": "python",
      "version": "3.6.4",
      "file_extension": ".py",
      "codemirror_mode": {
        "name": "ipython",
        "version": 3
      },
      "name": "python",
      "mimetype": "text/x-python"
    },
    "colab": {
      "name": "connectx_agents_comparison.ipynb",
      "provenance": [],
      "toc_visible": true,
      "machine_shape": "hm"
    }
  },
  "cells": [
    {
      "cell_type": "markdown",
      "metadata": {
        "id": "_pO98-EQMtxG"
      },
      "source": [
        "# ConnectX - Legion Of Agents - Arena\n",
        "\n",
        "This notebook contains a lot of different agents from different sources.    \n",
        "In the **Comparison In Battle** section, we also added a comparison in a fair battle of each agent with each in 1 round with 1000 steps."
      ]
    },
    {
      "cell_type": "markdown",
      "metadata": {
        "trusted": true,
        "id": "ZTJUWfXAMtx1"
      },
      "source": [
        "<a id=\"100\"></a>\n",
        "<h2 style='background:#FBE338; border:0; color:black'><center>Example Using The kaggle_environments For Testing Agents<center><h2>"
      ]
    },
    {
      "cell_type": "markdown",
      "metadata": {
        "id": "ZcAB3MxWMtx1"
      },
      "source": [
        "We need to import the library for creating environments and simulating agent battles"
      ]
    },
    {
      "cell_type": "code",
      "metadata": {
        "trusted": true,
        "id": "QuKKIyVoMtx2"
      },
      "source": [
        "# Upgrade kaggle_environments using pip before import\n",
        "!pip install kaggle_environments"
      ],
      "execution_count": null,
      "outputs": []
    },
    {
      "cell_type": "code",
      "metadata": {
        "trusted": true,
        "id": "t5KP63NOMtx2"
      },
      "source": [
        "import numpy as np\n",
        "import pandas as pd\n",
        "\n",
        "import matplotlib.pyplot as plt\n",
        "import seaborn as sns\n",
        "\n",
        "from kaggle_environments import make, evaluate"
      ],
      "execution_count": null,
      "outputs": []
    },
    {
      "cell_type": "markdown",
      "metadata": {
        "id": "BvPvqFUpMtx2"
      },
      "source": [
        "Create a rock-paper-scissors environment (RPS), and set 1000 episodes for each simulation"
      ]
    },
    {
      "cell_type": "code",
      "metadata": {
        "trusted": true,
        "id": "xPXfIxPKMtx3"
      },
      "source": [
        "env = make(\"connectx\", configuration={\"episodeSteps\": 1000})"
      ],
      "execution_count": null,
      "outputs": []
    },
    {
      "cell_type": "markdown",
      "metadata": {
        "id": "VD1EuKMbMtx3"
      },
      "source": [
        "Let's start simulating the battle invert_my_last_action vs copy_opponent_agent"
      ]
    },
    {
      "cell_type": "code",
      "metadata": {
        "trusted": true,
        "id": "3kWotorLMtx4"
      },
      "source": [
        "# Battle example: invert_my_last_action vs copy_opponent_agent\n",
        "env.run([\"pruner_v5.py\", \"deep_lookahead.py\"])\n",
        "\n",
        "env.render(mode=\"ipython\", width=500, height=400)"
      ],
      "execution_count": null,
      "outputs": []
    },
    {
      "cell_type": "markdown",
      "metadata": {
        "id": "JmIdi0QyMtx4"
      },
      "source": [
        "Get score for 2 agents in the battle"
      ]
    },
    {
      "cell_type": "code",
      "metadata": {
        "trusted": true,
        "id": "521NMS_NMtx4"
      },
      "source": [
        "evaluate(\n",
        "    \"connectx\", \n",
        "    [\"pruner_v5.py\", \"deep_lookahead.py\"], \n",
        "    configuration={\"episodeSteps\": 1000}\n",
        ")\n",
        "\n",
        "env.render(mode=\"ipython\", width=500, height=400)"
      ],
      "execution_count": null,
      "outputs": []
    },
    {
      "cell_type": "code",
      "metadata": {
        "id": "JSbzI5MMoXfK"
      },
      "source": [
        "def get_win_percentages(agent1, agent2, n_rounds=10):\n",
        "    config = {'rows': 6, 'columns': 7, 'inarow': 4}        \n",
        "    outcomes = evaluate(\"connectx\", [agent1, agent2], config, [], n_rounds//2) \n",
        "    outcomes += [[b,a] for [a,b] in evaluate(\"connectx\", [agent2, agent1], config, [], n_rounds-n_rounds//2)]\n",
        "    a1_score = outcomes.count([1,-1])/len(outcomes)\n",
        "    a2_score = outcomes.count([-1,1])/len(outcomes)\n",
        "    \n",
        "    #print(\"Agent 1 Win Percentage:\", np.round(outcomes.count([1,-1])/len(outcomes), 3))\n",
        "    #print(\"Agent 2 Win Percentage:\", np.round(outcomes.count([-1,1])/len(outcomes), 3))\n",
        "    return round(a1_score,3), round(a2_score,3)"
      ],
      "execution_count": null,
      "outputs": []
    },
    {
      "cell_type": "code",
      "metadata": {
        "id": "1DtjdMJHplMd"
      },
      "source": [
        "a, b = get_win_percentages(env.agents.negamax,\"quick_pick_submit.py\", n_rounds=10)"
      ],
      "execution_count": null,
      "outputs": []
    },
    {
      "cell_type": "code",
      "metadata": {
        "id": "8w6r0ErkqFsP"
      },
      "source": [
        "a, b"
      ],
      "execution_count": null,
      "outputs": []
    },
    {
      "cell_type": "markdown",
      "metadata": {
        "id": "m_7Fa3UOMtx5"
      },
      "source": [
        "<a id=\"101\"></a>\n",
        "<h2 style='background:#FBE338; border:0; color:black'><center>Comparison In Battle<center><h2>\n"
      ]
    },
    {
      "cell_type": "code",
      "metadata": {
        "id": "-RuYeelWQllR"
      },
      "source": [
        "#! ls *.py"
      ],
      "execution_count": null,
      "outputs": []
    },
    {
      "cell_type": "code",
      "metadata": {
        "trusted": true,
        "id": "mij1ZMmSMtx5"
      },
      "source": [
        "list_names = [\"quick_pick_submit.py\",\n",
        "            \"quick_look_v0.py\",\n",
        "            \"quick_look_v5.py\",\n",
        "            \"deep_lookahead.py\",\n",
        "            \"heuristic_v8.py\",\n",
        "            \"experimental_agent_v6.py\",\n",
        "            \"experimental_agent_v7.py\",\n",
        "            \"experimental_agent_v8.py\",\n",
        "            \"pruner_v5.py\",\n",
        "            \"prunerBD.py\",\n",
        "            \"prunerZ_ready.py\",\n",
        "            \"test_agent_v1.py\",\n",
        "            \"test_agent_v4.py\",\n",
        "            \"test_agent_v6.py\",\n",
        "            \"test_agent_v9.py\",\n",
        "            env.agents.negamax,\n",
        "            env.agents.random]\n",
        "\n",
        "list_agents = list_names"
      ],
      "execution_count": null,
      "outputs": []
    },
    {
      "cell_type": "code",
      "metadata": {
        "id": "O9v57MMdTX9i"
      },
      "source": [
        "test_list = [\"quick_pick_submit.py\",\r\n",
        "             \"test_agent_v4.py\",\r\n",
        "             \"test_agent_v6.py\",\r\n",
        "             env.agents.negamax,\r\n",
        "             env.agents.random,\r\n",
        "             \"test_agent_v9.py\"]\r\n",
        "\r\n",
        "list_names = test_list\r\n",
        "list_agents = test_list"
      ],
      "execution_count": null,
      "outputs": []
    },
    {
      "cell_type": "code",
      "metadata": {
        "trusted": true,
        "id": "7tjnlEtIMtx5"
      },
      "source": [
        "print(\"Simulating battles. Please stand by...\")\n",
        "scores = np.zeros((len(list_names), len(list_names)), dtype=float)\n",
        "config = {'rows': 6, 'columns': 7, 'inarow': 4}\n",
        "\n",
        "for ind_agent_1 in range(len(list_names)):\n",
        "    for ind_agent_2 in range(ind_agent_1 + 1, len(list_names)):\n",
        "        print(list_names[ind_agent_1],\"vs\",list_names[ind_agent_2])\n",
        "\n",
        "        score1, score2 = get_win_percentages(list_agents[ind_agent_1],\n",
        "                                             list_agents[ind_agent_2],\n",
        "                                             10)\n",
        "        \n",
        "        scores[ind_agent_1, ind_agent_2] = score1\n",
        "        scores[ind_agent_2, ind_agent_1] = score2\n",
        "        \n",
        "        print(scores[ind_agent_1, ind_agent_2],\":\",scores[ind_agent_2, ind_agent_1])"
      ],
      "execution_count": null,
      "outputs": []
    },
    {
      "cell_type": "code",
      "metadata": {
        "id": "wxr_g2iTU-we"
      },
      "source": [
        "scores"
      ],
      "execution_count": null,
      "outputs": []
    },
    {
      "cell_type": "code",
      "metadata": {
        "trusted": true,
        "id": "iZxc_KMaMtx6"
      },
      "source": [
        "df_scores = pd.DataFrame(\n",
        "    scores, \n",
        "    index=list_names, \n",
        "    columns=list_names,\n",
        ")\n",
        "\n",
        "plt.figure(figsize=(10, 10))\n",
        "sns.heatmap(\n",
        "    df_scores, annot=True, cbar=False, cmap='coolwarm', linewidths=1, linecolor='black')#, fmt=\"d\")\n",
        "plt.xticks(rotation=45, fontsize=10)\n",
        "plt.yticks(rotation=45, fontsize=10);"
      ],
      "execution_count": null,
      "outputs": []
    },
    {
      "cell_type": "code",
      "metadata": {
        "id": "95rFRgwXqHXk"
      },
      "source": [
        "df_scores.T.describe()"
      ],
      "execution_count": null,
      "outputs": []
    },
    {
      "cell_type": "code",
      "metadata": {
        "id": "tirQcwCbri09"
      },
      "source": [
        "df_scores.to_csv('agent_vs_agent.csv',index=True)\r\n",
        "df = pd.read_csv(\"agent_vs_agent.csv\", index_col=0)\r\n",
        "df"
      ],
      "execution_count": null,
      "outputs": []
    },
    {
      "cell_type": "markdown",
      "metadata": {
        "id": "ZnfUGrjOuw0Q"
      },
      "source": [
        "And:\r\n"
      ]
    },
    {
      "cell_type": "code",
      "metadata": {
        "id": "JQHmAgXpDQnA"
      },
      "source": [
        "modelW = PPO1.load('highscorer_W', env=None, verbose=0)\r\n",
        "modelY = PPO1.load('highscorer_Y', env=None, verbose=0)\r\n",
        "modelU = PPO1.load('highscorer_U', env=None, verbose=0)\r\n",
        "modelUY = PPO1.load('highscorer_UY', env=None, verbose=0)\r\n",
        "modelUYX = PPO1.load('highscorer_UYX', env=None, verbose=0)\r\n",
        "modelUYXU = PPO1.load('highscorer_UYXU.zip', env=None, verbose=0)\r\n",
        "modelUYXUO = PPO1.load('highscorer_UYXUO.zip', env=None, verbose=0)\r\n",
        "modelUYXUOZ = PPO1.load('highscorer_UYXUOZ.zip', env=None, verbose=0)\r\n",
        "trained_models = [modelUYXUOZ,modelUYXUO,modelUYXU,modelUYX,modelUY,modelW,modelY,modelU]\r\n",
        "\r\n",
        "modelY2 = PPO1.load('highscorer_Y2.zip', env=None, verbose=0)\r\n",
        "modelO = PPO1.load('highscorer_O.zip', env=None, verbose=0)\r\n",
        "modelZ = PPO1.load('highscorer_Z.zip', env=None, verbose=0)\r\n",
        "modelZU = PPO1.load('highscorer_ZU.zip', env=None, verbose=0)\r\n",
        "modelZUX = PPO1.load('highscorer_ZUX.zip', env=None, verbose=0)\r\n",
        "modelZUXX = PPO1.load('highscorer_ZUXX.zip', env=None, verbose=0)\r\n",
        "modelZUXXO = PPO1.load('highscorer_ZUXXO.zip', env=None, verbose=0)\r\n",
        "modelZUXXOX = PPO1.load('highscorer_ZUXXOX.zip', env=None, verbose=0)\r\n",
        "trained_models += [modelZUXXOX,modelZUXXO,modelZUXX,modelZUX,modelZU,modelZ,modelO,modelY2]"
      ],
      "execution_count": null,
      "outputs": []
    },
    {
      "cell_type": "code",
      "metadata": {
        "id": "56A0wuYqZEGb"
      },
      "source": [
        "def trained_agent(obs, config, model=None, debug=True):\n",
        "    #print(\"start\")\n",
        "    # Use the best model to select a column\n",
        "    col, _ = model.predict(np.array(obs['board']).reshape(6,7,1))\n",
        "    if debug:\n",
        "        print(\"Player {} predicts: {}\".format(obs.mark, col))\n",
        "    # Check if selected column is valid\n",
        "    is_valid = (obs['board'][int(col)] == 0)\n",
        "    # If not valid, select random move. \n",
        "    if is_valid:\n",
        "        #print(\"End: Is valid\")\n",
        "        return int(col)\n",
        "    else:\n",
        "        if debug:\n",
        "            print(\">>> Player {} guesses randomly: {}\".format(obs.mark, col))\n",
        "        #print(\"End: Is not valid\")\n",
        "        return random.choice([col for col in range(config.columns) if obs.board[int(col)] == 0])"
      ],
      "execution_count": null,
      "outputs": []
    },
    {
      "cell_type": "code",
      "metadata": {
        "id": "AviF8dg8Q8FB"
      },
      "source": [
        "list_agents = [lambda x,y: trained_agent(x,y,model=m,debug=False) for m in trained_models]"
      ],
      "execution_count": null,
      "outputs": []
    },
    {
      "cell_type": "code",
      "metadata": {
        "trusted": true,
        "colab": {
          "base_uri": "https://localhost:8080/"
        },
        "id": "ilhkoeeEu0AG",
        "outputId": "85a3733f-51ad-42c0-be04-3227929c31fa"
      },
      "source": [
        "#agent1 = lambda x,y: trained_agent(x,y,model=modelO,debug=True)\n",
        "agent1 = list_agents[3]\n",
        "agent2 = list_agents[5]#lambda x,y: trained_agent(x,y,model=modelY,debug=False)\n",
        "\n",
        "evaluate(\n",
        "    \"connectx\", \n",
        "    [agent1,agent2], \n",
        "    configuration=config\n",
        ")\n"
      ],
      "execution_count": null,
      "outputs": [
        {
          "output_type": "execute_result",
          "data": {
            "text/plain": [
              "[[None, 0]]"
            ]
          },
          "metadata": {
            "tags": []
          },
          "execution_count": 62
        }
      ]
    },
    {
      "cell_type": "markdown",
      "metadata": {
        "id": "Jtc0dRSKu0AJ"
      },
      "source": [
        "<a id=\"101\"></a>\n",
        "<h2 style='background:#FBE338; border:0; color:black'><center>Comparison In Battle<center><h2>\n"
      ]
    },
    {
      "cell_type": "code",
      "metadata": {
        "id": "xSHL0m5hu0AM"
      },
      "source": [
        "def get_win_percentages(agent1, agent2, n_rounds=10):\n",
        "    config = {'rows': 6, 'columns': 7, 'inarow': 4}        \n",
        "    outcomes = evaluate(\"connectx\", [agent1, agent2], config, [], n_rounds//2) \n",
        "    outcomes += [[b,a] for [a,b] in evaluate(\"connectx\", [agent2, agent1], config, [], n_rounds-n_rounds//2)]\n",
        "    a1_score = outcomes.count([1,-1])/len(outcomes)\n",
        "    a2_score = outcomes.count([-1,1])/len(outcomes)\n",
        "    \n",
        "    #print(\"Agent 1 Win Percentage:\", np.round(outcomes.count([1,-1])/len(outcomes), 3))\n",
        "    #print(\"Agent 2 Win Percentage:\", np.round(outcomes.count([-1,1])/len(outcomes), 3))\n",
        "    return round(a1_score,3), round(a2_score,3)"
      ],
      "execution_count": null,
      "outputs": []
    }
  ]
}