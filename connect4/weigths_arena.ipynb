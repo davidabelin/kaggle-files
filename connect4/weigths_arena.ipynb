{
  "nbformat": 4,
  "nbformat_minor": 0,
  "metadata": {
    "kernelspec": {
      "display_name": "Python 3",
      "language": "python",
      "name": "python3"
    },
    "language_info": {
      "codemirror_mode": {
        "name": "ipython",
        "version": 3
      },
      "file_extension": ".py",
      "mimetype": "text/x-python",
      "name": "python",
      "nbconvert_exporter": "python",
      "pygments_lexer": "ipython3",
      "version": "3.7.6"
    },
    "papermill": {
      "duration": 4.949044,
      "end_time": "2020-11-09T23:26:31.095893",
      "environment_variables": {},
      "exception": null,
      "input_path": "__notebook__.ipynb",
      "output_path": "__notebook__.ipynb",
      "parameters": {},
      "start_time": "2020-11-09T23:26:26.146849",
      "version": "2.1.0"
    },
    "colab": {
      "name": "weigths_arena.ipynb",
      "provenance": [],
      "machine_shape": "hm"
    }
  },
  "cells": [
    {
      "cell_type": "code",
      "metadata": {
        "execution": {
          "iopub.execute_input": "2020-11-09T23:26:30.682479Z",
          "iopub.status.busy": "2020-11-09T23:26:30.681778Z",
          "iopub.status.idle": "2020-11-09T23:26:30.772138Z",
          "shell.execute_reply": "2020-11-09T23:26:30.772665Z"
        },
        "papermill": {
          "duration": 0.101906,
          "end_time": "2020-11-09T23:26:30.772829",
          "exception": false,
          "start_time": "2020-11-09T23:26:30.670923",
          "status": "completed"
        },
        "tags": [],
        "id": "QzZF8kjNXIz5",
        "outputId": "8b7f6766-9567-4fa7-b45d-d49c4e0e25d2",
        "colab": {
          "base_uri": "https://localhost:8080/"
        }
      },
      "source": [
        "import numpy as np\n",
        "import random\n",
        "import time\n",
        "!pip install kaggle_environments\n",
        "from kaggle_environments import make, evaluate, utils, agent"
      ],
      "execution_count": 6,
      "outputs": [
        {
          "output_type": "stream",
          "text": [
            "Collecting kaggle_environments\n",
            "\u001b[?25l  Downloading https://files.pythonhosted.org/packages/23/2b/2aa1d6438cd9ed92e130daed7d1da08c432e105b0bda9a716744a2d06771/kaggle_environments-1.4.0-py2.py3-none-any.whl (100kB)\n",
            "\u001b[K     |████████████████████████████████| 102kB 2.4MB/s \n",
            "\u001b[?25hCollecting jsonschema>=3.0.1\n",
            "\u001b[?25l  Downloading https://files.pythonhosted.org/packages/c5/8f/51e89ce52a085483359217bc72cdbf6e75ee595d5b1d4b5ade40c7e018b8/jsonschema-3.2.0-py2.py3-none-any.whl (56kB)\n",
            "\u001b[K     |████████████████████████████████| 61kB 5.6MB/s \n",
            "\u001b[?25hRequirement already satisfied: six>=1.11.0 in /usr/local/lib/python3.6/dist-packages (from jsonschema>=3.0.1->kaggle_environments) (1.15.0)\n",
            "Requirement already satisfied: pyrsistent>=0.14.0 in /usr/local/lib/python3.6/dist-packages (from jsonschema>=3.0.1->kaggle_environments) (0.17.3)\n",
            "Requirement already satisfied: importlib-metadata; python_version < \"3.8\" in /usr/local/lib/python3.6/dist-packages (from jsonschema>=3.0.1->kaggle_environments) (2.0.0)\n",
            "Requirement already satisfied: setuptools in /usr/local/lib/python3.6/dist-packages (from jsonschema>=3.0.1->kaggle_environments) (50.3.2)\n",
            "Requirement already satisfied: attrs>=17.4.0 in /usr/local/lib/python3.6/dist-packages (from jsonschema>=3.0.1->kaggle_environments) (20.2.0)\n",
            "Requirement already satisfied: zipp>=0.5 in /usr/local/lib/python3.6/dist-packages (from importlib-metadata; python_version < \"3.8\"->jsonschema>=3.0.1->kaggle_environments) (3.4.0)\n",
            "\u001b[31mERROR: nbclient 0.5.1 has requirement jupyter-client>=6.1.5, but you'll have jupyter-client 5.3.5 which is incompatible.\u001b[0m\n",
            "Installing collected packages: jsonschema, kaggle-environments\n",
            "  Found existing installation: jsonschema 2.6.0\n",
            "    Uninstalling jsonschema-2.6.0:\n",
            "      Successfully uninstalled jsonschema-2.6.0\n",
            "Successfully installed jsonschema-3.2.0 kaggle-environments-1.4.0\n",
            "Loading environment football failed: No module named 'gfootball'\n"
          ],
          "name": "stdout"
        }
      ]
    },
    {
      "cell_type": "code",
      "metadata": {
        "execution": {
          "iopub.execute_input": "2020-11-09T23:26:30.795376Z",
          "iopub.status.busy": "2020-11-09T23:26:30.794424Z",
          "iopub.status.idle": "2020-11-09T23:26:30.797860Z",
          "shell.execute_reply": "2020-11-09T23:26:30.797224Z"
        },
        "papermill": {
          "duration": 0.019163,
          "end_time": "2020-11-09T23:26:30.797968",
          "exception": false,
          "start_time": "2020-11-09T23:26:30.778805",
          "status": "completed"
        },
        "tags": [],
        "id": "iQBEFZTtXI0B"
      },
      "source": [
        "def get_win_percentages(agent1, agent2, n_rounds=10):\n",
        "    # Use default Connect Four setup\n",
        "    import numpy as np\n",
        "    config = {'rows': 6, 'columns': 7, 'inarow': 4}\n",
        "    # Agent 1 goes first (roughly) half the time          \n",
        "    outcomes = evaluate(\"connectx\", [agent1, agent2], config, [], n_rounds//2)\n",
        "    # Agent 2 goes first (roughly) half the time      \n",
        "    outcomes += [[b,a] for [a,b] in evaluate(\"connectx\", [agent2, agent1], config, [], n_rounds-n_rounds//2)]\n",
        "    print(\"Agent 1 Win Percentage:\", np.round(outcomes.count([1,-1])/len(outcomes), 2))\n",
        "    print(\"Agent 2 Win Percentage:\", np.round(outcomes.count([-1,1])/len(outcomes), 2))\n",
        "    print(\"Number of Invalid Plays by Agent 1:\", outcomes.count([None, 0]))\n",
        "    print(\"Number of Invalid Plays by Agent 2:\", outcomes.count([0, None]))"
      ],
      "execution_count": 7,
      "outputs": []
    },
    {
      "cell_type": "code",
      "metadata": {
        "execution": {
          "iopub.execute_input": "2020-11-09T23:26:30.899812Z",
          "iopub.status.busy": "2020-11-09T23:26:30.898752Z",
          "iopub.status.idle": "2020-11-09T23:26:30.901667Z",
          "shell.execute_reply": "2020-11-09T23:26:30.901038Z"
        },
        "papermill": {
          "duration": 0.098277,
          "end_time": "2020-11-09T23:26:30.901788",
          "exception": false,
          "start_time": "2020-11-09T23:26:30.803511",
          "status": "completed"
        },
        "tags": [],
        "id": "oscuOFOeXI0G",
        "cellView": "form"
      },
      "source": [
        "#@title variable_depth_pruner\n",
        "########################### READY TO SUBMIT\n",
        "\n",
        "def my_agent(obs, config):\n",
        "\n",
        "    #config is dict: {'rows': 6, 'columns': 7, 'inarow': 4}\n",
        "    # obs.board is last move of opponent, obs.mark is current player\n",
        "    # return column that max's next grid's score\n",
        "\n",
        "    ################################\n",
        "    # Imports and helper functions #\n",
        "    ################################\n",
        "\n",
        "    import numpy as np\n",
        "    import random\n",
        "\n",
        "    ########################### Regular pruner ################\n",
        "    # constants (given by game)\n",
        "    ROWS = 6\n",
        "    COLUMNS = 7\n",
        "    CNCTX = 4\n",
        "    ## coefficients (weights on variable future outcomes)\n",
        "    A = 1     #my twos\n",
        "    B = 10    #my threes\n",
        "    C = 1000   #my fours         \n",
        "    D = -10    #opp-threes\n",
        "    E = -100   #opp-fours\n",
        "\n",
        "    # vary lookahead depth according to state of play:\n",
        "    if obs.board.count(0) >= ROWS*COLUMNS/2:\n",
        "        N_STEPS =      2\n",
        "    else:\n",
        "        N_STEPS =      3  # deeper search after half the board is filled\n",
        "\n",
        "    # Gets board at next step if agent drops piece in selected column\n",
        "    def drop_piece(grid, col, mark):\n",
        "        next_grid = grid.copy()\n",
        "        for row in range(ROWS-1, -1, -1):       ###row in range(0,ROWS)??\n",
        "            if next_grid[row][col] == 0:\n",
        "                break\n",
        "        next_grid[row][col] = mark\n",
        "        return next_grid\n",
        "\n",
        "    # Helper function for get_heuristic: checks if window satisfies heuristic conditions\n",
        "    def check_window(window, num_discs, piece):\n",
        "        return (window.count(piece) == num_discs and window.count(0) == CNCTX-num_discs)\n",
        "\n",
        "    # Helper function for get_heuristic: counts number of windows satisfying specified heuristic conditions\n",
        "    def count_windows(grid, num_discs, piece):\n",
        "        num_windows = 0\n",
        "        # horizontal\n",
        "        for row in range(ROWS):\n",
        "            for col in range(COLUMNS-(CNCTX-1)):\n",
        "                window = list(grid[row, col:col+CNCTX])\n",
        "                if check_window(window, num_discs, piece):\n",
        "                    num_windows += 1\n",
        "        # vertical\n",
        "        for row in range(ROWS-(CNCTX-1)):\n",
        "            for col in range(COLUMNS):\n",
        "                window = list(grid[row:row+CNCTX, col])\n",
        "                if check_window(window, num_discs, piece):\n",
        "                    num_windows += 1\n",
        "        # positive diagonal\n",
        "        for row in range(ROWS-(CNCTX-1)):\n",
        "            for col in range(COLUMNS-(CNCTX-1)):\n",
        "                window = list(grid[range(row, row+CNCTX), range(col, col+CNCTX)])\n",
        "                if check_window(window, num_discs, piece):\n",
        "                    num_windows += 1\n",
        "        # negative diagonal\n",
        "        for row in range(CNCTX-1, ROWS):\n",
        "            for col in range(COLUMNS-(CNCTX-1)):\n",
        "                window = list(grid[range(row, row-CNCTX, -1), range(col, col+CNCTX)])\n",
        "                if check_window(window, num_discs, piece):\n",
        "                    num_windows += 1\n",
        "        return num_windows\n",
        "\n",
        "    # Helper function for minimax: calculates value of heuristic for grid\n",
        "    def get_score(grid, mark):\n",
        "        num_twos = count_windows(grid, 2, mark) #A\n",
        "        num_threes = count_windows(grid, 3, mark)  #B\n",
        "        num_fours = count_windows(grid, 4, mark)   #C\n",
        "        num_threes_opp = count_windows(grid, 3, mark%2+1) #D\n",
        "        num_fours_opp = count_windows(grid, 4, mark%2+1)  #E     \n",
        "        score = A*num_twos + B*num_threes + C*num_fours + D*num_threes_opp + E*num_fours_opp\n",
        "        is_terminal = (not num_fours == 0) or (not num_fours_opp == 0) or (list(grid[0, :]).count(0) == 0)\n",
        "        return score, is_terminal\n",
        "\n",
        "    # Minimax implementation was here:\n",
        "    def alphabeta(node, depth, alpha, beta, maximizingPlayer, mark):\n",
        "        node_score, is_terminal = get_score(node, mark)\n",
        "        if depth == 0 or is_terminal:\n",
        "             return node_score\n",
        "            \n",
        "        valid_moves = [c for c in range(COLUMNS) if node[0][c] == 0]\n",
        "\n",
        "        if maximizingPlayer:\n",
        "            value = -np.Inf\n",
        "            for col in valid_moves:\n",
        "                child = drop_piece(node, col, mark)\n",
        "                value = max(value, alphabeta(child, depth-1, alpha, beta, False, mark))\n",
        "                alpha = max(alpha, value)\n",
        "                if alpha >= beta:\n",
        "                    break\n",
        "            return value\n",
        "\n",
        "        else: #minimizing player\n",
        "            value = np.Inf\n",
        "            for col in valid_moves:\n",
        "                child = drop_piece(node, col, mark%2+1)\n",
        "                value = min(value, alphabeta(child, depth-1, alpha, beta, True, mark))\n",
        "                beta = min(beta, value)\n",
        "                if alpha >= beta:\n",
        "                    break\n",
        "            return value\n",
        "\n",
        "    # Uses minimax to calculate value of dropping piece in selected column\n",
        "    def score_move(grid, col, mark, nsteps):\n",
        "        next_grid = drop_piece(grid, col, mark)\n",
        "        score = alphabeta(next_grid, nsteps-1, -np.Inf, np.Inf, False, mark)     \n",
        "        return score\n",
        "    #########################\n",
        "    # Agent makes selection #\n",
        "    #########################\n",
        "\n",
        "    # Get list of valid moves\n",
        "    valid_moves = [c for c in range(COLUMNS) if obs.board[c] == 0]\n",
        "\n",
        "    # Convert the board to a 2D grid\n",
        "    grid = np.asarray(obs.board).reshape(ROWS, COLUMNS)\n",
        "\n",
        "    # Use the heuristic to assign a score to each possible board in the next step\n",
        "    scores = dict(zip(valid_moves, [score_move(grid, col, obs.mark, N_STEPS) for col in valid_moves]))\n",
        "\n",
        "    # Get a list of columns (moves) that maximize the heuristic\n",
        "    max_cols = [key for key in scores.keys() if scores[key] == max(scores.values())]\n",
        "\n",
        "    # Select at random from the maximizing columns\n",
        "    return random.choice(max_cols)"
      ],
      "execution_count": null,
      "outputs": []
    },
    {
      "cell_type": "code",
      "metadata": {
        "id": "azsTElLo9JqT"
      },
      "source": [
        "from weights import weights"
      ],
      "execution_count": 2,
      "outputs": []
    },
    {
      "cell_type": "code",
      "metadata": {
        "id": "9gcA0Myo9R2M"
      },
      "source": [
        "from prunerBD import pruner_BD"
      ],
      "execution_count": 4,
      "outputs": []
    },
    {
      "cell_type": "code",
      "metadata": {
        "execution": {
          "iopub.execute_input": "2020-11-09T23:26:30.938709Z",
          "iopub.status.busy": "2020-11-09T23:26:30.938033Z",
          "iopub.status.idle": "2020-11-09T23:26:30.940956Z",
          "shell.execute_reply": "2020-11-09T23:26:30.940322Z"
        },
        "papermill": {
          "duration": 0.013964,
          "end_time": "2020-11-09T23:26:30.941058",
          "exception": false,
          "start_time": "2020-11-09T23:26:30.927094",
          "status": "completed"
        },
        "tags": [],
        "id": "lTzNgSlmXI0M"
      },
      "source": [
        "#if True:\n",
        "start_time = time.time()\n",
        "n_rounds=1000\n",
        "get_win_percentages(agent1=weights, \n",
        "                    agent2=pruner_BD, \n",
        "                    n_rounds=n_rounds)\n",
        "print (\"Total time taken: {} seconds\".format(time.time() - start_time))\n",
        "print (\"Time taken per round: {} seconds\".format((time.time() - start_time)/n_rounds))"
      ],
      "execution_count": null,
      "outputs": []
    },
    {
      "cell_type": "code",
      "metadata": {
        "execution": {
          "iopub.execute_input": "2020-11-09T23:26:30.938709Z",
          "iopub.status.busy": "2020-11-09T23:26:30.938033Z",
          "iopub.status.idle": "2020-11-09T23:26:30.940956Z",
          "shell.execute_reply": "2020-11-09T23:26:30.940322Z"
        },
        "papermill": {
          "duration": 0.013964,
          "end_time": "2020-11-09T23:26:30.941058",
          "exception": false,
          "start_time": "2020-11-09T23:26:30.927094",
          "status": "completed"
        },
        "tags": [],
        "id": "c5lsZdKr_6SU"
      },
      "source": [
        "#if True:\n",
        "start_time = time.time()\n",
        "n_rounds=1000\n",
        "get_win_percentages(agent1=pruner_BD, \n",
        "                    agent2=weights, \n",
        "                    n_rounds=n_rounds)\n",
        "print (\"Total time taken: {} seconds\".format(time.time() - start_time))\n",
        "print (\"Time taken per round: {} seconds\".format((time.time() - start_time)/n_rounds))"
      ],
      "execution_count": null,
      "outputs": []
    },
    {
      "cell_type": "code",
      "metadata": {
        "execution": {
          "iopub.execute_input": "2020-11-09T23:26:30.938709Z",
          "iopub.status.busy": "2020-11-09T23:26:30.938033Z",
          "iopub.status.idle": "2020-11-09T23:26:30.940956Z",
          "shell.execute_reply": "2020-11-09T23:26:30.940322Z"
        },
        "papermill": {
          "duration": 0.013964,
          "end_time": "2020-11-09T23:26:30.941058",
          "exception": false,
          "start_time": "2020-11-09T23:26:30.927094",
          "status": "completed"
        },
        "tags": [],
        "id": "3hZ3fQBoAEB4"
      },
      "source": [
        "#if True:\n",
        "start_time = time.time()\n",
        "n_rounds=1000\n",
        "get_win_percentages(agent1=weights, \n",
        "                    agent2=pruner_BD, \n",
        "                    n_rounds=n_rounds)\n",
        "print (\"Total time taken: {} seconds\".format(time.time() - start_time))\n",
        "print (\"Time taken per round: {} seconds\".format((time.time() - start_time)/n_rounds))"
      ],
      "execution_count": null,
      "outputs": []
    },
    {
      "cell_type": "code",
      "metadata": {
        "execution": {
          "iopub.execute_input": "2020-11-09T23:26:30.938709Z",
          "iopub.status.busy": "2020-11-09T23:26:30.938033Z",
          "iopub.status.idle": "2020-11-09T23:26:30.940956Z",
          "shell.execute_reply": "2020-11-09T23:26:30.940322Z"
        },
        "papermill": {
          "duration": 0.013964,
          "end_time": "2020-11-09T23:26:30.941058",
          "exception": false,
          "start_time": "2020-11-09T23:26:30.927094",
          "status": "completed"
        },
        "tags": [],
        "id": "3Kfc9uMWAY-V"
      },
      "source": [
        "#if True:\n",
        "start_time = time.time()\n",
        "n_rounds=1000\n",
        "get_win_percentages(agent1=pruner_BD, \n",
        "                    agent2=weights, \n",
        "                    n_rounds=n_rounds)\n",
        "print (\"Total time taken: {} seconds\".format(time.time() - start_time))\n",
        "print (\"Time taken per round: {} seconds\".format((time.time() - start_time)/n_rounds))"
      ],
      "execution_count": null,
      "outputs": []
    },
    {
      "cell_type": "code",
      "metadata": {
        "execution": {
          "iopub.execute_input": "2020-11-09T23:26:30.962774Z",
          "iopub.status.busy": "2020-11-09T23:26:30.957371Z",
          "iopub.status.idle": "2020-11-09T23:26:30.968378Z",
          "shell.execute_reply": "2020-11-09T23:26:30.968840Z"
        },
        "papermill": {
          "duration": 0.022232,
          "end_time": "2020-11-09T23:26:30.968984",
          "exception": false,
          "start_time": "2020-11-09T23:26:30.946752",
          "status": "completed"
        },
        "tags": [],
        "id": "Bv0f7DrEXI0Q",
        "outputId": "80dc9523-6498-4a44-8770-f97194502e9c",
        "colab": {
          "base_uri": "https://localhost:8080/"
        }
      },
      "source": [
        "import inspect\n",
        "import os\n",
        "\n",
        "def write_agent_to_file(function, file):\n",
        "    with open(file, \"a\" if os.path.exists(file) else \"w\") as f:\n",
        "        f.write(inspect.getsource(function))\n",
        "        print(function, \"written to\", file)\n",
        "\n",
        "write_agent_to_file(my_agent, \"submission.py\")\n",
        "# Note: Stdout replacement is a temporary workaround.\n"
      ],
      "execution_count": null,
      "outputs": [
        {
          "output_type": "stream",
          "text": [
            "<function my_agent at 0x7fa1dd797d08> written to twos_3deep.py\n"
          ],
          "name": "stdout"
        }
      ]
    },
    {
      "cell_type": "code",
      "metadata": {
        "execution": {
          "iopub.execute_input": "2020-11-09T23:26:30.919142Z",
          "iopub.status.busy": "2020-11-09T23:26:30.918480Z",
          "iopub.status.idle": "2020-11-09T23:26:30.921206Z",
          "shell.execute_reply": "2020-11-09T23:26:30.920589Z"
        },
        "papermill": {
          "duration": 0.013684,
          "end_time": "2020-11-09T23:26:30.921310",
          "exception": false,
          "start_time": "2020-11-09T23:26:30.907626",
          "status": "completed"
        },
        "tags": [],
        "id": "y3KHDCtFXI0J"
      },
      "source": [
        "if False:\n",
        "    start_time = time.time()\n",
        "    # Create the game environment\n",
        "    env = make(\"connectx\")\n",
        "\n",
        "    # Two random agents play one game round\n",
        "    env.run([my_agent, \"random\"])\n",
        "\n",
        "    # Show the game\n",
        "    env.render(mode=\"ipython\")\n",
        "    end_time = time.time()\n",
        "    print(\"{}\".format(end_time - start_time))"
      ],
      "execution_count": null,
      "outputs": []
    }
  ]
}