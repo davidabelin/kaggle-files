{
  "nbformat": 4,
  "nbformat_minor": 0,
  "metadata": {
    "colab": {
      "name": "connecteer.ipynb",
      "provenance": [],
      "collapsed_sections": [
        "JndnmDMp66FL",
        "266KQvZoMxMv",
        "6sfw3LH0Oycm"
      ],
      "machine_shape": "hm"
    },
    "kernelspec": {
      "name": "python3",
      "display_name": "Python 3"
    },
    "accelerator": "GPU"
  },
  "cells": [
    {
      "cell_type": "code",
      "metadata": {
        "id": "wDlWLbfkJtvu",
        "cellView": "form"
      },
      "source": [
        "#@title Everything not mine is copyright 2020 Google LLC. Double-click here for full information.\n",
        "# Licensed under the Apache License, Version 2.0 (the \"License\");\n",
        "# you may not use this file except in compliance with the License.\n",
        "# You may obtain a copy of the License at\n",
        "#\n",
        "# https://www.apache.org/licenses/LICENSE-2.0\n",
        "#\n",
        "# Unless required by applicable law or agreed to in writing, software\n",
        "# distributed under the License is distributed on an \"AS IS\" BASIS,\n",
        "# WITHOUT WARRANTIES OR CONDITIONS OF ANY KIND, either express or implied.\n",
        "# See the License for the specific language governing permissions and\n",
        "# limitations under the License.\n",
        " \n",
        "# Yann LeCun and Corinna Cortes hold the copyright of MNIST dataset,\n",
        "# which is a derivative work from original NIST datasets. \n",
        "# MNIST dataset is made available under the terms of the \n",
        "# Creative Commons Attribution-Share Alike 3.0 license."
      ],
      "execution_count": 2,
      "outputs": []
    },
    {
      "cell_type": "markdown",
      "metadata": {
        "id": "9SBux8qWSzPz"
      },
      "source": [
        "This Notebook is heavily modified from the MLCC programming project with single-digit images here:\n",
        "https://colab.research.google.com/github/google/eng-edu/blob/master/ml/cc/exercises/multi-class_classification_with_MNIST.ipynb"
      ]
    },
    {
      "cell_type": "code",
      "metadata": {
        "id": "9n9_cTveKmse",
        "cellView": "both",
        "colab": {
          "base_uri": "https://localhost:8080/",
          "height": 35
        },
        "outputId": "2820dc79-045a-447d-bd90-a87eb050dcf8"
      },
      "source": [
        "# load some standard utilities.\n",
        "%tensorflow_version 2.x\n",
        "#from __future__ import absolute_import, division, print_function, unicode_literals\n",
        " \n",
        "import random as rd\n",
        "import numpy as np\n",
        "import pandas as pd\n",
        "import tensorflow as tf\n",
        "from tensorflow.keras import layers\n",
        "from matplotlib import pyplot as plt\n",
        "\n",
        "tf.__version__"
      ],
      "execution_count": 39,
      "outputs": [
        {
          "output_type": "execute_result",
          "data": {
            "application/vnd.google.colaboratory.intrinsic+json": {
              "type": "string"
            },
            "text/plain": [
              "'2.3.0'"
            ]
          },
          "metadata": {
            "tags": []
          },
          "execution_count": 39
        }
      ]
    },
    {
      "cell_type": "code",
      "metadata": {
        "id": "1aGtML-Okikx"
      },
      "source": [
        "# data massage\n",
        "x_train = pd.read_csv('/content/training_set.csv', index_col=0)\n",
        "#x_train = x_train.reindex(np.random.permutation(list(x_train.index)))\n",
        "\n",
        "moves = pd.read_csv('/content/moves.csv', index_col=0)\n",
        "#moves = moves.reindex(x_train.index)\n",
        "\n",
        "x_test = x_train[950:]\n",
        "x_train = x_train[:950]\n",
        "\n",
        "y_train = np.asarray(x_train['labels'])\n",
        "x_train = x_train.drop(columns=['labels'])\n",
        "\n",
        "y_test = np.asarray(x_test['labels'])\n",
        "x_test = x_test.drop(columns=['labels'])\n",
        "\n",
        "x_train_norm = np.asarray(x_train)/2\n",
        "x_test_norm = np.asarray(x_test)/2\n",
        "\n",
        "test_moves = moves[950:]\n",
        "train_moves = moves[:950]"
      ],
      "execution_count": 102,
      "outputs": []
    },
    {
      "cell_type": "code",
      "metadata": {
        "colab": {
          "base_uri": "https://localhost:8080/"
        },
        "id": "Awf5iSQgjvLY",
        "outputId": "aacbcbc9-a1d9-4e41-dec2-f4698973e594"
      },
      "source": [
        "moves.dtypes"
      ],
      "execution_count": 104,
      "outputs": [
        {
          "output_type": "execute_result",
          "data": {
            "text/plain": [
              "0    int64\n",
              "1    int64\n",
              "2    int64\n",
              "3    int64\n",
              "4    int64\n",
              "5    int64\n",
              "6    int64\n",
              "dtype: object"
            ]
          },
          "metadata": {
            "tags": []
          },
          "execution_count": 104
        }
      ]
    },
    {
      "cell_type": "code",
      "metadata": {
        "id": "7uTLaz3WZCCE"
      },
      "source": [
        "def m2p(move = []):\n",
        "#move = train_moves.iloc[0]\n",
        "    try: \n",
        "        assert len(move) == 7\n",
        "    except AssertionError:\n",
        "        print(\"Need a list of 7 column ratings. Recieved\", move)\n",
        "        return move\n",
        "\n",
        "    min_rating = int(min(move))\n",
        "    #max_rating = max(move)\n",
        "    #print (min_rating)\n",
        "\n",
        "    if min_rating < 0:\n",
        "        move = [int(m) - min_rating for m in move]\n",
        "    sum_ratings = sum(move)  \n",
        "    if sum_ratings == 0:\n",
        "        probs = [0,0,0,0,0,0,0]  \n",
        "    else:\n",
        "        probs = [round(float(m)/sum_ratings, 5) for m in move]\n",
        "    #norms = [(m - min_rating) / (max_rating - min_rating) for m in move]\n",
        "    return probs#, norms\n",
        "    #print (probs)   "
      ],
      "execution_count": 123,
      "outputs": []
    },
    {
      "cell_type": "code",
      "metadata": {
        "id": "yXR_ft6TsRir"
      },
      "source": [
        "move_probs = []\n",
        "for i in range(len(train_moves)):\n",
        "    move_probs += [m2p(train_moves.iloc[i])]\n",
        "move_probs"
      ],
      "execution_count": 124,
      "outputs": []
    },
    {
      "cell_type": "markdown",
      "metadata": {
        "id": "3014ezH3C7jT"
      },
      "source": [
        "## Create a hybrid neural net model"
      ]
    },
    {
      "cell_type": "code",
      "metadata": {
        "id": "nxgw5eyKfyft"
      },
      "source": [
        "x_train_norm = x_train_norm.reshape(950, 42)\n",
        "x_test_norm = x_test_norm.reshape(50, 42)"
      ],
      "execution_count": 141,
      "outputs": []
    },
    {
      "cell_type": "code",
      "metadata": {
        "id": "hCIfktJ21CGQ"
      },
      "source": [
        " # SET UP A HYBRID NEURAL NET \n",
        " \n",
        "def create_mixedNN(learning_rate):\n",
        "    \"\"\"Create and compile a convolutional neural net.\"\"\"  \n",
        "    # Define the kind of model to use.\n",
        "    model = tf.keras.models.Sequential()\n",
        "    model.add(tf.keras.layers.Input(shape=(42)))\n",
        "    #model.add(tf.keras.layers.Conv2D(1, 1, activation='relu'))\n",
        "    #model.add(tf.keras.layers.Conv2D(128, 2, padding='same', activation='relu'))\n",
        "    #model.add(tf.keras.layers.Flatten())\n",
        "    model.add(tf.keras.layers.Dense(units=512, activation='relu'))\n",
        "    model.add(tf.keras.layers.Dropout(rate=0.4))\n",
        "    model.add(tf.keras.layers.Dense(units=256, activation='relu'))\n",
        "    model.add(tf.keras.layers.Dropout(rate=0.3))\n",
        "    model.add(tf.keras.layers.Dense(units=7, activation='softmax'))     \n",
        "    model.compile(optimizer=tf.keras.optimizers.Adam(lr=learning_rate),\n",
        "                    loss=\"sparse_categorical_crossentropy\",\n",
        "                    metrics=['accuracy']) \n",
        "    return model"
      ],
      "execution_count": 142,
      "outputs": []
    },
    {
      "cell_type": "code",
      "metadata": {
        "id": "XQAjVbCtM61V"
      },
      "source": [
        " # train on the training set with 10% held back for validation #\n",
        "def train_model(model, train_features, train_label, epochs,\n",
        "                batch_size=None, validation_split=None):\n",
        "\n",
        "    history = model.fit(x=train_features, y=train_label, \n",
        "                        batch_size=batch_size,\n",
        "                        epochs=epochs, shuffle=True, \n",
        "                        validation_split=validation_split)\n",
        "\n",
        "    # Gather the model's metrics after each round of training\n",
        "    epochs = history.epoch\n",
        "    hist = pd.DataFrame(history.history)\n",
        "    return epochs, hist"
      ],
      "execution_count": 143,
      "outputs": []
    },
    {
      "cell_type": "code",
      "metadata": {
        "id": "LO8ivPuFzvdJ"
      },
      "source": [
        "# The adjustable \"hyperparameters\" for the model\n",
        "learning_rate = 0.001\n",
        "epochs = 30\n",
        "batch_size = 50\n",
        "validation_split = None"
      ],
      "execution_count": 149,
      "outputs": []
    },
    {
      "cell_type": "code",
      "metadata": {
        "id": "_a2cQ6JHw8t8"
      },
      "source": [
        "mixed_NN = create_mixedNN(learning_rate)\n",
        "mixed_NN.summary()"
      ],
      "execution_count": null,
      "outputs": []
    },
    {
      "cell_type": "code",
      "metadata": {
        "id": "nj3v5EKQFY8s",
        "cellView": "both"
      },
      "source": [
        "# Train and evalate mixed NN\n",
        "\n",
        "#mixed_NN = create_mixedNN(learning_rate)\n",
        " \n",
        "# TRAIN:\n",
        "mixed_epochs, mixed_hist = train_model(mixed_NN, x_train_norm, y_train, \n",
        "                                        epochs, batch_size, validation_split)\n",
        "\n",
        "# EVALUATE AGAINST THE TEST SET:\n",
        "print(\"\\n Evaluate the new model against the test set:\")\n",
        "mixed_NN.evaluate(x=x_test_norm,y=y_test, batch_size=batch_size)"
      ],
      "execution_count": null,
      "outputs": []
    },
    {
      "cell_type": "code",
      "metadata": {
        "id": "r-YVTZmTHAKr"
      },
      "source": [
        "mixed_NN.evaluate(x=x_test_norm,y=y_test, batch_size=batch_size)"
      ],
      "execution_count": null,
      "outputs": []
    },
    {
      "cell_type": "code",
      "metadata": {
        "id": "Ss4AlURU4Om8"
      },
      "source": [
        "def getResults():  \n",
        "    results = pd.DataFrame(columns=['Answer','Guess','P(G)'])#,'P(A)'])  \n",
        "    results['Answer'] = y_train\n",
        "    predicts = mixed_NN.predict(x_train_norm).round(5)\n",
        "    for j in range(len(x_train_norm)):\n",
        "        probs = predicts[j] # one row of 7 probabilities \n",
        "        maxr = max(probs)   # top probability\n",
        "        for i in range(0,7):\n",
        "            if probs[i] == maxr:\n",
        "                results.at[j,'Guess'] = i\n",
        "                results.at[j,'P(G)'] = maxr*100\n",
        "    return results"
      ],
      "execution_count": 40,
      "outputs": []
    },
    {
      "cell_type": "code",
      "metadata": {
        "colab": {
          "base_uri": "https://localhost:8080/"
        },
        "id": "pRadq4u26BJL",
        "outputId": "4eaf9dd0-ff37-4f9a-8664-b55242f868b8"
      },
      "source": [
        "predicts = mixed_NN.predict(x_train_norm).round(5)\n",
        "predicts"
      ],
      "execution_count": 153,
      "outputs": [
        {
          "output_type": "execute_result",
          "data": {
            "text/plain": [
              "array([[0.1598 , 0.02994, 0.06336, ..., 0.02919, 0.25383, 0.05709],\n",
              "       [0.02044, 0.52331, 0.05929, ..., 0.07498, 0.10932, 0.15381],\n",
              "       [0.07418, 0.27759, 0.46735, ..., 0.09667, 0.06071, 0.0066 ],\n",
              "       ...,\n",
              "       [0.10877, 0.26635, 0.41103, ..., 0.00517, 0.09772, 0.03608],\n",
              "       [0.57232, 0.14209, 0.02145, ..., 0.01621, 0.00992, 0.23721],\n",
              "       [0.0098 , 0.0225 , 0.03198, ..., 0.00708, 0.06406, 0.86443]],\n",
              "      dtype=float32)"
            ]
          },
          "metadata": {
            "tags": []
          },
          "execution_count": 153
        }
      ]
    },
    {
      "cell_type": "code",
      "metadata": {
        "colab": {
          "base_uri": "https://localhost:8080/"
        },
        "id": "VGSR3K3E0Gsu",
        "outputId": "fe3d7b93-8b05-4f6d-bef5-bb2548f83b12"
      },
      "source": [
        "move_probs# = np.array(move_probs)\n"
      ],
      "execution_count": 158,
      "outputs": [
        {
          "output_type": "execute_result",
          "data": {
            "text/plain": [
              "array([[0.10417, 0.10417, 0.20833, ..., 0.16667, 0.125  , 0.0625 ],\n",
              "       [0.     , 0.21053, 0.21053, ..., 0.21053, 0.21053, 0.     ],\n",
              "       [0.     , 0.     , 1.     , ..., 0.     , 0.     , 0.     ],\n",
              "       ...,\n",
              "       [0.09677, 0.09677, 0.29032, ..., 0.     , 0.12903, 0.29032],\n",
              "       [0.16906, 0.16906, 0.15468, ..., 0.16906, 0.16906, 0.16906],\n",
              "       [0.16667, 0.1633 , 0.16667, ..., 0.16667, 0.16667, 0.17003]])"
            ]
          },
          "metadata": {
            "tags": []
          },
          "execution_count": 158
        }
      ]
    },
    {
      "cell_type": "markdown",
      "metadata": {
        "id": "9H7W-OKHUnsp"
      },
      "source": [
        "##Visualizations"
      ]
    },
    {
      "cell_type": "code",
      "metadata": {
        "id": "N6QCoQqRvRfb",
        "colab": {
          "base_uri": "https://localhost:8080/",
          "height": 282
        },
        "outputId": "b9354a80-ff11-4079-8435-1c267da5d53d"
      },
      "source": [
        "# Plot a graph of the 'accuracy' metric vs. epochs:\n",
        "plt.plot(range(epochs),mixed_hist[\"accuracy\"])\n",
        "plt.plot(range(epochs),mixed_hist[\"val_accuracy\"])"
      ],
      "execution_count": 42,
      "outputs": [
        {
          "output_type": "execute_result",
          "data": {
            "text/plain": [
              "[<matplotlib.lines.Line2D at 0x7fdbd021ec88>]"
            ]
          },
          "metadata": {
            "tags": []
          },
          "execution_count": 42
        },
        {
          "output_type": "display_data",
          "data": {
            "image/png": "[encoded data removed]",
            "text/plain": [
              "<Figure size 432x288 with 1 Axes>"
            ]
          },
          "metadata": {
            "tags": [],
            "needs_background": "light"
          }
        }
      ]
    }
  ]
}