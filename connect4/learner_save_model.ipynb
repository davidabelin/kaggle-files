{
  "nbformat": 4,
  "nbformat_minor": 0,
  "metadata": {
    "kernelspec": {
      "name": "python3",
      "display_name": "Python 3",
      "language": "python"
    },
    "language_info": {
      "name": "python",
      "version": "3.7.6",
      "mimetype": "text/x-python",
      "codemirror_mode": {
        "name": "ipython",
        "version": 3
      },
      "pygments_lexer": "ipython3",
      "nbconvert_exporter": "python",
      "file_extension": ".py"
    },
    "colab": {
      "name": "learner-save-model.ipynb",
      "provenance": [],
      "include_colab_link": true
    }
  },
  "cells": [
    {
      "cell_type": "markdown",
      "metadata": {
        "id": "view-in-github",
        "colab_type": "text"
      },
      "source": [
        "<a href=\"https://colab.research.google.com/github/davidabelin/kaggle-files/blob/main/learner_save_model.ipynb\" target=\"_parent\"><img src=\"https://colab.research.google.com/assets/colab-badge.svg\" alt=\"Open In Colab\"/></a>"
      ]
    },
    {
      "cell_type": "markdown",
      "metadata": {
        "id": "I-Zbr-B3WPbl"
      },
      "source": [
        "# Introduction\n",
        "\n",
        "So far, our agents have relied on detailed information about how to play the game.  The heuristic really provides a lot of guidance about how to select moves!\n",
        "\n",
        "In this tutorial, you'll learn how to use **reinforcement learning** to build an intelligent agent without the use of a heuristic.  Instead, we will gradually refine the agent's strategy over time, simply by playing the game and trying to maximize the winning rate.\n",
        "\n",
        "In this notebook, we won't be able to explore this complex field in detail, but you'll learn about the big picture and explore code that you can use to train your own agent.\n",
        "\n",
        "# Neural Networks\n",
        "\n",
        "It's difficult to come up with a perfect heuristic.  Improving the heuristic generally entails playing the game many times, to determine specific cases where the agent could have made better choices.  And, it can prove challenging to interpret what exactly is going wrong, and ultimately to fix old mistakes without accidentally introducing new ones.\n",
        "\n",
        "Wouldn't it be much easier if we had a more systematic way of improving the agent with gameplay experience?  \n",
        "\n",
        "In this tutorial, towards this goal, we'll replace the heuristic with a neural network.\n",
        "\n",
        "The network accepts the current board as input.  And, it outputs a probability for each possible move.\n",
        "\n",
        "<center>\n",
        "<img src=\"https://i.imgur.com/KgAliYQ.png\" width=90%><br/>\n",
        "</center>\n",
        "\n",
        "Then, the agent selects a move by sampling from these probabilities.  For instance, for the game board in the image above, the agent selects column 4 with 50% probability.\n",
        "\n",
        "This way, to encode a good gameplay strategy, we need only amend the weights of the network so that _for every possible game board_, it assigns higher probabilities to better moves.\n",
        "\n",
        "At least in theory, that's our goal.  In practice, we won't actually check if that's the case -- since remember that Connect Four has over 4 trillion possible game boards!\n",
        "\n",
        "# Setup\n",
        "\n",
        "How can we approach the task of amending the weights of the network, in practice?  Here's the approach we'll take in this lesson:\n",
        "- After each move, we give the agent a **reward** that tells it how well it did:\n",
        "  - **_If_** the agent wins the game in that move, we give it a reward of `+1`.\n",
        "  - **_Else if_** the agent plays an invalid move (which ends the game), we give it a reward of `-10`.\n",
        "  - **_Else if_** the opponent wins the game in its next move (i.e., the agent failed to prevent its opponent from winning), we give the agent a reward of `-1`.\n",
        "  - **_Else_**, the agent gets a reward of `1/42`.\n",
        "  \n",
        "  \n",
        "- At the end of each game, the agent adds up its reward.  We refer to the sum of rewards as the agent's **cumulative reward**.  \n",
        "  - For instance, if the game lasted 8 moves (each player played four times), and the agent ultimately won, then its cumulative reward is `3*(1/42) + 1`.\n",
        "  - If the game lasted 11 moves (and the opponent went first, so the agent played five times), and the opponent won in its final move, then the agent's cumulative reward is `4*(1/42) - 1`.\n",
        "  - If the game ends in a draw, then the agent played exactly 21 moves, and it gets a cumulative reward of `21*(1/42)`.\n",
        "  - If the game lasted 7 moves and ended with the agent selecting an invalid move, the agent gets a cumulative reward of `3*(1/42) - 10`.\n",
        "  \n",
        "Our goal is to find the weights of the neural network that (on average) maximize the agent's cumulative reward.  \n",
        "\n",
        "This idea of using reward to track the performance of an agent is a core idea in the field of reinforcement learning.  Once we define the problem in this way, we can use any of a variety of reinforcement learning algorithms to produce an agent."
      ]
    },
    {
      "cell_type": "markdown",
      "metadata": {
        "id": "XDyozjYYWPbm"
      },
      "source": [
        "# Reinforcement Learning\n",
        "\n",
        "There are many different reinforcement learning algorithms, such as DQN, A2C, and PPO, among others.  All of these algorithms use a similar process to produce an agent:\n",
        "\n",
        "- Initially, the weights are set to random values.\n",
        "\n",
        "\n",
        "- As the agent plays the game, the algorithm continually tries out new values for the weights, to see how the cumulative reward is affected, on average.  Over time, after playing many games, we get a good idea of how the weights affect cumulative reward, and the algorithm settles towards weights that performed better.  \n",
        "    - _Of course, we have glossed over the details here, and there's a lot of complexity involved in this process.  For now, we focus on the big picture!_\n",
        "    \n",
        "    \n",
        "- This way, we'll end up with an agent that tries to win the game (so it gets the final reward of `+1`, and avoids the `-1` and `-10`) and tries to make the game last as long as possible (so that it collects the `1/42` bonus as many times as it can).\n",
        "    - _You might argue that it doesn't really make sense to want the game to last as long as possible -- this might result in a very inefficient agent that doesn't play obvious winning moves early in gameplay.  And, your intuition would be correct -- this will make the agent take longer to play a winning move!  The reason we include the `1/42` bonus is to help the algorithms we'll use to converge better.  Further discussion is outside of the scope of this course, but you can learn more by reading about the \"temporal credit assignment problem\" and \"reward shaping\"._\n",
        "    \n",
        "In the next section, we'll use the [**Proximal Policy Optimization (PPO)**](https://openai.com/blog/openai-baselines-ppo/) algorithm to create an agent."
      ]
    },
    {
      "cell_type": "markdown",
      "metadata": {
        "id": "5Qamt6n2WPbn"
      },
      "source": [
        "# Code\n",
        "\n",
        "There are a lot of great implementations of reinforcement learning algorithms online.  In this course, we'll use [Stable Baselines](https://github.com/hill-a/stable-baselines).\n",
        "\n",
        "Currently, Stable Baselines is not yet compatible with TensorFlow 2.0.  So, we begin by downgrading to TensorFlow 1.0."
      ]
    },
    {
      "cell_type": "code",
      "metadata": {
        "_kg_hide-input": true,
        "_kg_hide-output": true,
        "trusted": true,
        "id": "8Ap0aaOlWPbn"
      },
      "source": [
        "import time\n",
        "import random\n",
        "import numpy as np\n",
        "import pandas as pd\n",
        "import matplotlib.pyplot as plt\n",
        "%matplotlib inline"
      ],
      "execution_count": null,
      "outputs": []
    },
    {
      "cell_type": "code",
      "metadata": {
        "trusted": true,
        "id": "pfI59ppiWPbs",
        "collapsed": true,
        "outputId": "45075f2c-1276-44fb-9c83-c2562290cd1f"
      },
      "source": [
        "# Check version of tensorflow\n",
        "!pip install 'tensorflow==1.15.0'\n",
        "import tensorflow as tf\n",
        "#tf.__version__"
      ],
      "execution_count": null,
      "outputs": [
        {
          "output_type": "stream",
          "text": [
            "Requirement already satisfied: tensorflow==1.15.0 in /opt/conda/lib/python3.7/site-packages (1.15.0)\n",
            "Requirement already satisfied: google-pasta>=0.1.6 in /opt/conda/lib/python3.7/site-packages (from tensorflow==1.15.0) (0.2.0)\n",
            "Requirement already satisfied: gast==0.2.2 in /opt/conda/lib/python3.7/site-packages (from tensorflow==1.15.0) (0.2.2)\n",
            "Requirement already satisfied: numpy<2.0,>=1.16.0 in /opt/conda/lib/python3.7/site-packages (from tensorflow==1.15.0) (1.18.5)\n",
            "Requirement already satisfied: keras-preprocessing>=1.0.5 in /opt/conda/lib/python3.7/site-packages (from tensorflow==1.15.0) (1.1.2)\n",
            "Requirement already satisfied: tensorflow-estimator==1.15.1 in /opt/conda/lib/python3.7/site-packages (from tensorflow==1.15.0) (1.15.1)\n",
            "Requirement already satisfied: six>=1.10.0 in /opt/conda/lib/python3.7/site-packages (from tensorflow==1.15.0) (1.14.0)\n",
            "Requirement already satisfied: termcolor>=1.1.0 in /opt/conda/lib/python3.7/site-packages (from tensorflow==1.15.0) (1.1.0)\n",
            "Requirement already satisfied: wheel>=0.26 in /opt/conda/lib/python3.7/site-packages (from tensorflow==1.15.0) (0.34.2)\n",
            "Requirement already satisfied: wrapt>=1.11.1 in /opt/conda/lib/python3.7/site-packages (from tensorflow==1.15.0) (1.11.2)\n",
            "Requirement already satisfied: keras-applications>=1.0.8 in /opt/conda/lib/python3.7/site-packages (from tensorflow==1.15.0) (1.0.8)\n",
            "Requirement already satisfied: astor>=0.6.0 in /opt/conda/lib/python3.7/site-packages (from tensorflow==1.15.0) (0.8.1)\n",
            "Requirement already satisfied: protobuf>=3.6.1 in /opt/conda/lib/python3.7/site-packages (from tensorflow==1.15.0) (3.13.0)\n",
            "Requirement already satisfied: opt-einsum>=2.3.2 in /opt/conda/lib/python3.7/site-packages (from tensorflow==1.15.0) (3.3.0)\n",
            "Requirement already satisfied: absl-py>=0.7.0 in /opt/conda/lib/python3.7/site-packages (from tensorflow==1.15.0) (0.10.0)\n",
            "Requirement already satisfied: tensorboard<1.16.0,>=1.15.0 in /opt/conda/lib/python3.7/site-packages (from tensorflow==1.15.0) (1.15.0)\n",
            "Requirement already satisfied: grpcio>=1.8.6 in /opt/conda/lib/python3.7/site-packages (from tensorflow==1.15.0) (1.32.0)\n",
            "Requirement already satisfied: h5py in /opt/conda/lib/python3.7/site-packages (from keras-applications>=1.0.8->tensorflow==1.15.0) (2.10.0)\n",
            "Requirement already satisfied: setuptools in /opt/conda/lib/python3.7/site-packages (from protobuf>=3.6.1->tensorflow==1.15.0) (46.1.3.post20200325)\n",
            "Requirement already satisfied: markdown>=2.6.8 in /opt/conda/lib/python3.7/site-packages (from tensorboard<1.16.0,>=1.15.0->tensorflow==1.15.0) (3.2.1)\n",
            "Requirement already satisfied: werkzeug>=0.11.15 in /opt/conda/lib/python3.7/site-packages (from tensorboard<1.16.0,>=1.15.0->tensorflow==1.15.0) (1.0.1)\n"
          ],
          "name": "stdout"
        }
      ]
    },
    {
      "cell_type": "markdown",
      "metadata": {
        "id": "Jskt3UQVWPbw"
      },
      "source": [
        "To learn more about how to define environments, check out the documentation [here](https://stable-baselines.readthedocs.io/en/master/guide/custom_env.html)."
      ]
    },
    {
      "cell_type": "code",
      "metadata": {
        "id": "1AQTAeyKW8Eg",
        "trusted": true,
        "collapsed": true,
        "outputId": "7cf69f15-90f9-41bc-f18e-bdc2b0771c16"
      },
      "source": [
        "!pip install kaggle_environments"
      ],
      "execution_count": null,
      "outputs": [
        {
          "output_type": "stream",
          "text": [
            "Requirement already satisfied: kaggle_environments in /opt/conda/lib/python3.7/site-packages (1.3.6)\n",
            "Requirement already satisfied: jsonschema>=3.0.1 in /opt/conda/lib/python3.7/site-packages (from kaggle_environments) (3.2.0)\n",
            "Requirement already satisfied: setuptools in /opt/conda/lib/python3.7/site-packages (from jsonschema>=3.0.1->kaggle_environments) (46.1.3.post20200325)\n",
            "Requirement already satisfied: six>=1.11.0 in /opt/conda/lib/python3.7/site-packages (from jsonschema>=3.0.1->kaggle_environments) (1.14.0)\n",
            "Requirement already satisfied: importlib-metadata; python_version < \"3.8\" in /opt/conda/lib/python3.7/site-packages (from jsonschema>=3.0.1->kaggle_environments) (2.0.0)\n",
            "Requirement already satisfied: pyrsistent>=0.14.0 in /opt/conda/lib/python3.7/site-packages (from jsonschema>=3.0.1->kaggle_environments) (0.16.0)\n",
            "Requirement already satisfied: attrs>=17.4.0 in /opt/conda/lib/python3.7/site-packages (from jsonschema>=3.0.1->kaggle_environments) (19.3.0)\n",
            "Requirement already satisfied: zipp>=0.5 in /opt/conda/lib/python3.7/site-packages (from importlib-metadata; python_version < \"3.8\"->jsonschema>=3.0.1->kaggle_environments) (3.1.0)\n"
          ],
          "name": "stdout"
        }
      ]
    },
    {
      "cell_type": "code",
      "metadata": {
        "trusted": true,
        "id": "xSpsFGkUWPbz"
      },
      "source": [
        "from kaggle_environments import make, evaluate\n",
        "from gym import spaces\n",
        "\n",
        "class ConnectFourGym:\n",
        "    def __init__(self, agent2=\"random\"):\n",
        "        ks_env = make(\"connectx\", debug=True)\n",
        "        self.env = ks_env.train([None, agent2])\n",
        "        self.rows = ks_env.configuration.rows\n",
        "        self.columns = ks_env.configuration.columns\n",
        "        # Learn about spaces here: http://gym.openai.com/docs/#spaces\n",
        "        self.action_space = spaces.Discrete(self.columns)\n",
        "        self.observation_space = spaces.Box(low=0, high=2, \n",
        "                                            shape=(self.rows,self.columns,1), dtype=np.int)\n",
        "        # Tuple corresponding to the min and max possible rewards\n",
        "        self.reward_range = (-10, 1)\n",
        "        # StableBaselines throws error if these are not defined\n",
        "        self.spec = None\n",
        "        self.metadata = None\n",
        "    def reset(self):\n",
        "        self.obs = self.env.reset()\n",
        "        return np.array(self.obs['board']).reshape(self.rows,self.columns,1)\n",
        "    def change_reward(self, old_reward, done):\n",
        "        if old_reward == 1: # The agent won the game\n",
        "            return 1\n",
        "        elif done: # The opponent won the game\n",
        "            return -1\n",
        "        else: # Reward 1/42\n",
        "            return 1/(self.rows*self.columns)\n",
        "    def step(self, action):\n",
        "        # Check if agent's move is valid\n",
        "        is_valid = (self.obs['board'][int(action)] == 0)\n",
        "        if is_valid: # Play the move\n",
        "            self.obs, old_reward, done, _ = self.env.step(int(action))\n",
        "            reward = self.change_reward(old_reward, done)\n",
        "        else: # End the game and penalize agent\n",
        "            reward, done, _ = -10, True, {}\n",
        "        return np.array(self.obs['board']).reshape(self.rows,self.columns,1), reward, done, _"
      ],
      "execution_count": null,
      "outputs": []
    },
    {
      "cell_type": "markdown",
      "metadata": {
        "id": "Ae4Um5JRWPb4"
      },
      "source": [
        "In this notebook, we'll train an agent to beat the **HEURISTIC** agent.  We specify this opponent in the `agent2` argument below."
      ]
    },
    {
      "cell_type": "code",
      "metadata": {
        "trusted": true,
        "id": "M0DSDBcM1vb9"
      },
      "source": [
        "def heuristic(obs, config):\n",
        "\n",
        "    ################################\n",
        "    # Imports and helper functions #\n",
        "    ################################\n",
        "    \n",
        "    import numpy as np\n",
        "    import random\n",
        "    import time\n",
        "    \n",
        "    # How deep to make the game tree: higher values take longer to run!\n",
        "    N_STEPS = 2\n",
        "\n",
        "    # Gets board at next step if agent drops piece in selected column\n",
        "    def drop_piece(grid, col, mark, config):\n",
        "        next_grid = grid.copy()\n",
        "        for row in range(config.rows-1, -1, -1):\n",
        "            if next_grid[row][col] == 0:\n",
        "                break\n",
        "        next_grid[row][col] = mark\n",
        "        return next_grid\n",
        "\n",
        "    # Helper function for get_heuristic: checks if window satisfies heuristic conditions\n",
        "    def check_window(window, num_discs, piece, config):\n",
        "        return (window.count(piece) == num_discs and window.count(0) == config.inarow-num_discs)\n",
        "\n",
        "    # Helper function for get_heuristic: counts number of windows satisfying specified heuristic conditions\n",
        "    def count_windows(grid, num_discs, piece, config):\n",
        "        num_windows = 0\n",
        "        # horizontal\n",
        "        for row in range(config.rows):\n",
        "            for col in range(config.columns-(config.inarow-1)):\n",
        "                window = list(grid[row, col:col+config.inarow])\n",
        "                if check_window(window, num_discs, piece, config):\n",
        "                    num_windows += 1\n",
        "        # vertical\n",
        "        for row in range(config.rows-(config.inarow-1)):\n",
        "            for col in range(config.columns):\n",
        "                window = list(grid[row:row+config.inarow, col])\n",
        "                if check_window(window, num_discs, piece, config):\n",
        "                    num_windows += 1\n",
        "        # positive diagonal\n",
        "        for row in range(config.rows-(config.inarow-1)):\n",
        "            for col in range(config.columns-(config.inarow-1)):\n",
        "                window = list(grid[range(row, row+config.inarow), range(col, col+config.inarow)])\n",
        "                if check_window(window, num_discs, piece, config):\n",
        "                    num_windows += 1\n",
        "        # negative diagonal\n",
        "        for row in range(config.inarow-1, config.rows):\n",
        "            for col in range(config.columns-(config.inarow-1)):\n",
        "                window = list(grid[range(row, row-config.inarow, -1), range(col, col+config.inarow)])\n",
        "                if check_window(window, num_discs, piece, config):\n",
        "                    num_windows += 1\n",
        "        return num_windows\n",
        "    \n",
        "    # Helper function for minimax: calculates value of heuristic for grid\n",
        "    A = 2\n",
        "    B = 20\n",
        "    C = -1\n",
        "    D = -10\n",
        "    def get_heuristic(grid, mark, config):\n",
        "        num_threes = count_windows(grid, 3, mark, config) #A\n",
        "        num_fours = count_windows(grid, 4, mark, config)  #B\n",
        "        num_threes_opp = count_windows(grid, 3, mark%2+1, config) #C\n",
        "        num_fours_opp = count_windows(grid, 4, mark%2+1, config)  #D\n",
        "        score = A*num_threes + C*num_threes_opp + D*num_fours_opp + B*num_fours\n",
        "        return score\n",
        "\n",
        "    # Helper function for minimax: checks if agent or opponent has four in a row in the window\n",
        "    def is_terminal_window(window, config):\n",
        "        return window.count(1) == config.inarow or window.count(2) == config.inarow\n",
        "\n",
        "    # Helper function for minimax: checks if game has ended\n",
        "    def is_terminal_node(grid, config):\n",
        "        # Check for draw \n",
        "        if list(grid[0, :]).count(0) == 0:\n",
        "            return True\n",
        "        # Check for win: horizontal, vertical, or diagonal\n",
        "        # horizontal \n",
        "        for row in range(config.rows):\n",
        "            for col in range(config.columns-(config.inarow-1)):\n",
        "                window = list(grid[row, col:col+config.inarow])\n",
        "                if is_terminal_window(window, config):\n",
        "                    return True\n",
        "        # vertical\n",
        "        for row in range(config.rows-(config.inarow-1)):\n",
        "            for col in range(config.columns):\n",
        "                window = list(grid[row:row+config.inarow, col])\n",
        "                if is_terminal_window(window, config):\n",
        "                    return True\n",
        "        # positive diagonal\n",
        "        for row in range(config.rows-(config.inarow-1)):\n",
        "            for col in range(config.columns-(config.inarow-1)):\n",
        "                window = list(grid[range(row, row+config.inarow), range(col, col+config.inarow)])\n",
        "                if is_terminal_window(window, config):\n",
        "                    return True\n",
        "        # negative diagonal\n",
        "        for row in range(config.inarow-1, config.rows):\n",
        "            for col in range(config.columns-(config.inarow-1)):\n",
        "                window = list(grid[range(row, row-config.inarow, -1), range(col, col+config.inarow)])\n",
        "                if is_terminal_window(window, config):\n",
        "                    return True\n",
        "        return False\n",
        "\n",
        "    # Minimax implementation\n",
        "    def minimax(node, depth, maximizingPlayer, mark, config):\n",
        "        is_terminal = is_terminal_node(node, config)\n",
        "        valid_moves = [c for c in range(config.columns) if node[0][c] == 0]\n",
        "        if depth == 0 or is_terminal:\n",
        "            return get_heuristic(node, mark, config)\n",
        "        if maximizingPlayer:\n",
        "            value = -np.Inf\n",
        "            for col in valid_moves:\n",
        "                child = drop_piece(node, col, mark, config)\n",
        "                value = max(value, minimax(child, depth-1, False, mark, config))\n",
        "            return value\n",
        "        else:\n",
        "            value = np.Inf\n",
        "            for col in valid_moves:\n",
        "                child = drop_piece(node, col, mark%2+1, config)\n",
        "                value = min(value, minimax(child, depth-1, True, mark, config))\n",
        "            return value\n",
        "        \n",
        "    # Uses minimax to calculate value of dropping piece in selected column\n",
        "    def score_move(grid, col, mark, config, nsteps):\n",
        "        next_grid = drop_piece(grid, col, mark, config)\n",
        "        score = minimax(next_grid, nsteps-1, False, mark, config)\n",
        "        return score\n",
        "    \n",
        "    #########################\n",
        "    # Agent makes selection #\n",
        "    #########################\n",
        "    \n",
        "    # Get list of valid moves\n",
        "    valid_moves = [c for c in range(config.columns) if obs.board[c] == 0]\n",
        "    \n",
        "    # Convert the board to a 2D grid\n",
        "    grid = np.asarray(obs.board).reshape(config.rows, config.columns)\n",
        "    \n",
        "    # Use the heuristic to assign a score to each possible board in the next step\n",
        "    scores = dict(zip(valid_moves, [score_move(grid, col, obs.mark, config, N_STEPS) for col in valid_moves]))\n",
        "    \n",
        "    # Get a list of columns (moves) that maximize the heuristic\n",
        "    max_cols = [key for key in scores.keys() if scores[key] == max(scores.values())]\n",
        "    \n",
        "    # Select at random from the maximizing columns\n",
        "    return random.choice(max_cols)"
      ],
      "execution_count": null,
      "outputs": []
    },
    {
      "cell_type": "code",
      "metadata": {
        "trusted": true,
        "id": "xjPIghBkWPb5"
      },
      "source": [
        "# Create ConnectFour environment\n",
        "env = ConnectFourGym(agent2=heuristic)"
      ],
      "execution_count": null,
      "outputs": []
    },
    {
      "cell_type": "markdown",
      "metadata": {
        "id": "m13llBZKWPb9"
      },
      "source": [
        "Stable Baselines requires us to work with [\"vectorized\" environments](https://stable-baselines.readthedocs.io/en/master/guide/vec_envs.html).  For this, we can use the `DummyVecEnv` class.  \n",
        "\n",
        "The `Monitor` class lets us watch how the agent's performance gradually improves, as it plays more and more games."
      ]
    },
    {
      "cell_type": "code",
      "metadata": {
        "_kg_hide-input": true,
        "_kg_hide-output": true,
        "trusted": true,
        "id": "zvhHP182WPb-",
        "collapsed": true,
        "outputId": "60fafce5-5aa2-45f1-c9b2-5e6e0a19f432"
      },
      "source": [
        "!apt-get update\n",
        "!apt-get install -y cmake libopenmpi-dev python3-dev zlib1g-dev\n",
        "!pip install \"stable-baselines[mpi]==2.9.0\""
      ],
      "execution_count": null,
      "outputs": [
        {
          "output_type": "stream",
          "text": [
            "Get:1 http://security.ubuntu.com/ubuntu bionic-security InRelease [88.7 kB]\n",
            "Hit:2 http://archive.ubuntu.com/ubuntu bionic InRelease                        \n",
            "Get:3 http://archive.ubuntu.com/ubuntu bionic-updates InRelease [88.7 kB]      \n",
            "Get:4 http://packages.cloud.google.com/apt gcsfuse-bionic InRelease [3724 B]   \n",
            "Get:5 http://archive.ubuntu.com/ubuntu bionic-backports InRelease [74.6 kB]    \n",
            "Get:6 http://packages.cloud.google.com/apt cloud-sdk-bionic InRelease [6384 B] \n",
            "Get:7 http://packages.cloud.google.com/apt cloud-sdk InRelease [6349 B]        \n",
            "Ign:8 http://developer.download.nvidia.com/compute/cuda/repos/ubuntu1804/x86_64  InRelease\n",
            "Ign:9 http://developer.download.nvidia.com/compute/machine-learning/repos/ubuntu1804/x86_64  InRelease\n",
            "Get:10 http://developer.download.nvidia.com/compute/cuda/repos/ubuntu1804/x86_64  Release [697 B]\n",
            "Get:11 http://packages.cloud.google.com/apt gcsfuse-bionic/main amd64 Packages [2197 B]\n",
            "Get:12 http://developer.download.nvidia.com/compute/machine-learning/repos/ubuntu1804/x86_64  Release [564 B]\n",
            "Get:13 http://developer.download.nvidia.com/compute/cuda/repos/ubuntu1804/x86_64  Release.gpg [836 B]\n",
            "Get:14 http://security.ubuntu.com/ubuntu bionic-security/multiverse amd64 Packages [15.4 kB]\n",
            "Get:15 http://security.ubuntu.com/ubuntu bionic-security/main amd64 Packages [1748 kB]\n",
            "Get:16 http://developer.download.nvidia.com/compute/machine-learning/repos/ubuntu1804/x86_64  Release.gpg [833 B]\n",
            "Get:17 http://security.ubuntu.com/ubuntu bionic-security/universe amd64 Packages [1353 kB]\n",
            "Get:18 http://archive.ubuntu.com/ubuntu bionic-updates/universe amd64 Packages [2118 kB]\n",
            "Get:19 http://security.ubuntu.com/ubuntu bionic-security/restricted amd64 Packages [213 kB]\n",
            "Get:20 http://archive.ubuntu.com/ubuntu bionic-updates/restricted amd64 Packages [239 kB]\n",
            "Get:21 http://archive.ubuntu.com/ubuntu bionic-updates/main amd64 Packages [2165 kB]\n",
            "Get:22 http://archive.ubuntu.com/ubuntu bionic-updates/multiverse amd64 Packages [45.9 kB]\n",
            "Get:23 http://packages.cloud.google.com/apt cloud-sdk-bionic/main amd64 Packages [150 kB]\n",
            "Get:24 http://packages.cloud.google.com/apt cloud-sdk/main amd64 Packages [143 kB]\n",
            "Ign:25 http://developer.download.nvidia.com/compute/cuda/repos/ubuntu1804/x86_64  Packages\n",
            "Get:26 http://developer.download.nvidia.com/compute/machine-learning/repos/ubuntu1804/x86_64  Packages [57.0 kB]\n",
            "Get:25 http://developer.download.nvidia.com/compute/cuda/repos/ubuntu1804/x86_64  Packages [405 kB]\n",
            "Fetched 8926 kB in 3s (3251 kB/s)  \n",
            "Reading package lists... Done\n",
            "Reading package lists... Done\n",
            "Building dependency tree       \n",
            "Reading state information... Done\n",
            "zlib1g-dev is already the newest version (1:1.2.11.dfsg-0ubuntu2).\n",
            "libopenmpi-dev is already the newest version (2.1.1-8).\n",
            "libopenmpi-dev set to manually installed.\n",
            "cmake is already the newest version (3.10.2-1ubuntu2.18.04.1).\n",
            "python3-dev is already the newest version (3.6.7-1~18.04).\n",
            "python3-dev set to manually installed.\n",
            "0 upgraded, 0 newly installed, 0 to remove and 103 not upgraded.\n",
            "Collecting stable-baselines[mpi]==2.9.0\n",
            "  Downloading stable_baselines-2.9.0-py3-none-any.whl (232 kB)\n",
            "\u001b[K     |████████████████████████████████| 232 kB 403 kB/s eta 0:00:01\n",
            "\u001b[?25hRequirement already satisfied: opencv-python in /opt/conda/lib/python3.7/site-packages (from stable-baselines[mpi]==2.9.0) (4.4.0.44)\n",
            "Requirement already satisfied: gym[atari,classic_control]>=0.10.9 in /opt/conda/lib/python3.7/site-packages (from stable-baselines[mpi]==2.9.0) (0.17.3)\n",
            "Requirement already satisfied: pandas in /opt/conda/lib/python3.7/site-packages (from stable-baselines[mpi]==2.9.0) (1.1.3)\n",
            "Requirement already satisfied: matplotlib in /opt/conda/lib/python3.7/site-packages (from stable-baselines[mpi]==2.9.0) (3.2.1)\n",
            "Requirement already satisfied: scipy in /opt/conda/lib/python3.7/site-packages (from stable-baselines[mpi]==2.9.0) (1.4.1)\n",
            "Requirement already satisfied: joblib in /opt/conda/lib/python3.7/site-packages (from stable-baselines[mpi]==2.9.0) (0.14.1)\n",
            "Requirement already satisfied: numpy in /opt/conda/lib/python3.7/site-packages (from stable-baselines[mpi]==2.9.0) (1.18.5)\n",
            "Requirement already satisfied: cloudpickle>=0.5.5 in /opt/conda/lib/python3.7/site-packages (from stable-baselines[mpi]==2.9.0) (1.3.0)\n",
            "Collecting mpi4py; extra == \"mpi\"\n",
            "  Downloading mpi4py-3.0.3.tar.gz (1.4 MB)\n",
            "\u001b[K     |████████████████████████████████| 1.4 MB 6.1 MB/s eta 0:00:01     |█████████████████████▉          | 972 kB 6.1 MB/s eta 0:00:01\n",
            "\u001b[?25hRequirement already satisfied: pyglet<=1.5.0,>=1.4.0 in /opt/conda/lib/python3.7/site-packages (from gym[atari,classic_control]>=0.10.9->stable-baselines[mpi]==2.9.0) (1.5.0)\n",
            "Requirement already satisfied: Pillow; extra == \"atari\" in /opt/conda/lib/python3.7/site-packages (from gym[atari,classic_control]>=0.10.9->stable-baselines[mpi]==2.9.0) (8.0.0)\n",
            "Collecting atari-py~=0.2.0; extra == \"atari\"\n",
            "  Downloading atari_py-0.2.6-cp37-cp37m-manylinux1_x86_64.whl (2.8 MB)\n",
            "\u001b[K     |████████████████████████████████| 2.8 MB 14.4 MB/s eta 0:00:01\n",
            "\u001b[?25hRequirement already satisfied: pytz>=2017.2 in /opt/conda/lib/python3.7/site-packages (from pandas->stable-baselines[mpi]==2.9.0) (2019.3)\n",
            "Requirement already satisfied: python-dateutil>=2.7.3 in /opt/conda/lib/python3.7/site-packages (from pandas->stable-baselines[mpi]==2.9.0) (2.8.1)\n",
            "Requirement already satisfied: cycler>=0.10 in /opt/conda/lib/python3.7/site-packages (from matplotlib->stable-baselines[mpi]==2.9.0) (0.10.0)\n",
            "Requirement already satisfied: kiwisolver>=1.0.1 in /opt/conda/lib/python3.7/site-packages (from matplotlib->stable-baselines[mpi]==2.9.0) (1.2.0)\n",
            "Requirement already satisfied: pyparsing!=2.0.4,!=2.1.2,!=2.1.6,>=2.0.1 in /opt/conda/lib/python3.7/site-packages (from matplotlib->stable-baselines[mpi]==2.9.0) (2.4.7)\n",
            "Requirement already satisfied: future in /opt/conda/lib/python3.7/site-packages (from pyglet<=1.5.0,>=1.4.0->gym[atari,classic_control]>=0.10.9->stable-baselines[mpi]==2.9.0) (0.18.2)\n",
            "Requirement already satisfied: six in /opt/conda/lib/python3.7/site-packages (from atari-py~=0.2.0; extra == \"atari\"->gym[atari,classic_control]>=0.10.9->stable-baselines[mpi]==2.9.0) (1.14.0)\n",
            "Building wheels for collected packages: mpi4py\n",
            "  Building wheel for mpi4py (setup.py) ... \u001b[?25ldone\n",
            "\u001b[?25h  Created wheel for mpi4py: filename=mpi4py-3.0.3-cp37-cp37m-linux_x86_64.whl size=2088287 sha256=0f9e2cd6692db89e595d316d9373d24778f8903be944650aea8a68652dd38c73\n",
            "  Stored in directory: /root/.cache/pip/wheels/da/37/ee/8d5c9166a378bb0b661bf4257b8e1ef8d79d879b931534fb98\n",
            "Successfully built mpi4py\n",
            "Installing collected packages: mpi4py, stable-baselines, atari-py\n",
            "Successfully installed atari-py-0.2.6 mpi4py-3.0.3 stable-baselines-2.9.0\n"
          ],
          "name": "stdout"
        }
      ]
    },
    {
      "cell_type": "code",
      "metadata": {
        "trusted": true,
        "id": "QWiiBXgJWPcB"
      },
      "source": [
        "import os\n",
        "from stable_baselines.bench import Monitor \n",
        "from stable_baselines.common.vec_env import DummyVecEnv\n",
        "\n",
        "# Create directory for logging training information\n",
        "log_dir = \"ppo/\"\n",
        "os.makedirs(log_dir, exist_ok=True)\n",
        "\n",
        "# Logging progress\n",
        "monitor_env = Monitor(env, log_dir, allow_early_resets=True)\n",
        "\n",
        "# Create a vectorized environment\n",
        "vec_env = DummyVecEnv([lambda: monitor_env])"
      ],
      "execution_count": null,
      "outputs": []
    },
    {
      "cell_type": "markdown",
      "metadata": {
        "id": "lznNOujAWPcE"
      },
      "source": [
        "The next step is to specify the architecture of the neural network.  In this case, we use a convolutional neural network.  To learn more about how to specify architectures with Stable Baselines, check out the documentation [here](https://stable-baselines.readthedocs.io/en/master/guide/custom_policy.html).\n",
        "\n",
        "Note that this is the neural network that outputs the probabilities of selecting each column.  Since we use the PPO algorithm (`PPO1` in the code cell below), our network will also output some additional information (called the \"value\" of the input).  This is outside the scope of this course, but you can learn more by reading about \"actor-critic networks\"."
      ]
    },
    {
      "cell_type": "code",
      "metadata": {
        "trusted": true,
        "id": "qwcjGSbqWPcE"
      },
      "source": [
        "from stable_baselines import PPO1 \n",
        "from stable_baselines.a2c.utils import conv, linear, conv_to_fc\n",
        "from stable_baselines.common.policies import CnnPolicy\n",
        "\n",
        "# Neural network for predicting action values\n",
        "def modified_cnn(scaled_images, **kwargs):\n",
        "    activ = tf.nn.relu\n",
        "    layer_1 = activ(conv(scaled_images, 'c1', n_filters=32, filter_size=3, stride=1, \n",
        "                         init_scale=np.sqrt(2), **kwargs))\n",
        "    layer_2 = activ(conv(layer_1, 'c2', n_filters=64, filter_size=3, stride=1, \n",
        "                         init_scale=np.sqrt(2), **kwargs))\n",
        "    layer_2 = conv_to_fc(layer_2)\n",
        "    return activ(linear(layer_2, 'fc1', n_hidden=512, init_scale=np.sqrt(2)))  \n",
        "\n",
        "class CustomCnnPolicy(CnnPolicy):\n",
        "    def __init__(self, *args, **kwargs):\n",
        "        super(CustomCnnPolicy, self).__init__(*args, **kwargs, cnn_extractor=modified_cnn)\n",
        "        \n",
        "# Initialize agent\n",
        "model = PPO1(CustomCnnPolicy, vec_env, verbose=0)"
      ],
      "execution_count": null,
      "outputs": []
    },
    {
      "cell_type": "code",
      "metadata": {
        "trusted": true,
        "id": "DWw5yfYnWPcI",
        "outputId": "25dd6d89-f76a-4821-e823-bcf9be601da6"
      },
      "source": [
        "# Train agent\n",
        "start = time.time()\n",
        "nsteps = 30\n",
        "model.learn(total_timesteps=nsteps)\n",
        "print (nsteps,\"steps took\",time.time()-start,\"seconds.\")\n",
        "# last output: 10 steps took 54.01743984222412 seconds."
      ],
      "execution_count": null,
      "outputs": [
        {
          "output_type": "stream",
          "text": [
            "10 steps took 54.01743984222412 seconds.\n"
          ],
          "name": "stdout"
        }
      ]
    },
    {
      "cell_type": "code",
      "metadata": {
        "trusted": true,
        "id": "c72lT6e2WPcL",
        "collapsed": true,
        "outputId": "2ec0292e-b7c1-4da6-e56a-f9642ea3b00b"
      },
      "source": [
        "# Plot cumulative reward\n",
        "with open(os.path.join(log_dir, \"monitor.csv\"), 'rt') as fh:    \n",
        "    firstline = fh.readline()\n",
        "    assert firstline[0] == '#'\n",
        "    df = pd.read_csv(fh, index_col=None)['r']\n",
        "df.rolling(window=nsteps/10).mean().plot()\n",
        "plt.show()"
      ],
      "execution_count": null,
      "outputs": [
        {
          "output_type": "display_data",
          "data": {
            "text/plain": [
              "<Figure size 432x288 with 1 Axes>"
            ],
            "image/png": "[encoded data removed]"
          },
          "metadata": {
            "tags": [],
            "needs_background": "light"
          }
        }
      ]
    },
    {
      "cell_type": "markdown",
      "metadata": {
        "id": "kKpdzi1sWPcO"
      },
      "source": [
        "Finally, we specify the trained agent in the format required for the competition."
      ]
    },
    {
      "cell_type": "code",
      "metadata": {
        "trusted": true,
        "id": "TOnt4KOnWPcR"
      },
      "source": [
        "model.save('./trained_model')\n",
        "#trained_model = PPO1.load('./trained_model.zip')"
      ],
      "execution_count": null,
      "outputs": []
    },
    {
      "cell_type": "code",
      "metadata": {
        "trusted": true,
        "id": "6Nag2SyZWPcY"
      },
      "source": [
        "def my_agent(obs, config):\n",
        "    \n",
        "    #Import saved model trained on Agent Heuristic\n",
        "    from stable_baselines import PPO1\n",
        "    trained_model = PPO1.load('../input/ppo1-model-for-connectx')\n",
        "    \n",
        "    # Use the trained model to select a column\n",
        "    col, _ = trained_model.predict(np.array(obs['board']).reshape(6,7,1))\n",
        "    \n",
        "    # Check if selected column is valid\n",
        "    is_valid = (obs['board'][int(col)] == 0)\n",
        "    \n",
        "    # If not valid, select random move. \n",
        "    if is_valid:\n",
        "        return int(col)\n",
        "    else:\n",
        "        return random.choice([col for col in range(config.columns) if obs.board[int(col)] == 0])"
      ],
      "execution_count": null,
      "outputs": []
    },
    {
      "cell_type": "code",
      "metadata": {
        "trusted": true,
        "collapsed": true,
        "id": "1Vdn2BcY1vdC",
        "outputId": "620f7393-ef24-4788-a34e-72f26c1f5821"
      },
      "source": [
        "#TO DO fix:\n",
        "\n",
        "with open('submission.py', 'w') as f:\n",
        "    f.write(my_agent)"
      ],
      "execution_count": null,
      "outputs": [
        {
          "output_type": "error",
          "ename": "TypeError",
          "evalue": "write() argument must be str, not function",
          "traceback": [
            "\u001b[0;31m---------------------------------------------------------------------------\u001b[0m",
            "\u001b[0;31mTypeError\u001b[0m                                 Traceback (most recent call last)",
            "\u001b[0;32m<ipython-input-24-5e5174fd01be>\u001b[0m in \u001b[0;36m<module>\u001b[0;34m\u001b[0m\n\u001b[1;32m      1\u001b[0m \u001b[0;32mwith\u001b[0m \u001b[0mopen\u001b[0m\u001b[0;34m(\u001b[0m\u001b[0;34m'submission.py'\u001b[0m\u001b[0;34m,\u001b[0m \u001b[0;34m'w'\u001b[0m\u001b[0;34m)\u001b[0m \u001b[0;32mas\u001b[0m \u001b[0mf\u001b[0m\u001b[0;34m:\u001b[0m\u001b[0;34m\u001b[0m\u001b[0;34m\u001b[0m\u001b[0m\n\u001b[0;32m----> 2\u001b[0;31m     \u001b[0mf\u001b[0m\u001b[0;34m.\u001b[0m\u001b[0mwrite\u001b[0m\u001b[0;34m(\u001b[0m\u001b[0mmy_agent\u001b[0m\u001b[0;34m)\u001b[0m\u001b[0;34m\u001b[0m\u001b[0;34m\u001b[0m\u001b[0m\n\u001b[0m",
            "\u001b[0;31mTypeError\u001b[0m: write() argument must be str, not function"
          ]
        }
      ]
    },
    {
      "cell_type": "code",
      "metadata": {
        "trusted": true,
        "collapsed": true,
        "id": "rr0d0kLD1vdF",
        "outputId": "c0e81f7d-4486-44e0-d474-5cbc1dd3db06"
      },
      "source": [
        "#from submission import my_agent\n",
        "def mean_reward(rewards):\n",
        "    epsilon = 0.000001\n",
        "    return sum(r[0] for r in rewards) / sum(r[0] + r[1] + epsilon for r in rewards)\n",
        "\n",
        "# Run multiple episodes to estimate agent's performance.\n",
        "print(\"My Agent vs Random Agent:\", mean_reward(evaluate(\"connectx\", [my_agent, \"random\"], num_episodes=1)))\n",
        "print(\"My Agent vs Negamax Agent:\", mean_reward(evaluate(\"connectx\", [my_agent, \"negamax\"], num_episodes=1)))"
      ],
      "execution_count": null,
      "outputs": [
        {
          "output_type": "error",
          "ename": "TypeError",
          "evalue": "unsupported operand type(s) for +: 'int' and 'NoneType'",
          "traceback": [
            "\u001b[0;31m---------------------------------------------------------------------------\u001b[0m",
            "\u001b[0;31mTypeError\u001b[0m                                 Traceback (most recent call last)",
            "\u001b[0;32m<ipython-input-29-fcb5ddc0605d>\u001b[0m in \u001b[0;36m<module>\u001b[0;34m\u001b[0m\n\u001b[1;32m      5\u001b[0m \u001b[0;34m\u001b[0m\u001b[0m\n\u001b[1;32m      6\u001b[0m \u001b[0;31m# Run multiple episodes to estimate agent's performance.\u001b[0m\u001b[0;34m\u001b[0m\u001b[0;34m\u001b[0m\u001b[0;34m\u001b[0m\u001b[0m\n\u001b[0;32m----> 7\u001b[0;31m \u001b[0mprint\u001b[0m\u001b[0;34m(\u001b[0m\u001b[0;34m\"My Agent vs Random Agent:\"\u001b[0m\u001b[0;34m,\u001b[0m \u001b[0mmean_reward\u001b[0m\u001b[0;34m(\u001b[0m\u001b[0mevaluate\u001b[0m\u001b[0;34m(\u001b[0m\u001b[0;34m\"connectx\"\u001b[0m\u001b[0;34m,\u001b[0m \u001b[0;34m[\u001b[0m\u001b[0mmy_agent\u001b[0m\u001b[0;34m,\u001b[0m \u001b[0;34m\"random\"\u001b[0m\u001b[0;34m]\u001b[0m\u001b[0;34m,\u001b[0m \u001b[0mnum_episodes\u001b[0m\u001b[0;34m=\u001b[0m\u001b[0;36m1\u001b[0m\u001b[0;34m)\u001b[0m\u001b[0;34m)\u001b[0m\u001b[0;34m)\u001b[0m\u001b[0;34m\u001b[0m\u001b[0;34m\u001b[0m\u001b[0m\n\u001b[0m\u001b[1;32m      8\u001b[0m \u001b[0mprint\u001b[0m\u001b[0;34m(\u001b[0m\u001b[0;34m\"My Agent vs Negamax Agent:\"\u001b[0m\u001b[0;34m,\u001b[0m \u001b[0mmean_reward\u001b[0m\u001b[0;34m(\u001b[0m\u001b[0mevaluate\u001b[0m\u001b[0;34m(\u001b[0m\u001b[0;34m\"connectx\"\u001b[0m\u001b[0;34m,\u001b[0m \u001b[0;34m[\u001b[0m\u001b[0mmy_agent\u001b[0m\u001b[0;34m,\u001b[0m \u001b[0;34m\"negamax\"\u001b[0m\u001b[0;34m]\u001b[0m\u001b[0;34m,\u001b[0m \u001b[0mnum_episodes\u001b[0m\u001b[0;34m=\u001b[0m\u001b[0;36m1\u001b[0m\u001b[0;34m)\u001b[0m\u001b[0;34m)\u001b[0m\u001b[0;34m)\u001b[0m\u001b[0;34m\u001b[0m\u001b[0;34m\u001b[0m\u001b[0m\n",
            "\u001b[0;32m<ipython-input-29-fcb5ddc0605d>\u001b[0m in \u001b[0;36mmean_reward\u001b[0;34m(rewards)\u001b[0m\n\u001b[1;32m      2\u001b[0m \u001b[0;32mdef\u001b[0m \u001b[0mmean_reward\u001b[0m\u001b[0;34m(\u001b[0m\u001b[0mrewards\u001b[0m\u001b[0;34m)\u001b[0m\u001b[0;34m:\u001b[0m\u001b[0;34m\u001b[0m\u001b[0;34m\u001b[0m\u001b[0m\n\u001b[1;32m      3\u001b[0m     \u001b[0mepsilon\u001b[0m \u001b[0;34m=\u001b[0m \u001b[0;36m0.000001\u001b[0m\u001b[0;34m\u001b[0m\u001b[0;34m\u001b[0m\u001b[0m\n\u001b[0;32m----> 4\u001b[0;31m     \u001b[0;32mreturn\u001b[0m \u001b[0msum\u001b[0m\u001b[0;34m(\u001b[0m\u001b[0mr\u001b[0m\u001b[0;34m[\u001b[0m\u001b[0;36m0\u001b[0m\u001b[0;34m]\u001b[0m \u001b[0;32mfor\u001b[0m \u001b[0mr\u001b[0m \u001b[0;32min\u001b[0m \u001b[0mrewards\u001b[0m\u001b[0;34m)\u001b[0m \u001b[0;34m/\u001b[0m \u001b[0msum\u001b[0m\u001b[0;34m(\u001b[0m\u001b[0mr\u001b[0m\u001b[0;34m[\u001b[0m\u001b[0;36m0\u001b[0m\u001b[0;34m]\u001b[0m \u001b[0;34m+\u001b[0m \u001b[0mr\u001b[0m\u001b[0;34m[\u001b[0m\u001b[0;36m1\u001b[0m\u001b[0;34m]\u001b[0m \u001b[0;34m+\u001b[0m \u001b[0mepsilon\u001b[0m \u001b[0;32mfor\u001b[0m \u001b[0mr\u001b[0m \u001b[0;32min\u001b[0m \u001b[0mrewards\u001b[0m\u001b[0;34m)\u001b[0m\u001b[0;34m\u001b[0m\u001b[0;34m\u001b[0m\u001b[0m\n\u001b[0m\u001b[1;32m      5\u001b[0m \u001b[0;34m\u001b[0m\u001b[0m\n\u001b[1;32m      6\u001b[0m \u001b[0;31m# Run multiple episodes to estimate agent's performance.\u001b[0m\u001b[0;34m\u001b[0m\u001b[0;34m\u001b[0m\u001b[0;34m\u001b[0m\u001b[0m\n",
            "\u001b[0;31mTypeError\u001b[0m: unsupported operand type(s) for +: 'int' and 'NoneType'"
          ]
        }
      ]
    },
    {
      "cell_type": "code",
      "metadata": {
        "_kg_hide-input": true,
        "trusted": true,
        "id": "wogSuoXhWPch"
      },
      "source": [
        "def get_win_percentages(agent1, agent2, n_rounds=1):\n",
        "    # Use default Connect Four setup\n",
        "    config = {'rows': 6, 'columns': 7, 'inarow': 4}\n",
        "    # Agent 1 goes first (roughly) half the time          \n",
        "    outcomes = evaluate(\"connectx\", [agent1, agent2], config, [], n_rounds//2)\n",
        "    # Agent 2 goes first (roughly) half the time      \n",
        "    outcomes += [[b,a] for [a,b] in evaluate(\"connectx\", [agent2, agent1], config, [], n_rounds-n_rounds//2)]\n",
        "    print(\"Agent 1 Win Percentage:\", np.round(outcomes.count([1,-1])/len(outcomes), 2))\n",
        "    print(\"Agent 2 Win Percentage:\", np.round(outcomes.count([-1,1])/len(outcomes), 2))\n",
        "    print(\"Number of Invalid Plays by Agent 1:\", outcomes.count([None, 0]))\n",
        "    print(\"Number of Invalid Plays by Agent 2:\", outcomes.count([0, None]))"
      ],
      "execution_count": null,
      "outputs": []
    },
    {
      "cell_type": "markdown",
      "metadata": {
        "id": "xz1FNjYZWPch"
      },
      "source": [
        "And, we calculate how it performs on average, against other agents."
      ]
    },
    {
      "cell_type": "code",
      "metadata": {
        "trusted": true,
        "id": "Cxyf62zlWPck",
        "outputId": "5a787122-28bc-4c9b-9d37-8a3279c62d83"
      },
      "source": [
        "start_time = time.time()\n",
        "n_rounds=2\n",
        "get_win_percentages(agent1=my_agent, agent2=heuristic,n_rounds=n_rounds)\n",
        "print (\"Total time taken: {} seconds\".format(time.time() - start_time))\n",
        "print (\"Time taken per round: {} seconds\".format((time.time() - start_time)/n_rounds))"
      ],
      "execution_count": null,
      "outputs": [
        {
          "output_type": "stream",
          "text": [
            "Agent 1 Win Percentage: 0.0\n",
            "Agent 2 Win Percentage: 0.0\n",
            "Number of Invalid Plays by Agent 1: 2\n",
            "Number of Invalid Plays by Agent 2: 0\n",
            "Total time taken: 0.233231782913208 seconds\n",
            "Time taken per round: 0.11667025089263916 seconds\n"
          ],
          "name": "stdout"
        }
      ]
    }
  ]
}