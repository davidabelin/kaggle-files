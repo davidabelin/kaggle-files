{
  "nbformat": 4,
  "nbformat_minor": 0,
  "metadata": {
    "colab": {
      "name": "json_file_reader",
      "provenance": [],
      "collapsed_sections": []
    },
    "kernelspec": {
      "display_name": "Python 3",
      "name": "python3"
    }
  },
  "cells": [
    {
      "cell_type": "code",
      "metadata": {
        "id": "Y_ShLHwQACy_"
      },
      "source": [
        "import matplotlib.pyplot as plt\n"
      ],
      "execution_count": 72,
      "outputs": []
    },
    {
      "cell_type": "code",
      "metadata": {
        "id": "KvlvUws-jTIL"
      },
      "source": [
        "import csv, json, sys, os\n",
        "import pandas as pd\n",
        "import numpy as np\n",
        "\n",
        "fileInput = '/content/5471908.json'\n",
        "inputFile = open(fileInput) #open json file\n",
        "data = json.load(inputFile) #load json content\n",
        "#json_df = pd.read_json(inputFile)\n",
        "inputFile.close() #close the input file"
      ],
      "execution_count": 5,
      "outputs": []
    },
    {
      "cell_type": "code",
      "metadata": {
        "id": "pg0uNEqCwZ9a"
      },
      "source": [
        "#fileOutput = '/content/5471908.csv'\n",
        "#outputFile = open(fileOutput, 'w') #load csv file\n",
        "#output = csv.writer(outputFile) #create a csv.write\n",
        "#output.writerow(data[0].keys())  # header row\n",
        "#for row in data:\n",
        "#    output.writerow(row.values()) #values row"
      ],
      "execution_count": null,
      "outputs": []
    },
    {
      "cell_type": "code",
      "metadata": {
        "id": "0DdSqsVSw2uu"
      },
      "source": [
        "datalist = list(data.values())\n",
        "for key, item in zip(data.keys(), datalist):\n",
        "    print(key,\":\",item)"
      ],
      "execution_count": null,
      "outputs": []
    },
    {
      "cell_type": "code",
      "metadata": {
        "id": "PqBnUrI5nlP9"
      },
      "source": [
        "steps = data['steps']\n",
        "steps[len(steps) - 1]"
      ],
      "execution_count": null,
      "outputs": []
    },
    {
      "cell_type": "code",
      "metadata": {
        "id": "DK51ezTz11Is"
      },
      "source": [
        "s = steps[len(steps) - 1]\n",
        "s[0]['observation']['board']"
      ],
      "execution_count": null,
      "outputs": []
    },
    {
      "cell_type": "code",
      "metadata": {
        "id": "CdASHFOfykSx"
      },
      "source": [
        "player_actions = []\n",
        "opp_actions =  []\n",
        "board_list = []\n",
        "for s in steps:\n",
        "    player_actions += [ s[0]['action'] ]\n",
        "    opp_actions += [ s[1]['action'] ]\n",
        "    board_list += [ s[0]['observation']['board'] ]\n",
        "#player_actions, opp_actions, \n",
        "board_list"
      ],
      "execution_count": null,
      "outputs": []
    },
    {
      "cell_type": "code",
      "metadata": {
        "id": "6FQOr4Fp8Ws2"
      },
      "source": [
        "df = pd.DataFrame(board_list)\n",
        "df[\"play\"] = player_actions\n",
        "df[\"opp\"] = opp_actions\n",
        "df"
      ],
      "execution_count": null,
      "outputs": []
    },
    {
      "cell_type": "code",
      "metadata": {
        "colab": {
          "base_uri": "https://localhost:8080/",
          "height": 333
        },
        "id": "ZIKoP34Q8CwA",
        "outputId": "a22e606f-980b-43c7-87a3-f1710d3e66e9"
      },
      "source": [
        "board -= 1\n",
        "print (\"Board:\",board)\n",
        "print (\"Player played:\", df[\"play\"][board])\n",
        "print (\"Opponent played:\", df[\"opp\"][board])\n",
        "grid = np.array(df.iloc[board])#\n",
        "plt.imshow(grid[:-2].reshape((6,7)))"
      ],
      "execution_count": 116,
      "outputs": [
        {
          "output_type": "stream",
          "text": [
            "Board: 32\n",
            "Player played: 0\n",
            "Opponent played: 5\n"
          ],
          "name": "stdout"
        },
        {
          "output_type": "execute_result",
          "data": {
            "text/plain": [
              "<matplotlib.image.AxesImage at 0x7fe530db77f0>"
            ]
          },
          "metadata": {
            "tags": []
          },
          "execution_count": 116
        },
        {
          "output_type": "display_data",
          "data": {
            "image/png": "[encoded data removed]",
            "text/plain": [
              "<Figure size 432x288 with 1 Axes>"
            ]
          },
          "metadata": {
            "tags": [],
            "needs_background": "light"
          }
        }
      ]
    },
    {
      "cell_type": "code",
      "metadata": {
        "id": "mFiOfdZ-AXbP"
      },
      "source": [
        ""
      ],
      "execution_count": null,
      "outputs": []
    }
  ]
}