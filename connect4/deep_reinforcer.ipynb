{
  "nbformat": 4,
  "nbformat_minor": 0,
  "metadata": {
    "kernelspec": {
      "name": "python3",
      "display_name": "Python 3",
      "language": "python"
    },
    "language_info": {
      "name": "python",
      "version": "3.7.6",
      "mimetype": "text/x-python",
      "codemirror_mode": {
        "name": "ipython",
        "version": 3
      },
      "pygments_lexer": "ipython3",
      "nbconvert_exporter": "python",
      "file_extension": ".py"
    },
    "colab": {
      "name": "deep_reinforcer.ipynb",
      "provenance": [],
      "machine_shape": "hm"
    },
    "accelerator": "GPU"
  },
  "cells": [
    {
      "cell_type": "markdown",
      "metadata": {
        "id": "DaN16yxdY55I"
      },
      "source": [
        "# Introduction\n",
        "\n",
        "So far, our agents have relied on detailed information about how to play the game.  The heuristic really provides a lot of guidance about how to select moves!\n",
        "\n",
        "In this tutorial, you'll learn how to use **reinforcement learning** to build an intelligent agent without the use of a heuristic.  Instead, we will gradually refine the agent's strategy over time, simply by playing the game and trying to maximize the winning rate.\n",
        "\n",
        "In this notebook, we won't be able to explore this complex field in detail, but you'll learn about the big picture and explore code that you can use to train your own agent.\n",
        "\n",
        "# Neural Networks\n",
        "\n",
        "It's difficult to come up with a perfect heuristic.  Improving the heuristic generally entails playing the game many times, to determine specific cases where the agent could have made better choices.  And, it can prove challenging to interpret what exactly is going wrong, and ultimately to fix old mistakes without accidentally introducing new ones.\n",
        "\n",
        "Wouldn't it be much easier if we had a more systematic way of improving the agent with gameplay experience?  \n",
        "\n",
        "In this tutorial, towards this goal, we'll replace the heuristic with a neural network.\n",
        "\n",
        "The network accepts the current board as input.  And, it outputs a probability for each possible move.\n",
        "\n",
        "<center>\n",
        "<img src=\"https://i.imgur.com/KgAliYQ.png\" width=90%><br/>\n",
        "</center>\n",
        "\n",
        "Then, the agent selects a move by sampling from these probabilities.  For instance, for the game board in the image above, the agent selects column 4 with 50% probability.\n",
        "\n",
        "This way, to encode a good gameplay strategy, we need only amend the weights of the network so that _for every possible game board_, it assigns higher probabilities to better moves.\n",
        "\n",
        "At least in theory, that's our goal.  In practice, we won't actually check if that's the case -- since remember that Connect Four has over 4 trillion possible game boards!\n",
        "\n",
        "# Setup\n",
        "\n",
        "How can we approach the task of amending the weights of the network, in practice?  Here's the approach we'll take in this lesson:\n",
        "- After each move, we give the agent a **reward** that tells it how well it did:\n",
        "  - **_If_** the agent wins the game in that move, we give it a reward of `+1`.\n",
        "  - **_Else if_** the agent plays an invalid move (which ends the game), we give it a reward of `-10`.\n",
        "  - **_Else if_** the opponent wins the game in its next move (i.e., the agent failed to prevent its opponent from winning), we give the agent a reward of `-1`.\n",
        "  - **_Else_**, the agent gets a reward of `1/42`.\n",
        "  \n",
        "  \n",
        "- At the end of each game, the agent adds up its reward.  We refer to the sum of rewards as the agent's **cumulative reward**.  \n",
        "  - For instance, if the game lasted 8 moves (each player played four times), and the agent ultimately won, then its cumulative reward is `3*(1/42) + 1`.\n",
        "  - If the game lasted 11 moves (and the opponent went first, so the agent played five times), and the opponent won in its final move, then the agent's cumulative reward is `4*(1/42) - 1`.\n",
        "  - If the game ends in a draw, then the agent played exactly 21 moves, and it gets a cumulative reward of `21*(1/42)`.\n",
        "  - If the game lasted 7 moves and ended with the agent selecting an invalid move, the agent gets a cumulative reward of `3*(1/42) - 10`.\n",
        "  \n",
        "Our goal is to find the weights of the neural network that (on average) maximize the agent's cumulative reward.  \n",
        "\n",
        "This idea of using reward to track the performance of an agent is a core idea in the field of reinforcement learning.  Once we define the problem in this way, we can use any of a variety of reinforcement learning algorithms to produce an agent."
      ]
    },
    {
      "cell_type": "markdown",
      "metadata": {
        "id": "939era4_Y55J"
      },
      "source": [
        "# Reinforcement Learning\n",
        "\n",
        "There are many different reinforcement learning algorithms, such as DQN, A2C, and PPO, among others.  All of these algorithms use a similar process to produce an agent:\n",
        "\n",
        "- Initially, the weights are set to random values.\n",
        "\n",
        "\n",
        "- As the agent plays the game, the algorithm continually tries out new values for the weights, to see how the cumulative reward is affected, on average.  Over time, after playing many games, we get a good idea of how the weights affect cumulative reward, and the algorithm settles towards weights that performed better.  \n",
        "    - _Of course, we have glossed over the details here, and there's a lot of complexity involved in this process.  For now, we focus on the big picture!_\n",
        "    \n",
        "    \n",
        "- This way, we'll end up with an agent that tries to win the game (so it gets the final reward of `+1`, and avoids the `-1` and `-10`) and tries to make the game last as long as possible (so that it collects the `1/42` bonus as many times as it can).\n",
        "    - _You might argue that it doesn't really make sense to want the game to last as long as possible -- this might result in a very inefficient agent that doesn't play obvious winning moves early in gameplay.  And, your intuition would be correct -- this will make the agent take longer to play a winning move!  The reason we include the `1/42` bonus is to help the algorithms we'll use to converge better.  Further discussion is outside of the scope of this course, but you can learn more by reading about the \"temporal credit assignment problem\" and \"reward shaping\"._\n",
        "    \n",
        "In the next section, we'll use the [**Proximal Policy Optimization (PPO)**](https://openai.com/blog/openai-baselines-ppo/) algorithm to create an agent."
      ]
    },
    {
      "cell_type": "markdown",
      "metadata": {
        "id": "oTFsJiGLY55K"
      },
      "source": [
        "# Code\n",
        "\n",
        "There are a lot of great implementations of reinforcement learning algorithms online.  In this course, we'll use [Stable Baselines](https://github.com/hill-a/stable-baselines).\n",
        "\n",
        "Currently, Stable Baselines is not yet compatible with TensorFlow 2.0.  So, we begin by downgrading to TensorFlow 1.0."
      ]
    },
    {
      "cell_type": "code",
      "metadata": {
        "_kg_hide-input": true,
        "_kg_hide-output": true,
        "trusted": true,
        "id": "ptGEf8mrY55L"
      },
      "source": [
        "import time\n",
        "import random\n",
        "import numpy as np\n",
        "import pandas as pd\n",
        "import matplotlib.pyplot as plt\n",
        "%matplotlib inline"
      ],
      "execution_count": 1,
      "outputs": []
    },
    {
      "cell_type": "code",
      "metadata": {
        "trusted": true,
        "id": "Ruk-qCwyY55R"
      },
      "source": [
        "# Check version of tensorflow\n",
        "!pip install 'tensorflow==1.15.0'\n",
        "import tensorflow as tf\n",
        "#tf.__version__"
      ],
      "execution_count": null,
      "outputs": []
    },
    {
      "cell_type": "markdown",
      "metadata": {
        "id": "p3iXGfgcY55W"
      },
      "source": [
        "There's a bit of extra work that we need to do to make the environment compatible with Stable Baselines.  For this, we define the `ConnectFourGym` class below.  This class implements ConnectX as an [OpenAI Gym environment](http://gym.openai.com/docs/) and uses several methods:\n",
        "- `reset()` will be called at the beginning of every game.  It returns the starting game board as a 2D numpy array with 6 rows and 7 columns.\n",
        "- `change_reward()` customizes the rewards that the agent receives.  (_The competition already has its own system for rewards that are used to rank the agents, and this method changes the values to match the rewards system we designed._) \n",
        "- `step()` is used to play the agent's choice of action (supplied as `action`), along with the opponent's response.  It returns:\n",
        "  - the resulting game board (as a numpy array), \n",
        "  - the agent's reward (from the most recent move only: one of `+1`, `-10`, `-1`, or `1/42`), and\n",
        "  - whether or not the game has ended (if the game has ended, `done=True`; otherwise, `done=False`).\n",
        "  \n",
        "To learn more about how to define environments, check out the documentation [here](https://stable-baselines.readthedocs.io/en/master/guide/custom_env.html)."
      ]
    },
    {
      "cell_type": "code",
      "metadata": {
        "id": "z3qRIWGjZ6qy"
      },
      "source": [
        "!pip install kaggle_environments"
      ],
      "execution_count": null,
      "outputs": []
    },
    {
      "cell_type": "code",
      "metadata": {
        "trusted": true,
        "id": "OHrk8l6KY55X",
        "outputId": "f131a48b-671c-40c3-cd95-0d22b056b9cc",
        "colab": {
          "base_uri": "https://localhost:8080/"
        }
      },
      "source": [
        "from kaggle_environments import make, evaluate\n",
        "from gym import spaces\n",
        "\n",
        "class ConnectFourGym:\n",
        "    def __init__(self, agent2=\"random\"):\n",
        "        ks_env = make(\"connectx\", debug=True)\n",
        "        self.env = ks_env.train([None, agent2])\n",
        "        self.rows = ks_env.configuration.rows\n",
        "        self.columns = ks_env.configuration.columns\n",
        "        # Learn about spaces here: http://gym.openai.com/docs/#spaces\n",
        "        self.action_space = spaces.Discrete(self.columns)\n",
        "        self.observation_space = spaces.Box(low=0, high=2, \n",
        "                                            shape=(self.rows,self.columns,1), dtype=np.int)\n",
        "        # Tuple corresponding to the min and max possible rewards\n",
        "        self.reward_range = (-10, 1)\n",
        "        # StableBaselines throws error if these are not defined\n",
        "        self.spec = None\n",
        "        self.metadata = None\n",
        "    def reset(self):\n",
        "        self.obs = self.env.reset()\n",
        "        return np.array(self.obs['board']).reshape(self.rows,self.columns,1)\n",
        "    def change_reward(self, old_reward, done):\n",
        "        if old_reward == 1: # The agent won the game\n",
        "            return 1\n",
        "        elif done: # The opponent won the game\n",
        "            return -1\n",
        "        else: # Reward 1/42\n",
        "            return 1/(self.rows*self.columns)\n",
        "    def step(self, action):\n",
        "        # Check if agent's move is valid\n",
        "        is_valid = (self.obs['board'][int(action)] == 0)\n",
        "        if is_valid: # Play the move\n",
        "            self.obs, old_reward, done, _ = self.env.step(int(action))\n",
        "            reward = self.change_reward(old_reward, done)\n",
        "        else: # End the game and penalize agent\n",
        "            reward, done, _ = -10, True, {}\n",
        "        return np.array(self.obs['board']).reshape(self.rows,self.columns,1), reward, done, _"
      ],
      "execution_count": 4,
      "outputs": [
        {
          "output_type": "stream",
          "text": [
            "Loading environment football failed: No module named 'gfootball'\n"
          ],
          "name": "stdout"
        }
      ]
    },
    {
      "cell_type": "markdown",
      "metadata": {
        "id": "AgwBPc7CY55a"
      },
      "source": [
        "In this notebook, we'll train an agent to beat the random agent.  We specify this opponent in the `agent2` argument below."
      ]
    },
    {
      "cell_type": "code",
      "metadata": {
        "trusted": true,
        "id": "hHbaCvAzY55b"
      },
      "source": [
        "# Create ConnectFour environment\n",
        "env = ConnectFourGym(agent2=\"negamax\")"
      ],
      "execution_count": 54,
      "outputs": []
    },
    {
      "cell_type": "markdown",
      "metadata": {
        "id": "_PIZa5Y7Y55g"
      },
      "source": [
        "Stable Baselines requires us to work with [\"vectorized\" environments](https://stable-baselines.readthedocs.io/en/master/guide/vec_envs.html).  For this, we can use the `DummyVecEnv` class.  \n",
        "\n",
        "The `Monitor` class lets us watch how the agent's performance gradually improves, as it plays more and more games."
      ]
    },
    {
      "cell_type": "code",
      "metadata": {
        "id": "fJDtLjWQaOeZ"
      },
      "source": [
        "!apt-get update\n",
        "!apt-get install -y cmake libopenmpi-dev python3-dev zlib1g-dev\n",
        "!pip install \"stable-baselines[mpi]==2.9.0\""
      ],
      "execution_count": null,
      "outputs": []
    },
    {
      "cell_type": "code",
      "metadata": {
        "trusted": true,
        "id": "sDyn6TmBY55j"
      },
      "source": [
        "import os\n",
        "from stable_baselines.bench import Monitor \n",
        "from stable_baselines.common.vec_env import DummyVecEnv\n",
        "\n",
        "# Create directory for logging training information\n",
        "log_dir = \"ppo/\"\n",
        "os.makedirs(log_dir, exist_ok=True)\n",
        "\n",
        "# Logging progress\n",
        "monitor_env = Monitor(env, log_dir, allow_early_resets=True)\n",
        "\n",
        "# Create a vectorized environment\n",
        "vec_env = DummyVecEnv([lambda: monitor_env])"
      ],
      "execution_count": 55,
      "outputs": []
    },
    {
      "cell_type": "markdown",
      "metadata": {
        "id": "ipphbvzZY55n"
      },
      "source": [
        "The next step is to specify the architecture of the neural network.  In this case, we use a convolutional neural network.  To learn more about how to specify architectures with Stable Baselines, check out the documentation [here](https://stable-baselines.readthedocs.io/en/master/guide/custom_policy.html).\n",
        "\n",
        "Note that this is the neural network that outputs the probabilities of selecting each column.  Since we use the PPO algorithm (`PPO1` in the code cell below), our network will also output some additional information (called the \"value\" of the input).  This is outside the scope of this course, but you can learn more by reading about \"actor-critic networks\"."
      ]
    },
    {
      "cell_type": "code",
      "metadata": {
        "trusted": true,
        "id": "bww2gik_Y55o"
      },
      "source": [
        "from stable_baselines import PPO1 \n",
        "from stable_baselines.a2c.utils import conv, linear, conv_to_fc\n",
        "from stable_baselines.common.policies import CnnPolicy\n",
        "\n",
        "# Neural network for predicting action values\n",
        "def modified_cnn(scaled_images, **kwargs):\n",
        "    activ = tf.nn.relu\n",
        "    layer_1 = activ(conv(scaled_images, 'c1', n_filters=32, filter_size=3, stride=1, \n",
        "                         init_scale=np.sqrt(2), **kwargs))\n",
        "    layer_2 = activ(conv(layer_1, 'c2', n_filters=64, filter_size=3, stride=1, \n",
        "                         init_scale=np.sqrt(2), **kwargs))\n",
        "    layer_2 = conv_to_fc(layer_2)\n",
        "    return activ(linear(layer_2, 'fc1', n_hidden=512, init_scale=np.sqrt(2)))  \n",
        "\n",
        "class CustomCnnPolicy(CnnPolicy):\n",
        "    def __init__(self, *args, **kwargs):\n",
        "        super(CustomCnnPolicy, self).__init__(*args, **kwargs, cnn_extractor=modified_cnn)\n",
        "        \n"
      ],
      "execution_count": 39,
      "outputs": []
    },
    {
      "cell_type": "markdown",
      "metadata": {
        "id": "05Jbm9E-Y55q"
      },
      "source": [
        "In the code cell above, the weights of the neural network are initially set to random values.\n",
        "\n",
        "In the next code cell, we \"train the agent\", which is just another way of saying that we find weights of the neural network that are likely to result in the agent selecting good moves.\n",
        "\n",
        "We plot a rolling average of the cumulative reward that the agent received during training.  As evidenced by the increasing function, the agent gradually learned to perform better by playing the game."
      ]
    },
    {
      "cell_type": "code",
      "metadata": {
        "id": "FAvVwcvt_o8l"
      },
      "source": [
        "# Initialize agent\n",
        "model = PPO1(CustomCnnPolicy, vec_env, verbose=0)"
      ],
      "execution_count": 56,
      "outputs": []
    },
    {
      "cell_type": "code",
      "metadata": {
        "trusted": true,
        "id": "fpey9OkiY55r",
        "outputId": "5d59b8b3-7828-4e33-e562-7cf294a15131",
        "colab": {
          "base_uri": "https://localhost:8080/"
        }
      },
      "source": [
        "# Train agent\n",
        "start = time.time()\n",
        "nsteps = 14000\n",
        "#for i in range(5):\n",
        "model.learn(total_timesteps=nsteps)\n",
        "total = time.time()-start\n",
        "print (nsteps,\"steps took\",round(total,2),\"seconds.\")\n",
        "# 10000 steps took 64.2 seconds at kaggle"
      ],
      "execution_count": 61,
      "outputs": [
        {
          "output_type": "stream",
          "text": [
            "14000 steps took 1573.79 seconds.\n"
          ],
          "name": "stdout"
        }
      ]
    },
    {
      "cell_type": "code",
      "metadata": {
        "trusted": true,
        "collapsed": true,
        "id": "nSJ0mTG2Y55u",
        "outputId": "4cce2e36-896f-47ab-b955-807c3cf4cc74",
        "colab": {
          "base_uri": "https://localhost:8080/",
          "height": 265
        }
      },
      "source": [
        "#%%time\n",
        "# Plot cumulative reward\n",
        "with open(os.path.join(log_dir, \"monitor.csv\"), 'rt') as fh:    \n",
        "    firstline = fh.readline()\n",
        "    assert firstline[0] == '#'\n",
        "    df = pd.read_csv(fh, index_col=None)['r']\n",
        "df.rolling(window=1000).mean().plot()\n",
        "plt.show()"
      ],
      "execution_count": 63,
      "outputs": [
        {
          "output_type": "display_data",
          "data": {
            "image/png": "[encoded data removed]",
            "text/plain": [
              "<Figure size 432x288 with 1 Axes>"
            ]
          },
          "metadata": {
            "tags": [],
            "needs_background": "light"
          }
        }
      ]
    },
    {
      "cell_type": "code",
      "metadata": {
        "id": "yOKugXYsF5c-"
      },
      "source": [
        "df\n"
      ],
      "execution_count": null,
      "outputs": []
    },
    {
      "cell_type": "markdown",
      "metadata": {
        "id": "Jfypz2dMY55x"
      },
      "source": [
        "Finally, we specify the trained agent in the format required for the competition."
      ]
    },
    {
      "cell_type": "code",
      "metadata": {
        "trusted": true,
        "id": "DQZdBN9DY55y"
      },
      "source": [
        "def learner(obs, config):\n",
        "    # Use the best model to select a column\n",
        "    col, _ = model.predict(np.array(obs['board']).reshape(6,7,1))\n",
        "    # Check if selected column is valid\n",
        "    is_valid = (obs['board'][int(col)] == 0)\n",
        "    # If not valid, select random move. \n",
        "    if is_valid:\n",
        "        return int(col)\n",
        "    else:\n",
        "        return random.choice([col for col in range(config.columns) if obs.board[int(col)] == 0])"
      ],
      "execution_count": 62,
      "outputs": []
    },
    {
      "cell_type": "markdown",
      "metadata": {
        "id": "OXL-w4_tY550"
      },
      "source": [
        "In the next code cell, we see the outcome of one game round against a random agent."
      ]
    },
    {
      "cell_type": "markdown",
      "metadata": {
        "id": "qzKkcmQTY554"
      },
      "source": [
        "And, we calculate how it performs on average, against the random agent."
      ]
    },
    {
      "cell_type": "code",
      "metadata": {
        "_kg_hide-input": true,
        "trusted": true,
        "id": "XV_9IR95Y555"
      },
      "source": [
        "def get_win_percentages(agent1, agent2, n_rounds=1):\n",
        "    # Use default Connect Four setup\n",
        "    config = {'rows': 6, 'columns': 7, 'inarow': 4}\n",
        "    # Agent 1 goes first (roughly) half the time          \n",
        "    outcomes = evaluate(\"connectx\", [agent1, agent2], config, [], n_rounds//2)\n",
        "    # Agent 2 goes first (roughly) half the time      \n",
        "    outcomes += [[b,a] for [a,b] in evaluate(\"connectx\", [agent2, agent1], config, [], n_rounds-n_rounds//2)]\n",
        "    print(\"Agent 1 Win Percentage:\", np.round(outcomes.count([1,-1])/len(outcomes), 2))\n",
        "    print(\"Agent 2 Win Percentage:\", np.round(outcomes.count([-1,1])/len(outcomes), 2))\n",
        "    print(\"Number of Invalid Plays by Agent 1:\", outcomes.count([None, 0]))\n",
        "    print(\"Number of Invalid Plays by Agent 2:\", outcomes.count([0, None]))"
      ],
      "execution_count": 13,
      "outputs": []
    },
    {
      "cell_type": "code",
      "metadata": {
        "trusted": true,
        "id": "bz7CQSetY557",
        "outputId": "4b84c5a7-834d-4cea-ba2a-916d3c133482",
        "colab": {
          "base_uri": "https://localhost:8080/"
        }
      },
      "source": [
        "start_time = time.time()\n",
        "n_rounds=100\n",
        "get_win_percentages(agent1=learner, agent2=\"negamax\",n_rounds=n_rounds)\n",
        "print (\"Total time taken: {} seconds\".format(time.time() - start_time))\n",
        "print (\"Time taken per round: {} seconds\".format((time.time() - start_time)/n_rounds))\n",
        "#Total time taken at Kaggle: 51.1 seconds"
      ],
      "execution_count": 65,
      "outputs": [
        {
          "output_type": "stream",
          "text": [
            "Agent 1 Win Percentage: 0.02\n",
            "Agent 2 Win Percentage: 0.98\n",
            "Number of Invalid Plays by Agent 1: 0\n",
            "Number of Invalid Plays by Agent 2: 0\n",
            "Total time taken: 85.61544871330261 seconds\n",
            "Time taken per round: 0.8561551737785339 seconds\n"
          ],
          "name": "stdout"
        }
      ]
    },
    {
      "cell_type": "markdown",
      "metadata": {
        "id": "ObP7uX_tn9J7"
      },
      "source": [
        "#First Attempt\n",
        "\n",
        "##Against *learned* negamax player\n",
        "\n",
        "~1000 steps\n",
        "\n",
        "Learner Win Percentage: 0.01\n",
        "\n",
        "Negamax Win Percentage: 0.99\n",
        "\n",
        "Total time taken: 783 seconds\n",
        "\n",
        "Time taken per round: 0.783 seconds\n",
        "\n",
        "------------------------\n",
        "\n",
        "~2000 steps\n",
        "\n",
        "Learner Win Percentage: 0.02\n",
        "\n",
        "Negamax Win Percentage: 0.98\n",
        "\n",
        "Total time taken: 85.6 seconds\n",
        "\n",
        "Time taken per round: 0.856 seconds\n",
        "\n",
        "------------------------"
      ]
    },
    {
      "cell_type": "markdown",
      "metadata": {
        "id": "6gTqKgJjdwhQ"
      },
      "source": [
        "##Against random player\n",
        "\n",
        "10000 steps\n",
        "\n",
        "Learner Win Percentage: 0.59\n",
        "\n",
        "Random Win Percentage: 0.4\n",
        "\n",
        "Total time taken: 37.698 seconds\n",
        "\n",
        "Time taken per round: 0.037 seconds\n",
        "\n",
        "------------------------\n",
        "50000 steps\n",
        "\n",
        "Learner Win Percentage: 0.78\n",
        "\n",
        "Random Win Percentage: 0.22\n",
        "\n",
        "Total time taken: 33.984 seconds\n",
        "\n",
        "Time taken per round: 0.034 seconds\n",
        "\n",
        "------------------------\n",
        "100000 steps\n",
        "\n",
        "Learner Win Percentage: 0.88\n",
        "\n",
        "Random Win Percentage: 0.12\n",
        "\n",
        "Total time taken: 26.1 seconds\n",
        "\n",
        "Time taken per round: 0.026 seconds"
      ]
    },
    {
      "cell_type": "markdown",
      "metadata": {
        "id": "SMt0ZK2fY55-"
      },
      "source": [
        "It's important to note that the agent that we've created here was only trained to beat the random agent, because all of its gameplay experience has been with the random agent as opponent.  \n",
        "\n",
        "If we want to produce an agent that reliably performs better than many other agents, we have to expose our agent to these other agents during training.  To learn more about how to do this, you can read about **[self-play](https://openai.com/blog/competitive-self-play/)**.\n",
        "\n",
        "# Learn more\n",
        "\n",
        "This was a very quick and high-level introduction to reinforcement learning.  If you'd like to dig more deeply into this topic, we recommend checking out the following (free!) resources:\n",
        "- David Silver's videos - [here](https://www.youtube.com/watch?v=2pWv7GOvuf0)\n",
        "- Richard Sutton's and Andrew Barto's textbook - [here](http://www.incompleteideas.net/book/RLbook2018.pdf)\n",
        "- Denny Britz's GitHub repository - [here](https://github.com/dennybritz/reinforcement-learning)\n",
        "- The Deep RL Bootcamp - [here](https://sites.google.com/corp/view/deep-rl-bootcamp/lectures)\n",
        "\n",
        "# Your turn\n",
        "\n",
        "Continue to check your understanding and **[run the code yourself](https://www.kaggle.com/kernels/fork/8222487)**!"
      ]
    },
    {
      "cell_type": "markdown",
      "metadata": {
        "id": "iSKP_nq5Y55_"
      },
      "source": [
        "---\n",
        "\n",
        "\n",
        "\n",
        "\n",
        "*Have questions or comments? Visit the [Learn Discussion forum](https://www.kaggle.com/learn-forum/161477) to chat with other Learners.*"
      ]
    }
  ]
}