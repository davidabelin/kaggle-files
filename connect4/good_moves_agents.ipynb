{
  "nbformat": 4,
  "nbformat_minor": 0,
  "metadata": {
    "kernelspec": {
      "language": "python",
      "display_name": "Python 3",
      "name": "python3"
    },
    "language_info": {
      "pygments_lexer": "ipython3",
      "nbconvert_exporter": "python",
      "version": "3.6.4",
      "file_extension": ".py",
      "codemirror_mode": {
        "name": "ipython",
        "version": 3
      },
      "name": "python",
      "mimetype": "text/x-python"
    },
    "colab": {
      "name": "good-moves-agents.ipynb",
      "provenance": []
    }
  },
  "cells": [
    {
      "cell_type": "markdown",
      "metadata": {
        "id": "ecIOUlxZLSIc"
      },
      "source": [
        "## Intro\n",
        "\n",
        "There were a bunch of questions on how to validate an agent or a neural net for connect 4. So I decided to release a dataset that I use to validate the nets that I use. The dataset was generated with a modified version of the C++ connect4 solver provided by http://connect4.gamesolver.org It contains 1000 samples of board positions from ply 8 to 20. \n",
        "\n",
        "With each of the positions it has the perfect score for the position as well as the scores of all positions after the next move. This allows to estimate how good an agent or a net is by comparing its move with a perfect solution. \n",
        "\n",
        "Format of the dataset: \n",
        "> {\"board\": [0, 0, 0, 0, 0, 0, 0, 0, 0, 2, 0, 0, 0, 2, 0, 0, 2, 0, 0, 0, 1, 0, 0, 1, 0, 0, 0, 2, 1, 0, 2, 0, 0, 0, 1, 1, 1, 2, 1, 0, 1, 2], \"score\": -2, \"move score\": [-3, -4, -4, -2, -6, -5, -4]}\n",
        "\n",
        "Each row is a json dictionary with the following fields:\n",
        "* \"board\": kaggle format of a connect4 baord, \n",
        "* \"score\": Score for the position, \n",
        "* \"move score\": Array of 7 scores corresponding to a play in each of the 7 columns\n",
        "\n",
        "A note on the scores in the dataset:\n",
        "* Score = 0: Game will be a draw\n",
        "* Score > 0: Current player will win (the bigger the number the sooner the player will win). The score is the half the ammount of plies from the end the game will be won. So +5 is means the win will be in ply 42 - 2*5 = 32. \n",
        "* Score < 0: Current player will lose (the bigger the number the sooner the player will lose)\n",
        "* Score = -99: simply indicates that that was not a legal move.\n",
        "\n",
        "There are 2 metrics that I use are:\n",
        "* Perfect Move: Here the agent picks a move with the same score as the perfect player.\n",
        "* Good Move: The agent picks a move in the same categoty (win, loss or draw) as the perfect player. If an agent play 100% good moves it will play as well as a perfect player, but the win might be later in the game.\n",
        "\n",
        "## Let's analyze the built in agents"
      ]
    },
    {
      "cell_type": "code",
      "metadata": {
        "id": "xD8idJHYOmoI"
      },
      "source": [
        "!pip install 'tensorflow==1.15.0'\n",
        "import tensorflow as tf\n",
        "assert tf.__version__=='1.15.0'\n",
        "!apt-get update\n",
        "!apt-get install -y cmake libopenmpi-dev python3-dev zlib1g-dev\n",
        "!pip install \"stable-baselines[mpi]==2.9.0\""
      ],
      "execution_count": null,
      "outputs": []
    },
    {
      "cell_type": "code",
      "metadata": {
        "id": "Fnc4oukaPxYG"
      },
      "source": [
        "assert tf.__version__=='1.15.0'\n",
        "from stable_baselines import PPO1"
      ],
      "execution_count": 7,
      "outputs": []
    },
    {
      "cell_type": "code",
      "metadata": {
        "_uuid": "d629ff2d2480ee46fbb7e2d37f6b5fab8052498a",
        "_cell_guid": "79c7e3d0-c299-4dcb-8224-4455121ee9b0",
        "trusted": true,
        "id": "0kAwrjQ7LSIc"
      },
      "source": [
        "def score(agent, max_lines = 1000):\n",
        "    ''' scores an agent against a set of \"perfect moves\" '''\n",
        "    \n",
        "    # required imports\n",
        "    import json\n",
        "    !pip install kaggle_environments\n",
        "    import kaggle_environments\n",
        "    from kaggle_environments.utils import structify\n",
        "    #also requires a copy of 'refmoves1k_kaggle.csv'\n",
        "    \n",
        "    def win_loss_draw(score):\n",
        "        if score>0: \n",
        "            return 'win'\n",
        "        if score<0: \n",
        "            return 'loss'\n",
        "        return 'draw'\n",
        "\n",
        "\n",
        "    print(\"scoring \",agent)\n",
        "    count = 0\n",
        "    good_move_count = 0\n",
        "    perfect_move_count = 0\n",
        "    observation = structify({'mark': None, 'board': None})\n",
        "    #with open(\"/kaggle/input/1k-connect4-validation-set/refmoves1k_kaggle\") as f:\n",
        "    with open(\"/content/refmoves1k_kaggle.csv\") as f:\n",
        "        for line in f:\n",
        "            count += 1\n",
        "            data = json.loads(line)\n",
        "            observation.board = data[\"board\"]\n",
        "            # find out how many moves are played to set the correct mark.\n",
        "            ply = len([x for x in data[\"board\"] if x>0])\n",
        "            if ply&1:\n",
        "                observation.mark = 2\n",
        "            else:\n",
        "                observation.mark = 1\n",
        "            \n",
        "            #call the agent\n",
        "            agent_move = agent(observation,env.configuration)\n",
        "            \n",
        "            moves = data[\"move score\"]\n",
        "            perfect_score = max(moves)\n",
        "            perfect_moves = [ i for i in range(7) if moves[i]==perfect_score]\n",
        "\n",
        "            if(agent_move in perfect_moves):\n",
        "                perfect_move_count += 1\n",
        "\n",
        "            if win_loss_draw(moves[agent_move]) == win_loss_draw(perfect_score):\n",
        "                good_move_count += 1\n",
        "\n",
        "            if count == max_lines:\n",
        "                break\n",
        "\n",
        "        print(\"perfect move percentage: \",perfect_move_count/count)\n",
        "        print(\"good moves percentage: \",good_move_count/count)\n",
        "\n",
        "#to call:\n",
        "#from kaggle_environments import make\n",
        "#env = make(\"connectx\")\n",
        "#score(env.agents[\"random\"],100)\n",
        "#score(agentX,1000)"
      ],
      "execution_count": 4,
      "outputs": []
    },
    {
      "cell_type": "markdown",
      "metadata": {
        "id": "_F9xN1NLWGLt"
      },
      "source": [
        "###Output should be:"
      ]
    },
    {
      "cell_type": "markdown",
      "metadata": {
        "id": "PVB-DQhiLSIh"
      },
      "source": [
        "> scoring **random_agent**  \n",
        "> perfect move percentage:  0.22  \n",
        "> good moves percentage:  0.67  \n",
        "---\n",
        "> scoring **negamax_agent**  \n",
        "> perfect move percentage:  0.4  \n",
        "> good moves percentage:  0.71  \n",
        "___\n",
        "Some more references:  \n",
        "A neural net that I use in my best agent (1267 score on 2/24/20) score as follows:\n",
        "> perfect move percentage:  0.737  \n",
        "> good moves percentage:  0.939\n"
      ]
    },
    {
      "cell_type": "code",
      "metadata": {
        "trusted": true,
        "id": "84OMv0OiLSIh"
      },
      "source": [
        "# Score the 2 built in agents\n",
        "from kaggle_environments import make\n",
        "env = make(\"connectx\")\n",
        "score(env.agents[\"random\"],10)\n",
        "# the built in agents are remarkably slow so only evaluating on 100 moves here\n",
        "#score(env.agents[\"random\"],100)  \n",
        "#score(env.agents[\"negamax\"],100)"
      ],
      "execution_count": null,
      "outputs": []
    },
    {
      "cell_type": "markdown",
      "metadata": {
        "id": "GH3m8ZiHV__V"
      },
      "source": [
        "## Results"
      ]
    },
    {
      "cell_type": "markdown",
      "metadata": {
        "id": "gDeGSL6aP8_6"
      },
      "source": [
        ">scoring  **test_agent_v9**\n",
        "* perfect move percentage:  0.681\n",
        "* good moves percentage:  0.884\n",
        "___\n",
        ">scoring  **test_agent_v6**\n",
        "* perfect move percentage:  0.68\n",
        "* good moves percentage:  0.886\n",
        "___\n",
        ">scoring  **heuristic**\n",
        "* perfect move percentage:  0.667\n",
        "* good moves percentage:  0.889\n",
        "___\n",
        ">scoring  **quick_look**\n",
        "* perfect move percentage:  0.65\n",
        "* good moves percentage:  0.863\n",
        "___\n",
        ">scoring  **strong_coeffs**\n",
        "* perfect move percentage:  0.639\n",
        "* good moves percentage: 0.856 "
      ]
    },
    {
      "cell_type": "markdown",
      "metadata": {
        "id": "qZxZ-xYKWKr0"
      },
      "source": [
        "####Heuristic Agents"
      ]
    },
    {
      "cell_type": "code",
      "metadata": {
        "id": "sooEXnI2V0-z"
      },
      "source": [
        "from kaggle_environments import make\n",
        "env = make(\"connectx\")"
      ],
      "execution_count": null,
      "outputs": []
    },
    {
      "cell_type": "code",
      "metadata": {
        "id": "SZxlhz7-VO-j"
      },
      "source": [
        "from deep_lookahead import debug_agent as deep_agent\n",
        "from test_agent_v9 import my_agent as test_agent_v9\n",
        "from strong_coeffs import my_agent as strongCs\n",
        "from quick import my_agent as quick"
      ],
      "execution_count": 11,
      "outputs": []
    },
    {
      "cell_type": "code",
      "metadata": {
        "id": "Oix0dGaoT2w7"
      },
      "source": [
        "score(test_agent_v9,1000)\n",
        "score(strong,1000)"
      ],
      "execution_count": null,
      "outputs": []
    },
    {
      "cell_type": "markdown",
      "metadata": {
        "id": "P1TdkctKUe0C"
      },
      "source": [
        "####Trained agents:"
      ]
    },
    {
      "cell_type": "code",
      "metadata": {
        "id": "S8XaUh9yNIhv"
      },
      "source": [
        "modelX = PPO1.load('/content/modelX.zip', env=None)"
      ],
      "execution_count": null,
      "outputs": []
    },
    {
      "cell_type": "code",
      "metadata": {
        "id": "LcO-vJ1UUmyE"
      },
      "source": [
        "import numpy as np\n",
        "import random\n",
        "\n",
        "def agentX(obs, config, model=modelX, debug=False):\n",
        "    col, _ = model.predict(np.array(obs['board']).reshape(6,7,1))\n",
        "    is_valid = (obs['board'][int(col)] == 0)\n",
        "    if is_valid:\n",
        "        return int(col)\n",
        "    else:\n",
        "        return random.choice([col for col in range(config.columns) if obs.board[int(col)] == 0])"
      ],
      "execution_count": 17,
      "outputs": []
    },
    {
      "cell_type": "code",
      "metadata": {
        "id": "kO1k8WthUcZv"
      },
      "source": [
        "xtrain = PPO1.load('/content/xtrain.zip', env=None)\n",
        "xtrain_agent = lambda x,y: agentX(x,y,model=xtrain)"
      ],
      "execution_count": 21,
      "outputs": []
    },
    {
      "cell_type": "code",
      "metadata": {
        "colab": {
          "base_uri": "https://localhost:8080/"
        },
        "id": "fGC6hYFphKro",
        "outputId": "99de18d2-e0d7-498f-b60d-519676dd08c0"
      },
      "source": [
        "score(xtrain_agent)"
      ],
      "execution_count": 22,
      "outputs": [
        {
          "output_type": "stream",
          "text": [
            "scoring  <function <lambda> at 0x7f65660ff378>\n",
            "perfect move percentage:  0.288\n",
            "good moves percentage:  0.682\n"
          ],
          "name": "stdout"
        }
      ]
    },
    {
      "cell_type": "markdown",
      "metadata": {
        "id": "5SDmbG5Cfal7"
      },
      "source": [
        ">scoring  **agentX**\n",
        "* perfect move percentage:  0.273\n",
        "* good moves percentage:  0.675\n",
        "___\n",
        ">scoring  **xtrain**\n",
        "* perfect move percentage:  0.288\n",
        "* good moves percentage:  0.682\n",
        "___"
      ]
    }
  ]
}