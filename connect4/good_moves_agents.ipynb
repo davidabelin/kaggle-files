{
  "nbformat": 4,
  "nbformat_minor": 0,
  "metadata": {
    "kernelspec": {
      "language": "python",
      "display_name": "Python 3",
      "name": "python3"
    },
    "language_info": {
      "pygments_lexer": "ipython3",
      "nbconvert_exporter": "python",
      "version": "3.6.4",
      "file_extension": ".py",
      "codemirror_mode": {
        "name": "ipython",
        "version": 3
      },
      "name": "python",
      "mimetype": "text/x-python"
    },
    "colab": {
      "name": "good-moves-agents.ipynb",
      "provenance": []
    }
  },
  "cells": [
    {
      "cell_type": "markdown",
      "metadata": {
        "id": "ecIOUlxZLSIc"
      },
      "source": [
        "## Intro\n",
        "\n",
        "There were a bunch of questions on how to validate an agent or a neural net for connect 4. So I decided to release a dataset that I use to validate the nets that I use. The dataset was generated with a modified version of the C++ connect4 solver provided by http://connect4.gamesolver.org It contains 1000 samples of board positions from ply 8 to 20. \n",
        "\n",
        "With each of the positions it has the perfect score for the position as well as the scores of all positions after the next move. This allows to estimate how good an agent or a net is by comparing its move with a perfect solution. \n",
        "\n",
        "Format of the dataset: \n",
        "> {\"board\": [0, 0, 0, 0, 0, 0, 0, 0, 0, 2, 0, 0, 0, 2, 0, 0, 2, 0, 0, 0, 1, 0, 0, 1, 0, 0, 0, 2, 1, 0, 2, 0, 0, 0, 1, 1, 1, 2, 1, 0, 1, 2], \"score\": -2, \"move score\": [-3, -4, -4, -2, -6, -5, -4]}\n",
        "\n",
        "Each row is a json dictionary with the following fields:\n",
        "* \"board\": kaggle format of a connect4 baord, \n",
        "* \"score\": Score for the position, \n",
        "* \"move score\": Array of 7 scores corresponding to a play in each of the 7 columns\n",
        "\n",
        "A note on the scores in the dataset:\n",
        "* Score = 0: Game will be a draw\n",
        "* Score > 0: Current player will win (the bigger the number the sooner the player will win). The score is the half the ammount of plies from the end the game will be won. So +5 is means the win will be in ply 42 - 2*5 = 32. \n",
        "* Score < 0: Current player will lose (the bigger the number the sooner the player will lose)\n",
        "* Score = -99: simply indicates that that was not a legal move.\n",
        "\n",
        "There are 2 metrics that I use are:\n",
        "* Perfect Move: Here the agent picks a move with the same score as the perfect player.\n",
        "* Good Move: The agent picks a move in the same categoty (win, loss or draw) as the perfect player. If an agent play 100% good moves it will play as well as a perfect player, but the win might be later in the game.\n",
        "\n",
        "## Let's analyze the built in agents"
      ]
    },
    {
      "cell_type": "code",
      "metadata": {
        "id": "xD8idJHYOmoI"
      },
      "source": [
        "!pip install 'tensorflow==1.15.0'\n",
        "import tensorflow as tf\n",
        "assert tf.__version__=='1.15.0'\n",
        "!apt-get update\n",
        "!apt-get install -y cmake libopenmpi-dev python3-dev zlib1g-dev\n",
        "!pip install \"stable-baselines[mpi]==2.9.0\""
      ],
      "execution_count": null,
      "outputs": []
    },
    {
      "cell_type": "code",
      "metadata": {
        "id": "Fnc4oukaPxYG"
      },
      "source": [
        "assert tf.__version__=='1.15.0'\n",
        "from stable_baselines import PPO1, A2C\n",
        "!pip install kaggle_environments\n",
        "from kaggle_environments import make"
      ],
      "execution_count": null,
      "outputs": []
    },
    {
      "cell_type": "code",
      "metadata": {
        "_uuid": "d629ff2d2480ee46fbb7e2d37f6b5fab8052498a",
        "_cell_guid": "79c7e3d0-c299-4dcb-8224-4455121ee9b0",
        "trusted": true,
        "id": "0kAwrjQ7LSIc"
      },
      "source": [
        "def score(agent, max_lines = 1000):\n",
        "    ''' scores an agent against a set of \"perfect moves\" '''\n",
        "    \n",
        "    # required imports\n",
        "    import json\n",
        "    #!pip install kaggle_environments\n",
        "    import kaggle_environments\n",
        "    from kaggle_environments.utils import structify\n",
        "    #also requires a copy of 'refmoves1k_kaggle.csv'\n",
        "    \n",
        "    def win_loss_draw(score):\n",
        "        if score>0: \n",
        "            return 'win'\n",
        "        if score<0: \n",
        "            return 'loss'\n",
        "        return 'draw'\n",
        "\n",
        "\n",
        "    print(\"scoring \",agent)\n",
        "    count = 0\n",
        "    good_move_count = 0\n",
        "    perfect_move_count = 0\n",
        "    observation = structify({'mark': None, 'board': None})\n",
        "    #with open(\"/kaggle/input/1k-connect4-validation-set/refmoves1k_kaggle\") as f:\n",
        "    with open(\"/content/refmoves1k_kaggle.csv\") as f:\n",
        "        for line in f:\n",
        "            count += 1\n",
        "            data = json.loads(line)\n",
        "            observation.board = data[\"board\"]\n",
        "            # find out how many moves are played to set the correct mark.\n",
        "            ply = len([x for x in data[\"board\"] if x>0])\n",
        "            #if ply&1:\n",
        "            if ply % 2 == 0:\n",
        "                observation.mark = 2\n",
        "            else:\n",
        "                observation.mark = 1\n",
        "            \n",
        "            #call the agent\n",
        "            agent_move = agent(observation,env.configuration)\n",
        "            \n",
        "            moves = data[\"move score\"]\n",
        "            perfect_score = max(moves)\n",
        "            perfect_moves = [ i for i in range(7) if moves[i]==perfect_score]\n",
        "\n",
        "            if(agent_move in perfect_moves):\n",
        "                perfect_move_count += 1\n",
        "\n",
        "            if win_loss_draw(moves[agent_move]) == win_loss_draw(perfect_score):\n",
        "                good_move_count += 1\n",
        "\n",
        "            if count == max_lines:\n",
        "                break\n",
        "\n",
        "        print(\"perfect move percentage: \",perfect_move_count/count)\n",
        "        print(\"good moves percentage: \",good_move_count/count)\n",
        "\n",
        "#to call:\n",
        "#from kaggle_environments import make\n",
        "#env = make(\"connectx\")\n",
        "#score(env.agents[\"random\"],100)\n",
        "#score(agentX,1000)"
      ],
      "execution_count": 3,
      "outputs": []
    },
    {
      "cell_type": "markdown",
      "metadata": {
        "id": "_F9xN1NLWGLt"
      },
      "source": [
        "###Output should be:"
      ]
    },
    {
      "cell_type": "markdown",
      "metadata": {
        "id": "PVB-DQhiLSIh"
      },
      "source": [
        "> scoring **random_agent**  \n",
        "> perfect move percentage:  0.22  \n",
        "> good moves percentage:  0.67  \n",
        "---\n",
        "> scoring **negamax_agent**  \n",
        "> perfect move percentage:  0.4  \n",
        "> good moves percentage:  0.71  \n",
        "___\n",
        "Some more references:  \n",
        "A neural net that I use in my best agent (1267 score on 2/24/20) score as follows:\n",
        "> perfect move percentage:  0.737  \n",
        "> good moves percentage:  0.939\n"
      ]
    },
    {
      "cell_type": "code",
      "metadata": {
        "trusted": true,
        "id": "84OMv0OiLSIh"
      },
      "source": [
        "# Score the 2 built in agents\n",
        "from kaggle_environments import make\n",
        "env = make(\"connectx\")\n",
        "#score(env.agents[\"random\"],10)\n",
        "# the built in agents are remarkably slow so only evaluating on 100 moves here\n",
        "#score(env.agents[\"random\"],100)  \n",
        "#score(env.agents[\"negamax\"],100)"
      ],
      "execution_count": 4,
      "outputs": []
    },
    {
      "cell_type": "markdown",
      "metadata": {
        "id": "GH3m8ZiHV__V"
      },
      "source": [
        "## Results"
      ]
    },
    {
      "cell_type": "markdown",
      "metadata": {
        "id": "gDeGSL6aP8_6"
      },
      "source": [
        ">scoring  **test_agent_v9**\n",
        "* perfect move percentage:  0.681\n",
        "* good moves percentage:  0.884\n",
        "___\n",
        ">scoring  **test_agent_v6**\n",
        "* perfect move percentage:  0.68\n",
        "* good moves percentage:  0.886\n",
        "___\n",
        ">scoring  **heuristic**\n",
        "* perfect move percentage:  0.667\n",
        "* good moves percentage:  0.889\n",
        "___\n",
        ">scoring  **quick_look**\n",
        "* perfect move percentage:  0.65\n",
        "* good moves percentage:  0.863\n",
        "___\n",
        ">scoring  **strong_coeffs**\n",
        "* perfect move percentage:  0.639\n",
        "* good moves percentage: 0.856 "
      ]
    },
    {
      "cell_type": "markdown",
      "metadata": {
        "id": "qZxZ-xYKWKr0"
      },
      "source": [
        "####Heuristic Agents"
      ]
    },
    {
      "cell_type": "code",
      "metadata": {
        "id": "SZxlhz7-VO-j"
      },
      "source": [
        "from deep_lookahead import debug_agent as deep_agent\n",
        "from test_agent_v9 import my_agent as test_agent_v9\n",
        "#from strong_coeffs import my_agent as strongCs\n",
        "#from quick import my_agent as quick\n",
        "#from quick_pick_submit import my_agent as quick_pick"
      ],
      "execution_count": null,
      "outputs": []
    },
    {
      "cell_type": "code",
      "metadata": {
        "id": "Oix0dGaoT2w7"
      },
      "source": [
        "score(test_agent_v9,100)\n",
        "#score(strong,1000)"
      ],
      "execution_count": null,
      "outputs": []
    },
    {
      "cell_type": "markdown",
      "metadata": {
        "id": "P1TdkctKUe0C"
      },
      "source": [
        "####Trained agents:"
      ]
    },
    {
      "cell_type": "code",
      "metadata": {
        "id": "S8XaUh9yNIhv"
      },
      "source": [
        "xtrain = PPO1.load('/content/xtrain.zip', env=None)\n",
        "xtrain_agent = lambda x,y: agentX(x,y,model=xtrain)\n",
        "modelX = PPO1.load('/content/modelX.zip', env=None, verbose=0)\n",
        "#trained_model = PPO1.load('/content/trained.zip', env=None, verbose=0)\n",
        "#trained_256 = PPO1.load('/content/trained_256.zip', env=None, verbose=0)\n",
        "scoresetA = PPO1.load('/content/scoresetA.zip', env=None, verbose=0)\n",
        "ssagent = lambda x,y: agentX(x,y,model=scoresetA,debug=False)"
      ],
      "execution_count": null,
      "outputs": []
    },
    {
      "cell_type": "code",
      "metadata": {
        "id": "LcO-vJ1UUmyE"
      },
      "source": [
        "import numpy as np\n",
        "import random\n",
        "\n",
        "def agentX(obs, config, model=None, debug=False):\n",
        "    col, _ = model.predict(np.array(obs['board']).reshape(6,7,1))\n",
        "    is_valid = (obs['board'][int(col)] == 0)\n",
        "    if is_valid:\n",
        "        return int(col)\n",
        "    else:\n",
        "        return random.choice([col for col in range(config.columns) if obs.board[int(col)] == 0])"
      ],
      "execution_count": 7,
      "outputs": []
    },
    {
      "cell_type": "code",
      "metadata": {
        "id": "sN8B3DIaD0mW"
      },
      "source": [
        "#@ title Combineer\n",
        "def combineer(obs, config, model1=None, model2=None, model3=None, model4=None, model5=None, debug=False):\n",
        "    import time\n",
        "    start = time.time()\n",
        "    board = np.array(obs['board']).reshape(6,7,1)\n",
        "\n",
        "    p1, _ = model1.predict(board)\n",
        "    p2, _ = model2.predict(board)\n",
        "    p3, _ = model3.predict(board)\n",
        "    #p4, _ = model3.predict(board)\n",
        "    #p5, _ = model3.predict(board)\n",
        "\n",
        "    #If two or three agree >> col, else if none agree col = p1\n",
        "    if p1!=p2 and p2==p3:\n",
        "        col = p2\n",
        "    else:  #all other combos, go with p1\n",
        "        col = p1\n",
        "    \n",
        "    if (obs['board'][int(col)] != 0):\n",
        "        col = random.choice([col for col in range(config.columns) if obs.board[int(col)] == 0])\n",
        "        if debug:\n",
        "            print(\"\\n>>>> Agent is guessing... column\",col)      \n",
        "        return int(col)\n",
        "    \n",
        "    if debug:\n",
        "        print(\"\\nModel1 predicted: {}, Model2 predicted: {}, Model3 predicted: {}\".format(p1,p2,p3))\n",
        "        print(\"Consensus is: column\", col)\n",
        "        print(\"Time taken =\", time.time() - start)\n",
        "\n",
        "    return int(col)\n",
        "\n",
        "agentC = lambda x,y: combineer(x,y,model1=modelX,model2=ssmodelB30,model3=scoresetA,debug=False)\n",
        "#perfect move percentage:  0.289\n",
        "#good moves percentage:  0.676"
      ],
      "execution_count": null,
      "outputs": []
    },
    {
      "cell_type": "code",
      "metadata": {
        "id": "kTLiGRjtgFym"
      },
      "source": [
        "score(agentC)"
      ],
      "execution_count": null,
      "outputs": []
    },
    {
      "cell_type": "code",
      "metadata": {
        "id": "ibUjtYxhY-Yc"
      },
      "source": [
        "#ssmodelB10 = PPO1.load('/ssB_10k.zip', env=None, verbose=0)\n",
        "#ssagent10 = lambda x,y: agentX(x,y,model=ssmodelB10,debug=False)\n",
        "#perfect move percentage:  0.282\n",
        "#good moves percentage:  0.687\n",
        "\n",
        "#ssmodelB20 = PPO1.load('/ssB_20k.zip', env=None, verbose=0)\n",
        "#ssagent20 = lambda x,y: agentX(x,y,model=ssmodelB20,debug=False)\n",
        "#perfect move percentage:  0.301\n",
        "#good moves percentage:  0.694\n",
        "\n",
        "#ssmodelB30 = PPO1.load('/ssB_30k.zip', env=None, verbose=0)\n",
        "#ssagent30 = lambda x,y: agentX(x,y,model=ssmodelB30,debug=False)\n",
        "#perfect move percentage:  0.311\n",
        "#good moves percentage:  0.712\n",
        "\n",
        "#ssmodelB40 = PPO1.load('/ssB_40k.zip', env=None, verbose=0)\n",
        "#ssagent40 = lambda x,y: agentX(x,y,model=ssmodelB40,debug=False)\n",
        "#perfect move percentage:  0.285\n",
        "#good moves percentage:  0.695"
      ],
      "execution_count": null,
      "outputs": []
    },
    {
      "cell_type": "code",
      "metadata": {
        "id": "E4ivU0XfYedh"
      },
      "source": [
        "score(ssagent40)"
      ],
      "execution_count": null,
      "outputs": []
    },
    {
      "cell_type": "markdown",
      "metadata": {
        "id": "5SDmbG5Cfal7"
      },
      "source": [
        ">scoring  **combineer**\n",
        "* perfect move percentage:  0.29\n",
        "* good moves percentage:  0.681\n",
        "___\n",
        ">scoring  **agentX**\n",
        "* perfect move percentage:  0.273\n",
        "* good moves percentage:  0.675\n",
        "___\n",
        ">scoring  **xtrain**\n",
        "* perfect move percentage:  0.288\n",
        "* good moves percentage:  0.682\n",
        "___\n",
        ">scoring  **scoresetA**\n",
        "* perfect move percentage:  0.295\n",
        "* good moves percentage:  0.695\n",
        "___"
      ]
    },
    {
      "cell_type": "code",
      "metadata": {
        "id": "jmwCVkQ-oja2"
      },
      "source": [
        "#scoreset_A: 10/42, -100/42, 1/42, -10\n",
        "#scoreset_B: 1/42, -100/42, 1/42, -420/42\n",
        "#scoreset_C: 1/2*42, -210/42, 1/42, -420/42\n",
        "#scoreset_D: -1/42, -300/42, 1/42, -420/42\n",
        "#scoreset_E: -1/42, -300/42, 2/42, -420/42\n",
        "#scoreset_F: -50/42, -300/42, 1/42, -400/42\n",
        "\n",
        "#scoreset_O: 1, -1, 1/42, -10"
      ],
      "execution_count": null,
      "outputs": []
    },
    {
      "cell_type": "code",
      "metadata": {
        "id": "gYBzLUr1Se8b"
      },
      "source": [
        "#scoresetA = PPO1.load('/content/scoresetA.zip', env=None, verbose=0)\n",
        "#scoresetB = PPO1.load('/content/scoresetB.zip', env=None, verbose=0)\n",
        "#scoresetC = PPO1.load('/content/scoresetC.zip', env=None, verbose=0)\n",
        "#scoresetD = PPO1.load('/content/scoresetD.zip', env=None, verbose=0)\n",
        "#scoresetE = PPO1.load('/content/scoresetE.zip', env=None, verbose=0)\n",
        "#scoresetF = PPO1.load('/content/scoresetF.zip', env=None, verbose=0)"
      ],
      "execution_count": null,
      "outputs": []
    },
    {
      "cell_type": "markdown",
      "metadata": {
        "id": "shJW9QCQTR1C"
      },
      "source": [
        ">scoring  **scoreset A**\n",
        "* perfect move percentage:  0.295\n",
        "* good moves percentage:  0.699\n",
        "___\n",
        ">scoring  **scoreset B**\n",
        "* perfect move percentage:  0.318\n",
        "* good moves percentage:  0.700\n",
        "___\n",
        ">scoring  **scoreset C**\n",
        "* perfect move percentage:  0.307\n",
        "* good moves percentage:  0.705\n",
        "___\n",
        ">scoring  **scoreset D**\n",
        "* perfect move percentage:  0.299, 0.302\n",
        "* good moves percentage:  0.691, 0.699\n",
        "___\n",
        ">scoring  **scoreset E**\n",
        "* perfect move percentage:  0.33\n",
        "* good moves percentage:  0.709\n",
        "___\n",
        ">scoring  **scoreset F_50k**\n",
        "* perfect move percentage:  0.231\n",
        "* good moves percentage:  0.645\n",
        "___\n"
      ]
    },
    {
      "cell_type": "code",
      "metadata": {
        "id": "RYgPXGPgY_v9"
      },
      "source": [
        "scoresetD100 = PPO1.load('/content/scoresetD_100k.zip', env=None, verbose=0)\n",
        "score_agent = lambda x,y: agentX(x,y,model=scoresetD100,debug=False)\n",
        "score(score_agent)\n",
        "scoresetD50 = PPO1.load('/content/scoresetD_50k.zip', env=None, verbose=0)\n",
        "score_agent = lambda x,y: agentX(x,y,model=scoresetD50,debug=False)\n",
        "score(score_agent)"
      ],
      "execution_count": null,
      "outputs": []
    },
    {
      "cell_type": "markdown",
      "metadata": {
        "id": "CA7Olr2ATPeP"
      },
      "source": [
        ">scoring  **scoreset D50**\n",
        "* perfect move percentage:  0.294\n",
        "* good moves percentage:  0.692\n",
        "___\n",
        ">scoring  **scoreset D100**\n",
        "* perfect move percentage:  0.294\n",
        "* good moves percentage:  0.683\n",
        "___"
      ]
    },
    {
      "cell_type": "code",
      "metadata": {
        "id": "DmykWT70T10r"
      },
      "source": [
        "scoresetE_1000k = PPO1.load('/content/scoresetE_1000k.zip', env=None, verbose=0)\n",
        "score_agent = lambda x,y: agentX(x,y,model=scoresetE_1000k,debug=False)\n",
        "score(score_agent)\n",
        "\n",
        "scoresetE_2000k = PPO1.load('/content/scoresetE_2000k.zip', env=None, verbose=0)\n",
        "score_agent = lambda x,y: agentX(x,y,model=scoresetE_2000k,debug=False)\n",
        "score(score_agent)\n",
        "\n",
        "scoresetE_3000k = PPO1.load('/content/scoresetE_3000k.zip', env=None, verbose=0)\n",
        "score_agent = lambda x,y: agentX(x,y,model=scoresetE_3000k,debug=False)\n",
        "score(score_agent)"
      ],
      "execution_count": null,
      "outputs": []
    },
    {
      "cell_type": "markdown",
      "metadata": {
        "id": "Q_9RX5AraxGg"
      },
      "source": [
        ">scoring  **scoreset E_100k**\n",
        "* perfect move percentage:  0.32\n",
        "* good moves percentage:  0.702\n",
        "___\n",
        ">scoring  **scoreset E_1000k**\n",
        "* perfect move percentage:  0.306\n",
        "* good moves percentage:  0.691\n",
        "___\n",
        ">scoring  **scoreset E_2000k**\n",
        "* perfect move percentage:  0.305\n",
        "* good moves percentage:  0.698\n",
        "___\n",
        ">scoring  **scoreset E_3000k**\n",
        "* perfect move percentage:  0.285\n",
        "* good moves percentage:  0.695\n",
        "___"
      ]
    },
    {
      "cell_type": "code",
      "metadata": {
        "id": "7iIBYFFKyn1k"
      },
      "source": [
        "scoresetE_OG1 = PPO1.load('/content/scoresetE_OG1.zip', env=None, verbose=0)\n",
        "score_agent = lambda x,y: agentX(x,y,model=scoresetE_OG1,debug=False)\n",
        "score(score_agent)\n",
        "scoresetE_OG2 = PPO1.load('/content/scoresetE_OG2.zip', env=None, verbose=0)\n",
        "score_agent = lambda x,y: agentX(x,y,model=scoresetE_OG2,debug=False)\n",
        "score(score_agent)\n",
        "scoresetO_OG = PPO1.load('/content/scoresetO_OG.zip', env=None, verbose=0)\n",
        "score_agent = lambda x,y: agentX(x,y,model=scoresetO_OG,debug=False)\n",
        "score(score_agent)\n",
        "\n",
        "'''scoring  <function <lambda> at 0x7fb5d4c2aa60>\n",
        "perfect move percentage:  0.321\n",
        "good moves percentage:  0.705\n",
        "scoring  <function <lambda> at 0x7fb5d4ce6c80>\n",
        "perfect move percentage:  0.315\n",
        "good moves percentage:  0.696\n",
        "scoring  <function <lambda> at 0x7fb5d4120268>\n",
        "perfect move percentage:  0.292\n",
        "good moves percentage:  0.685'''"
      ],
      "execution_count": null,
      "outputs": []
    },
    {
      "cell_type": "code",
      "metadata": {
        "id": "5fZTRy9w0sri"
      },
      "source": [
        "scoreset = PPO1.load('/content/big_scoresetH_10k.zip', env=None, verbose=0)\n",
        "score_agent = lambda x,y: agentX(x,y,model=scoreset,debug=False)\n",
        "score(score_agent)\n",
        "scoreset = PPO1.load('/content/big_scoresetH_30k.zip', env=None, verbose=0)\n",
        "score_agent = lambda x,y: agentX(x,y,model=scoreset,debug=False)\n",
        "score(score_agent)\n",
        "scoreset = PPO1.load('/content/big_scoresetJ_100k.zip', env=None, verbose=0)\n",
        "score_agent = lambda x,y: agentX(x,y,model=scoreset,debug=False)\n",
        "score(score_agent)\n",
        "\n",
        "'''scoring  <function <lambda> at 0x7fb5d2833ae8>\n",
        "perfect move percentage:  0.305\n",
        "good moves percentage:  0.702\n",
        "scoring  <function <lambda> at 0x7fb607dc4e18>\n",
        "perfect move percentage:  0.313\n",
        "good moves percentage:  0.693\n",
        "scoring  <function <lambda> at 0x7fb6592fa730>\n",
        "perfect move percentage:  0.283\n",
        "good moves percentage:  0.694 '''"
      ],
      "execution_count": null,
      "outputs": []
    },
    {
      "cell_type": "code",
      "metadata": {
        "id": "KhQStutE1yUL"
      },
      "source": [
        "scoreset = A2C.load('/content/modelA2C_A.zip', env=None, verbose=0)\n",
        "score_agent = lambda x,y: agentX(x,y,model=scoreset,debug=False)\n",
        "score(score_agent)\n",
        "scoreset = A2C.load('/content/modelA2C_B.zip', env=None, verbose=0)\n",
        "score_agent = lambda x,y: agentX(x,y,model=scoreset,debug=False)\n",
        "score(score_agent)\n",
        "scoreset = A2C.load('/content/model_OG_A2C.zip', env=None, verbose=0)\n",
        "score_agent = lambda x,y: agentX(x,y,model=scoreset,debug=False)\n",
        "score(score_agent)\n",
        "\n",
        "'''scoring  <function <lambda> at 0x7fb5d02c2f28>\n",
        "perfect move percentage:  0.253\n",
        "good moves percentage:  0.67\n",
        "scoring  <function <lambda> at 0x7fb607dc4e18>\n",
        "perfect move percentage:  0.289\n",
        "good moves percentage:  0.701\n",
        "scoring  <function <lambda> at 0x7fb5d02c21e0>\n",
        "perfect move percentage:  0.299\n",
        "good moves percentage:  0.705'''"
      ],
      "execution_count": null,
      "outputs": []
    }
  ]
}