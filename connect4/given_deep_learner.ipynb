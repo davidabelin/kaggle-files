{
  "nbformat": 4,
  "nbformat_minor": 0,
  "metadata": {
    "kernelspec": {
      "language": "python",
      "display_name": "Python 3",
      "name": "python3"
    },
    "language_info": {
      "pygments_lexer": "ipython3",
      "nbconvert_exporter": "python",
      "version": "3.6.4",
      "file_extension": ".py",
      "codemirror_mode": {
        "name": "ipython",
        "version": 3
      },
      "name": "python",
      "mimetype": "text/x-python"
    },
    "colab": {
      "name": "given-deep-learner.ipynb",
      "provenance": [],
      "machine_shape": "hm"
    },
    "accelerator": "GPU"
  },
  "cells": [
    {
      "cell_type": "code",
      "metadata": {
        "trusted": true,
        "id": "zTZi_uEdYnsa"
      },
      "source": [
        "import time\n",
        "import os\n",
        "import random\n",
        "import numpy as np\n",
        "import pandas as pd\n",
        "import matplotlib.pyplot as plt\n",
        "%matplotlib inline\n",
        "\n",
        "!pip install 'tensorflow==1.15.0'\n",
        "import tensorflow as tf\n",
        "\n",
        "!pip install 'kaggle_environments'\n",
        "from kaggle_environments import make, evaluate\n",
        "\n",
        "from gym import spaces\n",
        "\n",
        "!apt-get update\n",
        "!apt-get install -y cmake libopenmpi-dev python3-dev zlib1g-dev\n",
        "!pip install \"stable-baselines[mpi]==2.9.0\"\n",
        "\n",
        "from stable_baselines.bench import Monitor \n",
        "from stable_baselines.common.vec_env import DummyVecEnv\n",
        "from stable_baselines import PPO1, A2C, ACER, ACKTR, TRPO\n",
        "from stable_baselines.a2c.utils import conv, linear, conv_to_fc\n",
        "from stable_baselines.common.policies import CnnPolicy"
      ],
      "execution_count": null,
      "outputs": []
    },
    {
      "cell_type": "code",
      "metadata": {
        "id": "5ZAPo3dfqkSz"
      },
      "source": [
        "class ConnectFourGym:\n",
        "    def __init__(self, agent2=\"random\"):\n",
        "        ks_env = make(\"connectx\", debug=True)\n",
        "        self.env = ks_env.train([None, agent2])\n",
        "        self.rows = ks_env.configuration.rows\n",
        "        self.columns = ks_env.configuration.columns\n",
        "        # Learn about spaces here: http://gym.openai.com/docs/#spaces\n",
        "        self.action_space = spaces.Discrete(self.columns)\n",
        "        self.observation_space = spaces.Box(low=0, high=2, \n",
        "                                            shape=(self.rows,self.columns,1), dtype=np.int)\n",
        "        # Tuple corresponding to the min and max possible rewards\n",
        "        self.reward_range = (-10, 1)\n",
        "        # StableBaselines throws error if these are not defined\n",
        "        self.spec = None\n",
        "        self.metadata = None\n",
        "    def reset(self):\n",
        "        self.obs = self.env.reset()\n",
        "        return np.array(self.obs['board']).reshape(self.rows,self.columns,1)\n",
        "    def change_reward(self, old_reward, done):\n",
        "        if old_reward == 1: # The agent won the game\n",
        "            return 1\n",
        "        elif done: # The opponent won the game\n",
        "            return -1\n",
        "        else: # Reward 1/42\n",
        "            return 1/(self.rows*self.columns)\n",
        "    def step(self, action):\n",
        "        # Check if agent's move is valid\n",
        "        is_valid = (self.obs['board'][int(action)] == 0)\n",
        "        if is_valid: # Play the move\n",
        "            self.obs, old_reward, done, _ = self.env.step(int(action))\n",
        "            reward = self.change_reward(old_reward, done)\n",
        "        else: # End the game and penalize agent\n",
        "            reward, done, _ = -10, True, {}\n",
        "        return np.array(self.obs['board']).reshape(self.rows,self.columns,1), reward, done, _"
      ],
      "execution_count": 61,
      "outputs": []
    },
    {
      "cell_type": "code",
      "metadata": {
        "id": "R01SUa-Eqruj"
      },
      "source": [
        "# Create ConnectFour environment\n",
        "env = ConnectFourGym(agent2=random_learner)\n",
        "\n",
        "# Create directory for logging training information\n",
        "log_dir = \"log/\"\n",
        "os.makedirs(log_dir, exist_ok=True)\n",
        "\n",
        "# Logging progress\n",
        "monitor_env = Monitor(env, log_dir, allow_early_resets=True)\n",
        "\n",
        "# Create a vectorized environment\n",
        "vec_env = DummyVecEnv([lambda: monitor_env])\n",
        "\n",
        "# Neural network for predicting action values\n",
        "def modified_cnn(scaled_images, **kwargs):\n",
        "    activ = tf.nn.relu\n",
        "    layer_1 = activ(conv(scaled_images, 'c1', n_filters=32, filter_size=3, stride=1, \n",
        "                         init_scale=np.sqrt(2), **kwargs))\n",
        "    layer_2 = activ(conv(layer_1, 'c2', n_filters=64, filter_size=3, stride=1, \n",
        "                         init_scale=np.sqrt(2), **kwargs))\n",
        "    layer_2 = conv_to_fc(layer_2)\n",
        "    return activ(linear(layer_2, 'fc1', n_hidden=512, init_scale=np.sqrt(2)))  \n",
        "\n",
        "class CustomCnnPolicy(CnnPolicy):\n",
        "    def __init__(self, *args, **kwargs):\n",
        "        super(CustomCnnPolicy, self).__init__(*args, **kwargs, cnn_extractor=modified_cnn)"
      ],
      "execution_count": 89,
      "outputs": []
    },
    {
      "cell_type": "markdown",
      "metadata": {
        "_uuid": "a70e46e2-ad5b-438e-b05c-df5dc1d6f77d",
        "_cell_guid": "87f0b764-36ea-4dfd-9a3e-6cb42fb5cfdd",
        "trusted": true,
        "id": "EnVpex_xYnsk"
      },
      "source": [
        "Next, run the code cell below to train an agent with PPO and view how the rewards evolved during training.  This code is identical to the code from the tutorial."
      ]
    },
    {
      "cell_type": "code",
      "metadata": {
        "id": "gDUHpVSM3azu"
      },
      "source": [
        "# Initialize agent\n",
        "model = PPO1(CustomCnnPolicy, vec_env, verbose=0)"
      ],
      "execution_count": 90,
      "outputs": []
    },
    {
      "cell_type": "code",
      "metadata": {
        "_uuid": "2567fb65-14c1-44b9-89bc-948bb719d8dd",
        "_cell_guid": "a371c547-154e-4f39-8390-7000f10506d0",
        "trusted": true,
        "id": "5nEvVTm2Ynsn",
        "outputId": "4fae0bf6-c28c-4400-9d44-5f3d41facecc",
        "colab": {
          "base_uri": "https://localhost:8080/"
        }
      },
      "source": [
        "# Train agent\n",
        "start = time.time()\n",
        "n_steps = 50000 #100000\n",
        "model.learn(total_timesteps=n_steps) \n",
        "print (\"Learning took\",time.time()-start,\"seconds for\",n_steps,\"steps.\")"
      ],
      "execution_count": 108,
      "outputs": [
        {
          "output_type": "stream",
          "text": [
            "Learning took 282.98467993736267 seconds for 50000 steps.\n"
          ],
          "name": "stdout"
        }
      ]
    },
    {
      "cell_type": "code",
      "metadata": {
        "id": "4IRbBdWE4PlH",
        "outputId": "bf1ccc55-0681-4cc9-b1a5-679dbd2a9a5c",
        "colab": {
          "base_uri": "https://localhost:8080/",
          "height": 268
        }
      },
      "source": [
        "# Plot cumulative reward\n",
        "with open(os.path.join(log_dir, \"monitor.csv\"), 'rt') as fh:    \n",
        "    firstline = fh.readline()\n",
        "    assert firstline[0] == '#'\n",
        "    df = pd.read_csv(fh, index_col=None)['r']\n",
        "df.rolling(window=1000).mean().plot()\n",
        "plt.show()"
      ],
      "execution_count": 110,
      "outputs": [
        {
          "output_type": "display_data",
          "data": {
            "image/png": "[encoded data removed]",
            "text/plain": [
              "<Figure size 432x288 with 1 Axes>"
            ]
          },
          "metadata": {
            "tags": [],
            "needs_background": "light"
          }
        }
      ]
    },
    {
      "cell_type": "markdown",
      "metadata": {
        "_uuid": "34df96d4-072d-4836-846e-db30cc6ef877",
        "_cell_guid": "f9e7becd-97b4-481a-b392-5b81e87a386f",
        "trusted": true,
        "id": "zb8BITGeYnsr"
      },
      "source": [
        "If your agent trained well, the plot (which shows average cumulative rewards) should increase over time.\n",
        "\n",
        "Once you have verified that the code runs, try making amendments to see if you can get increased performance.  You might like to:\n",
        "- change `PPO1` to `A2C` (or `ACER` or `ACKTR` or `TRPO`) when defining the model in this line of code: `model = PPO1(CustomCnnPolicy, vec_env, verbose=0)`.  This will let you see how performance can be affected by changing the algorithm from Proximal Policy Optimization [PPO] to one of:\n",
        "  - Advantage Actor-Critic (A2C),\n",
        "  - or Actor-Critic with Experience Replay (ACER),\n",
        "  - Actor Critic using Kronecker-factored Trust Region (ACKTR), or \n",
        "  - Trust Region Policy Optimization (TRPO).\n",
        "- modify the `change_reward()` method in the `ConnectFourGym` class to change the rewards that the agent receives in different conditions.  You may also need to modify `self.reward_range` in the `__init__` method (this tuple should always correspond to the minimum and maximum reward that the agent can receive).\n",
        "- change `agent2` to a different agent when creating the ConnectFour environment with `env = ConnectFourGym(agent2=\"random\")`.  For instance, you might like to use the `\"negamax\"` agent, or a different, custom agent.  Note that the smarter you make the opponent, the harder it will be for your agent to train!"
      ]
    },
    {
      "cell_type": "code",
      "metadata": {
        "trusted": true,
        "id": "DQZdBN9DY55y"
      },
      "source": [
        "#learned_model = model\n",
        "def random_learner(obs, config):\n",
        "    # Use the best model to select a column\n",
        "    col, _ = learned_model.predict(np.array(obs['board']).reshape(6,7,1))\n",
        "    # Check if selected column is valid\n",
        "    is_valid = (obs['board'][int(col)] == 0)\n",
        "    # If not valid, select random move. \n",
        "    if is_valid:\n",
        "        return int(col)\n",
        "    else:\n",
        "        return random.choice([col for col in range(config.columns) if obs.board[int(col)] == 0])"
      ],
      "execution_count": 86,
      "outputs": []
    },
    {
      "cell_type": "code",
      "metadata": {
        "id": "1pfBnIoxm0Ka"
      },
      "source": [
        "def my_agent(obs, config):\n",
        "    # Use the best model to select a column\n",
        "    col, _ = model.predict(np.array(obs['board']).reshape(6,7,1))\n",
        "    # Check if selected column is valid\n",
        "    is_valid = (obs['board'][int(col)] == 0)\n",
        "    # If not valid, select random move. \n",
        "    if is_valid:\n",
        "        return int(col)\n",
        "    else:\n",
        "        return random.choice([col for col in range(config.columns) if obs.board[int(col)] == 0])"
      ],
      "execution_count": 109,
      "outputs": []
    },
    {
      "cell_type": "markdown",
      "metadata": {
        "id": "OXL-w4_tY550"
      },
      "source": [
        "In the next code cell, we see the outcome of one game round against a random agent."
      ]
    },
    {
      "cell_type": "code",
      "metadata": {
        "trusted": true,
        "id": "IUVzPgmsY551"
      },
      "source": [
        "# Create the game environment\n",
        "#env = make(\"connectx\")\n",
        "\n",
        "# Two random agents play one game round\n",
        "#env.run([random_learner,\"random\"])\n",
        "#env.render(mode=\"ipython\")\n",
        "\n",
        "#env.play([None, \"random\"])"
      ],
      "execution_count": null,
      "outputs": []
    },
    {
      "cell_type": "markdown",
      "metadata": {
        "id": "qzKkcmQTY554"
      },
      "source": [
        "And, we calculate how it performs on average, against the random agent."
      ]
    },
    {
      "cell_type": "code",
      "metadata": {
        "_kg_hide-input": true,
        "trusted": true,
        "id": "XV_9IR95Y555"
      },
      "source": [
        "def get_win_percentages(agent1, agent2, n_rounds=1):\n",
        "    # Use default Connect Four setup\n",
        "    config = {'rows': 6, 'columns': 7, 'inarow': 4}\n",
        "    # Agent 1 goes first (roughly) half the time          \n",
        "    outcomes = evaluate(\"connectx\", [agent1, agent2], config, [], n_rounds//2)\n",
        "    # Agent 2 goes first (roughly) half the time      \n",
        "    outcomes += [[b,a] for [a,b] in evaluate(\"connectx\", [agent2, agent1], config, [], n_rounds-n_rounds//2)]\n",
        "    print(\"Agent 1 Win Percentage:\", np.round(outcomes.count([1,-1])/len(outcomes), 2))\n",
        "    print(\"Agent 2 Win Percentage:\", np.round(outcomes.count([-1,1])/len(outcomes), 2))\n",
        "    print(\"Number of Invalid Plays by Agent 1:\", outcomes.count([None, 0]))\n",
        "    print(\"Number of Invalid Plays by Agent 2:\", outcomes.count([0, None]))"
      ],
      "execution_count": 87,
      "outputs": []
    },
    {
      "cell_type": "code",
      "metadata": {
        "trusted": true,
        "id": "bz7CQSetY557",
        "outputId": "b1d34567-7b0e-4582-af88-aa810fcd390f",
        "colab": {
          "base_uri": "https://localhost:8080/"
        }
      },
      "source": [
        "start_time = time.time()\n",
        "n_rounds=1000\n",
        "get_win_percentages(agent1=my_agent, agent2=\"negamax\", n_rounds=n_rounds)\n",
        "print (\"Total time taken: {} seconds\".format(time.time() - start_time))\n",
        "print (\"Time taken per round: {} seconds\".format((time.time() - start_time)/n_rounds))\n",
        "#Total time taken at Kaggle: 51.1 seconds"
      ],
      "execution_count": 115,
      "outputs": [
        {
          "output_type": "stream",
          "text": [
            "Agent 1 Win Percentage: 0.02\n",
            "Agent 2 Win Percentage: 0.96\n",
            "Number of Invalid Plays by Agent 1: 0\n",
            "Number of Invalid Plays by Agent 2: 0\n",
            "Total time taken: 888.9220097064972 seconds\n",
            "Time taken per round: 0.8889221034049988 seconds\n"
          ],
          "name": "stdout"
        }
      ]
    },
    {
      "cell_type": "markdown",
      "metadata": {
        "id": "-7VaM8zW3wvy"
      },
      "source": [
        "#Second run\n",
        "\n",
        "##random_learner vs. my_agent\n",
        "\n",
        "*my_agent* trained against pre-trained *random_learner*\n",
        "\n",
        "-----------------------\n",
        "### Pretrain\n",
        "\n",
        "~30000 steps\n",
        "\n",
        "* random agent Win Percentage: 0.36\n",
        "* random_learner Win Percentage: 0.64\n",
        "\n",
        "Total time taken: 35.3 seconds\n",
        "\n",
        "Time taken per round: 0.035 seconds\n",
        "\n",
        "------------------------\n",
        "### Model vs Model\n",
        "~11000 steps\n",
        "\n",
        "* my_agent Win Percentage: 0.4\n",
        "* random_learner Win Percentage: 0.6\n",
        "\n",
        "Total time taken: 46.0 seconds\n",
        "\n",
        "Time taken per round: 0.046 seconds\n",
        "\n",
        "------------------------\n",
        "~50000 steps\n",
        "\n",
        "* my_agent Win Percentage: 0.7\n",
        "* random_learner Win Percentage: 0.3\n",
        "\n",
        "Total time taken: 35.98 seconds\n",
        "\n",
        "Time taken per round: 0.0359 seconds\n",
        "\n",
        "------------------------\n",
        "~140000 steps\n",
        "\n",
        "* my_agent Win Percentage: 0.67\n",
        "* random_learner Win Percentage: 0.33\n",
        "\n",
        "Total time taken: 31.6 seconds\n",
        "\n",
        "Time taken per round: 0.0316 seconds\n"
      ]
    },
    {
      "cell_type": "markdown",
      "metadata": {
        "id": "6gTqKgJjdwhQ"
      },
      "source": [
        "#First run\n",
        "\n",
        "##random_learner vs. my_agent\n",
        "\n",
        "*my_agent* trained against pre-trained *random_learner*\n",
        "\n",
        "-----------------------\n",
        "\n",
        "10000 steps\n",
        "\n",
        "* my_agent Win Percentage: 0.58\n",
        "* random_learner Win Percentage: 0.42\n",
        "\n",
        "Total time taken: 27.8 seconds\n",
        "\n",
        "Time taken per round: 0.0278 seconds\n",
        "\n",
        "------------------------\n",
        "\n",
        "100000 steps\n",
        "\n",
        "* my_agent Win Percentage: 0.62\n",
        "* random_learner Win Percentage: 0.38\n",
        "\n",
        "\n",
        "Total time taken: 32.3 seconds\n",
        "\n",
        "Time taken per round: 0.032 seconds\n",
        "\n",
        "------------------------\n"
      ]
    }
  ]
}