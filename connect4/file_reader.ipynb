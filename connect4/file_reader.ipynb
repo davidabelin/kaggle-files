{
  "nbformat": 4,
  "nbformat_minor": 0,
  "metadata": {
    "colab": {
      "name": "file_reader.ipynb",
      "provenance": [],
      "collapsed_sections": []
    },
    "kernelspec": {
      "display_name": "Python 3",
      "name": "python3"
    }
  },
  "cells": [
    {
      "cell_type": "code",
      "metadata": {
        "id": "Y_ShLHwQACy_"
      },
      "source": [
        "import csv, json, sys, os\n",
        "import pandas as pd\n",
        "import numpy as np\n",
        "import matplotlib.pyplot as plt\n"
      ],
      "execution_count": null,
      "outputs": []
    },
    {
      "cell_type": "markdown",
      "metadata": {
        "id": "fDg5DcnJVGlb"
      },
      "source": [
        "## json"
      ]
    },
    {
      "cell_type": "code",
      "metadata": {
        "id": "KvlvUws-jTIL"
      },
      "source": [
        "fileInput = '/content/5471908.json'\n",
        "inputFile = open(fileInput) #open json file\n",
        "data = json.load(inputFile) #load json content\n",
        "#json_df = pd.read_json(inputFile)\n",
        "inputFile.close() #close the input file"
      ],
      "execution_count": null,
      "outputs": []
    },
    {
      "cell_type": "code",
      "metadata": {
        "id": "pg0uNEqCwZ9a"
      },
      "source": [
        "#fileOutput = '/content/5471908.csv'\n",
        "#outputFile = open(fileOutput, 'w') #load csv file\n",
        "#output = csv.writer(outputFile) #create a csv.write\n",
        "#output.writerow(data[0].keys())  # header row\n",
        "#for row in data:\n",
        "#    output.writerow(row.values()) #values row"
      ],
      "execution_count": null,
      "outputs": []
    },
    {
      "cell_type": "code",
      "metadata": {
        "id": "0DdSqsVSw2uu"
      },
      "source": [
        "datalist = list(data.values())\n",
        "for key, item in zip(data.keys(), datalist):\n",
        "    print(key,\":\",item)"
      ],
      "execution_count": null,
      "outputs": []
    },
    {
      "cell_type": "code",
      "metadata": {
        "id": "PqBnUrI5nlP9"
      },
      "source": [
        "steps = data['steps']\n",
        "steps[len(steps) - 1]"
      ],
      "execution_count": null,
      "outputs": []
    },
    {
      "cell_type": "code",
      "metadata": {
        "id": "DK51ezTz11Is"
      },
      "source": [
        "s = steps[len(steps) - 1]\n",
        "s[0]['observation']['board']"
      ],
      "execution_count": null,
      "outputs": []
    },
    {
      "cell_type": "code",
      "metadata": {
        "id": "CdASHFOfykSx"
      },
      "source": [
        "player_actions = []\n",
        "opp_actions =  []\n",
        "board_list = []\n",
        "for s in steps:\n",
        "    player_actions += [ s[0]['action'] ]\n",
        "    opp_actions += [ s[1]['action'] ]\n",
        "    board_list += [ s[0]['observation']['board'] ]\n",
        "#player_actions, opp_actions, \n",
        "board_list"
      ],
      "execution_count": null,
      "outputs": []
    },
    {
      "cell_type": "code",
      "metadata": {
        "id": "6FQOr4Fp8Ws2"
      },
      "source": [
        "df = pd.DataFrame(board_list)\n",
        "df[\"play\"] = player_actions\n",
        "df[\"opp\"] = opp_actions\n",
        "df"
      ],
      "execution_count": null,
      "outputs": []
    },
    {
      "cell_type": "code",
      "metadata": {
        "id": "ZIKoP34Q8CwA"
      },
      "source": [
        "board -= 1\n",
        "print (\"Board:\",board)\n",
        "print (\"Player played:\", df[\"play\"][board])\n",
        "print (\"Opponent played:\", df[\"opp\"][board])\n",
        "grid = np.array(df.iloc[board])#\n",
        "plt.imshow(grid[:-2].reshape((6,7)))"
      ],
      "execution_count": null,
      "outputs": []
    },
    {
      "cell_type": "markdown",
      "metadata": {
        "id": "fZzFyv9_VMGv"
      },
      "source": [
        "##csv"
      ]
    },
    {
      "cell_type": "markdown",
      "metadata": {
        "id": "aDLz6ysvZIOl"
      },
      "source": [
        "###pandas"
      ]
    },
    {
      "cell_type": "code",
      "metadata": {
        "id": "mFiOfdZ-AXbP"
      },
      "source": [
        "good_moves_df = pd.read_csv('/content/good_move_archive.csv', sep=';', header=None)\n",
        "good_moves_df = good_moves_df.drop(1,axis=1)\n",
        "good_moves_series = good_moves_df[0]\n",
        "good_moves_series"
      ],
      "execution_count": null,
      "outputs": []
    },
    {
      "cell_type": "code",
      "metadata": {
        "id": "pVrvpFtjWxZa"
      },
      "source": [
        "good_moves_series.to_csv('/content/good_moves.csv', header=False)"
      ],
      "execution_count": null,
      "outputs": []
    },
    {
      "cell_type": "code",
      "metadata": {
        "id": "uKkEVEXRYMrC"
      },
      "source": [
        "#del good_moves_df\n",
        "good_moves_df = pd.read_csv('/content/good_moves.csv', index_col=0, header=None)\n",
        "good_moves_df"
      ],
      "execution_count": null,
      "outputs": []
    },
    {
      "cell_type": "code",
      "metadata": {
        "id": "G217-gS-ZBQh"
      },
      "source": [
        "gm_arr = good_moves_df.values\n",
        "gm = gm_arr[1]\n",
        "gm"
      ],
      "execution_count": null,
      "outputs": []
    },
    {
      "cell_type": "code",
      "metadata": {
        "id": "LaWKn4t-aL6U"
      },
      "source": [
        "gm_str = gm[0]\n",
        "gm_str.split(sep='')\n",
        "for x in gm_str:\n",
        "    print(x)"
      ],
      "execution_count": null,
      "outputs": []
    },
    {
      "cell_type": "markdown",
      "metadata": {
        "id": "FmInxe6BiHKg"
      },
      "source": [
        "###semi"
      ]
    },
    {
      "cell_type": "code",
      "metadata": {
        "id": "cIY4oUDUfUiz"
      },
      "source": [
        "gmsemi_df = pd.read_csv('/content/good_move_semic.csv', sep=';', header=None)\n",
        "gmsemi_df[0]"
      ],
      "execution_count": null,
      "outputs": []
    },
    {
      "cell_type": "code",
      "metadata": {
        "id": "dXviycuAaTZD"
      },
      "source": [
        "boards = [b.split(\": \")[1] for b in gmsemi_df[0]]\n",
        "boards = [b.replace(\"[\",\"\").replace(\"]\",\"\") for b in boards]\n",
        "boards = [b_str.split(\", \") for b_str in boards]\n",
        "for i, blist in enumerate(boards):\n",
        "    boards[i] = [int(b) for b in blist]\n",
        "boards = np.array(boards)\n",
        "boards"
      ],
      "execution_count": null,
      "outputs": []
    },
    {
      "cell_type": "code",
      "metadata": {
        "id": "RhYDZjn0sCl7"
      },
      "source": [
        "listlist = [list(b) for b in boards]\n",
        "listlist"
      ],
      "execution_count": null,
      "outputs": []
    },
    {
      "cell_type": "code",
      "metadata": {
        "id": "0LEg1nARkom5"
      },
      "source": [
        "moves = [m.split(\": \")[1] for m in gmsemi_df[2]]\n",
        "moves = [m.replace(\"[\",\"\").replace(\"]\",\"\") for m in moves]\n",
        "moves = [m_str.split(\", \") for m_str in moves]\n",
        "for i, mlist in enumerate(moves):\n",
        "    moves[i] = [int(m) for m in mlist]\n",
        "moves = np.array(moves)\n",
        "moves"
      ],
      "execution_count": null,
      "outputs": []
    },
    {
      "cell_type": "code",
      "metadata": {
        "id": "Vf3ZpMxImgOq"
      },
      "source": [
        "scores = [s.split(\": \")[1] for s in gmsemi_df[1]]\n",
        "scores = [s.replace(\"[\",\"\").replace(\"]\",\"\") for s in scores]\n",
        "scores = [s.split(\", \") for s in scores]\n",
        "for i, slist in enumerate(scores):\n",
        "    scores[i] = [int(s) for s in slist]\n",
        "scores = np.array(scores)\n",
        "scores = scores.flatten().tolist()\n",
        "scores"
      ],
      "execution_count": null,
      "outputs": []
    },
    {
      "cell_type": "code",
      "metadata": {
        "id": "hvL1E7hVUqLs"
      },
      "source": [
        "pd.DataFrame(moves).to_csv(\"/content/moves.csv\")"
      ],
      "execution_count": 179,
      "outputs": []
    },
    {
      "cell_type": "code",
      "metadata": {
        "id": "za2-TjEzSnqZ"
      },
      "source": [
        "import os\n",
        "with open() as fh:    \n",
        "    moves.tofile(fh)"
      ],
      "execution_count": null,
      "outputs": []
    },
    {
      "cell_type": "code",
      "metadata": {
        "id": "5b7JEjIZoqXU"
      },
      "source": [
        "scores[11],list(moves[11]),list(boards[11])"
      ],
      "execution_count": null,
      "outputs": []
    },
    {
      "cell_type": "code",
      "metadata": {
        "id": "Oud2Nu9SpLbz"
      },
      "source": [
        "labels = [np.argmax(move) for move in moves] \n",
        "np.array(labels)"
      ],
      "execution_count": null,
      "outputs": []
    },
    {
      "cell_type": "code",
      "metadata": {
        "id": "MWfX39ycqfYl"
      },
      "source": [
        "training_set = pd.DataFrame(listlist)\n",
        "#training_set[\"boards\"] = boards\n",
        "training_set[\"labels\"] = labels\n",
        "training_set.to_csv('training_set')"
      ],
      "execution_count": null,
      "outputs": []
    },
    {
      "cell_type": "code",
      "metadata": {
        "id": "OD8WheWHtogL"
      },
      "source": [
        "del training_set\n",
        "training_set = pd.read_csv('/content/training_set', index_col=0)\n",
        "training_set"
      ],
      "execution_count": null,
      "outputs": []
    }
  ]
}