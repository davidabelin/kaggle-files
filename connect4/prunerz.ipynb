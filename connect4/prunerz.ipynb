{
 "cells": [
  {
   "cell_type": "code",
   "execution_count": 1,
   "metadata": {
    "execution": {
     "iopub.execute_input": "2020-11-09T23:26:30.682479Z",
     "iopub.status.busy": "2020-11-09T23:26:30.681778Z",
     "iopub.status.idle": "2020-11-09T23:26:30.772138Z",
     "shell.execute_reply": "2020-11-09T23:26:30.772665Z"
    },
    "papermill": {
     "duration": 0.101906,
     "end_time": "2020-11-09T23:26:30.772829",
     "exception": false,
     "start_time": "2020-11-09T23:26:30.670923",
     "status": "completed"
    },
    "tags": []
   },
   "outputs": [
    {
     "name": "stdout",
     "output_type": "stream",
     "text": [
      "Failed: football: No module named 'gfootball'\n"
     ]
    }
   ],
   "source": [
    "import numpy as np\n",
    "import random\n",
    "import time\n",
    "from kaggle_environments import make, evaluate, utils, agent"
   ]
  },
  {
   "cell_type": "code",
   "execution_count": 2,
   "metadata": {
    "execution": {
     "iopub.execute_input": "2020-11-09T23:26:30.795376Z",
     "iopub.status.busy": "2020-11-09T23:26:30.794424Z",
     "iopub.status.idle": "2020-11-09T23:26:30.797860Z",
     "shell.execute_reply": "2020-11-09T23:26:30.797224Z"
    },
    "papermill": {
     "duration": 0.019163,
     "end_time": "2020-11-09T23:26:30.797968",
     "exception": false,
     "start_time": "2020-11-09T23:26:30.778805",
     "status": "completed"
    },
    "tags": []
   },
   "outputs": [],
   "source": [
    "def get_win_percentages(agent1, agent2, n_rounds=10):\n",
    "    # Use default Connect Four setup\n",
    "    import numpy as np\n",
    "    config = {'rows': 6, 'columns': 7, 'inarow': 4}\n",
    "    # Agent 1 goes first (roughly) half the time          \n",
    "    outcomes = evaluate(\"connectx\", [agent1, agent2], config, [], n_rounds//2)\n",
    "    # Agent 2 goes first (roughly) half the time      \n",
    "    outcomes += [[b,a] for [a,b] in evaluate(\"connectx\", [agent2, agent1], config, [], n_rounds-n_rounds//2)]\n",
    "    print(\"Agent 1 Win Percentage:\", np.round(outcomes.count([1,-1])/len(outcomes), 2))\n",
    "    print(\"Agent 2 Win Percentage:\", np.round(outcomes.count([-1,1])/len(outcomes), 2))\n",
    "    print(\"Number of Invalid Plays by Agent 1:\", outcomes.count([None, 0]))\n",
    "    print(\"Number of Invalid Plays by Agent 2:\", outcomes.count([0, None]))"
   ]
  },
  {
   "cell_type": "code",
   "execution_count": 3,
   "metadata": {
    "execution": {
     "iopub.execute_input": "2020-11-09T23:26:30.899812Z",
     "iopub.status.busy": "2020-11-09T23:26:30.898752Z",
     "iopub.status.idle": "2020-11-09T23:26:30.901667Z",
     "shell.execute_reply": "2020-11-09T23:26:30.901038Z"
    },
    "papermill": {
     "duration": 0.098277,
     "end_time": "2020-11-09T23:26:30.901788",
     "exception": false,
     "start_time": "2020-11-09T23:26:30.803511",
     "status": "completed"
    },
    "tags": []
   },
   "outputs": [],
   "source": [
    "def my_agent(obs, config):\n",
    "\n",
    "    #config is dict: {'rows': 6, 'columns': 7, 'inarow': 4}\n",
    "    # obs.board is last move of opponent, obs.mark is current player\n",
    "    # return column that max's next grid's score\n",
    "\n",
    "    ################################\n",
    "    # Imports and helper functions #\n",
    "    ################################\n",
    "\n",
    "    import numpy as np\n",
    "    import random\n",
    "\n",
    "    ########################### Regular pruner ################\n",
    "    # constants (given by game)\n",
    "    ROWS = 6\n",
    "    COLUMNS = 7\n",
    "    CNCTX = 4\n",
    "    ## coefficients (weights on variable future outcomes)\n",
    "    A = 10       #2    threes\n",
    "    B = 1000     #10   fours\n",
    "    C = -2       #-1   opp-threes\n",
    "    D = -100     #-10  opp-fours   \n",
    "    Z = 1        #     twos\n",
    "\n",
    "        # lookahead depth:\n",
    "    N_STEPS = 2\n",
    "\n",
    "    # Gets board at next step if agent drops piece in selected column\n",
    "    def drop_piece(grid, col, mark):\n",
    "        next_grid = grid.copy()\n",
    "        for row in range(ROWS-1, -1, -1):       ###row in range(0,ROWS)??\n",
    "            if next_grid[row][col] == 0:\n",
    "                break\n",
    "        next_grid[row][col] = mark\n",
    "        return next_grid\n",
    "\n",
    "    # Helper function for get_heuristic: checks if window satisfies heuristic conditions\n",
    "    def check_window(window, num_discs, piece):\n",
    "        return (window.count(piece) == num_discs and window.count(0) == CNCTX-num_discs)\n",
    "\n",
    "    # Helper function for get_heuristic: counts number of windows satisfying specified heuristic conditions\n",
    "    def count_windows(grid, num_discs, piece):\n",
    "        num_windows = 0\n",
    "        # horizontal\n",
    "        for row in range(ROWS):\n",
    "            for col in range(COLUMNS-(CNCTX-1)):\n",
    "                window = list(grid[row, col:col+CNCTX])\n",
    "                if check_window(window, num_discs, piece):\n",
    "                    num_windows += 1\n",
    "        # vertical\n",
    "        for row in range(ROWS-(CNCTX-1)):\n",
    "            for col in range(COLUMNS):\n",
    "                window = list(grid[row:row+CNCTX, col])\n",
    "                if check_window(window, num_discs, piece):\n",
    "                    num_windows += 1\n",
    "        # positive diagonal\n",
    "        for row in range(ROWS-(CNCTX-1)):\n",
    "            for col in range(COLUMNS-(CNCTX-1)):\n",
    "                window = list(grid[range(row, row+CNCTX), range(col, col+CNCTX)])\n",
    "                if check_window(window, num_discs, piece):\n",
    "                    num_windows += 1\n",
    "        # negative diagonal\n",
    "        for row in range(CNCTX-1, ROWS):\n",
    "            for col in range(COLUMNS-(CNCTX-1)):\n",
    "                window = list(grid[range(row, row-CNCTX, -1), range(col, col+CNCTX)])\n",
    "                if check_window(window, num_discs, piece):\n",
    "                    num_windows += 1\n",
    "        return num_windows\n",
    "\n",
    "    # Helper function for minimax: calculates value of heuristic for grid\n",
    "    def get_score(grid, mark):\n",
    "        num_threes = count_windows(grid, 3, mark) #A\n",
    "        num_fours = count_windows(grid, 4, mark)  #B\n",
    "        num_twos = count_windows(grid, 2, mark)   #Z\n",
    "        num_threes_opp = count_windows(grid, 3, mark%2+1) #C\n",
    "        num_fours_opp = count_windows(grid, 4, mark%2+1)  #D\n",
    "         \n",
    "        score = A*num_threes + B*num_fours + Z*num_twos + C*num_threes_opp + D*num_fours_opp\n",
    "        is_terminal = (not num_fours == 0) or (not num_fours_opp == 0) or (list(grid[0, :]).count(0) == 0)\n",
    "        return score, is_terminal\n",
    "\n",
    "    # Minimax implementation was here:\n",
    "    def alphabeta(node, depth, alpha, beta, maximizingPlayer, mark):\n",
    "        node_score, is_terminal = get_score(node, mark)\n",
    "        if depth == 0 or is_terminal:\n",
    "             return node_score\n",
    "            \n",
    "        valid_moves = [c for c in range(COLUMNS) if node[0][c] == 0]\n",
    "\n",
    "        if maximizingPlayer:\n",
    "            value = -np.Inf\n",
    "            for col in valid_moves:\n",
    "                child = drop_piece(node, col, mark)\n",
    "                value = max(value, alphabeta(child, depth-1, alpha, beta, False, mark))\n",
    "                alpha = max(alpha, value)\n",
    "                if alpha >= beta:\n",
    "                    break\n",
    "            return value\n",
    "\n",
    "        else: #minimizing player\n",
    "            value = np.Inf\n",
    "            for col in valid_moves:\n",
    "                child = drop_piece(node, col, mark%2+1)\n",
    "                value = min(value, alphabeta(child, depth-1, alpha, beta, True, mark))\n",
    "                beta = min(beta, value)\n",
    "                if alpha >= beta:\n",
    "                    break\n",
    "            return value\n",
    "\n",
    "    # Uses minimax to calculate value of dropping piece in selected column\n",
    "    def score_move(grid, col, mark, nsteps):\n",
    "        next_grid = drop_piece(grid, col, mark)\n",
    "        score = alphabeta(next_grid, nsteps-1, -np.Inf, np.Inf, False, mark)     \n",
    "        return score\n",
    "    #########################\n",
    "    # Agent makes selection #\n",
    "    #########################\n",
    "\n",
    "    # Get list of valid moves\n",
    "    valid_moves = [c for c in range(COLUMNS) if obs.board[c] == 0]\n",
    "\n",
    "    # Convert the board to a 2D grid\n",
    "    grid = np.asarray(obs.board).reshape(ROWS, COLUMNS)\n",
    "\n",
    "    # Use the heuristic to assign a score to each possible board in the next step\n",
    "    scores = dict(zip(valid_moves, [score_move(grid, col, obs.mark, N_STEPS) for col in valid_moves]))\n",
    "\n",
    "    # Get a list of columns (moves) that maximize the heuristic\n",
    "    max_cols = [key for key in scores.keys() if scores[key] == max(scores.values())]\n",
    "\n",
    "    # Select at random from the maximizing columns\n",
    "    return random.choice(max_cols)\n",
    "    "
   ]
  },
  {
   "cell_type": "code",
   "execution_count": 4,
   "metadata": {
    "execution": {
     "iopub.execute_input": "2020-11-09T23:26:30.919142Z",
     "iopub.status.busy": "2020-11-09T23:26:30.918480Z",
     "iopub.status.idle": "2020-11-09T23:26:30.921206Z",
     "shell.execute_reply": "2020-11-09T23:26:30.920589Z"
    },
    "papermill": {
     "duration": 0.013684,
     "end_time": "2020-11-09T23:26:30.921310",
     "exception": false,
     "start_time": "2020-11-09T23:26:30.907626",
     "status": "completed"
    },
    "tags": []
   },
   "outputs": [],
   "source": [
    "if False:\n",
    "    import time\n",
    "    start_time = time.time()\n",
    "    # Create the game environment\n",
    "    env = make(\"connectx\")\n",
    "\n",
    "    # Two random agents play one game round\n",
    "    env.run([my_agent, \"random\"])\n",
    "\n",
    "    # Show the game\n",
    "    env.render(mode=\"ipython\")\n",
    "    end_time = time.time()\n",
    "    print(\"{}\".format(end_time - start_time))"
   ]
  },
  {
   "cell_type": "code",
   "execution_count": 5,
   "metadata": {
    "execution": {
     "iopub.execute_input": "2020-11-09T23:26:30.938709Z",
     "iopub.status.busy": "2020-11-09T23:26:30.938033Z",
     "iopub.status.idle": "2020-11-09T23:26:30.940956Z",
     "shell.execute_reply": "2020-11-09T23:26:30.940322Z"
    },
    "papermill": {
     "duration": 0.013964,
     "end_time": "2020-11-09T23:26:30.941058",
     "exception": false,
     "start_time": "2020-11-09T23:26:30.927094",
     "status": "completed"
    },
    "tags": []
   },
   "outputs": [],
   "source": [
    "if False:\n",
    "    start_time = time.time()\n",
    "    n_rounds=10\n",
    "    get_win_percentages(agent1=my_agent, \n",
    "                        agent2=my_agent, \n",
    "                        n_rounds=n_rounds)\n",
    "    print (\"Total time taken: {} seconds\".format(time.time() - start_time))\n",
    "    print (\"Time taken per round: {} seconds\".format((time.time() - start_time)/n_rounds))"
   ]
  },
  {
   "cell_type": "code",
   "execution_count": 6,
   "metadata": {
    "execution": {
     "iopub.execute_input": "2020-11-09T23:26:30.962774Z",
     "iopub.status.busy": "2020-11-09T23:26:30.957371Z",
     "iopub.status.idle": "2020-11-09T23:26:30.968378Z",
     "shell.execute_reply": "2020-11-09T23:26:30.968840Z"
    },
    "papermill": {
     "duration": 0.022232,
     "end_time": "2020-11-09T23:26:30.968984",
     "exception": false,
     "start_time": "2020-11-09T23:26:30.946752",
     "status": "completed"
    },
    "tags": []
   },
   "outputs": [
    {
     "name": "stdout",
     "output_type": "stream",
     "text": [
      "<function my_agent at 0x7f857a69eb90> written to submission.py\n"
     ]
    }
   ],
   "source": [
    "import inspect\n",
    "import os\n",
    "\n",
    "def write_agent_to_file(function, file):\n",
    "    with open(file, \"a\" if os.path.exists(file) else \"w\") as f:\n",
    "        f.write(inspect.getsource(function))\n",
    "        print(function, \"written to\", file)\n",
    "\n",
    "write_agent_to_file(my_agent, \"submission.py\")\n",
    "# Note: Stdout replacement is a temporary workaround.\n"
   ]
  },
  {
   "cell_type": "markdown",
   "metadata": {
    "papermill": {
     "duration": 0.007452,
     "end_time": "2020-11-09T23:26:30.982875",
     "exception": false,
     "start_time": "2020-11-09T23:26:30.975423",
     "status": "completed"
    },
    "tags": []
   },
   "source": [
    "Then, follow these steps to submit your agent to the competition:\n",
    "1. Begin by clicking on the blue **Save Version** button in the top right corner of the window.  This will generate a pop-up window.  \n",
    "2. Ensure that the **Save and Run All** option is selected, and then click on the blue **Save** button.\n",
    "3. This generates a window in the bottom left corner of the notebook.  After it has finished running, click on the number to the right of the **Save Version** button.  This pulls up a list of versions on the right of the screen.  Click on the ellipsis **(...)** to the right of the most recent version, and select **Open in Viewer**.  This brings you into view mode of the same page. You will need to scroll down to get back to these instructions.\n",
    "4. Click on the **Output** tab on the right of the screen.  Then, click on the blue **Submit** button to submit your results to the leaderboard.\n",
    "\n",
    "You have now successfully submitted to the competition!\n",
    "\n",
    "If you want to keep working to improve your performance, select the blue **Edit** button in the top right of the screen. Then you can change your code and repeat the process. There's a lot of room to improve, and you will climb up the leaderboard as you work.\n",
    "\n",
    "\n",
    "Go to **\"My Submissions\"** to view your score and episodes being played.\n",
    "\n",
    "# Keep going\n",
    "\n",
    "Move on to learn how to **[use deep reinforcement learning](https://www.kaggle.com/alexisbcook/deep-reinforcement-learning)** to develop an agent without a heuristic!"
   ]
  }
 ],
 "metadata": {
  "kernelspec": {
   "display_name": "Python 3",
   "language": "python",
   "name": "python3"
  },
  "language_info": {
   "codemirror_mode": {
    "name": "ipython",
    "version": 3
   },
   "file_extension": ".py",
   "mimetype": "text/x-python",
   "name": "python",
   "nbconvert_exporter": "python",
   "pygments_lexer": "ipython3",
   "version": "3.7.6"
  },
  "papermill": {
   "duration": 4.949044,
   "end_time": "2020-11-09T23:26:31.095893",
   "environment_variables": {},
   "exception": null,
   "input_path": "__notebook__.ipynb",
   "output_path": "__notebook__.ipynb",
   "parameters": {},
   "start_time": "2020-11-09T23:26:26.146849",
   "version": "2.1.0"
  }
 },
 "nbformat": 4,
 "nbformat_minor": 4
}
