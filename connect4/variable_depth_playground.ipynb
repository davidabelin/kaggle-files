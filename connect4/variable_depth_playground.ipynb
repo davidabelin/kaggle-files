{
  "nbformat": 4,
  "nbformat_minor": 0,
  "metadata": {
    "colab": {
      "name": "variable_depth_playground.ipynb",
      "provenance": []
    },
    "kernelspec": {
      "name": "python3",
      "display_name": "Python 3"
    }
  },
  "cells": [
    {
      "cell_type": "code",
      "metadata": {
        "execution": {
          "iopub.execute_input": "2020-11-09T23:26:30.682479Z",
          "iopub.status.busy": "2020-11-09T23:26:30.681778Z",
          "iopub.status.idle": "2020-11-09T23:26:30.772138Z",
          "shell.execute_reply": "2020-11-09T23:26:30.772665Z"
        },
        "papermill": {
          "duration": 0.101906,
          "end_time": "2020-11-09T23:26:30.772829",
          "exception": false,
          "start_time": "2020-11-09T23:26:30.670923",
          "status": "completed"
        },
        "tags": [],
        "id": "QzZF8kjNXIz5"
      },
      "source": [
        "import numpy as np\n",
        "import random\n",
        "import time\n",
        "!pip install kaggle_environments\n",
        "from kaggle_environments import make, evaluate, utils, agent"
      ],
      "execution_count": null,
      "outputs": []
    },
    {
      "cell_type": "code",
      "metadata": {
        "execution": {
          "iopub.execute_input": "2020-11-09T23:26:30.795376Z",
          "iopub.status.busy": "2020-11-09T23:26:30.794424Z",
          "iopub.status.idle": "2020-11-09T23:26:30.797860Z",
          "shell.execute_reply": "2020-11-09T23:26:30.797224Z"
        },
        "papermill": {
          "duration": 0.019163,
          "end_time": "2020-11-09T23:26:30.797968",
          "exception": false,
          "start_time": "2020-11-09T23:26:30.778805",
          "status": "completed"
        },
        "tags": [],
        "id": "iQBEFZTtXI0B"
      },
      "source": [
        "def get_win_percentages(agent1, agent2, n_rounds=10):\n",
        "    # Use default Connect Four setup\n",
        "    import numpy as np\n",
        "    config = {'rows': 6, 'columns': 7, 'inarow': 4}\n",
        "    # Agent 1 goes first (roughly) half the time          \n",
        "    outcomes = evaluate(\"connectx\", [agent1, agent2], config, [], n_rounds//2)\n",
        "    # Agent 2 goes first (roughly) half the time      \n",
        "    outcomes += [[b,a] for [a,b] in evaluate(\"connectx\", [agent2, agent1], config, [], n_rounds-n_rounds//2)]\n",
        "    print(\"Agent 1 Win Percentage:\", np.round(outcomes.count([1,-1])/len(outcomes), 2))\n",
        "    print(\"Agent 2 Win Percentage:\", np.round(outcomes.count([-1,1])/len(outcomes), 2))\n",
        "    print(\"Number of Invalid Plays by Agent 1:\", outcomes.count([None, 0]))\n",
        "    print(\"Number of Invalid Plays by Agent 2:\", outcomes.count([0, None]))"
      ],
      "execution_count": 2,
      "outputs": []
    },
    {
      "cell_type": "code",
      "metadata": {
        "id": "36ngtEtTmzzl"
      },
      "source": [
        "from variable_depth_heuristic import my_agent as variable_depth_heuristic"
      ],
      "execution_count": 19,
      "outputs": []
    },
    {
      "cell_type": "code",
      "metadata": {
        "execution": {
          "iopub.execute_input": "2020-11-09T23:26:30.899812Z",
          "iopub.status.busy": "2020-11-09T23:26:30.898752Z",
          "iopub.status.idle": "2020-11-09T23:26:30.901667Z",
          "shell.execute_reply": "2020-11-09T23:26:30.901038Z"
        },
        "papermill": {
          "duration": 0.098277,
          "end_time": "2020-11-09T23:26:30.901788",
          "exception": false,
          "start_time": "2020-11-09T23:26:30.803511",
          "status": "completed"
        },
        "tags": [],
        "id": "oscuOFOeXI0G",
        "cellView": "form"
      },
      "source": [
        "#@title variable_depth_pruner\n",
        "########################### READY TO SUBMIT\n",
        "\n",
        "def variable_depth_pruner(obs, config):\n",
        "\n",
        "    #config is dict: {'rows': 6, 'columns': 7, 'inarow': 4}\n",
        "    # obs.board is last move of opponent, obs.mark is current player\n",
        "    # return column that max's next grid's score\n",
        "\n",
        "    ################################\n",
        "    # Imports and helper functions #\n",
        "    ################################\n",
        "\n",
        "    import numpy as np\n",
        "    import random\n",
        "\n",
        "    ########################### Regular pruner ################\n",
        "    # constants (given by game)\n",
        "    ROWS = 6\n",
        "    COLUMNS = 7\n",
        "    CNCTX = 4\n",
        "    ## coefficients (weights on variable future outcomes)\n",
        "    A = 1     #my twos\n",
        "    B = 10    #my threes\n",
        "    C = 1000   #my fours         \n",
        "    D = -10    #opp-threes\n",
        "    E = -100   #opp-fours\n",
        "\n",
        "    # vary lookahead depth according to state of play:\n",
        "    if obs.board.count(0) >= ROWS*COLUMNS/2:\n",
        "        N_STEPS =      2\n",
        "    else:\n",
        "        N_STEPS =      3  # deeper search after half the board is filled\n",
        "\n",
        "    # Gets board at next step if agent drops piece in selected column\n",
        "    def drop_piece(grid, col, mark):\n",
        "        next_grid = grid.copy()\n",
        "        for row in range(ROWS-1, -1, -1):       ###row in range(0,ROWS)??\n",
        "            if next_grid[row][col] == 0:\n",
        "                break\n",
        "        next_grid[row][col] = mark\n",
        "        return next_grid\n",
        "\n",
        "    # Helper function for get_heuristic: checks if window satisfies heuristic conditions\n",
        "    def check_window(window, num_discs, piece):\n",
        "        return (window.count(piece) == num_discs and window.count(0) == CNCTX-num_discs)\n",
        "\n",
        "    # Helper function for get_heuristic: counts number of windows satisfying specified heuristic conditions\n",
        "    def count_windows(grid, num_discs, piece):\n",
        "        num_windows = 0\n",
        "        # horizontal\n",
        "        for row in range(ROWS):\n",
        "            for col in range(COLUMNS-(CNCTX-1)):\n",
        "                window = list(grid[row, col:col+CNCTX])\n",
        "                if check_window(window, num_discs, piece):\n",
        "                    num_windows += 1\n",
        "        # vertical\n",
        "        for row in range(ROWS-(CNCTX-1)):\n",
        "            for col in range(COLUMNS):\n",
        "                window = list(grid[row:row+CNCTX, col])\n",
        "                if check_window(window, num_discs, piece):\n",
        "                    num_windows += 1\n",
        "        # positive diagonal\n",
        "        for row in range(ROWS-(CNCTX-1)):\n",
        "            for col in range(COLUMNS-(CNCTX-1)):\n",
        "                window = list(grid[range(row, row+CNCTX), range(col, col+CNCTX)])\n",
        "                if check_window(window, num_discs, piece):\n",
        "                    num_windows += 1\n",
        "        # negative diagonal\n",
        "        for row in range(CNCTX-1, ROWS):\n",
        "            for col in range(COLUMNS-(CNCTX-1)):\n",
        "                window = list(grid[range(row, row-CNCTX, -1), range(col, col+CNCTX)])\n",
        "                if check_window(window, num_discs, piece):\n",
        "                    num_windows += 1\n",
        "        return num_windows\n",
        "\n",
        "    # Helper function for minimax: calculates value of heuristic for grid\n",
        "    def get_score(grid, mark):\n",
        "        num_twos = count_windows(grid, 2, mark) #A\n",
        "        num_threes = count_windows(grid, 3, mark)  #B\n",
        "        num_fours = count_windows(grid, 4, mark)   #C\n",
        "        num_threes_opp = count_windows(grid, 3, mark%2+1) #D\n",
        "        num_fours_opp = count_windows(grid, 4, mark%2+1)  #E\n",
        "         \n",
        "        score = A*num_twos + B*num_threes + C*num_fours + D*num_threes_opp + E*num_fours_opp\n",
        "        is_terminal = (not num_fours == 0) or (not num_fours_opp == 0) or (list(grid[0, :]).count(0) == 0)\n",
        "        return score, is_terminal\n",
        "\n",
        "    # Minimax implementation was here:\n",
        "    def alphabeta(node, depth, alpha, beta, maximizingPlayer, mark):\n",
        "        node_score, is_terminal = get_score(node, mark)\n",
        "        if depth == 0 or is_terminal:\n",
        "             return node_score\n",
        "            \n",
        "        valid_moves = [c for c in range(COLUMNS) if node[0][c] == 0]\n",
        "\n",
        "        if maximizingPlayer:\n",
        "            value = -np.Inf\n",
        "            for col in valid_moves:\n",
        "                child = drop_piece(node, col, mark)\n",
        "                value = max(value, alphabeta(child, depth-1, alpha, beta, False, mark))\n",
        "                alpha = max(alpha, value)\n",
        "                if alpha >= beta:\n",
        "                    break\n",
        "            return value\n",
        "\n",
        "        else: #minimizing player\n",
        "            value = np.Inf\n",
        "            for col in valid_moves:\n",
        "                child = drop_piece(node, col, mark%2+1)\n",
        "                value = min(value, alphabeta(child, depth-1, alpha, beta, True, mark))\n",
        "                beta = min(beta, value)\n",
        "                if alpha >= beta:\n",
        "                    break\n",
        "            return value\n",
        "\n",
        "    # Uses minimax to calculate value of dropping piece in selected column\n",
        "    def score_move(grid, col, mark, nsteps):\n",
        "        next_grid = drop_piece(grid, col, mark)\n",
        "        score = alphabeta(next_grid, nsteps-1, -np.Inf, np.Inf, False, mark)     \n",
        "        return score\n",
        "    #########################\n",
        "    # Agent makes selection #\n",
        "    #########################\n",
        "\n",
        "    # Get list of valid moves\n",
        "    valid_moves = [c for c in range(COLUMNS) if obs.board[c] == 0]\n",
        "\n",
        "    # Convert the board to a 2D grid\n",
        "    grid = np.asarray(obs.board).reshape(ROWS, COLUMNS)\n",
        "\n",
        "    # Use the heuristic to assign a score to each possible board in the next step\n",
        "    scores = dict(zip(valid_moves, [score_move(grid, col, obs.mark, N_STEPS) for col in valid_moves]))\n",
        "\n",
        "    # Get a list of columns (moves) that maximize the heuristic\n",
        "    max_cols = [key for key in scores.keys() if scores[key] == max(scores.values())]\n",
        "\n",
        "    # Select at random from the maximizing columns\n",
        "    return random.choice(max_cols)\n",
        "    "
      ],
      "execution_count": 17,
      "outputs": []
    },
    {
      "cell_type": "code",
      "metadata": {
        "execution": {
          "iopub.execute_input": "2020-11-09T23:26:30.919142Z",
          "iopub.status.busy": "2020-11-09T23:26:30.918480Z",
          "iopub.status.idle": "2020-11-09T23:26:30.921206Z",
          "shell.execute_reply": "2020-11-09T23:26:30.920589Z"
        },
        "papermill": {
          "duration": 0.013684,
          "end_time": "2020-11-09T23:26:30.921310",
          "exception": false,
          "start_time": "2020-11-09T23:26:30.907626",
          "status": "completed"
        },
        "tags": [],
        "id": "y3KHDCtFXI0J"
      },
      "source": [
        "start_time = time.time()\n",
        "# Create the game environment\n",
        "env = make(\"connectx\")\n",
        "\n",
        "# Two random agents play one game round\n",
        "env.run([my_agent, prunerD2])\n",
        "\n",
        "# Show the game\n",
        "env.render(mode=\"ipython\")\n",
        "end_time = time.time()\n",
        "print(\"{}\".format(end_time - start_time))"
      ],
      "execution_count": null,
      "outputs": []
    },
    {
      "cell_type": "code",
      "metadata": {
        "execution": {
          "iopub.execute_input": "2020-11-09T23:26:30.938709Z",
          "iopub.status.busy": "2020-11-09T23:26:30.938033Z",
          "iopub.status.idle": "2020-11-09T23:26:30.940956Z",
          "shell.execute_reply": "2020-11-09T23:26:30.940322Z"
        },
        "papermill": {
          "duration": 0.013964,
          "end_time": "2020-11-09T23:26:30.941058",
          "exception": false,
          "start_time": "2020-11-09T23:26:30.927094",
          "status": "completed"
        },
        "tags": [],
        "id": "lTzNgSlmXI0M",
        "outputId": "2dfff5da-000c-4970-884e-0cc12bbeabc0",
        "colab": {
          "base_uri": "https://localhost:8080/"
        }
      },
      "source": [
        "start_time = time.time()\n",
        "n_rounds=100\n",
        "get_win_percentages(agent1=my_agent, \n",
        "                    agent2=pruner, \n",
        "                    n_rounds=n_rounds)\n",
        "print (\"Total time taken: {} seconds\".format(time.time() - start_time))\n",
        "print (\"Time taken per round: {} seconds\".format((time.time() - start_time)/n_rounds))"
      ],
      "execution_count": 14,
      "outputs": [
        {
          "output_type": "stream",
          "text": [
            "Agent 1 Win Percentage: 0.54\n",
            "Agent 2 Win Percentage: 0.4\n",
            "Number of Invalid Plays by Agent 1: 0\n",
            "Number of Invalid Plays by Agent 2: 0\n",
            "Total time taken: 329.949599981308 seconds\n",
            "Time taken per round: 3.2994979190826417 seconds\n"
          ],
          "name": "stdout"
        }
      ]
    },
    {
      "cell_type": "code",
      "metadata": {
        "execution": {
          "iopub.execute_input": "2020-11-09T23:26:30.938709Z",
          "iopub.status.busy": "2020-11-09T23:26:30.938033Z",
          "iopub.status.idle": "2020-11-09T23:26:30.940956Z",
          "shell.execute_reply": "2020-11-09T23:26:30.940322Z"
        },
        "papermill": {
          "duration": 0.013964,
          "end_time": "2020-11-09T23:26:30.941058",
          "exception": false,
          "start_time": "2020-11-09T23:26:30.927094",
          "status": "completed"
        },
        "tags": [],
        "id": "5ynF8WEmxcA1",
        "outputId": "9db6a95c-98d0-4132-ce69-137fa94363a1",
        "colab": {
          "base_uri": "https://localhost:8080/"
        }
      },
      "source": [
        "start_time = time.time()\n",
        "n_rounds=100\n",
        "get_win_percentages(agent1=variable_depth_heuristic, \n",
        "                    agent2=variable_depth_pruner, \n",
        "                    n_rounds=n_rounds)\n",
        "print (\"Total time taken: {} seconds\".format(time.time() - start_time))\n",
        "print (\"Time taken per round: {} seconds\".format((time.time() - start_time)/n_rounds))"
      ],
      "execution_count": 22,
      "outputs": [
        {
          "output_type": "stream",
          "text": [
            "Agent 1 Win Percentage: 0.42\n",
            "Agent 2 Win Percentage: 0.53\n",
            "Number of Invalid Plays by Agent 1: 0\n",
            "Number of Invalid Plays by Agent 2: 0\n",
            "Total time taken: 391.5093379020691 seconds\n",
            "Time taken per round: 3.9150949144363403 seconds\n"
          ],
          "name": "stdout"
        }
      ]
    }
  ]
}